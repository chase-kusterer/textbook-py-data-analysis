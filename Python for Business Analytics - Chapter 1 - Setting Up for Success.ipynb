{
 "cells": [
  {
   "cell_type": "markdown",
   "metadata": {
    "deletable": false,
    "editable": false,
    "run_control": {
     "frozen": true
    }
   },
   "source": [
    "***\n",
    "***\n",
    "***\n",
    "<br><br><br><br><br>\n",
    "<h1>Python for Business Analytics</h1>\n",
    "<em>A Nontechnical Approach for Nontechnical People</em><br><br>\n",
    "<em><strong>Custom Edition for Hult International Business School</strong></em><br>\n",
    "\n",
    "Written by Chase Kusterer - Faculty of Analytics <br>\n",
    "Hult International Business School <br>\n",
    "https://github.com/chase-kusterer <br><br><br><br><br>\n",
    "***\n",
    "***\n",
    "***\n",
    "\n",
    "# <u>Chapter 1: Before Learning Anything Else, Learn This</u>"
   ]
  },
  {
   "cell_type": "markdown",
   "metadata": {
    "deletable": false,
    "editable": false,
    "run_control": {
     "frozen": true
    }
   },
   "source": [
    "**If you are new to coding, do not skip this chapter.**<br><br>\n",
    "Python was designed to be a simple programming language. In fact, in 1999, Guido van Rossum, the founder of the Python language, sent a funding proposal to DARPA for his *Computer Programming for Everybody* initative, where he posited the following question:<br><br>\n",
    "<div align=\"center\"><strong>\n",
    "    \"What would the world look like if users could program their own computer?\"\n",
    "</strong><a class=\"tocSkip\"></div><br>\n",
    "The proposal went on to make the following claim:<br><br>\n",
    "<div align=\"center\"><strong>\n",
    "\"There is enough (anecdotal) evidence that Python is easy to<br>learn for people who are (nearly) computer-illiterate.\"\n",
    "</strong><a class=\"tocSkip\"></div>\n",
    "\n",
    "This proposal, which was submitted by van Rossum and the *Python in Education Special Interest Group* [can be found here](https://www.python.org/doc/essays/everybody/). It is an interesting read and makes some very good points. However, even though Python may be easy to learn, **it is important to learn how to learn Python, and that is the purpose of this chapter.** At times, you will get stuck, and you need to know what to do. There will also be many times when your code won't run properly, even when you've spent hours trying to debug it. This is very frustrating, and it is something all coders experience from time to time. The good news is that as long as you are not one of the world's most advanced Python coders, someone has already experienced and solved your problem. More importantly, it is very likely that a solution to your problem has been generously shared to the open source community. All you need to know is where to find it. Not knowing can be devastating to your morale. To exemplify this, the following story is from one of my former students, which took place while conducting an analysis for the course: Machine Learning.<br><br>\n",
    "\n",
    "<div align=\"left\">\n",
    "    <em><strong>Lucas Barros - Masters of Business Analytics - Class of 2019</strong></em><br>\n",
    "    <em>\n",
    "“While studying in the Masters of Business Analytics program, I was also working part time at the campus café. It's always good to make some extra money as a graduate student. Learning analytics, especially coding, was a very interesting experience, although sometimes I would lose confidence, questioning whether this was the right field for me. A great example of this is the Game of Thrones Character Prediction analysis project.<br>\n",
    "        \n",
    "We had a dataset based on the book series, which contained around 2000 characters and several features describing each character. It was probably the most stressful project of my life. Throughout this project, sleeping 6 hours a night was a luxury. I spent countless hours working on the dataset: engineering new features, testing out different machine learning algorithms, and trying not to question my life choices too deeply. On the note of life choices, coincidentally, the campus café was looking to hire a new manager and they asked me if I would like the position. I have to be very sincere, after the lack of sleep, the stress of hours of trying to debug my code to no avail, and the process of trying to build an algorithm that predicts reasonably well, the option of giving up and living a more chill life sounded very appealing.<br>\n",
    "\n",
    "Nonetheless, after some more nights with minimal time to sleep, I found solutions to my coding issues and am proud to say I completed the project. While being one of the most difficult projects I've ever encountered, it was by far one of the most rewarding!”\n",
    "</em><a class=\"tocSkip\"></div><br>\n",
    "\n",
    "In this chapter, we will cover five critical resources in an effort to alleviate your long-term coding frustration:\n",
    "\n",
    "* finding help with the help() wrapper\n",
    "* code complete in Jupyter notebook\n",
    "* finding answers on the Internet\n",
    "* talking to humans through code comments\n",
    "\n",
    "**Reminder:** If you are new to coding, do not skip this chapter. Time invested here will save you several hours as you move forward."
   ]
  },
  {
   "cell_type": "markdown",
   "metadata": {
    "deletable": false,
    "editable": false,
    "run_control": {
     "frozen": true
    }
   },
   "source": [
    "## 1.1 Finding Help with the help() wrapper\n",
    "### Introduction\n",
    "One of the most critical functions for programmers at all levels is the **help()** function. This is one of the most amazing functions ever written, and you will be using it quite often. To learn more about what it does, search *help* in the **help()** function (*Code 1.1.1*)."
   ]
  },
  {
   "cell_type": "markdown",
   "metadata": {},
   "source": [
    " "
   ]
  },
  {
   "cell_type": "code",
   "execution_count": 1,
   "metadata": {
    "cell_style": "split",
    "collapsed": true,
    "deletable": false,
    "editable": false
   },
   "outputs": [
    {
     "name": "stdout",
     "output_type": "stream",
     "text": [
      "Help on _Helper in module _sitebuiltins object:\n",
      "\n",
      "class _Helper(builtins.object)\n",
      " |  Define the builtin 'help'.\n",
      " |  \n",
      " |  This is a wrapper around pydoc.help that provides a helpful message\n",
      " |  when 'help' is typed at the Python interactive prompt.\n",
      " |  \n",
      " |  Calling help() at the Python prompt starts an interactive help session.\n",
      " |  Calling help(thing) prints help for the python object 'thing'.\n",
      " |  \n",
      " |  Methods defined here:\n",
      " |  \n",
      " |  __call__(self, *args, **kwds)\n",
      " |      Call self as a function.\n",
      " |  \n",
      " |  __repr__(self)\n",
      " |      Return repr(self).\n",
      " |  \n",
      " |  ----------------------------------------------------------------------\n",
      " |  Data descriptors defined here:\n",
      " |  \n",
      " |  __dict__\n",
      " |      dictionary for instance variables (if defined)\n",
      " |  \n",
      " |  __weakref__\n",
      " |      list of weak references to the object (if defined)\n",
      "\n"
     ]
    }
   ],
   "source": [
    "## Code 1.1.1 ##\n",
    "\n",
    "help(help)"
   ]
  },
  {
   "cell_type": "markdown",
   "metadata": {},
   "source": [
    " "
   ]
  },
  {
   "cell_type": "markdown",
   "metadata": {
    "deletable": false,
    "editable": false,
    "run_control": {
     "frozen": true
    }
   },
   "source": [
    "***\n",
    "\n",
    "We call the output of *Code 1.1.1* the help function's **documentation**. According to the documentation for **help()**, there are two ways to use this function:\n",
    "* <strike>Calling help() at the Python prompt starts an interactive help session.</strike>\n",
    "* Calling help(thing) prints help for the Python object 'thing'.\n",
    "\n",
    "Notice how the first bullet point above has been stricken out. That is because we are going to **avoid using interactive help for the time being**. Believe it or not, interactive help sessions can (ironically) cause problems that most beginners are not ready to solve. If you are not comfortable using a command-line interface (i.e. terminal or PowerShell), avoid using interactive help. If you don't know what a command-line interface is, don't worry. For now, we are going to focus on mastering the *help(thing)* option. In *Code 1.1.2*, we are using this to check the documentation for the *print()* function.\n",
    "\n",
    "##### Side Note: The Challenge with Interactive Help\n",
    "After starting an interactive help session, you may run into a situation where you are unable to run any code. This is because your Python kernel is still running interactive help, and it cannot move on until you give it a command to do so. This can be done by typing **quit** into the help search box, but if we accidentally tried to run some code without closing interactive help, our Python kernel might get confused and need to be restarted.<br><br>\n"
   ]
  },
  {
   "cell_type": "markdown",
   "metadata": {},
   "source": [
    "### Using help()"
   ]
  },
  {
   "cell_type": "code",
   "execution_count": 18,
   "metadata": {
    "cell_style": "center",
    "collapsed": true,
    "deletable": false,
    "editable": false
   },
   "outputs": [
    {
     "name": "stdout",
     "output_type": "stream",
     "text": [
      "Help on built-in function print in module builtins:\n",
      "\n",
      "print(...)\n",
      "    print(value, ..., sep=' ', end='\\n', file=sys.stdout, flush=False)\n",
      "    \n",
      "    Prints the values to a stream, or to sys.stdout by default.\n",
      "    Optional keyword arguments:\n",
      "    file:  a file-like object (stream); defaults to the current sys.stdout.\n",
      "    sep:   string inserted between values, default a space.\n",
      "    end:   string appended after the last value, default a newline.\n",
      "    flush: whether to forcibly flush the stream.\n",
      "\n"
     ]
    }
   ],
   "source": [
    "## Code 1.1.2 ##\n",
    "\n",
    "# Starting an interactive help session\n",
    "help(print)"
   ]
  },
  {
   "cell_type": "markdown",
   "metadata": {},
   "source": [
    " "
   ]
  },
  {
   "cell_type": "markdown",
   "metadata": {
    "deletable": false,
    "editable": false,
    "run_control": {
     "frozen": true
    }
   },
   "source": [
    "*Code 1.1.2* generates a very manageable amount of output. Let's dissect each component piece by piece. First, let's add line numbers for easier interpretation."
   ]
  },
  {
   "cell_type": "markdown",
   "metadata": {
    "cell_style": "center",
    "deletable": false,
    "editable": false,
    "run_control": {
     "frozen": true
    }
   },
   "source": [
    "1&nbsp;&nbsp;&nbsp;|&nbsp;&nbsp;&nbsp; Help on built-in function print in module builtins:\n",
    "<br>2&nbsp;&nbsp;&nbsp;|\n",
    "<br>3&nbsp;&nbsp;&nbsp;|&nbsp;&nbsp;&nbsp; print(...)\n",
    "<br>4&nbsp;&nbsp;&nbsp;|&nbsp;&nbsp;&nbsp;\n",
    "<br>5&nbsp;&nbsp;&nbsp;|&nbsp;&nbsp;&nbsp;&nbsp;&nbsp;&nbsp; print(value, ..., sep=' ', end='\\n', file=sys.stdout, flush=False)\n",
    "<br>6&nbsp;&nbsp;&nbsp;|&nbsp;&nbsp;&nbsp;\n",
    "<br>7&nbsp;&nbsp;&nbsp;|&nbsp;&nbsp;&nbsp;&nbsp;&nbsp;&nbsp; Prints the values to a stream, or to sys.stdout by default.\n",
    "<br>8&nbsp;&nbsp;&nbsp;|&nbsp;&nbsp;&nbsp;&nbsp;&nbsp;&nbsp; Optional keyword arguments:\n",
    "<br>9&nbsp;&nbsp;&nbsp;|&nbsp;&nbsp;&nbsp;&nbsp;&nbsp;&nbsp; file:  a file-like object (stream); defaults to the current sys.stdout.\n",
    "<br>10&nbsp;|&nbsp;&nbsp;&nbsp;&nbsp;&nbsp;&nbsp; sep:   string inserted between values, default a space.\n",
    "<br>11&nbsp;|&nbsp;&nbsp;&nbsp;&nbsp;&nbsp;&nbsp; end:   string appended after the last value, default a newline.\n",
    "<br>12&nbsp;|&nbsp;&nbsp;&nbsp;&nbsp;&nbsp;&nbsp; flush: whether to forcibly flush the stream.<br>\n",
    "\n",
    "***"
   ]
  },
  {
   "cell_type": "markdown",
   "metadata": {
    "deletable": false,
    "editable": false,
    "run_control": {
     "frozen": true
    }
   },
   "source": [
    "<table width=\"375\" align=\"left\">\n",
    "<col width=\"25\">\n",
    "<col width=\"350\">\n",
    "    <tr>\n",
    "        <th>Line</th>\n",
    "        <th>Interpretation</th>\n",
    "    </tr>\n",
    "    <tr>\n",
    "        <td>1</td>\n",
    "        <td>States that this is a <strong>built-in function</strong>.</td>\n",
    "    </tr>\n",
    "    <tr>\n",
    "    <tr>\n",
    "        <td>3</td>\n",
    "        <td>The function being looked up.</td>\n",
    "    </tr>\n",
    "    <tr>\n",
    "        <td>5</td>\n",
    "        <td> The arguments for the function.</td>\n",
    "    </tr>   \n",
    "    <tr>\n",
    "        <td>7</td>\n",
    "        <td> Explains what the function does.</td>\n",
    "    </tr>\n",
    "    <tr>\n",
    "        <td>9-12</td>\n",
    "        <td> Explains what each argument does.</td>\n",
    "    </tr>\n",
    "</table>"
   ]
  },
  {
   "cell_type": "markdown",
   "metadata": {
    "deletable": false,
    "editable": false,
    "run_control": {
     "frozen": true
    }
   },
   "source": [
    "#### Line 1 - Built-in functions\n",
    "Python comes with a set of default, or **built-in functions**. These are also referred to as **primitives**, and are functions that are so important, they are available without the need to import additional packages (for an example of a package import, see *Code 1.1.3* where we import the package *pandas*). At the time of this writing, the most recent version of Python (*version 3.7.3*) has 69 built-in functions, which can be found in [the Python documentation on Built-In Functions](https://docs.python.org/3/library/functions.html). Python also comes with a series of other built-ins. For example, *built-in types*. According [to the Python documentation on Built-In Types](https://docs.python.org/3/library/stdtypes.html), principal built-in types include numerics, sequences, mappings, classes, instances and exceptions. Think of built-ins as the primary numbers of Python: every function can be broken down into these built-ins. Also, keep in mind that Python was designed to be used for a wide variety of programming tasks, and what is commonly used for business analytics is just one small subset. To avoid information overload, this book will primarily focus on the built-ins, functions, methods, and packages that are most relevant to our purposes. If you're not sure what a function, method, or package is, don't worry. We will go into these details in later chapters.\n",
    "\n",
    "#### Line 3 - The function being looked up\n",
    "As the heading implies, this line specifies what you have looked up. When we called help on the *print()* function in *Code 1.1.2*, this didn't seem to add a lot of value. However, this information becomes extremely useful in other situations, such as in *Code 1.1.3* where *help()* is being called on a user-created object. For now, don't focus on what *Code 1.1.2* is trying to do. Instead, focus on the *help()* function in the last line."
   ]
  },
  {
   "cell_type": "markdown",
   "metadata": {
    "deletable": false,
    "editable": false,
    "run_control": {
     "frozen": true
    }
   },
   "source": [
    "***"
   ]
  },
  {
   "cell_type": "markdown",
   "metadata": {
    "cell_style": "split",
    "deletable": false,
    "editable": false,
    "run_control": {
     "frozen": true
    }
   },
   "source": [
    "In *Code 1.1.3*, we created an object and called **help()** on it (creating objects will be covered in more detail in [Chapter 2](http://localhost:8888/notebooks/Desktop/Jupyter_Files/Rough%20Draft%20Chapter%202%20-%20Printing.ipynb). From the object's name (*my_list_converted*), it is unclear as to what this object actually is. Notice that the help function recognized that this object is a DataFrame and returned its respective documentation. This is the result when we call help on any named object. Below is a snippet of Line 3 for *Code 1.1.3*<br><br>\n",
    "~~~\n",
    "class DataFrame(pandas.core.generic.NDFrame)\n",
    "~~~"
   ]
  },
  {
   "cell_type": "code",
   "execution_count": null,
   "metadata": {
    "cell_style": "split",
    "deletable": false,
    "editable": false,
    "scrolled": true
   },
   "outputs": [],
   "source": [
    "## Code 1.1.3 ##\n",
    "\n",
    "import pandas as pd\n",
    "\n",
    "my_list = [[1, 2, 3] , [4, 5, 6]]\n",
    "\n",
    "my_list_converted = pd.DataFrame(my_list)\n",
    "\n",
    "help(my_list_converted)"
   ]
  },
  {
   "cell_type": "markdown",
   "metadata": {
    "deletable": false,
    "editable": false,
    "run_control": {
     "frozen": true
    }
   },
   "source": [
    "***"
   ]
  },
  {
   "cell_type": "markdown",
   "metadata": {
    "deletable": false,
    "editable": false,
    "run_control": {
     "frozen": true
    }
   },
   "source": [
    "#### Line 5 - Function Arguments\n",
    "For most functions you will encounter, arguments will come in three forms: <em>mandatory</em>, <em>optional</em>, and *variable* (also known as <em>\\*args</em>  and <em>\\*\\*kwargs</em>). Line 5 of *Code 1.1.2* contains mandatory and optional arguments.<br><br>\n"
   ]
  },
  {
   "cell_type": "markdown",
   "metadata": {
    "deletable": false,
    "editable": false,
    "run_control": {
     "frozen": true
    }
   },
   "source": [
    "\\#\\# Output of Code 1.1.2 \\#\\#\n",
    "~~~\n",
    "Help on built-in function print in module builtins:\n",
    "\n",
    "print(...)\n",
    "    print(value, ..., sep=' ', end='\\n', file=sys.stdout, flush=False)\n",
    "    \n",
    "    Prints the values to a stream, or to sys.stdout by default.\n",
    "    Optional keyword arguments:\n",
    "    file:  a file-like object (stream); defaults to the current sys.stdout.\n",
    "    sep:   string inserted between values, default a space.\n",
    "    end:   string appended after the last value, default a newline.\n",
    "    flush: whether to forcibly flush the stream.\n",
    "~~~"
   ]
  },
  {
   "cell_type": "markdown",
   "metadata": {
    "deletable": false,
    "editable": false,
    "run_control": {
     "frozen": true
    }
   },
   "source": [
    "<div style=\"margin-left: 1em;\">\n",
    "\n",
    "##### Mandatory Arguments\n",
    "Mandatory arguments are those that do not have a default value. All mandatory arguments must be specified for a function to run. If at least one is missing, the function will throw an error. The easiest way to tell if an argument is mandatory is by checking whether or not it already has a value assigned to it, which is indicated by an equals sign. If no equals sign, then the argument is mandatory. In *Code 1.1.2*, the argument *value* is mandatory.<br>\n",
    "\n",
    "##### Optional Arguments\n",
    "Optional arguments have a default value, which is indicated after an equals sign. If you do not specify anything for these arguments, the default value will be used and the function will run properly. In *Code 1.1.2*, the arguments *sep*, *end*, *file*, *flush* are optional arguments.<br><br>"
   ]
  },
  {
   "cell_type": "markdown",
   "metadata": {
    "cell_style": "split",
    "deletable": false,
    "editable": false,
    "run_control": {
     "frozen": true
    }
   },
   "source": [
    "##### Variable Arguments\n",
    "Variable arguments are slightly more advanced. As their name implies, they allow a function to accept a *variable* number of arguments. This may seem confusing, but the idea behind such an invention is quite remarkable.<br><br>\n",
    "Let's say, for example, that a programmer wanted to create a function to help organize their grocery list. The programmer may do some research and come to the conclusion that most shopping trips consist of exactly three items and write a code similar to the one displayed in *Code 1.1.4*.\n",
    "\n",
    "*Note: Try not to get caught up in the syntax of Code 1.1.4. Instead, focus on the function's arguments.*\n",
    "<br><br>\n",
    "***\n",
    "<br>\n",
    "A challenge arises in that the function in <em>Code 1.1.4</em> requires exactly three items to work properly as all arguments are mandatory. In other words, each shopping list needs to be exactly three items long. Lessons from Social Life 101 have taught us that the number of items on our shopping list will vary. Therefore, the programmer needs a way to allow for this functionality. This is where variable arguments become very handy.<br><br>\n",
    "By changing the arguments to <em>*args</em> as in <em>Code 1.1.5</em>, our shopping list can be of any length. <em>**kwargs</em> is similar to <em>*args</em> in that it allows for arguments of varying length. However, it operates using keywords, which is a concept for a later chapter. <em>**kwargs</em> will become more important when we discuss dictionaries in a later chapter.\n",
    "\n",
    "\n",
    "<em>Note: As before, try not to get caught up in the syntax of Code 1.1.5. It will be explained in later chapters.</em>\n",
    "\n",
    "***\n",
    "</div>"
   ]
  },
  {
   "cell_type": "code",
   "execution_count": 24,
   "metadata": {
    "cell_style": "split",
    "collapsed": true,
    "deletable": false,
    "editable": false
   },
   "outputs": [
    {
     "name": "stdout",
     "output_type": "stream",
     "text": [
      "Shopping List:\n",
      "bananas\n",
      "oranges\n",
      "grapes\n"
     ]
    }
   ],
   "source": [
    "## Code 1.1.4 ##\n",
    "\n",
    "def shopping_list(item_1, item_2, item_3):\n",
    "    print(\"Shopping List:\")\n",
    "    print(item_1)\n",
    "    print(item_2)\n",
    "    print(item_3)\n",
    "\n",
    "shopping_list('bananas', 'oranges', 'grapes')"
   ]
  },
  {
   "cell_type": "markdown",
   "metadata": {
    "cell_style": "split",
    "deletable": false,
    "editable": false,
    "run_control": {
     "frozen": true
    }
   },
   "source": [
    "<br><br>\n",
    "\n",
    "***"
   ]
  },
  {
   "cell_type": "code",
   "execution_count": 13,
   "metadata": {
    "cell_style": "split",
    "collapsed": true,
    "deletable": false,
    "editable": false
   },
   "outputs": [
    {
     "name": "stdout",
     "output_type": "stream",
     "text": [
      "Shopping List:\n",
      "bananas\n",
      "oranges\n",
      "grapes\n",
      "pears\n",
      "apples\n"
     ]
    }
   ],
   "source": [
    "## Code 1.1.5 ##\n",
    "\n",
    "def shopping_list(*args):\n",
    "    print(\"Shopping List:\")\n",
    "    \n",
    "    for item in args:\n",
    "        print(item)\n",
    "\n",
    "shopping_list('bananas', 'oranges', 'grapes', 'pears', 'apples')"
   ]
  },
  {
   "cell_type": "markdown",
   "metadata": {
    "deletable": false,
    "editable": false,
    "run_control": {
     "frozen": true
    }
   },
   "source": [
    "#### Line 7 - What the Function Does\n",
    "Line 7 of *Code 1.1.2* states that the print function:\n",
    "<br><br><div align=\"center\"><em>\n",
    "    Prints the values to a stream, or to sys.stdout by default.\n",
    "</em><a class=\"tocSkip\"></div><br>\n",
    "The programmers designing this function decided that this was the best way to explain what the <em>print()</em> function does. To someone less technical, this explanation may do more harm than good. An important concept to keep in mind is that:\n",
    "<br><br><div align=\"center\"><strong>\n",
    "    Programmers like to write in ways that other programmers can understand.<br>If you are not a programmer, you are not their target audience.\n",
    "</strong><a class=\"tocSkip\"></div><br>\n",
    "\n",
    "This is a disadvantage for those of us that did not study software engineering or a similar subject. Luckily, there are ways to mitigate this disadvantage, which are discussed in Section 1.2. If you consider yourself to be less technical than a software engineer, please remember that as you advance in Python, your understanding of technical concepts will grow.\n",
    "#### Lines 9-12 - What each argument does.\n",
    "This section is very important as it will save you several hours of time when learning how to code. By reading and understanding the arguments, you will be able to do many things with only a handful of functions. Understanding a few functions at a detailed level is far more efficient than trying to memorize the basics of several functions. You will find that you can do more with less, and will have built a strong foundation and set good coding habits.\n",
    "\n",
    "***"
   ]
  },
  {
   "cell_type": "markdown",
   "metadata": {
    "deletable": false,
    "editable": false,
    "run_control": {
     "frozen": true
    }
   },
   "source": [
    "## 1.2 Code Complete in Jupyter Notebook"
   ]
  },
  {
   "cell_type": "markdown",
   "metadata": {
    "cell_style": "split",
    "deletable": false,
    "editable": false,
    "run_control": {
     "frozen": true
    }
   },
   "source": [
    "Jupyter Notebook, like many other interfaces, offers a code complete feature. This can come in very handy, and in this section we will discuss using code complete to enhance our abilities to use *help()*. This is a great way to explore a new package and develop an understanding as to its methods.<br><br>\n",
    "To activate code complete, simply start typing in a coding block and press <em><tab\\></em> on the keyboard. If this doesn't work, check your keyboard shortcuts in Jupyter's menu under <em>Help > Keyboard Shortcuts</em>. For example, if we open up a coding cell and type the letter <em>p</em>, followed by pressing <em><tab\\></em>, we get the result in *Figure 1.1*. In this case, Jupyter's code complete tool recognized the letter <em>p</em> and returned every currently-available syntax that starts with this letter."
   ]
  },
  {
   "cell_type": "markdown",
   "metadata": {
    "cell_style": "split",
    "deletable": false,
    "editable": false,
    "run_control": {
     "frozen": true
    }
   },
   "source": [
    "Much of the syntax displayed in <em>Figure 1.1</em> are beyond our current scope, but with this feature, we can dive into new packages and syntax with ease, as exemplified in <em>Figures 1.2a through 1.2d</em>.<br><br>\n",
    "<div style = \"width:image width px; font-size:80%; text-align:center;\"><img src=\"files/example-chapter-1-code-complete-1.png\" width=\"100\" height=\"300\" style=\"padding-bottom:0.5em;\"> <em>Figure 1.1: Code complete results.</em></div>"
   ]
  },
  {
   "cell_type": "markdown",
   "metadata": {},
   "source": [
    " "
   ]
  },
  {
   "cell_type": "markdown",
   "metadata": {
    "cell_style": "center",
    "deletable": false,
    "editable": false,
    "run_control": {
     "frozen": true
    }
   },
   "source": [
    "***\n",
    "\n",
    "The steps throughout <em>Figures 1.2a through 1.2d</em> are using a technique called **chaining**, or linking multiple Python syntax together using a dot (i.e. a \".\"), to explore part of the *pandas* package. According to its [documentation from  pydata.org](https://pandas.pydata.org/) *pandas* is an open source, BSD-licensed library providing high-performance, easy-to-use data structures and data analysis tools for the Python programming language. It is a very powerful package for business analytics, and it is a very large. Anaconda has kindly included it in their Python 3 installation, and all we need to do is **import** it.\n",
    "\n",
    "#### Importing Packages in Python 3\n",
    "Importing packages is easy. To import pandas, we simply write: <br><br>\n",
    "\n",
    "~~~\n",
    "import pandas\n",
    "~~~\n",
    "\n",
    "<br>Conventionally, *pandas* should be imported as *pd*, so we modify the above code as follows:<br><br>\n",
    "\n",
    "~~~\n",
    "import pandas as pd\n",
    "~~~\n",
    "\n",
    "<br>We can also import specific modules and functions from a package with a minor adjustment to our syntax. For example, if we just wanted to import **DataFrame** (i.e. Python's version of a spreadsheet) instead of the entire *pandas* package, we could do so as follows:<br><br>\n",
    "\n",
    "~~~\n",
    "from pandas import DataFrame\n",
    "~~~\n",
    "\n",
    "<br>To illustrate the value of the line of code above: Have you ever noticed that when you get close to filling up your computer's hard drive it becomes very slow? The same concept applies to our Python environment. Every time something is imported, our Python environment slows down. This is why taking a minimalist approach by only importing what we need is a good practice. Since our current task involves exploring the *pandas* package, we will import the entire thing.\n",
    "<br><br>\n",
    "\n",
    "\n"
   ]
  },
  {
   "cell_type": "markdown",
   "metadata": {
    "cell_style": "split",
    "deletable": false,
    "editable": false,
    "run_control": {
     "frozen": true
    }
   },
   "source": [
    "After *pandas* has been imported (as *pd*), it becomes available in our Python environment. If we run *help(pd)*, Python will return some documentation on *pandas*. If we add a dot to our syntax and press *<tab\\>*, as in *Figure 1.2(a)*, code complete displays all of the wonderful tools *pandas* has to offer. Some of these tools have deeper levels, including *np*, which stands for *numpy*. This is another key package for business analytics, and it is included in *pandas* (*pandas* is built on top of *numpy*).<br><br>\n",
    "If we chain *np.* onto our code and press *<tab\\>*, code complete will display all of the wonderful tools available in this package, as in *Figure 1.2(b)*.<br><br>\n",
    "This drill-down process can continue until we are at the deepest level of a package. *Figure 1.2(c)* drills down one level deeper by chaining *absolute.* onto our code, and *Figure 1.2(d)* drills down one level deeper by chaining *accumulate*. Since there are no further levels to drill down into, code complete does not display a popup window when trying to extend the chain beyond *pd.np.absolute.accumulate*.\n",
    "\n",
    "Much of the syntax discovered in each step of this chaining example is beyond our current scope, and seeing it for the first time can be overwhelming. Keep in mind: Python was designed for a wide array of programming tasks. Having so many things pre-built and maintained is going to save you an immense amount of time without costing you a penny. This is one of the key benefits of Python as well as other open source programming languages.\n",
    "\n",
    "Below is a summary of the chaining steps:\n",
    "\n",
    "1. *pandas* was imported as *pd*<div style=\"margin-bottom:0.5em;\"></div>\n",
    "2. a *help()* wrapper was created<div style=\"margin-bottom:0.5em;\"></div>\n",
    "3. Code complete was called on *pd.* to access its available syntax<div style=\"margin-bottom:0.5em;\"></div>\n",
    "4. *np* was selected, chaining together *pd.np*<div style=\"margin-bottom:0.5em;\"></div>\n",
    "5. Code complete was called on *pd.np.* to access its available syntax<div style=\"margin-bottom:0.5em;\"></div>\n",
    "6. *absolute* was selected, chaining together *pd.np.absolute*.<div style=\"margin-bottom:0.5em;\"></div>\n",
    "7. Code complete was called on *pd.np.absolute.* to access its available syntax<div style=\"margin-bottom:0.5em;\"></div>\n",
    "8. *absolute* was selected, chaining together *pd.np.absolute.accumulate*<div style=\"margin-bottom:0.5em;\"></div>\n",
    "<br><br>\n"
   ]
  },
  {
   "cell_type": "markdown",
   "metadata": {
    "cell_style": "split",
    "deletable": false,
    "editable": false,
    "run_control": {
     "frozen": true
    }
   },
   "source": [
    "<br><br>\n",
    "<div style = \"width:image width px; font-size:80%; text-align:center;\"><img src=\"files/example-chapter-1-code-complete-2a.png\" width=\"200\" height=\"300\" style=\"padding-bottom:0.5em;\"> <em>Figure 1.2(a): Exploring the pandas package (1 of 4).</em></div>\n",
    "<br>\n",
    "\n",
    "***\n",
    "\n",
    "<br>\n",
    "<div style = \"width:image width px; font-size:80%; text-align:center;\"><img src=\"files/example-chapter-1-code-complete-2b.png\" width=\"200\" height=\"300\" style=\"padding-bottom:0.5em;\"> <em>Figure 1.2(b): Exploring the pandas package (2 of 4).</em></div>\n",
    "<br>\n",
    "\n",
    "***\n",
    "\n",
    "<br>\n",
    "<div style = \"width:image width px; font-size:80%; text-align:center;\"><img src=\"files/example-chapter-1-code-complete-2c.png\" width=\"200\" height=\"300\" style=\"padding-bottom:0.5em;\"> <em>Figure 1.2(c): Exploring the pandas package (3 of 4).</em></div>\n",
    "<br>\n",
    "\n",
    "***\n",
    "\n",
    "<br>\n",
    "<div style = \"width:image width px; font-size:80%; text-align:center;\"><img src=\"files/example-chapter-1-code-complete-2d.png\" width=\"200\" height=\"300\" style=\"padding-bottom:0.5em;\"> <em>Figure 1.2(d): Exploring the pandas package (4 of 4).</em></div>\n",
    "<br>\n",
    "\n",
    "***"
   ]
  },
  {
   "cell_type": "markdown",
   "metadata": {},
   "source": [
    " "
   ]
  },
  {
   "cell_type": "markdown",
   "metadata": {
    "deletable": false,
    "editable": false,
    "run_control": {
     "frozen": true
    }
   },
   "source": [
    "<em>Figure 1.3</em> displays each of these steps side-by-side. Its final code can be run in *Code 1.2.1*.<br><br>\n",
    "<div style = \"width:image width px; font-size:80%; text-align:center;\">\n",
    "    </div>\n",
    "\n",
    "<div style = \"width:image width px; font-size:80%; text-align:center;\">\n",
    "<img src=\"files/example-chapter-1-code-complete-2a.png\" style=\"float: left; width: 20%; margin-right: 1%; margin-bottom: 0.5em; padding-left:0.5em;\">\n",
    "<img src=\"files/example-chapter-1-code-complete-2b.png\" style=\"float: left; width: 20%; margin-right: 1%; margin-bottom: 0.5em; padding-left:0.5em;\">\n",
    "<img src=\"files/example-chapter-1-code-complete-2c.png\" style=\"float: left; width: 20%; margin-right: 1%; margin-bottom: 0.5em; padding-left:0.5em;\">\n",
    "<img src=\"files/example-chapter-1-code-complete-2d.png\" style=\"float: left; width: 20%; margin-right: 1%; margin-bottom: 0.5em; padding-left:0.5em;\">\n",
    "<p style=\"clear: both;\">\n",
    "<em>Figure 1.3: Code complete results after method chaining.</em>\n",
    "</div>\n",
    "\n",
    "***"
   ]
  },
  {
   "cell_type": "code",
   "execution_count": 16,
   "metadata": {
    "cell_style": "split",
    "collapsed": true,
    "deletable": false,
    "editable": false
   },
   "outputs": [
    {
     "name": "stdout",
     "output_type": "stream",
     "text": [
      "Help on package pandas:\n",
      "\n",
      "NAME\n",
      "    pandas\n",
      "\n",
      "DESCRIPTION\n",
      "    pandas - a powerful data analysis and manipulation library for Python\n",
      "    =====================================================================\n",
      "    \n",
      "    **pandas** is a Python package providing fast, flexible, and expressive data\n",
      "    structures designed to make working with \"relational\" or \"labeled\" data both\n",
      "    easy and intuitive. It aims to be the fundamental high-level building block for\n",
      "    doing practical, **real world** data analysis in Python. Additionally, it has\n",
      "    the broader goal of becoming **the most powerful and flexible open source data\n",
      "    analysis / manipulation tool available in any language**. It is already well on\n",
      "    its way toward this goal.\n",
      "    \n",
      "    Main Features\n",
      "    -------------\n",
      "    Here are just a few of the things that pandas does well:\n",
      "    \n",
      "      - Easy handling of missing data in floating point as well as non-floating\n",
      "        point data.\n",
      "      - Size mutability: columns can be inserted and deleted from DataFrame and\n",
      "        higher dimensional objects\n",
      "      - Automatic and explicit data alignment: objects can be explicitly aligned\n",
      "        to a set of labels, or the user can simply ignore the labels and let\n",
      "        `Series`, `DataFrame`, etc. automatically align the data for you in\n",
      "        computations.\n",
      "      - Powerful, flexible group by functionality to perform split-apply-combine\n",
      "        operations on data sets, for both aggregating and transforming data.\n",
      "      - Make it easy to convert ragged, differently-indexed data in other Python\n",
      "        and NumPy data structures into DataFrame objects.\n",
      "      - Intelligent label-based slicing, fancy indexing, and subsetting of large\n",
      "        data sets.\n",
      "      - Intuitive merging and joining data sets.\n",
      "      - Flexible reshaping and pivoting of data sets.\n",
      "      - Hierarchical labeling of axes (possible to have multiple labels per tick).\n",
      "      - Robust IO tools for loading data from flat files (CSV and delimited),\n",
      "        Excel files, databases, and saving/loading data from the ultrafast HDF5\n",
      "        format.\n",
      "      - Time series-specific functionality: date range generation and frequency\n",
      "        conversion, moving window statistics, moving window linear regressions,\n",
      "        date shifting and lagging, etc.\n",
      "\n",
      "PACKAGE CONTENTS\n",
      "    _libs (package)\n",
      "    _version\n",
      "    api (package)\n",
      "    arrays (package)\n",
      "    compat (package)\n",
      "    conftest\n",
      "    core (package)\n",
      "    errors (package)\n",
      "    io (package)\n",
      "    plotting (package)\n",
      "    testing\n",
      "    tests (package)\n",
      "    tseries (package)\n",
      "    util (package)\n",
      "\n",
      "SUBMODULES\n",
      "    _hashtable\n",
      "    _lib\n",
      "    _tslib\n",
      "    offsets\n",
      "\n",
      "DATA\n",
      "    IndexSlice = <pandas.core.indexing._IndexSlice object>\n",
      "    NaT = NaT\n",
      "    __docformat__ = 'restructuredtext'\n",
      "    __git_version__ = 'cb00deb94500205fcb27a33cc1d0df79a9727f8b'\n",
      "    describe_option = <pandas.core.config.CallableDynamicDoc object>\n",
      "    get_option = <pandas.core.config.CallableDynamicDoc object>\n",
      "    options = <pandas.core.config.DictWrapper object>\n",
      "    reset_option = <pandas.core.config.CallableDynamicDoc object>\n",
      "    set_option = <pandas.core.config.CallableDynamicDoc object>\n",
      "\n",
      "VERSION\n",
      "    0.24.2\n",
      "\n",
      "FILE\n",
      "    /anaconda3/lib/python3.6/site-packages/pandas/__init__.py\n",
      "\n",
      "\n"
     ]
    }
   ],
   "source": [
    "## Code 1.2.1 ##\n",
    "\n",
    "import pandas as pd\n",
    "\n",
    "help(pd.np.absolute.accumulate)"
   ]
  },
  {
   "cell_type": "code",
   "execution_count": null,
   "metadata": {
    "cell_style": "split"
   },
   "outputs": [],
   "source": [
    "## Space to practice using help() ##\n",
    "\n",
    "\n",
    "\n"
   ]
  },
  {
   "cell_type": "markdown",
   "metadata": {
    "deletable": false,
    "editable": false,
    "run_control": {
     "frozen": true
    }
   },
   "source": [
    "***"
   ]
  },
  {
   "cell_type": "markdown",
   "metadata": {
    "deletable": false,
    "editable": false,
    "run_control": {
     "frozen": true
    }
   },
   "source": [
    "## 1.3 Finding Answers on the Internet"
   ]
  },
  {
   "cell_type": "markdown",
   "metadata": {
    "deletable": false,
    "editable": false,
    "run_control": {
     "frozen": true
    }
   },
   "source": [
    "*Note: This is by no means an exhaustive list, and there are many great resources that are not mentioned here. If you find a different resource that explains code in a way that fits well with your learning style, use it. These two resources are mentioned as I have found them incredibly helpful in my coding journey.*\n",
    "\n",
    "### Stack Overflow\n",
    "There are many great coding resources available on the Internet. At the time of this writing, [Stack Overflow](www.stackoverflow.com) is one of the most popular. According to its website:\n",
    "<br><br><div align=\"center\"><em>\n",
    "    Stack Overflow is a question and answer site for professional and enthusiast programmers.\n",
    "</em><a class=\"tocSkip\"></div><br>\n",
    "In other words, Stack Overflow is a place where coders ask questions to coders. It is a wonderful place to find information to help get you through your coding challenges, and is also a place where you can post your own questions so that the coding community can help you out. This is one of the key benefits of the platform, and it is free of charge.<br>\n",
    "    \n",
    "**Caution:** The relevance of your search results can be hit or miss. Sometimes you will have trouble articulating your question in a way that gets good results. Other times you may find solutions to your question, but they are too complicated for your current coding ability. Every now and then, you will be more confused than when you started your search. This is normal. Keep in mind that Stack Overflow was designed so that coders could ask questions to coders, regardless of their programming level. You will find some very advanced solutions to problems that you never even knew existed. This leads us to Google, our second suggested resource.\n",
    "\n",
    "\n",
    "### Working with a Search Engine\n",
    "It goes without saying that many of your coding questions can be resolved via a search engine. However, it is a good idea to reflect on why search engines are a good resource. Most notably, they allow us to ask questions the way that a human would ask them. We can use this to our advantage, thus alleviating any disadvantages we may have from not being the target audience of a programmer.\n",
    "<br><br><div align=\"center\"><strong>\n",
    "    Ask questions with a search engine the way that you would ask someone at your programming level.\n",
    "</strong><a class=\"tocSkip\"></div><br>\n",
    "Interestingly enough, in many cases after experiencing poor results when searching on Stack Overflow, you will find that the top search result in a search engine is a page on Stack Overflow. Think about this. Search engines were designed in a way that is friendly to humans. The search functions in Stack Overflow was designed in a way that it is friendly to programmers, which is a subset of humans with a sophisticated understanding of programming jargon. When this happens, click on the Stack Overflow page and take note of how the question was phrased. This is a good way to improve your ability to find the information you need.\n",
    "\n",
    "\n",
    "**Challenge for the Reader:** If you are serious about learning Python, register with Stack Overflow and start writing answers to other people's questions. This will intensify your learning speed. Stack Overflow also assists new contributors in that they let other coders know that they are new to the platform. This means that other coders will realize you are trying your best, and in most cases they will be more than willing to give you feedback."
   ]
  },
  {
   "cell_type": "markdown",
   "metadata": {
    "deletable": false,
    "editable": false,
    "run_control": {
     "frozen": true
    }
   },
   "source": [
    "***\n",
    "\n",
    "## 1.4 Talking to Humans through Comments\n",
    "Even though you may have very little coding experience, try reading the following code and understanding what the programmer was trying to accomplish:<br>\n",
    "***"
   ]
  },
  {
   "cell_type": "code",
   "execution_count": null,
   "metadata": {
    "cell_style": "center",
    "deletable": false,
    "editable": false,
    "run_control": {
     "frozen": true
    }
   },
   "outputs": [],
   "source": [
    "## Code 1.3.1 ##\n",
    "\n",
    "import pandas as pd\n",
    "\n",
    "original_df = pd.DataFrame([[None, 2, 3],\n",
    "                            [4, None, 6],\n",
    "                            [7, 8, None]])\n",
    "\n",
    "df_mean = pd.DataFrame.copy(original_df)\n",
    "\n",
    "for col in df_mean:\n",
    "    if df_mean[col].isnull().any():\n",
    "        col_mean = df_mean[col].mean()\n",
    "        df_mean[col] = df_mean[col].fillna(col_mean).round(2)"
   ]
  },
  {
   "cell_type": "markdown",
   "metadata": {
    "deletable": false,
    "editable": false,
    "run_control": {
     "frozen": true
    }
   },
   "source": [
    "***\n",
    "We will be using a slightly-modified version of this code later in this book. If you're new to coding, it can be very intimidating. We learned in *Section 1.1* that we can use the *help()* function to understand what each line of code means. This is a good idea, especially if we are planning to use this code for a similar analysis. From reading the code, however, it is difficult to intuitively understand what this code is trying to do. Wouldn't it be great if the person who wrote this code gave us some additional documentation, in human language, that outlined what was happening step-by-step?<br><br>\n",
    "\n",
    "In the coding world, we provide this additional documentation via **comments**. Comments allow humans to talk to other humans within their code. They are very special in that when we write them, the computer knows we are talking to other humans and ignores our writing. This gives us the freedom to write anything we need to in order to clearly explain our code to others. In this section, we will cover two of the most widely-used forms of comments:\n",
    "* hashtag comments (#)\n",
    "* triple-quote comments (\"\"\" \"\"\")\n",
    "\n",
    "***\n"
   ]
  },
  {
   "cell_type": "markdown",
   "metadata": {
    "cell_style": "split",
    "deletable": false,
    "editable": false,
    "run_control": {
     "frozen": true
    }
   },
   "source": [
    "#### Hashtag Comments (#)\n",
    "As the name implies, hashtag comments are denoted by, well, a hashtag (#). The essential purpose of hashtag comments is that they help others understand what you are doing, even if you are doing it wrong. If there is a discrepancy between your hashtag comments and your code, more experienced coders are likely to pick that up and give you feedback. If we add hashtag comments to our code, it becomes much more readable. This has been done in *Code 1.3.2*."
   ]
  },
  {
   "cell_type": "markdown",
   "metadata": {
    "cell_style": "split",
    "deletable": false,
    "editable": false,
    "run_control": {
     "frozen": true
    }
   },
   "source": [
    "<br><br><div align=\"center\"><em>\n",
    "<a href=\"https://imgflip.com/i/32441k\"><img src=\"https://i.imgflip.com/32441k.jpg\" title=\"made at imgflip.com\" width=\"250\" height=\"250\" alt=\"Game of Thrones Meme\">Created with imgflip Meme Generator.</a>\n",
    "</em><a class=\"tocSkip\"></div>"
   ]
  },
  {
   "cell_type": "markdown",
   "metadata": {
    "deletable": false,
    "editable": false,
    "run_control": {
     "frozen": true
    }
   },
   "source": [
    "***"
   ]
  },
  {
   "cell_type": "code",
   "execution_count": null,
   "metadata": {
    "deletable": false,
    "editable": false,
    "run_control": {
     "frozen": true
    }
   },
   "outputs": [],
   "source": [
    "## Code 1.4.2 ##\n",
    "\n",
    "# Importing packages\n",
    "import pandas as pd  # data science essentials\n",
    "\n",
    "# Creating a DataFrame that has missing values\n",
    "original_df = pd.DataFrame([[None, 2, 3],\n",
    "                            [4, None, 6],\n",
    "                            [7, 8, None]])\n",
    "\n",
    "# Creating a copy of the original dataset so that I don't destroy the\n",
    "# original.\n",
    "# I'm planning to impute missing values on this dataset using the mean.\n",
    "# This is why I called this df_mean instead of something else.\n",
    "df_mean = pd.DataFrame.copy(original_df)\n",
    "\n",
    "# This is a loop that looks for missing values in a column.\n",
    "# For each column with missing values, use the mean to fill in the missing\n",
    "# values.\n",
    "for col in df_mean:\n",
    "    if df_mean[col].isnull().any():\n",
    "        col_mean = df_mean[col].mean()\n",
    "        df_mean[col] = df_mean[col].fillna(col_mean).round(2)"
   ]
  },
  {
   "cell_type": "markdown",
   "metadata": {
    "deletable": false,
    "editable": false,
    "run_control": {
     "frozen": true
    }
   },
   "source": [
    "***\n",
    "Although the functionality of *Code 1.4.2* is identical to *Code 1.4.1*, it is much easier to understand what each line is doing and the rationale behind why it was coded. Again, the computer does not care that these lines are here. It will see each '#' and know to skip anything on that line written after it."
   ]
  },
  {
   "cell_type": "markdown",
   "metadata": {
    "deletable": false,
    "editable": false,
    "run_control": {
     "frozen": true
    }
   },
   "source": [
    "#### Stand-Alone Strings\n",
    "Now that we know Python ignores hashtags, it is not surprising that Python ignores other things as well. More accurately, there are some things that Python reads but does not know what to do with, and thus it does not affect our code. One such example is **stand-alone strings**. Take for example *Code 1.4.3*, which is a modified version of *Code 1.4.2*:\n",
    "***"
   ]
  },
  {
   "cell_type": "code",
   "execution_count": null,
   "metadata": {
    "cell_style": "center",
    "deletable": false,
    "editable": false,
    "run_control": {
     "frozen": true
    }
   },
   "outputs": [],
   "source": [
    "# Code 1.4.3 ##\n",
    "\n",
    "# Importing packages\n",
    "import pandas as pd  # data science essentials\n",
    "\n",
    "# Creating a DataFrame that has missing values\n",
    "original_df = pd.DataFrame([[None, 2, 3],\n",
    "                            [4, None, 6],\n",
    "                            [7, 8, None]])\n",
    "\n",
    "(\"\"\"Creating a copy of the original dataset so that I don't destroy the\n",
    "   original. I'm planning to impute missing values on this dataset using the\n",
    "   mean. This is why I called this df_mean instead of something else.\"\"\")\n",
    "df_mean = pd.DataFrame.copy(original_df)\n",
    "\n",
    "(\"\"\"This is a loop that looks for missing values in a column.\n",
    "   For each column with missing values, use the mean to fill in the missing\n",
    "   values.\"\"\")\n",
    "for col in df_mean:\n",
    "    if df_mean[col].isnull().any():\n",
    "        col_mean = df_mean[col].mean()\n",
    "        df_mean[col] = df_mean[col].fillna(col_mean).round(2)"
   ]
  },
  {
   "cell_type": "markdown",
   "metadata": {
    "deletable": false,
    "editable": false,
    "run_control": {
     "frozen": true
    }
   },
   "source": [
    "***\n",
    "Notice how in *Code 1.4.3* we replaced the longer hashtag comments with triple-quote strings. This is a way to provide comments to humans on multiple lines of code in a more readable way. Technically speaking, Python will recognize these as lines of code and then try to run them. However, since there is no *print()* wrapper around these statements and they are not assigned to objects, Python has no use for them and immediately forgets that they exist. In other words, since Python has not been instructed to do anything with the triple quote statements, it ignores them. Finally, notice also that we added parentheses around each of the triple quotes. This is a good practice as it helps to organize our code and to prevent unwanted errors.<br><br>\n",
    "*Note:* There may be a time when someone reviewing your code tells you that using stand-alone strings (i.e. strings that aren't part of an object or a *print()* statement) to make comments is a bad practice. There is some rationale to this, as since Python runs stand-alone strings as code, it takes a tiny bit longer for your code to process. In fields like algorithmic trading, \"a tiny bit longer\" can mean missed opportunities, and thus such comments should be avoided. In business analytics, however, the purpose of most analyses is to gain insights and make recommendations. This takes a thorough and thoughtful exploration of the data, as well as constant communication with stakeholders to truly understand the problem you are trying to solve. In this sense, **your goal is to communicate as clearly as possible.** If this is best done by using stand-alone strings, use them.<br><br>\n",
    "\n",
    "*Code 1.4.4(a)* and *Code 1.4.4(b)* demonstrate the additional processing time from the use of stand-alone strings. As can be observed, the use of stand-alone strings had a very minor, if any, impact on the processing time of our code.\n",
    "***"
   ]
  },
  {
   "cell_type": "code",
   "execution_count": 49,
   "metadata": {
    "cell_style": "split",
    "collapsed": true,
    "deletable": false,
    "editable": false
   },
   "outputs": [
    {
     "name": "stdout",
     "output_type": "stream",
     "text": [
      "My program took 0.005373954772949219 to run\n"
     ]
    }
   ],
   "source": [
    "## Code 1.4.4(a) ##\n",
    "\n",
    "import time\n",
    "start_time = time.time()\n",
    "\n",
    "# Importing packages\n",
    "import pandas as pd  # data science essentials\n",
    "\n",
    "# Creating a DataFrame that has missing values\n",
    "original_df = pd.DataFrame([[None, 2, 3],\n",
    "                            [4, None, 6],\n",
    "                            [7, 8, None]])\n",
    "\n",
    "\n",
    "\n",
    "\n",
    "df_mean = pd.DataFrame.copy(original_df)\n",
    "\n",
    "\n",
    "\n",
    "\n",
    "\n",
    "for col in df_mean:\n",
    "    if df_mean[col].isnull().any():\n",
    "        col_mean = df_mean[col].mean()\n",
    "        df_mean[col] = df_mean[col].fillna(col_mean).round(2)\n",
    "\n",
    "\n",
    "print(\"My program took\", time.time() - start_time, \"to run\")"
   ]
  },
  {
   "cell_type": "code",
   "execution_count": 50,
   "metadata": {
    "cell_style": "split",
    "collapsed": true,
    "deletable": false,
    "editable": false
   },
   "outputs": [
    {
     "name": "stdout",
     "output_type": "stream",
     "text": [
      "My program took 0.007046222686767578 to run\n"
     ]
    }
   ],
   "source": [
    "## Code 1.4.4(b) ##\n",
    "\n",
    "import time\n",
    "start_time = time.time()\n",
    "\n",
    "# Importing packages\n",
    "import pandas as pd  # data science essentials\n",
    "\n",
    "# Creating a DataFrame that has missing values\n",
    "original_df = pd.DataFrame([[None, 2, 3],\n",
    "                            [4, None, 6],\n",
    "                            [7, 8, None]])\n",
    "\n",
    "(\"\"\"Creating a copy of the original dataset so that I don't destroy the\n",
    "   original. I'm planning to impute missing values on this dataset using the\n",
    "   mean. This is why I called this df_mean instead of something else.\"\"\")\n",
    "df_mean = pd.DataFrame.copy(original_df)\n",
    "\n",
    "(\"\"\"This is a loop that looks for missing values in a column.\n",
    "   For each column with missing values, use the mean to fill in the missing\n",
    "   values.\"\"\")\n",
    "for col in df_mean:\n",
    "    if df_mean[col].isnull().any():\n",
    "        col_mean = df_mean[col].mean()\n",
    "        df_mean[col] = df_mean[col].fillna(col_mean).round(2)\n",
    "\n",
    "        \n",
    "\n",
    "print(\"My program took\", time.time() - start_time, \"to run\")"
   ]
  },
  {
   "cell_type": "markdown",
   "metadata": {
    "deletable": false,
    "editable": false,
    "run_control": {
     "frozen": true
    }
   },
   "source": [
    "***"
   ]
  },
  {
   "cell_type": "markdown",
   "metadata": {
    "deletable": false,
    "editable": false,
    "run_control": {
     "frozen": true
    }
   },
   "source": [
    "#### Side Note: Code Processing Time\n",
    "The code used to time the difference between the two codes was found via [this page on Stack Overflow](https://stackoverflow.com/questions/12444004/how-long-does-my-python-application-take-to-run). The template provided via the Stack Overflow page is shown in *Code 1.3.5*.\n",
    "***"
   ]
  },
  {
   "cell_type": "code",
   "execution_count": 42,
   "metadata": {
    "cell_style": "center",
    "collapsed": true,
    "deletable": false,
    "editable": false
   },
   "outputs": [
    {
     "name": "stdout",
     "output_type": "stream",
     "text": [
      "My program took 2.6941299438476562e-05 to run\n"
     ]
    }
   ],
   "source": [
    "## Code 1.4.5 ##\n",
    "\n",
    "import time\n",
    "start_time = time.time()\n",
    "\n",
    "print(\"My program took\", time.time() - start_time, \"to run\")"
   ]
  },
  {
   "cell_type": "markdown",
   "metadata": {
    "deletable": false,
    "editable": false,
    "run_control": {
     "frozen": true
    }
   },
   "source": [
    "***\n",
    "## 1.5 Summary\n",
    "~~~\n",
    " __   __        __   __       ___                ___    __        __    /\n",
    "/  ` /  \\ |\\ | / _` |__)  /\\   |  |  | |     /\\   |  | /  \\ |\\ | /__`  / \n",
    "\\__, \\__/ | \\| \\__> |  \\ /~~\\  |  \\__/ |___ /~~\\  |  | \\__/ | \\| .__/ .  \n",
    "~~~                                                                         \n",
    "\n",
    "\n",
    "Hats off to you for finishing the first chapter of this book. You are now ready to move forward given your understanding of:\n",
    "* finding help with the help() wrapper\n",
    "* code complete in Jupyter notebook\n",
    "* finding answers on the Internet\n",
    "* talking to humans through code comments"
   ]
  }
 ],
 "metadata": {
  "kernelspec": {
   "display_name": "Python 3",
   "language": "python",
   "name": "python3"
  },
  "language_info": {
   "codemirror_mode": {
    "name": "ipython",
    "version": 3
   },
   "file_extension": ".py",
   "mimetype": "text/x-python",
   "name": "python",
   "nbconvert_exporter": "python",
   "pygments_lexer": "ipython3",
   "version": "3.6.8"
  },
  "toc": {
   "base_numbering": 1,
   "nav_menu": {},
   "number_sections": false,
   "sideBar": true,
   "skip_h1_title": false,
   "title_cell": "Table of Contents",
   "title_sidebar": "Contents",
   "toc_cell": false,
   "toc_position": {},
   "toc_section_display": true,
   "toc_window_display": false
  },
  "varInspector": {
   "cols": {
    "lenName": 16,
    "lenType": 16,
    "lenVar": 40
   },
   "kernels_config": {
    "python": {
     "delete_cmd_postfix": "",
     "delete_cmd_prefix": "del ",
     "library": "var_list.py",
     "varRefreshCmd": "print(var_dic_list())"
    },
    "r": {
     "delete_cmd_postfix": ") ",
     "delete_cmd_prefix": "rm(",
     "library": "var_list.r",
     "varRefreshCmd": "cat(var_dic_list()) "
    }
   },
   "types_to_exclude": [
    "module",
    "function",
    "builtin_function_or_method",
    "instance",
    "_Feature"
   ],
   "window_display": false
  }
 },
 "nbformat": 4,
 "nbformat_minor": 2
}
