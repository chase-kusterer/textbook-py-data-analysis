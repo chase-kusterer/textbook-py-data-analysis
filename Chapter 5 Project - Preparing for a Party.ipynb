{
 "cells": [
  {
   "cell_type": "markdown",
   "metadata": {
    "deletable": false,
    "editable": false,
    "run_control": {
     "frozen": true
    }
   },
   "source": [
    "***\n",
    "***\n",
    "***\n",
    "<br><br><br><br><br>\n",
    "<h1>Python for Business Analytics</h1>\n",
    "<em>A Nontechnical Approach for Nontechnical People</em><br><br>\n",
    "<em><strong>Custom Edition for Hult International Business School</strong></em><br>\n",
    "\n",
    "Written by Chase Kusterer - Faculty of Analytics <br>\n",
    "Hult International Business School <br>\n",
    "https://github.com/chase-kusterer <br><br><br><br><br>\n",
    "***\n",
    "***\n",
    "***\n",
    "\n",
    "# <u>Project Chapter 5: Preparing for a Party</u>"
   ]
  },
  {
   "cell_type": "markdown",
   "metadata": {
    "deletable": false,
    "editable": false,
    "run_control": {
     "frozen": true
    }
   },
   "source": [
    "<strong>Purpose</strong> <br>\n",
    "To practice lists and list operations while incorporating other skills developed in Chapters 1-5.<br><br>\n",
    "<strong>Primary Topics Covered</strong>\n",
    "* lists and list operations\n",
    "    * Working with lists within lists\n",
    "    * Accessing List Elements via Indexes\n",
    "    * List Methods (.append(), .insert())"
   ]
  },
  {
   "cell_type": "markdown",
   "metadata": {},
   "source": [
    "***\n",
    "***\n",
    "\n",
    "## Part 1: The Initial List"
   ]
  },
  {
   "cell_type": "markdown",
   "metadata": {
    "deletable": false,
    "editable": false,
    "run_control": {
     "frozen": true
    }
   },
   "source": [
    "Mona Dhillon is planning the food and beverage for the Master of Business Analytics Welcome Party. So far, he has three items as well as their respective quantities. Mona has put each item and its quantity its own list."
   ]
  },
  {
   "cell_type": "code",
   "execution_count": null,
   "metadata": {
    "deletable": false,
    "editable": false
   },
   "outputs": [],
   "source": [
    "## Project Code 5.1.1\n",
    "\n",
    "chips           = ['bags of chips', 25]\n",
    "salsa           = ['jars of salsa', 10]\n",
    "still_water     = ['liters of still water', 200]"
   ]
  },
  {
   "cell_type": "markdown",
   "metadata": {
    "deletable": false,
    "editable": false,
    "run_control": {
     "frozen": true
    }
   },
   "source": [
    "<br>Now we will combine each individual list into a food and beverage list.<br>"
   ]
  },
  {
   "cell_type": "code",
   "execution_count": null,
   "metadata": {
    "deletable": false,
    "editable": false
   },
   "outputs": [],
   "source": [
    "## Project Code 5.1.2\n",
    "\n",
    "food_n_beverage = [chips, salsa, still_water]\n",
    "\n",
    "# Printing the current food and beverage list\n",
    "print(food_n_beverage)"
   ]
  },
  {
   "cell_type": "markdown",
   "metadata": {
    "deletable": false,
    "editable": false,
    "run_control": {
     "frozen": true
    }
   },
   "source": [
    "<br>\n",
    "\n",
    "***\n",
    "***\n",
    "\n",
    "#### P5.1.1) Change the items of the current list as follows\n",
    "1. 50 bags of chips\n",
    "2. 25 jars of salsa\n",
    "3. 100 liters of still water\n",
    "4. 100 liters of sparking water"
   ]
  },
  {
   "cell_type": "code",
   "execution_count": null,
   "metadata": {
    "cell_style": "center",
    "solution2": "hidden",
    "solution2_first": true
   },
   "outputs": [],
   "source": [
    "## Exercise 5.1.1 ##\n",
    "\n",
    "chips           = []\n",
    "salsa           = []\n",
    "still_water     = []\n",
    "sparkling_water = []"
   ]
  },
  {
   "cell_type": "code",
   "execution_count": null,
   "metadata": {
    "cell_style": "center",
    "deletable": false,
    "editable": false,
    "solution2": "hidden"
   },
   "outputs": [],
   "source": [
    "## Sample Solution 5.1.2 ##\n",
    "\n",
    "chips           = ['bags of chips', 50]\n",
    "salsa           = ['jars of salsa', 25]\n",
    "still_water     = ['liters of still water', 100]\n",
    "sparkling_water = ['liters of sparkling water', 100]"
   ]
  },
  {
   "cell_type": "markdown",
   "metadata": {
    "deletable": false,
    "editable": false,
    "run_control": {
     "frozen": true
    }
   },
   "source": [
    "***\n",
    "#### P5.1.2) Create a new list called food_n_beverage to store all of the foods/beverages. Print the <strong>food_n_beverage</strong> list."
   ]
  },
  {
   "cell_type": "code",
   "execution_count": null,
   "metadata": {
    "solution2": "hidden",
    "solution2_first": true
   },
   "outputs": [],
   "source": [
    "## Exercise 5.1.2 ##\n",
    "\n",
    "food_n_beverage = []\n",
    "\n",
    "# Printing the current food and beverage list\n",
    "print(_____)"
   ]
  },
  {
   "cell_type": "code",
   "execution_count": null,
   "metadata": {
    "deletable": false,
    "editable": false,
    "solution2": "hidden"
   },
   "outputs": [],
   "source": [
    "## Sample Solution 5.1.2 ##\n",
    "\n",
    "food_n_beverage = [chips, salsa, still_water, sparkling_water]\n",
    "\n",
    "# Printing the current food and beverage list\n",
    "print(food_n_beverage)"
   ]
  },
  {
   "cell_type": "markdown",
   "metadata": {
    "deletable": false,
    "editable": false,
    "run_control": {
     "frozen": true
    }
   },
   "source": [
    "***\n",
    "## Part 2: Practicing List Indexing"
   ]
  },
  {
   "cell_type": "markdown",
   "metadata": {
    "deletable": false,
    "editable": false,
    "run_control": {
     "frozen": true
    }
   },
   "source": [
    "#### P5.2.1) Index and print the last element of the *food_n_beverage* list."
   ]
  },
  {
   "cell_type": "code",
   "execution_count": null,
   "metadata": {
    "solution2": "hidden",
    "solution2_first": true
   },
   "outputs": [],
   "source": [
    "## Exercise 5.2.1 ##\n",
    "\n",
    "print(_____[_])"
   ]
  },
  {
   "cell_type": "code",
   "execution_count": null,
   "metadata": {
    "deletable": false,
    "editable": false,
    "solution2": "hidden"
   },
   "outputs": [],
   "source": [
    "## Sample Solution 5.2.1 ##\n",
    "\n",
    "print(food_n_beverage[-1])"
   ]
  },
  {
   "cell_type": "markdown",
   "metadata": {
    "deletable": false,
    "editable": false,
    "run_control": {
     "frozen": true
    }
   },
   "source": [
    "<br>\n",
    "\n",
    "***\n",
    "#### P5.2.2) Slice and print all of the foods (first two items) using forward indexing."
   ]
  },
  {
   "cell_type": "code",
   "execution_count": null,
   "metadata": {
    "solution2": "hidden",
    "solution2_first": true
   },
   "outputs": [],
   "source": [
    "## Exercise 5.2.2 ##\n",
    "\n",
    "_____(_____[_:_])"
   ]
  },
  {
   "cell_type": "code",
   "execution_count": null,
   "metadata": {
    "deletable": false,
    "editable": false,
    "solution2": "hidden"
   },
   "outputs": [],
   "source": [
    "## Sample Solution 5.2.2 ##\n",
    "\n",
    "print(food_n_beverage[0:2])"
   ]
  },
  {
   "cell_type": "markdown",
   "metadata": {
    "deletable": false,
    "editable": false,
    "run_control": {
     "frozen": true
    }
   },
   "source": [
    "<br>\n",
    "\n",
    "***\n",
    "#### P5.2.3) Slice and print all of the beverages (last two items) using backward indexing."
   ]
  },
  {
   "cell_type": "code",
   "execution_count": null,
   "metadata": {
    "solution2": "hidden",
    "solution2_first": true
   },
   "outputs": [],
   "source": [
    "## Exercise 5.2.3 ##\n",
    "\n"
   ]
  },
  {
   "cell_type": "code",
   "execution_count": null,
   "metadata": {
    "deletable": false,
    "editable": false,
    "solution2": "hidden"
   },
   "outputs": [],
   "source": [
    "## Sample Solution 5.2.3 ##\n",
    "\n",
    "print(food_n_beverage[-3:-1])"
   ]
  },
  {
   "cell_type": "markdown",
   "metadata": {
    "code_folding": [],
    "deletable": false,
    "editable": false,
    "run_control": {
     "frozen": true
    }
   },
   "source": [
    "***\n",
    "#### P5.2.4) Slice and print the name of the first element of the *food_n_beverage* list."
   ]
  },
  {
   "cell_type": "code",
   "execution_count": null,
   "metadata": {
    "solution2": "hidden",
    "solution2_first": true
   },
   "outputs": [],
   "source": [
    "## Exercise 5.2.4 ##\n",
    "\n",
    "print(food_n_beverage[_][_])"
   ]
  },
  {
   "cell_type": "code",
   "execution_count": null,
   "metadata": {
    "deletable": false,
    "editable": false,
    "solution2": "hidden"
   },
   "outputs": [],
   "source": [
    "## Sample Solution 5.2.4 ##\n",
    "\n",
    "print(food_n_beverage[0][0])"
   ]
  },
  {
   "cell_type": "markdown",
   "metadata": {
    "deletable": false,
    "editable": false,
    "run_control": {
     "frozen": true
    }
   },
   "source": [
    "***\n",
    "#### P5.2.5) Slice and print all of the quantities in the *food_n_beverage* list."
   ]
  },
  {
   "cell_type": "code",
   "execution_count": null,
   "metadata": {},
   "outputs": [],
   "source": [
    "## Exercise 5.2.5 ##\n",
    "\n",
    "print([_____[_][_],\n",
    "       _____[_][_],\n",
    "       _____[_][_],\n",
    "       _____[_][_]])"
   ]
  },
  {
   "cell_type": "code",
   "execution_count": null,
   "metadata": {
    "deletable": false,
    "editable": false
   },
   "outputs": [],
   "source": [
    "## Sample Solution 5.2.5 ##\n",
    "\n",
    "print([food_n_beverage[0][1],\n",
    "       food_n_beverage[1][1],\n",
    "       food_n_beverage[2][1],\n",
    "       food_n_beverage[3][1]])"
   ]
  },
  {
   "cell_type": "markdown",
   "metadata": {
    "deletable": false,
    "editable": false,
    "run_control": {
     "frozen": true
    }
   },
   "source": [
    "***\n",
    "#### P5.2.6) Slice and print the first two names and last two quantities in the *food_n_beverage* list."
   ]
  },
  {
   "cell_type": "code",
   "execution_count": null,
   "metadata": {
    "solution2": "hidden",
    "solution2_first": true
   },
   "outputs": [],
   "source": [
    "## Exercise 5.2.6 ##\n",
    "\n"
   ]
  },
  {
   "cell_type": "code",
   "execution_count": null,
   "metadata": {
    "deletable": false,
    "editable": false,
    "solution2": "hidden"
   },
   "outputs": [],
   "source": [
    "## Sample Solution 5.2.6 ##\n",
    "\n",
    "print([food_n_beverage[0][0],\n",
    "       food_n_beverage[1][0],\n",
    "       food_n_beverage[2][1],\n",
    "       food_n_beverage[3][1]])"
   ]
  },
  {
   "cell_type": "markdown",
   "metadata": {
    "deletable": false,
    "editable": false,
    "run_control": {
     "frozen": true
    }
   },
   "source": [
    "***\n",
    "\n",
    "## Part 3: Adding Items to the Food & Beverage List"
   ]
  },
  {
   "cell_type": "markdown",
   "metadata": {
    "deletable": false,
    "editable": false,
    "run_control": {
     "frozen": true
    }
   },
   "source": [
    "Mona receives an email asking her to add the following items to the list:\n",
    "* 2 cans of ground coffee\n",
    "* 40 bottles of red wine\n",
    "* 40 bottles of white wine\n",
    "* 300 deviled eggs\n",
    "* enough salad for 300 people, which she assumes is 1 kilogram for every 8 people\n",
    "\n",
    "She needs to insert the items so that all food is at the beginning of\n",
    "the list, and all beverages are at the end of the list."
   ]
  },
  {
   "cell_type": "code",
   "execution_count": null,
   "metadata": {
    "deletable": false,
    "editable": false,
    "scrolled": true
   },
   "outputs": [],
   "source": [
    "## Project Code 5.3.1 ##\n",
    "\n",
    "# Placed here to show what is already in the food_n_beverage list\n",
    "print(food_n_beverage)"
   ]
  },
  {
   "cell_type": "markdown",
   "metadata": {
    "deletable": false,
    "editable": false,
    "run_control": {
     "frozen": true
    }
   },
   "source": [
    "***\n",
    "#### P5.3.1) Insert foods at the beginning of the list"
   ]
  },
  {
   "cell_type": "code",
   "execution_count": null,
   "metadata": {
    "solution2": "hidden",
    "solution2_first": true
   },
   "outputs": [],
   "source": [
    "## Exercise 5.3.1 ##\n",
    "\n",
    "# Adding foods at the beginning of the list\n",
    "food_n_beverage.insert(0, ['deviled eggs', 300])\n",
    "___"
   ]
  },
  {
   "cell_type": "code",
   "execution_count": null,
   "metadata": {
    "deletable": false,
    "editable": false,
    "solution2": "hidden"
   },
   "outputs": [],
   "source": [
    "## Sample Solution 5.3.1 ##\n",
    "\n",
    "# Adding foods at the beginning of the list\n",
    "food_n_beverage.insert(0, ['deviled eggs', 300])\n",
    "food_n_beverage.insert(0, ['kilograms of salad', 300 / 8])"
   ]
  },
  {
   "cell_type": "markdown",
   "metadata": {
    "deletable": false,
    "editable": false,
    "run_control": {
     "frozen": true
    }
   },
   "source": [
    "***\n",
    "#### P5.3.2) Append beverages to the end of the list"
   ]
  },
  {
   "cell_type": "code",
   "execution_count": null,
   "metadata": {
    "solution2": "hidden",
    "solution2_first": true
   },
   "outputs": [],
   "source": [
    "## Exercise 5.3.2 ##\n",
    "\n",
    "# Adding beverages at the end of the list\n",
    "food_n_beverage.append(['cans of ground coffee', 2])\n",
    "___\n",
    "___\n",
    "___"
   ]
  },
  {
   "cell_type": "code",
   "execution_count": null,
   "metadata": {
    "deletable": false,
    "editable": false,
    "solution2": "hidden"
   },
   "outputs": [],
   "source": [
    "## Sample Solution 5.3.2 ##\n",
    "\n",
    "# Adding beverages at the end of the list\n",
    "food_n_beverage.append(['cans of ground coffee', 2])\n",
    "food_n_beverage.append(['bottles red wine', 40])\n",
    "food_n_beverage.append(['bottles white wine', 40])"
   ]
  },
  {
   "cell_type": "markdown",
   "metadata": {},
   "source": [
    "***\n",
    "\n",
    "## Part 4: Adding Even More Items to the List\n",
    "After completing the list, Mona receives another email stating that she needs to add <strong>five more foods</strong> and <strong>three more beverages</strong> to the list. She has reached out to you for help as she is not sure which items to add.Please help Megan by updating the *food_n_beverage* list with items of your choosing.\n",
    "<br><br>\n",
    "<strong><em>Reminder:</em></strong> Foods should go at the beginning of the list and beverages at the end.\n",
    "\n",
    "***\n",
    "\n",
    "#### P5.4.1) Update the <em>food_n_beverage</em> list with items of your choosing."
   ]
  },
  {
   "cell_type": "code",
   "execution_count": null,
   "metadata": {
    "solution2": "hidden",
    "solution2_first": true
   },
   "outputs": [],
   "source": [
    "## Exercise 5.4.1 ##\n",
    "\n",
    "# Adding foods\n",
    "___\n",
    "___\n",
    "___\n",
    "___\n",
    "___\n",
    "\n",
    "# Adding beverages\n",
    "___\n",
    "___\n",
    "___"
   ]
  },
  {
   "cell_type": "code",
   "execution_count": null,
   "metadata": {
    "deletable": false,
    "editable": false,
    "solution2": "hidden"
   },
   "outputs": [],
   "source": [
    "## Sample Solution 5.4.1 ##\n",
    "\n",
    "# Adding foods\n",
    "food_n_beverage.insert(0, ['avocados (kilograms)', 10])\n",
    "food_n_beverage.insert(0, ['bananas (kilograms)', 10])\n",
    "food_n_beverage.insert(0, ['cantaloupe (kilograms)', 10])\n",
    "food_n_beverage.insert(0, ['dragon fruit (kilograms)', 10])\n",
    "food_n_beverage.insert(0, ['elderberries (kilograms)', 10])\n",
    "\n",
    "# Adding beverages\n",
    "food_n_beverage.append(['apple juice (liters)', 25])\n",
    "food_n_beverage.append(['blueberry juice (liters)', 25])\n",
    "food_n_beverage.append(['cherry juice (liters)', 25])"
   ]
  },
  {
   "cell_type": "markdown",
   "metadata": {
    "deletable": false,
    "editable": false,
    "run_control": {
     "frozen": true
    }
   },
   "source": [
    "***\n",
    "\n",
    "## Part 5: Our Final Food & Beverage List\n",
    "Our list is ready! Let's use an f-string and list indexing to view the items in our list.\n",
    "\n",
    "***\n",
    "\n",
    "#### P5.5.1) Complete the f-string with the remaining items on the *food_n_beverage* list.\n",
    "<em>Hint:</em> If you are not sure how many elements are in the list, remember that there is a built-in function that can help you out."
   ]
  },
  {
   "cell_type": "code",
   "execution_count": null,
   "metadata": {
    "cell_style": "center",
    "solution2": "hidden",
    "solution2_first": true
   },
   "outputs": [],
   "source": [
    "## Exercise 5.5.1 ##\n",
    "\n",
    "print(f\"\"\"\n",
    "Our list is completed! Here are the food/beverages and their quantities:\n",
    "    {food_n_beverage[0][0]}: \\t {food_n_beverage[0][1]}\n",
    "    {food_n_beverage[1][0]}: \\t {food_n_beverage[1][1]} \n",
    "    ___\n",
    "    ___\n",
    "    ___\n",
    "    ___\n",
    "    ___\n",
    "    ___\n",
    "    ___\n",
    "    ___\n",
    "    ___\n",
    "    ___\n",
    "    ___\n",
    "    ___\n",
    "\"\"\")"
   ]
  },
  {
   "cell_type": "code",
   "execution_count": null,
   "metadata": {
    "deletable": false,
    "editable": false,
    "solution2": "hidden"
   },
   "outputs": [],
   "source": [
    "## Sample Solution 5.5.1 ##\n",
    "\n",
    "print(f\"\"\"\n",
    "Our list is completed! Here are the food/beverages and their quantities:\n",
    "    {food_n_beverage[0][0]}: \\t {food_n_beverage[0][1]}\n",
    "    {food_n_beverage[1][0]}: \\t {food_n_beverage[1][1]} \n",
    "    {food_n_beverage[2][0]}: \\t {food_n_beverage[2][1]} \n",
    "    {food_n_beverage[3][0]}: \\t {food_n_beverage[3][1]} \n",
    "    {food_n_beverage[4][0]}: \\t {food_n_beverage[4][1]} \n",
    "    {food_n_beverage[5][0]}: \\t {food_n_beverage[5][1]} \n",
    "    {food_n_beverage[6][0]}: \\t\\t {food_n_beverage[6][1]}\n",
    "    {food_n_beverage[7][0]}: \\t\\t {food_n_beverage[7][1]}\n",
    "    {food_n_beverage[8][0]}: \\t\\t {food_n_beverage[8][1]} \n",
    "    {food_n_beverage[9][0]}: \\t {food_n_beverage[9][1]} \n",
    "    {food_n_beverage[10][0]}: \\t {food_n_beverage[10][1]} \n",
    "    {food_n_beverage[11][0]}: \\t {food_n_beverage[11][1]} \n",
    "    {food_n_beverage[12][0]}: \\t {food_n_beverage[12][1]}\n",
    "    {food_n_beverage[13][0]}: \\t {food_n_beverage[13][1]} \n",
    "\"\"\")"
   ]
  },
  {
   "cell_type": "markdown",
   "metadata": {
    "cell_style": "center",
    "deletable": false,
    "editable": false,
    "run_control": {
     "frozen": true
    }
   },
   "source": [
    "***\n",
    "## Bonus Material: Converting a List into a pandas DataFrame\n",
    "Lists may seem confusing, but they are a very important data structure. If we convert our list into a [pandas DataFrame](https://pandas.pydata.org/pandas-docs/stable/reference/api/pandas.DataFrame.html), we get something that Excel users should find incredibly familiar."
   ]
  },
  {
   "cell_type": "code",
   "execution_count": null,
   "metadata": {
    "deletable": false,
    "editable": false
   },
   "outputs": [],
   "source": [
    "## Project Code 5.6.1 ##\n",
    "\n",
    "# Importing pandas\n",
    "import pandas as pd\n",
    "\n",
    "# Converting the food_n_beverage list into a DataFrame\n",
    "food_n_beverage_df = pd.DataFrame(food_n_beverage)"
   ]
  },
  {
   "cell_type": "markdown",
   "metadata": {
    "deletable": false,
    "editable": false,
    "run_control": {
     "frozen": true
    }
   },
   "source": [
    "***\n",
    "#### a) Run the following code to see the food_n_beverage list as a pandas DataFrame."
   ]
  },
  {
   "cell_type": "code",
   "execution_count": null,
   "metadata": {
    "deletable": false,
    "editable": false
   },
   "outputs": [],
   "source": [
    "## Project Code 5.6.2 ##\n",
    "\n",
    "print(food_n_beverage_df)"
   ]
  },
  {
   "cell_type": "markdown",
   "metadata": {
    "deletable": false,
    "editable": false
   },
   "source": [
    "***\n",
    "This DataFrame can also be converted into an Excel file by using the **.to_excel()** method.\n",
    "\n",
    "#### b) Run the following code to save the DataFrame into an Excel file."
   ]
  },
  {
   "cell_type": "code",
   "execution_count": null,
   "metadata": {
    "deletable": false,
    "editable": false
   },
   "outputs": [],
   "source": [
    "## Project Code 5.6.3 ##\n",
    "\n",
    "# Saving the DataFrame as an Excel file\n",
    "food_n_beverage_df.to_excel(\"food_n_beverage.xlsx\",\n",
    "                            header = False,\n",
    "                            index = False)"
   ]
  },
  {
   "cell_type": "markdown",
   "metadata": {
    "deletable": false,
    "editable": false,
    "run_control": {
     "frozen": true
    }
   },
   "source": [
    "~~~\n",
    "____ _  _ ___     ____ ____    ____ ____ ____ _ ___  ___    \n",
    "|___ |\\ | |  \\    |  | |___    [__  |    |__/ | |__]  |     \n",
    "|___ | \\| |__/    |__| |       ___] |___ |  \\ | |     |  ...\n",
    "                                                            \n",
    "____ ____ ____ ____ ___    _ _ _ ____ ____ _  _   /  /  /   \n",
    "| __ |__/ |___ |__|  |     | | | |  | |__/ |_/   /  /  /    \n",
    "|__] |  \\ |___ |  |  |     |_|_| |__| |  \\ | \\_ .  .  .     \n",
    "                                                            \n",
    "~~~"
   ]
  }
 ],
 "metadata": {
  "kernelspec": {
   "display_name": "Python 3",
   "language": "python",
   "name": "python3"
  },
  "language_info": {
   "codemirror_mode": {
    "name": "ipython",
    "version": 3
   },
   "file_extension": ".py",
   "mimetype": "text/x-python",
   "name": "python",
   "nbconvert_exporter": "python",
   "pygments_lexer": "ipython3",
   "version": "3.6.8"
  },
  "toc": {
   "base_numbering": 1,
   "nav_menu": {},
   "number_sections": false,
   "sideBar": false,
   "skip_h1_title": false,
   "title_cell": "Table of Contents",
   "title_sidebar": "Contents",
   "toc_cell": false,
   "toc_position": {
    "height": "calc(100% - 180px)",
    "left": "10px",
    "top": "150px",
    "width": "165px"
   },
   "toc_section_display": true,
   "toc_window_display": false
  },
  "varInspector": {
   "cols": {
    "lenName": 16,
    "lenType": 16,
    "lenVar": 40
   },
   "kernels_config": {
    "python": {
     "delete_cmd_postfix": "",
     "delete_cmd_prefix": "del ",
     "library": "var_list.py",
     "varRefreshCmd": "print(var_dic_list())"
    },
    "r": {
     "delete_cmd_postfix": ") ",
     "delete_cmd_prefix": "rm(",
     "library": "var_list.r",
     "varRefreshCmd": "cat(var_dic_list()) "
    }
   },
   "types_to_exclude": [
    "module",
    "function",
    "builtin_function_or_method",
    "instance",
    "_Feature"
   ],
   "window_display": false
  }
 },
 "nbformat": 4,
 "nbformat_minor": 2
}
