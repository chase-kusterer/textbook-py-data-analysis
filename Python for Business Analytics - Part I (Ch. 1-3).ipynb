{
 "cells": [
  {
   "cell_type": "markdown",
   "metadata": {
    "deletable": false,
    "editable": false,
    "run_control": {
     "frozen": true
    }
   },
   "source": [
    "<hr style=\"height:1px;border:none;color:#333;background-color:#333;\" />\n",
    "<hr style=\"height:1px;border:none;color:#333;background-color:#333;\" />\n",
    "<br><br><br>\n",
    "\n",
    "<h1>Python for Business Analytics</h1>\n",
    "<em>A Nontechnical Approach for Nontechnical People</em><br><br>\n",
    "<em><strong>Custom Edition for Hult International Business School</strong></em><br>\n",
    "Written by Chase Kusterer - Faculty of Analytics <br>\n",
    "Hult International Business School <br>\n",
    "<a href=\"https://github.com/chase-kusterer\">https://github.com/chase-kusterer</a> <br><br><br><br><br>\n",
    "\n",
    "<hr style=\"height:1px;border:none;color:#333;background-color:#333;\" />\n",
    "<hr style=\"height:1px;border:none;color:#333;background-color:#333;\" />\n",
    "\n",
    "<h2>Part I: The Absolute Essentials</h2>\n",
    "<br>\n",
    "<hr style=\"height:1px;border:none;color:#333;background-color:#333;\" />\n",
    "<hr style=\"height:1px;border:none;color:#333;background-color:#333;\" />\n",
    "<br>\n",
    "\n",
    "<h1><u>Chapter 1: Before Learning Anything Else, Learn This</u></h1>"
   ]
  },
  {
   "cell_type": "markdown",
   "metadata": {},
   "source": [
    "<strong>If you are new to coding, do not skip this chapter.</strong><br><br>\n",
    "Python was designed to be a simple programming language. In fact, in 1999, Guido van Rossum, the founder of the Python language, sent a funding proposal to DARPA for his <em>Computer Programming for Everybody</em> initiative, where he posited the following question:<br><br>\n",
    "\n",
    "<div align=\"center\"><strong>\n",
    "    \"What would the world look like if users could program their own computer?\"\n",
    "    </strong><a class=\"tocSkip\"></a></div><br>\n",
    "The proposal went on to make the following claim:<br><br>\n",
    "<div align=\"center\"><strong>\n",
    "\"There is enough (anecdotal) evidence that Python is easy to<br>learn for people who are (nearly) computer-illiterate.\"\n",
    "    </strong><a class=\"tocSkip\"></a></div>\n",
    "\n",
    "This proposal, which was submitted by van Rossum and the <em>Python in Education Special Interest Group</em> <a href=\"https://www.python.org/doc/essays/everybody/\">can be found here</a>. It is an interesting read and makes some very good points. However, even though Python may be easy to learn, <strong>it is important to learn how to learn Python, and that is the purpose of this chapter.</strong> At times, you will get stuck, and you need to know what to do. There will also be many times when your code won't run properly, even when you've spent hours trying to debug it. This is very frustrating, and it is something all coders experience from time to time. The good news is that as long as you are not one of the world's most advanced Python coders, someone has already experienced and solved your problem. More importantly, it is very likely that a solution to your problem has been generously shared to the open source community. All you need to know is where to find it. Not knowing can be devastating to your morale. To exemplify this, the following story is from one of my former students, which took place while conducting an analysis for the course: Machine Learning.<br><br>\n",
    "\n",
    "<div align=\"left\">\n",
    "<em><strong>Lucas Barros - Masters of Business Analytics - Class of 2019</strong></em><br>\n",
    "    \n",
    "“While studying in the Masters of Business Analytics program, I was also working part time at the café on campus. It's always good to make some extra money as a graduate student. Learning analytics, especially coding, was a very interesting experience, although sometimes I would lose confidence, questioning whether this was the right field for me. A great example of this is the Game of Thrones Character Prediction analysis project.<br>\n",
    "        \n",
    "We had a dataset based on the book series, which contained around 2000 characters and several features describing each character. It was probably the most stressful project of my life. Throughout this project, sleeping 6 hours a night was a luxury. I spent countless hours working on the dataset: engineering new features, testing out different machine learning algorithms, and trying not to question my life choices too deeply. On the note of life choices, coincidentally, the campus café was looking to hire a new manager and they asked me if I would like the position. I have to be very sincere, after the lack of sleep, the stress of hours of trying to debug my code to no avail, and the process of trying to build an algorithm that predicts reasonably well, the option of giving up and living a more chill life sounded very appealing.<br>\n",
    "\n",
    "Nonetheless, after some more nights with minimal time to sleep, I found solutions to my coding issues and am proud to say I completed the project. While being one of the most difficult projects I've ever encountered, it was by far one of the most rewarding!”\n",
    "<a class=\"tocSkip\"></a></div><br>\n",
    "\n",
    "In this chapter, we will cover five critical resources in an effort to alleviate your long-term coding frustration:\n",
    "\n",
    "* finding help with the help() wrapper\n",
    "* code complete in Jupyter notebook\n",
    "* finding answers on the Internet\n",
    "* talking to humans through code comments\n",
    "\n",
    "<strong>Reminder:</strong> If you are new to coding, do not skip this chapter. Time invested here will save you several hours as you move forward."
   ]
  },
  {
   "cell_type": "markdown",
   "metadata": {
    "cell_style": "center",
    "deletable": false,
    "editable": false,
    "run_control": {
     "frozen": true
    }
   },
   "source": [
    "<h2>1.1 Finding Help with the help() wrapper</h2>\n",
    "<h3>Introduction</h3>\n",
    "One of the most critical functions for programmers at all levels is the <strong>help()</strong> function. This is one of the most amazing functions ever written, and you will be using it quite often. To learn more about what it does, search <em>help</em> in the <strong>help()</strong> function (<em>Code 1.1.1</em>)."
   ]
  },
  {
   "cell_type": "markdown",
   "metadata": {
    "deletable": false,
    "editable": false,
    "run_control": {
     "frozen": true
    }
   },
   "source": [
    " "
   ]
  },
  {
   "cell_type": "code",
   "execution_count": null,
   "metadata": {
    "cell_style": "split",
    "deletable": false,
    "editable": false
   },
   "outputs": [],
   "source": [
    "## Code 1.1.1 ##\n",
    "\n",
    "help(help)"
   ]
  },
  {
   "cell_type": "markdown",
   "metadata": {
    "deletable": false,
    "editable": false,
    "run_control": {
     "frozen": true
    }
   },
   "source": [
    " "
   ]
  },
  {
   "cell_type": "markdown",
   "metadata": {
    "deletable": false,
    "editable": false,
    "run_control": {
     "frozen": true
    }
   },
   "source": [
    "<hr/><br>\n",
    "\n",
    "We call the output of *Code 1.1.1* the help function's <strong>documentation</strong>. According to the documentation for <strong>help()</strong>, there are two ways to use this function:\n",
    "* <strike>Calling help() at the Python prompt starts an interactive help session.</strike>\n",
    "* Calling help(thing) prints help for the Python object 'thing'.\n",
    "\n",
    "Notice how the first bullet point above has been stricken out. That is because we are going to <strong>avoid using interactive help for the time being</strong>. Believe it or not, interactive help sessions can (ironically) cause problems that most beginners are not ready to solve. If you are not comfortable using a command-line interface (i.e. terminal or PowerShell), avoid using interactive help. If you don't know what a command-line interface is, don't worry. For now, we are going to focus on mastering the <em>help(thing)</em> option. In <em>Code 1.1.2</em>, we are using this to check the documentation for the <em>print()</em> function.\n",
    "\n",
    "<h4>Side Note: The Challenge with Interactive Help</h4>\n",
    "After starting an interactive help session, you may run into a situation where you are unable to run any code. This is because your Python kernel is still running interactive help, and it cannot move on until you give it a command to do so. This can be done by typing <strong>quit</strong> into the help search box, but if we accidentally tried to run some code without closing interactive help, our Python kernel might get confused and need to be restarted.<br><br>\n"
   ]
  },
  {
   "cell_type": "markdown",
   "metadata": {
    "deletable": false,
    "editable": false,
    "run_control": {
     "frozen": true
    }
   },
   "source": [
    "<h3>Using help()</h3>"
   ]
  },
  {
   "cell_type": "code",
   "execution_count": null,
   "metadata": {
    "cell_style": "split",
    "deletable": false,
    "editable": false
   },
   "outputs": [],
   "source": [
    "## Code 1.1.2 ##\n",
    "\n",
    "# Starting an interactive help session\n",
    "help(print)"
   ]
  },
  {
   "cell_type": "markdown",
   "metadata": {
    "deletable": false,
    "editable": false,
    "run_control": {
     "frozen": true
    }
   },
   "source": [
    " "
   ]
  },
  {
   "cell_type": "markdown",
   "metadata": {
    "deletable": false,
    "editable": false,
    "run_control": {
     "frozen": true
    }
   },
   "source": [
    "*Code 1.1.2* generates a very manageable amount of output. Let's dissect each component piece by piece. First, let's add line numbers for easier interpretation."
   ]
  },
  {
   "cell_type": "markdown",
   "metadata": {
    "cell_style": "center",
    "deletable": false,
    "editable": false,
    "run_control": {
     "frozen": true
    }
   },
   "source": [
    "1&nbsp;&nbsp;&nbsp;|&nbsp;&nbsp;&nbsp; Help on built-in function print in module builtins:\n",
    "<br>2&nbsp;&nbsp;&nbsp;|\n",
    "<br>3&nbsp;&nbsp;&nbsp;|&nbsp;&nbsp;&nbsp; print(...)\n",
    "<br>4&nbsp;&nbsp;&nbsp;|&nbsp;&nbsp;&nbsp;\n",
    "<br>5&nbsp;&nbsp;&nbsp;|&nbsp;&nbsp;&nbsp;&nbsp;&nbsp;&nbsp; print(value, ..., sep=' ', end='\\n', file=sys.stdout, flush=False)\n",
    "<br>6&nbsp;&nbsp;&nbsp;|&nbsp;&nbsp;&nbsp;\n",
    "<br>7&nbsp;&nbsp;&nbsp;|&nbsp;&nbsp;&nbsp;&nbsp;&nbsp;&nbsp; Prints the values to a stream, or to sys.stdout by default.\n",
    "<br>8&nbsp;&nbsp;&nbsp;|&nbsp;&nbsp;&nbsp;&nbsp;&nbsp;&nbsp; Optional keyword arguments:\n",
    "<br>9&nbsp;&nbsp;&nbsp;|&nbsp;&nbsp;&nbsp;&nbsp;&nbsp;&nbsp; file:  a file-like object (stream); defaults to the current sys.stdout.\n",
    "<br>10&nbsp;|&nbsp;&nbsp;&nbsp;&nbsp;&nbsp;&nbsp; sep:   string inserted between values, default a space.\n",
    "<br>11&nbsp;|&nbsp;&nbsp;&nbsp;&nbsp;&nbsp;&nbsp; end:   string appended after the last value, default a newline.\n",
    "<br>12&nbsp;|&nbsp;&nbsp;&nbsp;&nbsp;&nbsp;&nbsp; flush: whether to forcibly flush the stream.<br>\n",
    "\n",
    "<br><br>\n",
    "<hr/>\n",
    "<br><br>"
   ]
  },
  {
   "cell_type": "markdown",
   "metadata": {
    "deletable": false,
    "editable": false,
    "run_control": {
     "frozen": true
    }
   },
   "source": [
    "<table width=\"375\" align=\"left\">\n",
    "<col width=\"25\">\n",
    "<col width=\"350\">\n",
    "    <tr>\n",
    "        <th>Line</th>\n",
    "        <th>Interpretation</th>\n",
    "    </tr>\n",
    "    <tr>\n",
    "        <td>1</td>\n",
    "        <td>States that this is a <strong>built-in function</strong>.</td>\n",
    "    </tr>\n",
    "    <tr>\n",
    "    <tr>\n",
    "        <td>3</td>\n",
    "        <td>The function being looked up.</td>\n",
    "    </tr>\n",
    "    <tr>\n",
    "        <td>5</td>\n",
    "        <td> The arguments for the function.</td>\n",
    "    </tr>   \n",
    "    <tr>\n",
    "        <td>7</td>\n",
    "        <td> Explains what the function does.</td>\n",
    "    </tr>\n",
    "    <tr>\n",
    "        <td>9-12</td>\n",
    "        <td> Explains what each argument does.</td>\n",
    "    </tr>\n",
    "</table>"
   ]
  },
  {
   "cell_type": "markdown",
   "metadata": {
    "deletable": false,
    "editable": false,
    "run_control": {
     "frozen": true
    }
   },
   "source": [
    "<h4>Line 1 - Built-in functions</h4>\n",
    "Python comes with a set of default, or <strong>built-in functions</strong>. These are also referred to as <strong>primitives</strong>, and are functions that are so important, they are available without the need to import additional packages (for an example of a package import, see <em>Code 1.1.3</em> where we import the package <em>pandas</em>). At the time of this writing, the most recent version of Python (<em>version 3.7.3</em>) has 69 built-in functions, which can be found in <a href=\"https://docs.python.org/3/library/functions.html\">the Python documentation on Built-In Functions</a>. Python also comes with a series of other built-ins. For example, <em>built-in types</em>. According <a href=\"https://docs.python.org/3/library/stdtypes.html\">to the Python documentation on Built-In Types</a>, principal built-in types include numerics, sequences, mappings, classes, instances and exceptions. Think of built-ins as the primary numbers of Python: every function can be broken down into these built-ins. Also, keep in mind that Python was designed to be used for a wide variety of programming tasks, and what is commonly used for business analytics is just one small subset. To avoid information overload, this book will primarily focus on the built-ins, functions, methods, and packages that are most relevant to our purposes. If you're not sure what a function, method, or package is, don't worry. We will go into these details in later chapters.\n",
    "\n",
    "<h4>Line 3 - The function being looked up</h4>\n",
    "As the heading implies, this line specifies what you have looked up. When we called help on the <em>print()</em> function in <em>Code 1.1.2</em>, this didn't seem to add a lot of value. However, this information becomes extremely useful in other situations, such as in <em>Code 1.1.3</em> where <em>help()</em> is being called on a user-created object. For now, don't focus on what <em>Code 1.1.2</em> is trying to do. Instead, focus on the <em>help()</em> function in the last line.\n",
    "<br><br>\n",
    "<hr style=\"height:1px;border:none;color:#333;background-color:#333;\" />"
   ]
  },
  {
   "cell_type": "markdown",
   "metadata": {
    "cell_style": "split",
    "deletable": false,
    "editable": false,
    "run_control": {
     "frozen": true
    }
   },
   "source": [
    "In <em>Code 1.1.3</em>, we created an object and called <strong>help()</strong> on it (creating objects will be covered in more detail in <strong>Chapter 2 - Printing, Dynamic Strings, and Escape Sequences</strong>. From the object's name (<em>my_list_converted</em>), it is unclear as to what this object actually is. Notice that the help function recognized that this object is a DataFrame and returned its respective documentation. This is the result when we call help on any named object. Below is a snippet of Line 3 for <em>Code 1.1.3</em><br><br>\n",
    "~~~\n",
    "class DataFrame(pandas.core.generic.NDFrame)\n",
    "~~~"
   ]
  },
  {
   "cell_type": "markdown",
   "metadata": {
    "cell_style": "split",
    "deletable": false,
    "editable": false,
    "run_control": {
     "frozen": true
    }
   },
   "source": [
    " "
   ]
  },
  {
   "cell_type": "code",
   "execution_count": null,
   "metadata": {
    "cell_style": "split",
    "deletable": false,
    "editable": false
   },
   "outputs": [],
   "source": [
    "## Code 1.1.3 ##\n",
    "\n",
    "import pandas as pd\n",
    "\n",
    "my_list = [[1, 2, 3] , [4, 5, 6]]\n",
    "\n",
    "my_list_converted = pd.DataFrame(my_list)\n",
    "\n",
    "help(my_list_converted)"
   ]
  },
  {
   "cell_type": "markdown",
   "metadata": {
    "deletable": false,
    "editable": false,
    "run_control": {
     "frozen": true
    }
   },
   "source": [
    "<hr/><br>\n",
    "<h4>Line 5 - Function Arguments</h4>\n",
    "For most functions you will encounter, arguments will come in three forms: <em>mandatory</em>, <em>optional</em>, and <em>variable</em> (also known as <em>*args</em>  and <em>**kwargs</em>). Line 5 of <em>Code 1.1.2</em> contains mandatory and optional arguments.<br><br>\n",
    "\n",
    "<div style=\"margin-left: 1em;\">\n",
    "<h4>Mandatory Arguments</h4>\n",
    "Mandatory arguments are those that do not have a default value. All mandatory arguments must be specified for a function to run. If at least one is missing, the function will throw an error. The easiest way to tell if an argument is mandatory is by checking whether or not it already has a value assigned to it, which is indicated by an equals sign. If no equals sign, then the argument is mandatory. In <em>Code 1.1.2</em>, the argument <em>value</em> is mandatory.<br>\n",
    "\n",
    "<h4>Optional Arguments</h4>\n",
    "Optional arguments have a default value, which is indicated after an equals sign. If you do not specify anything for these arguments, the default value will be used and the function will run properly. In <em>Code 1.1.2</em>, the arguments <em>sep</em>, <em>end</em>, <em>file</em>, <em>flush</em> are optional arguments.\n",
    "    \n",
    "<h4>Variable Arguments</h4>\n",
    "Variable arguments are slightly more advanced. As their name implies, they allow a function to accept a <em>variable</em> number of arguments. This may seem confusing, but the idea behind such an invention is quite remarkable. Let's say, for example, that a programmer wanted to create a function to help organize their grocery list. The programmer may do some research and come to the conclusion that most shopping trips consist of exactly three items and write a code similar to the one displayed in <em>Code 1.1.4</em>.\n",
    "    </div>\n",
    "<br><br>\n",
    "\n",
    "<hr style=\"height:1px;border:none;color:#333;background-color:#333;\" />"
   ]
  },
  {
   "cell_type": "markdown",
   "metadata": {
    "cell_style": "split",
    "deletable": false,
    "editable": false,
    "run_control": {
     "frozen": true
    }
   },
   "source": [
    "A challenge arises in that the function in <em>Code 1.1.4</em> requires exactly three items to work properly as all arguments are mandatory. In other words, each shopping list needs to be exactly three items long. Lessons from Social Life 101 have taught us that the number of items on our shopping list will vary. Therefore, the programmer needs a way to allow for this functionality. This is where variable arguments become very handy.<br><br>\n",
    "By changing the arguments to <em>*args</em> as in <em>Code 1.1.5</em>, our shopping list can be of any length. <em>**kwargs</em> is similar to <em>*args</em> in that it allows for arguments of varying length. However, it operates using keywords, which is a concept for a later chapter. <em>**kwargs</em> will become more important when we discuss dictionaries in a later chapter.\n",
    "<br>\n",
    "\n",
    "<strong>Note:</strong> Try not to get caught up in the syntax of Code 1.1.5. It will be explained in later chapters.\n",
    "\n",
    "<br>"
   ]
  },
  {
   "cell_type": "markdown",
   "metadata": {
    "cell_style": "split",
    "deletable": false,
    "editable": false,
    "run_control": {
     "frozen": true
    }
   },
   "source": [
    " "
   ]
  },
  {
   "cell_type": "code",
   "execution_count": null,
   "metadata": {
    "cell_style": "split",
    "deletable": false,
    "editable": false
   },
   "outputs": [],
   "source": [
    "## Code 1.1.4 ##\n",
    "\n",
    "def shopping_list(item_1, item_2, item_3):\n",
    "    print(\"Shopping List:\")\n",
    "    print(item_1)\n",
    "    print(item_2)\n",
    "    print(item_3)\n",
    "\n",
    "shopping_list('bananas', 'oranges', 'grapes')"
   ]
  },
  {
   "cell_type": "markdown",
   "metadata": {
    "cell_style": "split",
    "deletable": false,
    "editable": false,
    "run_control": {
     "frozen": true
    }
   },
   "source": [
    "<hr style=\"height:1px;border:none;color:#333;background-color:#333;\" />"
   ]
  },
  {
   "cell_type": "code",
   "execution_count": null,
   "metadata": {
    "cell_style": "split",
    "deletable": false,
    "editable": false
   },
   "outputs": [],
   "source": [
    "## Code 1.1.5 ##\n",
    "\n",
    "def shopping_list(*args):\n",
    "    print(\"Shopping List:\")\n",
    "    \n",
    "    for item in args:\n",
    "        print(item)\n",
    "\n",
    "shopping_list('bananas', 'oranges',\n",
    "              'grapes', 'pears', 'apples')"
   ]
  },
  {
   "cell_type": "markdown",
   "metadata": {
    "deletable": false,
    "editable": false,
    "run_control": {
     "frozen": true
    }
   },
   "source": [
    "<hr style=\"height:1px;border:none;color:#333;background-color:#333;\" /><br>\n",
    "<h4>Line 7 - What the Function Does</h4>\n",
    "Line 7 of <em>Code 1.1.2</em> states that the print function:\n",
    "<br><br><div align=\"center\"><em>\n",
    "    Prints the values to a stream, or to sys.stdout by default.\n",
    "</em><a class=\"tocSkip\"></div><br>\n",
    "The programmers designing this function decided that this was the best way to explain what the <em>print()</em> function does. To someone less technical, this explanation may do more harm than good. An important concept to keep in mind is that:\n",
    "<br><br><div align=\"center\"><strong>\n",
    "    Programmers like to write in ways that other programmers can understand.<br>If you are not a programmer, you are not their target audience.\n",
    "</strong><a class=\"tocSkip\"></div><br>\n",
    "\n",
    "This is a disadvantage for those of us that did not study software engineering or a similar subject. Luckily, there are ways to mitigate this disadvantage, which are discussed in Section 1.2. If you consider yourself to be less technical than a software engineer, please remember that as you advance in Python, your understanding of technical concepts will grow.\n",
    "#### Lines 9-12 - What each argument does.\n",
    "This section is very important as it will save you several hours of time when learning how to code. By reading and understanding the arguments, you will be able to do many things with only a handful of functions. Understanding a few functions at a detailed level is far more efficient than trying to memorize the basics of several functions. You will find that you can do more with less, and will have built a strong foundation and set good coding habits.\n",
    "\n",
    "<br><hr style=\"height:1px;border:none;color:#333;background-color:#333;\" />"
   ]
  },
  {
   "cell_type": "markdown",
   "metadata": {
    "deletable": false,
    "editable": false,
    "run_control": {
     "frozen": true
    }
   },
   "source": [
    "<h2>1.2 Code Complete in Jupyter Notebook</h2>"
   ]
  },
  {
   "cell_type": "markdown",
   "metadata": {
    "cell_style": "split",
    "deletable": false,
    "editable": false,
    "run_control": {
     "frozen": true
    }
   },
   "source": [
    "Jupyter Notebook, like many other interfaces, offers a code complete feature. This can come in very handy, and in this section we will discuss using code complete to enhance our abilities to use <em>help()</em>. This is a great way to explore a new package and develop an understanding as to its methods.<br><br>\n",
    "To activate code complete, simply start typing in a coding block and press <em><tab\\></em> on the keyboard. If this doesn't work, check your keyboard shortcuts in Jupyter's menu under <em>Help > Keyboard Shortcuts</em>. For example, if we open up a coding cell and type the letter <em>p</em>, followed by pressing <em><tab\\></em>, we get the result in <em>Figure 1.1</em>. In this case, Jupyter's code complete tool recognized the letter <em>p</em> and returned every currently-available syntax that starts with this letter."
   ]
  },
  {
   "cell_type": "markdown",
   "metadata": {
    "cell_style": "split",
    "deletable": false,
    "editable": false,
    "run_control": {
     "frozen": true
    }
   },
   "source": [
    "Much of the syntax displayed in <em>Figure 1.1</em> are beyond our current scope, but with this feature, we can dive into new packages and syntax with ease, as exemplified in <em>Figures 1.2a through 1.2d</em>.<br><br>\n",
    "<div style = \"width:image width px; font-size:80%; text-align:center;\"><img src=./images/example-chapter-1-code-complete-1.png\" width=\"100\" height=\"300\" style=\"padding-bottom:0.5em;\"> <em>Figure 1.1: Code complete results.</em></div>"
   ]
  },
  {
   "cell_type": "markdown",
   "metadata": {},
   "source": [
    " "
   ]
  },
  {
   "cell_type": "markdown",
   "metadata": {
    "cell_style": "center",
    "deletable": false,
    "editable": false,
    "run_control": {
     "frozen": true
    }
   },
   "source": [
    "<br><hr style=\"height:0.9px;border:none;color:#333;\" /><br>\n",
    "\n",
    "The steps throughout <em>Figures 1.2a through 1.2d</em> are using a technique called <strong>chaining</strong>, or linking multiple Python syntax together using a dot (i.e. a \".\"), to explore part of the <em>pandas</em> package. According to its <a href=\"https://pandas.pydata.org/\">documentation from  pydata.org</a> <em>pandas</em> is an open source, BSD-licensed library providing high-performance, easy-to-use data structures and data analysis tools for the Python programming language. It is a very powerful package for business analytics, and it is a very large. Anaconda has kindly included it in their Python 3 installation, and all we need to do is <strong>import</strong> it.\n",
    "\n",
    "<h4>Importing Packages in Python 3</h4>\n",
    "Importing packages is easy. To import pandas, we simply write: <br><br>\n",
    "\n",
    "~~~\n",
    "import pandas\n",
    "~~~\n",
    "\n",
    "<br>Conventionally, <em>pandas</em> should be imported as <em>pd</em>, so we modify the above code as follows:<br><br>\n",
    "\n",
    "~~~\n",
    "import pandas as pd\n",
    "~~~\n",
    "\n",
    "<br>We can also import specific modules and functions from a package with a minor adjustment to our syntax. For example, if we just wanted to import <strong>DataFrame</strong> (i.e. Python's version of a spreadsheet) instead of the entire <em>pandas</em> package, we could do so as follows:<br><br>\n",
    "\n",
    "~~~\n",
    "from pandas import DataFrame\n",
    "~~~\n",
    "\n",
    "<br>To illustrate the value of the line of code above: Have you ever noticed that when you get close to filling up your computer's hard drive it becomes very slow? The same concept applies to our Python environment. Every time something is imported, our Python environment slows down. This is why taking a minimalist approach by only importing what we need is a good practice. Since our current task involves exploring the <em>pandas</em> package, we will import the entire thing.\n",
    "<br><br>"
   ]
  },
  {
   "cell_type": "markdown",
   "metadata": {
    "cell_style": "split",
    "deletable": false,
    "editable": false,
    "run_control": {
     "frozen": true
    }
   },
   "source": [
    "After <em>pandas</em> has been imported (as <em>pd</em>), it becomes available in our Python environment. If we run <em>help(pd)</em>, Python will return some documentation on <em>pandas</em>. If we add a dot to our syntax and press <em>tab</em> on the keyboard as in <em>Figure 1.2(a)</em>, code complete displays all of the wonderful tools <em>pandas</em> has to offer. Some of these tools have deeper levels, including <em>np</em>, which stands for <em>numpy</em>. This is another key package for business analytics, and it is included in <em>pandas</em> (<em>pandas</em> is built on top of <em>numpy</em>).<br><br>\n",
    "    If we chain <em>np.</em> onto our code and press <em>tab</em>, code complete will display all of the wonderful tools available in this package, as in <em>Figure 1.2(b)</em>.<br><br>\n",
    "This drill-down process can continue until we are at the deepest level of a package. <em>Figure 1.2(c)</em> drills down one level deeper by chaining <em>absolute.</em> onto our code, and <em>Figure 1.2(d)</em> drills down one level deeper by chaining <em>accumulate</em>. Since there are no further levels to drill down into, code complete does not display a popup window when trying to extend the chain beyond <em>pd.np.absolute.accumulate</em>.\n",
    "\n",
    "Much of the syntax discovered in each step of this chaining example is beyond our current scope, and seeing it for the first time can be overwhelming. Keep in mind: Python was designed for a wide array of programming tasks. Having so many things pre-built and maintained is going to save you an immense amount of time without costing you a penny. This is one of the key benefits of Python as well as other open source programming languages.\n",
    "\n",
    "Below is a summary of the chaining steps:\n",
    "\n",
    "1. <em>pandas</em> was imported as <em>pd</em><div style=\"margin-bottom:0.5em;\"></div>\n",
    "2. a <em>help()</em> wrapper was created<div style=\"margin-bottom:0.5em;\"></div>\n",
    "3. Code complete was called on <em>pd.</em> to access its available syntax<div style=\"margin-bottom:0.5em;\"></div>\n",
    "4. <em>np</em> was selected, chaining together <em>pd.np</em><div style=\"margin-bottom:0.5em;\"></div>\n",
    "5. Code complete was called on <em>pd.np.</em> to access its available syntax<div style=\"margin-bottom:0.5em;\"></div>\n",
    "6. <em>absolute</em> was selected, chaining together <em>pd.np.absolute</em>.<div style=\"margin-bottom:0.5em;\"></div>\n",
    "7. Code complete was called on <em>pd.np.absolute.</em> to access its available syntax<div style=\"margin-bottom:0.5em;\"></div>\n",
    "8. <em>absolute</em> was selected, chaining together <em>pd.np.absolute.accumulate</em><div style=\"margin-bottom:0.5em;\"></div>\n",
    "<br><br>\n"
   ]
  },
  {
   "cell_type": "markdown",
   "metadata": {
    "cell_style": "split",
    "deletable": false,
    "editable": false,
    "run_control": {
     "frozen": true
    }
   },
   "source": [
    "<br><br>\n",
    "<div style = \"width:image width px; font-size:80%; text-align:center;\"><img src=./images/example-chapter-1-code-complete-2a.png width=\"200\" height=\"300\" style=\"padding-bottom:0.5em;\"> <em>Figure 1.2(a): Exploring the pandas package (1 of 4).</em></div>\n",
    "<br><br>\n",
    "\n",
    "<hr style=\"height:.9px;border:none;color:#333;background-color:#333;\" />\n",
    "<br><br>\n",
    "\n",
    "<div style = \"width:image width px; font-size:80%; text-align:center;\"><img src=./images/example-chapter-1-code-complete-2b.png width=\"200\" height=\"300\" style=\"padding-bottom:0.5em;\"> <em>Figure 1.2(b): Exploring the pandas package (2 of 4).</em></div>\n",
    "<br><br>\n",
    "\n",
    "<hr style=\"height:.9px;border:none;color:#333;background-color:#333;\" />\n",
    "\n",
    "<br><br>\n",
    "<div style = \"width:image width px; font-size:80%; text-align:center;\"><img src=./images/example-chapter-1-code-complete-2c.png width=\"200\" height=\"300\" style=\"padding-bottom:0.5em;\"> <em>Figure 1.2(c): Exploring the pandas package (3 of 4).</em></div>\n",
    "<br><br>\n",
    "\n",
    "<hr/>\n",
    "\n",
    "<br><br>\n",
    "<div style = \"width:image width px; font-size:80%; text-align:center;\"><img src=./images/example-chapter-1-code-complete-2d.png width=\"200\" height=\"300\" style=\"padding-bottom:0.5em;\"> <em>Figure 1.2(d): Exploring the pandas package (4 of 4).</em></div>\n",
    "<br><br>\n",
    "\n",
    "<hr/>\n",
    "\n",
    "<br>"
   ]
  },
  {
   "cell_type": "markdown",
   "metadata": {
    "deletable": false,
    "editable": false,
    "run_control": {
     "frozen": true
    }
   },
   "source": [
    "<em>Figure 1.3</em> displays each of these steps side-by-side. Its final code can be run in <em>Code 1.2.1</em>.\n",
    "<br><br>\n",
    "<div style = \"width:image width px; font-size:80%; text-align:center;\">\n",
    "    </div>\n",
    "\n",
    "<div style = \"width:image width px; font-size:80%; text-align:center;\">\n",
    "<img src=./images/example-chapter-1-code-complete-2a.png style=\"float: left; width: 20%; margin-right: 1%; margin-bottom: 0.5em; padding-left:0.5em;\">\n",
    "<img src=./images/example-chapter-1-code-complete-2b.png style=\"float: left; width: 20%; margin-right: 1%; margin-bottom: 0.5em; padding-left:0.5em;\">\n",
    "<img src=./images/example-chapter-1-code-complete-2c.png style=\"float: left; width: 20%; margin-right: 1%; margin-bottom: 0.5em; padding-left:0.5em;\">\n",
    "<img src=./images/example-chapter-1-code-complete-2d.png style=\"float: left; width: 20%; margin-right: 1%; margin-bottom: 0.5em; padding-left:0.5em;\">\n",
    "<p style=\"clear: both;\">\n",
    "<em>Figure 1.3: Code complete results after method chaining.</em>\n",
    "</div>\n",
    "\n",
    "<br><br><hr style=\"height:.9px;border:none;color:#333;background-color:#333;\" />"
   ]
  },
  {
   "cell_type": "code",
   "execution_count": null,
   "metadata": {
    "cell_style": "split",
    "deletable": false,
    "editable": false
   },
   "outputs": [],
   "source": [
    "## Code 1.2.1 ##\n",
    "\n",
    "import pandas as pd\n",
    "\n",
    "help(pd.np.absolute.accumulate)"
   ]
  },
  {
   "cell_type": "code",
   "execution_count": null,
   "metadata": {
    "cell_style": "split",
    "deletable": false,
    "editable": false
   },
   "outputs": [],
   "source": [
    "## Space to practice using help() ##\n",
    "\n",
    "\n",
    "\n"
   ]
  },
  {
   "cell_type": "markdown",
   "metadata": {
    "deletable": false,
    "editable": false,
    "run_control": {
     "frozen": true
    }
   },
   "source": [
    "<hr style=\"height:.9px;border:none;color:#333;background-color:#333;\" />"
   ]
  },
  {
   "cell_type": "markdown",
   "metadata": {
    "deletable": false,
    "editable": false,
    "run_control": {
     "frozen": true
    }
   },
   "source": [
    "<h2>1.3 Finding Answers on the Internet</h2>"
   ]
  },
  {
   "cell_type": "markdown",
   "metadata": {
    "deletable": false,
    "editable": false,
    "run_control": {
     "frozen": true
    }
   },
   "source": [
    "<em>Note:</em> This is by no means an exhaustive list, and there are many great resources that are not mentioned here. If you find a different resource that explains code in a way that fits well with your learning style, use it. These two resources are mentioned as I have found them incredibly helpful in my coding journey.<br>\n",
    "\n",
    "<h3>Stack Overflow</h3>\n",
    "There are many great coding resources available on the Internet. At the time of this writing, <a href=\"www.stackoverflow.com\">Stack Overflow</a> is one of the most popular. According to its website:\n",
    "<br><br><div align=\"center\"><em>\n",
    "    Stack Overflow is a question and answer site for professional and enthusiast programmers.\n",
    "</em><a class=\"tocSkip\"></a></div><br>\n",
    "In other words, Stack Overflow is a place where coders ask questions to coders. It is a wonderful place to find information to help get you through your coding challenges, and is also a place where you can post your own questions so that the coding community can help you out. This is one of the key benefits of the platform, and it is free of charge.<br>\n",
    "    \n",
    "<strong>Caution:</strong> The relevance of your search results can be hit or miss. Sometimes you will have trouble articulating your question in a way that gets good results. Other times you may find solutions to your question, but they are too complicated for your current coding ability. Every now and then, you will be more confused than when you started your search. This is normal. Keep in mind that Stack Overflow was designed so that coders could ask questions to coders, regardless of their programming level. You will find some very advanced solutions to problems that you never even knew existed. This leads us to Google, our second suggested resource.\n",
    "\n",
    "\n",
    "<h3>Working with a Search Engine</h3>\n",
    "It goes without saying that many of your coding questions can be resolved via a search engine. However, it is a good idea to reflect on why search engines are a good resource. Most notably, they allow us to ask questions the way that a human would ask them. We can use this to our advantage, thus alleviating any disadvantages we may have from not being the target audience of a programmer.\n",
    "<br><br><div align=\"center\"><strong>\n",
    "    Ask questions with a search engine the way that you would ask someone at your programming level.\n",
    "</strong><a class=\"tocSkip\"></a></div><br>\n",
    "Interestingly enough, in many cases after experiencing poor results when searching on Stack Overflow, you will find that the top search result in a search engine is a page on Stack Overflow. Think about this. Search engines were designed in a way that is friendly to humans. The search functions in Stack Overflow was designed in a way that it is friendly to programmers, which is a subset of humans with a sophisticated understanding of programming jargon. When this happens, click on the Stack Overflow page and take note of how the question was phrased. This is a good way to improve your ability to find the information you need.\n",
    "\n",
    "\n",
    "<strong>Challenge for the Reader:</strong> If you are serious about learning Python, register with Stack Overflow and start writing answers to other people's questions. This will intensify your learning speed. Stack Overflow also assists new contributors in that they let other coders know that they are new to the platform. This means that other coders will realize you are trying your best, and in most cases they will be more than willing to give you feedback.\n",
    "    \n",
    "<br><hr style=\"height:.9px;border:none;color:#333;background-color:#333;\" /><br>\n",
    "\n",
    "<h2 align=left>1.4 Talking to Humans through Comments</h2>\n",
    "    \n",
    "Even though you may have very little coding experience, try reading the following code and understanding what the programmer was trying to accomplish:\n",
    "\n",
    "<br>"
   ]
  },
  {
   "cell_type": "code",
   "execution_count": null,
   "metadata": {
    "cell_style": "center",
    "deletable": false,
    "editable": false
   },
   "outputs": [],
   "source": [
    "## Code 1.3.1 ##\n",
    "\n",
    "import pandas as pd\n",
    "\n",
    "original_df = pd.DataFrame([[None, 2, 3],\n",
    "                            [4, None, 6],\n",
    "                            [7, 8, None]])\n",
    "\n",
    "df_mean = pd.DataFrame.copy(original_df)\n",
    "\n",
    "for col in df_mean:\n",
    "    if df_mean[col].isnull().any():\n",
    "        col_mean = df_mean[col].mean()\n",
    "        df_mean[col] = df_mean[col].fillna(col_mean).round(2)"
   ]
  },
  {
   "cell_type": "markdown",
   "metadata": {
    "deletable": false,
    "editable": false,
    "run_control": {
     "frozen": true
    }
   },
   "source": [
    "<hr style=\"height:.9px;border:none;color:#333;background-color:#333;\" /><br>\n",
    "\n",
    "We will be using a slightly-modified version of this code later in this book. If you're new to coding, it can be very intimidating. We learned in <em>Section 1.1</em> that we can use the <em>help()</em> function to understand what each line of code means. This is a good idea, especially if we are planning to use this code for a similar analysis. From reading the code, however, it is difficult to intuitively understand what this code is trying to do. Wouldn't it be great if the person who wrote this code gave us some additional documentation, in human language, that outlined what was happening step-by-step?<br><br>\n",
    "\n",
    "In the coding world, we provide this additional documentation via <strong>comments</strong>. Comments allow humans to talk to other humans within their code. They are very special in that when we write them, the computer knows we are talking to other humans and ignores our writing. This gives us the freedom to write anything we need to in order to clearly explain our code to others. In this section, we will cover two of the most widely-used forms of comments:\n",
    "* hashtag comments (#)\n",
    "* triple-quote comments (\"\"\" \"\"\")\n",
    "\n",
    "<br>\n",
    "<hr style=\"height:.9px;border:none;color:#333;background-color:#333;\" />"
   ]
  },
  {
   "cell_type": "markdown",
   "metadata": {
    "cell_style": "split",
    "deletable": false,
    "editable": false,
    "run_control": {
     "frozen": true
    }
   },
   "source": [
    "<h4>Hashtag Comments (#)</h4>\n",
    "As the name implies, hashtag comments are denoted by, well, a hashtag (#). The essential purpose of hashtag comments is that they help others understand what you are doing, even if you are doing it wrong. If there is a discrepancy between your hashtag comments and your code, more experienced coders are likely to pick that up and give you feedback. If we add hashtag comments to our code, it becomes much more readable. This has been done in <em>Code 1.3.2</em>."
   ]
  },
  {
   "cell_type": "markdown",
   "metadata": {
    "cell_style": "split",
    "deletable": false,
    "editable": false,
    "run_control": {
     "frozen": true
    }
   },
   "source": [
    "<br><br><div align=\"center\"><em>\n",
    "<a href=\"https://imgflip.com/i/32441k\"><img src=\"https://i.imgflip.com/32441k.jpg\" title=\"made at imgflip.com\" width=\"250\" height=\"250\" alt=\"Game of Thrones Meme\">Created with imgflip Meme Generator.</a>\n",
    "</em><a class=\"tocSkip\"></div>"
   ]
  },
  {
   "cell_type": "markdown",
   "metadata": {
    "deletable": false,
    "editable": false,
    "run_control": {
     "frozen": true
    }
   },
   "source": [
    "<hr style=\"height:.9px;border:none;color:#333;background-color:#333;\" />"
   ]
  },
  {
   "cell_type": "code",
   "execution_count": null,
   "metadata": {
    "deletable": false,
    "editable": false
   },
   "outputs": [],
   "source": [
    "## Code 1.4.2 ##\n",
    "\n",
    "# Importing packages\n",
    "import pandas as pd  # data science essentials\n",
    "\n",
    "# Creating a DataFrame that has missing values\n",
    "original_df = pd.DataFrame([[None, 2, 3],\n",
    "                            [4, None, 6],\n",
    "                            [7, 8, None]])\n",
    "\n",
    "# Creating a copy of the original dataset so that I don't destroy the\n",
    "# original.\n",
    "# I'm planning to impute missing values on this dataset using the mean.\n",
    "# This is why I called this df_mean instead of something else.\n",
    "df_mean = pd.DataFrame.copy(original_df)\n",
    "\n",
    "# This is a loop that looks for missing values in a column.\n",
    "# For each column with missing values, use the mean to fill in the missing\n",
    "# values.\n",
    "for col in df_mean:\n",
    "    if df_mean[col].isnull().any():\n",
    "        col_mean = df_mean[col].mean()\n",
    "        df_mean[col] = df_mean[col].fillna(col_mean).round(2)"
   ]
  },
  {
   "cell_type": "markdown",
   "metadata": {
    "deletable": false,
    "editable": false,
    "run_control": {
     "frozen": true
    }
   },
   "source": [
    "<hr style=\"height:.9px;border:none;color:#333;background-color:#333;\" /><br><br>\n",
    "Although the functionality of <em>Code 1.4.2</em> is identical to <em>Code 1.4.1</em>, it is much easier to understand what each line is doing and the rationale behind why it was coded. Again, the computer does not care that these lines are here. It will see each '#' and know to skip anything on that line written after it.\n",
    "\n",
    "<h4>Stand-Alone Strings</h4>\n",
    "Now that we know Python ignores hashtags, it is not surprising that Python ignores other things as well. More accurately, there are some things that Python reads but does not know what to do with, and thus it does not affect our code. One such example is <strong>stand-alone strings</strong>. Take for example <em>Code 1.4.3</em>, which is a modified version of <em>Code 1.4.2</em>:\n",
    "\n",
    "<br><hr style=\"height:.9px;border:none;color:#333;background-color:#333;\" />"
   ]
  },
  {
   "cell_type": "code",
   "execution_count": null,
   "metadata": {
    "cell_style": "center",
    "deletable": false,
    "editable": false
   },
   "outputs": [],
   "source": [
    "# Code 1.4.3 ##\n",
    "\n",
    "# Importing packages\n",
    "import pandas as pd  # data science essentials\n",
    "\n",
    "# Creating a DataFrame that has missing values\n",
    "original_df = pd.DataFrame([[None, 2, 3],\n",
    "                            [4, None, 6],\n",
    "                            [7, 8, None]])\n",
    "\n",
    "(\"\"\"Creating a copy of the original dataset so that I don't destroy the\n",
    "   original. I'm planning to impute missing values on this dataset using the\n",
    "   mean. This is why I called this df_mean instead of something else.\"\"\")\n",
    "df_mean = pd.DataFrame.copy(original_df)\n",
    "\n",
    "(\"\"\"This is a loop that looks for missing values in a column.\n",
    "   For each column with missing values, use the mean to fill in the missing\n",
    "   values.\"\"\")\n",
    "for col in df_mean:\n",
    "    if df_mean[col].isnull().any():\n",
    "        col_mean = df_mean[col].mean()\n",
    "        df_mean[col] = df_mean[col].fillna(col_mean).round(2)"
   ]
  },
  {
   "cell_type": "markdown",
   "metadata": {
    "deletable": false,
    "editable": false,
    "run_control": {
     "frozen": true
    }
   },
   "source": [
    "<hr style=\"height:.9px;border:none;color:#333;background-color:#333;\" /><br>\n",
    "\n",
    "<h2>1.4 Talking to Humans through Comments</h2>\n",
    "Even though you may have very little coding experience, try reading the following code and understanding what the programmer was trying to accomplish:\n",
    "<br>\n",
    "Notice how in <em>Code 1.4.3</em> we replaced the longer hashtag comments with triple-quote strings. This is a way to provide comments to humans on multiple lines of code in a more readable way. Technically speaking, Python will recognize these as lines of code and then try to run them. However, since there is no <em>print()</em> wrapper around these statements and they are not assigned to objects, Python has no use for them and immediately forgets that they exist. In other words, since Python has not been instructed to do anything with the triple quote statements, it ignores them. Finally, notice also that we added parentheses around each of the triple quotes. This is a good practice as it helps to organize our code and to prevent unwanted errors.<br><br>\n",
    "<em>Note:</em> There may be a time when someone reviewing your code tells you that using stand-alone strings (i.e. strings that aren't part of an object or a <em>print()</em> statement) to make comments is a bad practice. There is some rationale to this, as since Python runs stand-alone strings as code, it takes a tiny bit longer for your code to process. In fields like algorithmic trading, \"a tiny bit longer\" can mean missed opportunities, and thus such comments should be avoided. In business analytics, however, the purpose of most analyses is to gain insights and make recommendations. This takes a thorough and thoughtful exploration of the data, as well as constant communication with stakeholders to truly understand the problem you are trying to solve. In this sense, <strong>your goal is to communicate as clearly as possible.</strong> If this is best done by using stand-alone strings, use them.<br><br>\n",
    "\n",
    "<em>Code 1.4.4(a)</em> and <em>Code 1.4.4(b)</em> demonstrate the additional processing time from the use of stand-alone strings. As can be observed, the use of stand-alone strings had a very minor, if any, impact on the processing time of our code.<br><br>\n",
    "<hr style=\"height:.9px;border:none;color:#333;background-color:#333;\" />"
   ]
  },
  {
   "cell_type": "code",
   "execution_count": null,
   "metadata": {
    "cell_style": "split",
    "deletable": false,
    "editable": false
   },
   "outputs": [],
   "source": [
    "## Code 1.4.4(a) ##\n",
    "\n",
    "import time\n",
    "start_time = time.time()\n",
    "\n",
    "# importing packages\n",
    "import pandas as pd  # data science essentials\n",
    "\n",
    "# creating a DataFrame that has missing values\n",
    "original_df = pd.DataFrame([[None, 2, 3],\n",
    "                            [4, None, 6],\n",
    "                            [7, 8, None]])\n",
    "\n",
    "\n",
    "\n",
    "\n",
    "df_mean = pd.DataFrame.copy(original_df)\n",
    "\n",
    "\n",
    "\n",
    "\n",
    "\n",
    "for col in df_mean:\n",
    "    if df_mean[col].isnull().any():\n",
    "        col_mean = df_mean[col].mean()\n",
    "        df_mean[col] = df_mean[col].fillna(col_mean).round(2)\n",
    "\n",
    "\n",
    "print(\"My program took\", time.time() - start_time, \"to run\")"
   ]
  },
  {
   "cell_type": "code",
   "execution_count": null,
   "metadata": {
    "cell_style": "split",
    "deletable": false,
    "editable": false
   },
   "outputs": [],
   "source": [
    "## Code 1.4.4(b) ##\n",
    "\n",
    "import time\n",
    "start_time = time.time()\n",
    "\n",
    "# importing packages\n",
    "import pandas as pd  # data science essentials\n",
    "\n",
    "# creating a DataFrame that has missing values\n",
    "original_df = pd.DataFrame([[None, 2, 3],\n",
    "                            [4, None, 6],\n",
    "                            [7, 8, None]])\n",
    "\n",
    "(\"\"\"Creating a copy of the original dataset so that I don't destroy the\n",
    "   original. I'm planning to impute missing values on this dataset using the\n",
    "   mean. This is why I called this df_mean instead of something else.\"\"\")\n",
    "df_mean = pd.DataFrame.copy(original_df)\n",
    "\n",
    "(\"\"\"This is a loop that looks for missing values in a column.\n",
    "   For each column with missing values, use the mean to fill in the missing\n",
    "   values.\"\"\")\n",
    "for col in df_mean:\n",
    "    if df_mean[col].isnull().any():\n",
    "        col_mean = df_mean[col].mean()\n",
    "        df_mean[col] = df_mean[col].fillna(col_mean).round(2)\n",
    "\n",
    "        \n",
    "\n",
    "print(\"My program took\", time.time() - start_time, \"to run\")"
   ]
  },
  {
   "cell_type": "markdown",
   "metadata": {
    "deletable": false,
    "editable": false,
    "run_control": {
     "frozen": true
    }
   },
   "source": [
    "<hr style=\"height:.9px;border:none;color:#333;background-color:#333;\" />"
   ]
  },
  {
   "cell_type": "markdown",
   "metadata": {
    "cell_style": "center",
    "deletable": false,
    "editable": false,
    "run_control": {
     "frozen": true
    }
   },
   "source": [
    "<h4>Side Note: Code Processing Time</h4>\n",
    "The code used to time the difference between the two codes was found via [this page on Stack Overflow](https://stackoverflow.com/questions/12444004/how-long-does-my-python-application-take-to-run). The template provided via the Stack Overflow page is shown in <em>Code 1.3.5</em>.\n",
    "<br><br>\n",
    "<hr style=\"height:.9px;border:none;color:#333;background-color:#333;\" />"
   ]
  },
  {
   "cell_type": "code",
   "execution_count": null,
   "metadata": {
    "cell_style": "center",
    "deletable": false,
    "editable": false
   },
   "outputs": [],
   "source": [
    "## Code 1.4.5 ##\n",
    "\n",
    "import time\n",
    "start_time = time.time()\n",
    "\n",
    "print(\"My program took\", time.time() - start_time, \"to run\")"
   ]
  },
  {
   "cell_type": "markdown",
   "metadata": {
    "deletable": false,
    "editable": false,
    "run_control": {
     "frozen": true
    }
   },
   "source": [
    "<hr><br>\n",
    "<h2>1.5 Summary</h2>\n",
    "\n",
    "<br>\n",
    "\n",
    "~~~\n",
    " __   __        __   __       ___                ___    __        __    /\n",
    "/  ` /  \\ |\\ | / _` |__)  /\\   |  |  | |     /\\   |  | /  \\ |\\ | /__`  / \n",
    "\\__, \\__/ | \\| \\__> |  \\ /~~\\  |  \\__/ |___ /~~\\  |  | \\__/ | \\| .__/ .  \n",
    "~~~                                                                         \n",
    "\n",
    "<br>\n",
    "\n",
    "Hats off to you for finishing the first chapter of this book. You are now ready to move forward given your understanding of:\n",
    "* finding help with the help() wrapper\n",
    "* code complete in Jupyter notebook\n",
    "* finding answers on the Internet\n",
    "* talking to humans through code comments"
   ]
  },
  {
   "cell_type": "markdown",
   "metadata": {
    "deletable": false,
    "editable": false,
    "run_control": {
     "frozen": true
    }
   },
   "source": [
    " "
   ]
  },
  {
   "cell_type": "markdown",
   "metadata": {
    "deletable": false,
    "editable": false,
    "run_control": {
     "frozen": true
    }
   },
   "source": [
    "<hr style=\"height:.9px;border:none;color:#333;background-color:#333;\" />\n",
    "<hr style=\"height:.9px;border:none;color:#333;background-color:#333;\" />\n",
    "<hr style=\"height:.9px;border:none;color:#333;background-color:#333;\" />\n",
    "<hr style=\"height:.9px;border:none;color:#333;background-color:#333;\" />\n",
    "<br>\n",
    "\n",
    "<h1><u>Chapter 2: Printing, Dynamic Strings, and Escape Sequences</u></h1>"
   ]
  },
  {
   "cell_type": "markdown",
   "metadata": {
    "deletable": false,
    "editable": false,
    "run_control": {
     "frozen": true
    }
   },
   "source": [
    "Without a doubt, <strong>print()</strong> are one of the most fundamental functions in virtually any programming language. Although it is fundamental, it is something that you absolutely need to master. This chapter is dedicated to this function, as well as other very useful tools that will prove invaluable as you move forward. More specifically, this chapter covers:\n",
    "\n",
    "* the <strong>print()</strong> function\n",
    "* objects in Python\n",
    "* working with a function's optional arguments\n",
    "* enabling and escaping the meanings of special characters\n",
    "* developing <strong>print()</strong> statements that are dynamic\n",
    "\n",
    "<hr>\n"
   ]
  },
  {
   "cell_type": "markdown",
   "metadata": {
    "deletable": false,
    "editable": false,
    "run_control": {
     "frozen": true
    }
   },
   "source": [
    "<h3>2.1 The Fundamentals of print() Statements</h3>\n",
    "Print statements are one of the most useful and fundamental operations in Python. We rarely want to print the output of every line of code that we write, and will even encounter several programs that do not print anything. The <strong>print()</strong> command helps us to manage what output gets printed, and what output should be suppressed.<br>\n",
    "\n",
    "<h4>What is printing?</h4>\n",
    "To clarify, to <em>print</em> simply means to <em>display</em>. When we call the <strong>print()</strong> function, we are telling Python to display something. When we call <strong>print()</strong> in Jupyter Notebook, by default, Python displays its results directly under the cell containing the <strong>print()</strong> statement.\n",
    "\n",
    "<h4>Basic Functionality</h4>\n",
    "There is a lot we can do with <strong>print()</strong> statements, and this section is dedicated to mastering the fundamentals. Below is a table of the syntax covered in this section:\n",
    "<br><br>\n",
    "<div style = \"width:image width px; font-size:80%; text-align:center;\">\n",
    "<table align=\"center\">\n",
    "<col width=\"100\">\n",
    "<col width=\"10\">   \n",
    "<col width=\"250\">\n",
    "    <tr>\n",
    "        <th>Syntax</th>\n",
    "        <th>    | </th>\n",
    "        <th>Description</th>\n",
    "    </tr>\n",
    "    <tr>\n",
    "        <td>print()</td>\n",
    "        <td>    | </td>\n",
    "        <td> outputs an argument to the console</td>\n",
    "    </tr>\n",
    "    <tr>\n",
    "    <tr>\n",
    "        <td>' '</td>\n",
    "        <td>    | </td>\n",
    "        <td> wrapper to print strings</td>\n",
    "    </tr>\n",
    "    <tr>\n",
    "        <td>\" \"</td>\n",
    "        <td>    | </td>\n",
    "        <td> wrapper to print strings</td>\n",
    "    </tr>   \n",
    "    <tr>\n",
    "        <td>\"\"\" \"\"\"</td>\n",
    "        <td>    | </td>\n",
    "        <td> wrapper to print strings on multiple lines</td>\n",
    "    </tr>\n",
    "    <tr>\n",
    "        <td>f\" {var} \"</td>\n",
    "        <td>    | </td>\n",
    "        <td> dynamically calls variables/objects into print strings</td>\n",
    "    </tr>\n",
    "    <tr>\n",
    "        <td>f\"\"\" {var} \"\"\"</td>\n",
    "        <td>    | </td>\n",
    "        <td> dynamically calls variables/objects into print strings on multiple lines</td>\n",
    "    </tr>\n",
    "    <tr>\n",
    "          <em>Table 2.1: Common <strong>print()</strong> statement syntax.</em>\n",
    "    </tr>\n",
    "</table></div>"
   ]
  },
  {
   "cell_type": "markdown",
   "metadata": {
    "deletable": false,
    "editable": false,
    "run_control": {
     "frozen": true
    }
   },
   "source": [
    "<hr>\n",
    "<br>\n",
    "As you can see from <em>Table 2.1</em> above, multiple wrappers are available to construct a print statement. A <strong>wrapper</strong> is, well, syntax that wraps around other syntax. For example, in the statement:<br>\n",
    "\n",
    "~~~\n",
    "print('Hello world!')\n",
    "~~~\n",
    "\n",
    "two wrappers are present (the parentheses and the quotation marks). In this section, when we say wrapper, we are referring to the style of quotation marks that is wrapped around what we intend to print.<br>"
   ]
  },
  {
   "cell_type": "markdown",
   "metadata": {
    "cell_style": "split",
    "deletable": false,
    "editable": false,
    "run_control": {
     "frozen": true
    }
   },
   "source": [
    "In <em>Codes 2.1.1(a)</em> through <em>2.1.1(c)</em>, three such methods are presented. Each of these codes results in the same output. This may have you wondering why Python 3 allows for several wrappers to do the same thing. You may also be wondering why we are learning three wrappers if each one results in the same output. There are two reasons for this:<br>\n",
    "1. <em>Hello world!</em> is a special case where all three wrapper techniques result in the same output. As we move forward, you will experience the advantages of having multiple ways to do (almost) the same thing.<br><br>\n",
    "2. You need to be capable enough to read other people's code, and they may use any combination of these wrappers."
   ]
  },
  {
   "cell_type": "markdown",
   "metadata": {
    "cell_style": "split",
    "deletable": false,
    "editable": false,
    "run_control": {
     "frozen": true
    }
   },
   "source": [
    " "
   ]
  },
  {
   "cell_type": "code",
   "execution_count": null,
   "metadata": {
    "cell_style": "split",
    "deletable": false,
    "editable": false
   },
   "outputs": [],
   "source": [
    "## Code 2.1.1(a) ##\n",
    "\n",
    "print('Hello world!')"
   ]
  },
  {
   "cell_type": "markdown",
   "metadata": {
    "cell_style": "split",
    "deletable": false,
    "editable": false,
    "run_control": {
     "frozen": true
    }
   },
   "source": [
    "  "
   ]
  },
  {
   "cell_type": "code",
   "execution_count": null,
   "metadata": {
    "cell_style": "split",
    "deletable": false,
    "editable": false
   },
   "outputs": [],
   "source": [
    "## Code 2.1.1(b) ##\n",
    "\n",
    "print(\"Hello world!\")"
   ]
  },
  {
   "cell_type": "markdown",
   "metadata": {
    "cell_style": "split",
    "deletable": false,
    "editable": false,
    "run_control": {
     "frozen": true
    }
   },
   "source": [
    "  "
   ]
  },
  {
   "cell_type": "code",
   "execution_count": null,
   "metadata": {
    "cell_style": "split",
    "deletable": false,
    "editable": false
   },
   "outputs": [],
   "source": [
    "## Code 2.1.1(c) ##\n",
    "\n",
    "print(\"\"\"Hello world!\"\"\")"
   ]
  },
  {
   "cell_type": "markdown",
   "metadata": {
    "deletable": false,
    "editable": false,
    "run_control": {
     "frozen": true
    }
   },
   "source": [
    "<hr>\n",
    "<h4>Effective Use of Print Wrappers</h4>\n",
    "Suppose we wanted to print the following two statements:\n",
    "<br><br>\n",
    "    \n",
    "~~~\n",
    "\"I told my wife that she's drawing her eyebrows too high,\" said the husband.\n",
    "~~~\n",
    "    \n",
    "~~~\n",
    "\"She looked surprised.\"\n",
    "~~~\n",
    "    \n",
    "<br>\n",
    "<em>Code 2.1.2</em> utilizes single, double, and triple quote wrappers in an attempt to print the first of these statements. Notice the differences in syntax coloring between each of these techniques. Using the single-quote wrapper, the string to be printed is cut off at the apostrophe in <em>she's</em>, and then picks up again at the end of the quote. Technically, this <strong>print()</strong> statement contains two strings: 1) <em>\"I told my wife that she</em> (wrapped in single-quotes), and 2) <em>said the husband.')</em> (starting with a double-quote but never ending). The remaining text is not recognized as a string. Although this is clearly not what we had intended, it is important to note that this print statement will fail for three reasons:"
   ]
  },
  {
   "cell_type": "markdown",
   "metadata": {},
   "source": [
    "1. The Python interpreter will reach the end of the first string and look for either a comma or a closing of the print statement. Since instead it will find the letter <em>s</em>, it does not know what to do and throws a syntax error.<div style=\"margin-bottom:0.5em;\"></div>\n",
    "2. The letter <em>s</em> (as well as the other words in-between the strings) are currently not defined as objects in our environment.<div style=\"margin-bottom:0.5em;\"></div>\n",
    "3. The second string is open. It needs to be closed with another double quote."
   ]
  },
  {
   "cell_type": "markdown",
   "metadata": {},
   "source": [
    "These \"bugs\" have been fixed in <em>Code 2.1.3</em>. Still there are much easier (and more effective) ways to solve such issues. Such remedies are offered in <em>Code 2.1.4</em>."
   ]
  },
  {
   "cell_type": "code",
   "execution_count": null,
   "metadata": {
    "deletable": false,
    "editable": false,
    "run_control": {
     "frozen": true
    }
   },
   "outputs": [],
   "source": [
    "## Code 2.1.2 ##\n",
    "\n",
    "# Single-quote wrapper\n",
    "print('\"I told my wife that she's drawing her eyebrows too high,\" said the husband.')\n",
    "\n",
    "# Double-quote wrapper\n",
    "print(\"\"I told my wife that she's drawing her eyebrows too high,\" said the husband.\")\n",
    "\n",
    "# Triple-quote wrapper\n",
    "print(\"\"\"\"I told my wife that she's drawing her eyebrows too high,\" said the husband.\"\"\")"
   ]
  },
  {
   "cell_type": "markdown",
   "metadata": {},
   "source": [
    "<hr style=\"height:.9px;border:none;color:#333;background-color:#333;\" />"
   ]
  },
  {
   "cell_type": "code",
   "execution_count": null,
   "metadata": {
    "deletable": false,
    "editable": false
   },
   "outputs": [],
   "source": [
    "## Code 2.1.3 ##\n",
    "\n",
    "# Defining objects (covered in Section 2.2)\n",
    "s        = 's'\n",
    "drawing  = 'drawing'\n",
    "her      = 'her'\n",
    "eyebrows = 'eyebrows'\n",
    "too      = 'too'\n",
    "high     = 'high'\n",
    "\n",
    "# (Mostly) Debugged single-quote wrapper\n",
    "print('\"I told my wife that she', s, drawing, her, eyebrows, too, high, \"said the husband.'\")\n"
   ]
  },
  {
   "cell_type": "markdown",
   "metadata": {
    "deletable": false,
    "editable": false,
    "run_control": {
     "frozen": true
    }
   },
   "source": [
    "<hr style=\"height:.9px;border:none;color:#333;background-color:#333;\" />"
   ]
  },
  {
   "cell_type": "code",
   "execution_count": null,
   "metadata": {
    "deletable": false,
    "editable": false
   },
   "outputs": [],
   "source": [
    "## Code 2.1.3 ##\n",
    "\n",
    "# Defining objects (covered in Section 2.2)\n",
    "s        = 's'\n",
    "drawing  = 'drawing'\n",
    "her      = 'her'\n",
    "eyebrows = 'eyebrows'\n",
    "too      = 'too'\n",
    "high     = 'high'\n",
    "\n",
    "# (Mostly) Debugged single-quote wrapper\n",
    "print('\"I told my wife that she', s, drawing, her, eyebrows, too, high, \"said the husband.'\")\n"
   ]
  },
  {
   "cell_type": "markdown",
   "metadata": {
    "deletable": false,
    "editable": false,
    "run_control": {
     "frozen": true
    }
   },
   "source": [
    "<hr style=\"height:.9px;border:none;color:#333;background-color:#333;\" />"
   ]
  },
  {
   "cell_type": "code",
   "execution_count": null,
   "metadata": {
    "deletable": false,
    "editable": false
   },
   "outputs": [],
   "source": [
    "## Code 2.1.4 ##\n",
    "\n",
    "# Single-quote wrapper with escape sequence(s) (covered in Section 2.4)\n",
    "print('\"I told my wife that she\\'s drawing her eyebrows too high,\" said the husband.')\n",
    "\n",
    "\n",
    "# Double-quote wrapper with escape sequence(s) (covered in Section 2.4)\n",
    "print(\"\\\"I told my wife that she's drawing her eyebrows too high,\\\" said the husband.\")\n",
    "\n",
    "\n",
    "# Combination of single and double quote wrappers\n",
    "print('\"I told my wife that', \"she's drawing her eyebrows too\", 'high,\" said the husband.')"
   ]
  },
  {
   "cell_type": "markdown",
   "metadata": {
    "deletable": false,
    "editable": false,
    "run_control": {
     "frozen": true
    }
   },
   "source": [
    "Success! The first line of our two statements is debugged. Now it's time to print our second statement. We could opt to write two print statements, or we could utilize the primary advantage of the triple quote wrapper, which allows us to print on multiple lines. This wrapper wrapper also simplifies debugging, as by using it our strings won't break if apostrophes or quotation marks are present. Remember, we are trying to print the following:<br><br>\n",
    "\n",
    "~~~\n",
    "\"I told my wife that she's drawing her eyebrows too high,\" said the husband.\n",
    "\n",
    "\"She looked surprised.\"\n",
    "~~~\n",
    "\n",
    "<br>Triple quote wrappers also offer the opportunity to format print layouts in a similar manner to how we would do so in Microsoft Word or a similar software. I have found that a good practice when using triple-quotes is to give structure the wrapper such that it sits on its own lines of code. This is exemplified in <em>Code 2.1.5</em>."
   ]
  },
  {
   "cell_type": "code",
   "execution_count": null,
   "metadata": {
    "deletable": false,
    "editable": false,
    "run_control": {
     "frozen": true
    }
   },
   "outputs": [],
   "source": [
    "## Code 1.2.5 ##\n",
    "\n",
    "print(\n",
    "\"\"\"\n",
    "\"I told my wife that she's drawing her eyebrows too high,\" said the husband.\n",
    "\n",
    "\"She looked surprised.\"\n",
    "\"\"\")"
   ]
  },
  {
   "cell_type": "markdown",
   "metadata": {
    "deletable": false,
    "editable": false,
    "run_control": {
     "frozen": true
    }
   },
   "source": [
    "<br>The structure of <em>Code 1.2.5</em> allows for creative customization of our print statement. Below is an open coding block for you to experiment with different spacing.<br><br>"
   ]
  },
  {
   "cell_type": "code",
   "execution_count": null,
   "metadata": {},
   "outputs": [],
   "source": [
    "## Code 1.2.6 ##\n",
    "\n",
    "print(\n",
    "\"\"\"\n",
    "\"I told my wife that she's drawing her eyebrows too high,\" said the husband.\n",
    "\n",
    "\"She...\n",
    "            looked...\n",
    "                        surprised.\"\n",
    "\"\"\")"
   ]
  },
  {
   "cell_type": "markdown",
   "metadata": {
    "deletable": false,
    "editable": false,
    "run_control": {
     "frozen": true
    }
   },
   "source": [
    "<hr style=\"height:.9px;border:none;color:#333;background-color:#333;\" />"
   ]
  },
  {
   "cell_type": "markdown",
   "metadata": {
    "cell_style": "split",
    "deletable": false,
    "editable": false,
    "run_control": {
     "frozen": true
    }
   },
   "source": [
    "<h4>Printing v. Sample Outputs</h4>\n",
    "Notice that in <em>Code 2.1.1(d)</em>, we simply ran 'Hello world!' without a <strong>print()</strong> wrapper. At first glance, it appears that we have attained the same result as in <em>Codes 2.1.1(a) through 2.1.1(c)</em>. However, notice what happens when we add additional syntax to our code block, as in <em>Code 2.1.2</em>. Ah ha! Now things are different! Instead of outputting <em>Hello world!</em>, Python decided to output the result of *1 + 1*. In other words, Python outputted the final line of code that it processed.<br><br><strong>Outputting is not the same as printing!</strong> If we created a program consisting just the two lines of code in <em>Code 2.1.2</em>, the program would run behind the scenes and not generate any output. Jupyter Notebook, in a way, is doing us a favor by showing us some sort of output. However, we need to be mindful that we do not confuse this with something being printed.\n",
    "\n",
    "To make things more interesting, let's see what happens when we add a print wrapper around <em>'Hello world!'</em> and keep the other lines of code the same (<em>Code 2.1.3</em>). In this code block, <em>Hello world!</em> printed (i.e. appeared on our visual interface) and the result of the calculation <em>1 + 1</em> also appeared. As you may have imagined, if we add any lines of code under <em>1 + 1</em>, this output will no longer show up (<em>Code 2.1.4</em>). This is exactly why we have <strong>print()</strong> statements!<br><br><em>Code 2.1.5</em>, contains three separate print statements. Wouldn't it be more efficient to combine these into one print statement? This is possible, as the <strong>print()</strong> statement was designed to handle multiple arguments. For example, in <em>Code 2.1.6</em>, we are saving different parts of our <em>Hello world!</em> statement as objects. When we wrap a <strong>print()</strong> statement around these objects, separating them with a comma, Python returns all of our arguments compiled into one result.<br><br>"
   ]
  },
  {
   "cell_type": "markdown",
   "metadata": {
    "cell_style": "split",
    "deletable": false,
    "editable": false,
    "run_control": {
     "frozen": true
    }
   },
   "source": [
    " "
   ]
  },
  {
   "cell_type": "code",
   "execution_count": null,
   "metadata": {
    "cell_style": "split",
    "deletable": false,
    "editable": false
   },
   "outputs": [],
   "source": [
    "## Code 2.1.1(d) ##\n",
    "\n",
    "'Hello world!'"
   ]
  },
  {
   "cell_type": "markdown",
   "metadata": {
    "cell_style": "split",
    "deletable": false,
    "editable": false,
    "run_control": {
     "frozen": true
    }
   },
   "source": [
    " "
   ]
  },
  {
   "cell_type": "code",
   "execution_count": null,
   "metadata": {
    "cell_style": "split",
    "deletable": false,
    "editable": false
   },
   "outputs": [],
   "source": [
    "## Code 2.1.2 ##\n",
    "\n",
    "'Hello world!'\n",
    "\n",
    "1 + 1"
   ]
  },
  {
   "cell_type": "markdown",
   "metadata": {
    "cell_style": "split",
    "deletable": false,
    "editable": false,
    "run_control": {
     "frozen": true
    }
   },
   "source": [
    " "
   ]
  },
  {
   "cell_type": "code",
   "execution_count": null,
   "metadata": {
    "cell_style": "split",
    "deletable": false,
    "editable": false
   },
   "outputs": [],
   "source": [
    "## Code 2.1.3 ##\n",
    "\n",
    "print('Hello world!')\n",
    "\n",
    "1 + 1"
   ]
  },
  {
   "cell_type": "markdown",
   "metadata": {
    "cell_style": "split",
    "deletable": false,
    "editable": false,
    "run_control": {
     "frozen": true
    }
   },
   "source": [
    " "
   ]
  },
  {
   "cell_type": "code",
   "execution_count": null,
   "metadata": {
    "cell_style": "split",
    "deletable": false,
    "editable": false
   },
   "outputs": [],
   "source": [
    "## Code 2.1.4 ##\n",
    "\n",
    "print('Hello world!')\n",
    "\n",
    "1 + 1\n",
    "\n",
    "2 + 2"
   ]
  },
  {
   "cell_type": "markdown",
   "metadata": {
    "cell_style": "split",
    "deletable": false,
    "editable": false,
    "run_control": {
     "frozen": true
    }
   },
   "source": [
    " "
   ]
  },
  {
   "cell_type": "code",
   "execution_count": null,
   "metadata": {
    "cell_style": "split",
    "deletable": false,
    "editable": false
   },
   "outputs": [],
   "source": [
    "## Code 2.1.5 ##\n",
    "\n",
    "print('Hello world!')\n",
    "\n",
    "print(1 + 1)\n",
    "\n",
    "print(2 + 2)"
   ]
  },
  {
   "cell_type": "markdown",
   "metadata": {
    "cell_style": "center",
    "deletable": false,
    "editable": false,
    "run_control": {
     "frozen": true
    }
   },
   "source": [
    "<hr style=\"height:.9px;border:none;color:#333;background-color:#333;\" /><br>\n",
    "\n",
    "<h3>2.2 Defining Objects</h3>\n",
    "Several new things have happened in <em>Code 2.1.6</em>, including the declaration of three objects (part_1, part_2, and part_3). A good way to think of an object in Python is to think of a suitcase, or better yet, a magic suitcase.<br><br>\n",
    "Have you ever flown on an airplane where bringing any luggage other than a carry-on bag was prohibitively expensive (maybe even to the point where the baggage fee was higher than the cost of the actual suitcase you were trying to bring)? Have you, or someone you know, ever tried to avoid any additional baggage fees by filling your carry-on so full that you had to sit on it to get it to close? Have you ever experienced a situation where so many passengers had carry-on bags that there was not enough room in the overhead bins and someone had to put their bag under the plane, thus defeating the purpose of carry-on? If you said \"yes\" to any of these questions, I feel your pain. If we met in real life, I imagine we could have a detailed conversation on how we would change airline luggage policies if we were in power.<br><br>\n",
    "However, what if instead of focusing on the airlines, we focused on the luggage itself? What if we sat down together and invented a suitcase that would adapt in size based on the amount of things you put into it? What if this suitcase could also magically disappear when you put it in the overhead bin, and would reappear only when you needed it? We would probably need to label our luggage very well so that it doesn't get confused with someone else's, but imagine how much more pleasant air travel would be if such magic suitcases existed.<br><br><strong>Objects in Python can be thought of as magic suitcases.</strong> They automatically adapt in size, meaning they are exactly as large as they need to be, and no larger. They can also store anything that needs to be stored, and exist only when they are told to exist. They need to be labeled very clearly, as no two objects can have the same name, and object names should be intuitive enough so that we know what's being stored inside them. There are a few rules to naming objects in Python which can be found in <a href=\"https://docs.python.org/3/reference/lexical_analysis.html\">Section 2.3 of the official Python documentation</a>: object names can contain <em>\"the uppercase and lowercase letters A through Z, the underscore _ and, except for the first character, the digits 0 through 9.\"</em>\n",
    "\n",
    "<br><br>\n",
    "<hr style=\"height:.9px;border:none;color:#333;background-color:#333;\" /><br>"
   ]
  },
  {
   "cell_type": "markdown",
   "metadata": {
    "cell_style": "split",
    "deletable": false,
    "editable": false,
    "run_control": {
     "frozen": true
    }
   },
   "source": [
    "<h3>2.3 Working with Optional Arguments</h3>\n",
    "\n",
    "If you look closely at the result in <em>Code 2.3.1</em>, it is clear that a space has been added between <em>world</em> and the exclamation point. This is because the <strong>print()</strong> statement has an optional argument called <strong>sep</strong>, which stands for separator and has a default value of a single space. If you were unaware of this optional argument, please reference the <strong>help()</strong> documentation for the <strong>print()</strong> statement. If you have no idea how to do this, or are unsure what an optional argument is, please reference the content in <strong>Chapter 1: Before Learning Anything Else, Learn This</strong>.<br><br>\n",
    "We can alter this argument by overriding its default value (i.e. setting <em>sep</em> equal to something other than ' ' (space)). This has been done in <em>Code 2.3.2</em>. There is no virtually limit to the way we can separate our <strong>print()</strong> statements. We can also override the default value for the <strong>end</strong> argument, which by default is set to start a new line after each individual <strong>print()</strong> statement. An example of this has been done in <em>Code 2.3.3</em>. In this code, the two print statements end with a <em><tab\\></em> and an arrow ( --> ), respectively. Overriding optional arguments emphasizes a critical coding practice:<br><br><br>\n",
    "    <div align=\"center\"><strong>\n",
    "    Read the documentation.\n",
    "        </strong><a class=\"tocSkip\"></a></div><br>\n",
    "\n",
    "Short, simple and sweet. Reading a function's documentation (i.e. its <em>help()</em> files and what's officially posted by the <a href=\"https://www.python.org/\">Python Software Foundation</a> is the best method to understand what a function is capable of doing. Regardless of the coding language you are trying to learn:<br><br><br>\n",
    "\n",
    "<div align=\"center\"><strong>\n",
    "    It is better to learn how to do fifty things with one function than to try and learn fifty functions that do relatively the same thing.\n",
    "    </strong><a class=\"tocSkip\"></a></div><br>\n",
    "\n",
    "This is a philosophy that I live by. Keep this in mind, and take your time to read the documentation and play with the tools you are discovering."
   ]
  },
  {
   "cell_type": "markdown",
   "metadata": {
    "cell_style": "split",
    "deletable": false,
    "editable": false,
    "run_control": {
     "frozen": true
    }
   },
   "source": [
    "<br><br>"
   ]
  },
  {
   "cell_type": "code",
   "execution_count": null,
   "metadata": {
    "cell_style": "split",
    "deletable": false,
    "editable": false
   },
   "outputs": [],
   "source": [
    "## Code 2.3.1 ##\n",
    "\n",
    "part_1 = 'Hello'\n",
    "part_2 = 'world'\n",
    "part_3 = '!'\n",
    "\n",
    "print(part_1, part_2, part_3)"
   ]
  },
  {
   "cell_type": "markdown",
   "metadata": {
    "cell_style": "split",
    "deletable": false,
    "editable": false,
    "run_control": {
     "frozen": true
    }
   },
   "source": [
    " "
   ]
  },
  {
   "cell_type": "code",
   "execution_count": null,
   "metadata": {
    "cell_style": "split",
    "deletable": false,
    "editable": false
   },
   "outputs": [],
   "source": [
    "## Code 2.3.2 ##\n",
    "\n",
    "part_1 = 'Hello'\n",
    "part_2 = 'world'\n",
    "part_3 = '!'\n",
    "\n",
    "print(part_1, part_2, part_3,\n",
    "      sep = '') # no space\n",
    "\n",
    "print(part_1, part_2, part_3,\n",
    "      sep = '---') # dashes\n",
    "\n",
    "print(part_1, part_2, part_3,\n",
    "      sep = '<-_*>') # being creative"
   ]
  },
  {
   "cell_type": "markdown",
   "metadata": {
    "cell_style": "split",
    "deletable": false,
    "editable": false,
    "run_control": {
     "frozen": true
    }
   },
   "source": [
    " "
   ]
  },
  {
   "cell_type": "code",
   "execution_count": null,
   "metadata": {
    "cell_style": "split",
    "deletable": false,
    "editable": false
   },
   "outputs": [],
   "source": [
    "## Code 2.3.3 ##\n",
    "\n",
    "part_1 = 'Hello'\n",
    "part_2 = 'world'\n",
    "part_3 = '!'\n",
    "\n",
    "print(part_1, part_2, part_3,\n",
    "      sep = ' ',\n",
    "      end = '\\t')\n",
    "\n",
    "print(part_1, part_2, part_3,\n",
    "      sep = ' ',\n",
    "      end = ' --> ')\n",
    "\n",
    "print(part_1, part_2, part_3,\n",
    "      sep = ' ',\n",
    "      end = ' <THE END> ')"
   ]
  },
  {
   "cell_type": "markdown",
   "metadata": {
    "deletable": false,
    "editable": false,
    "run_control": {
     "frozen": true
    }
   },
   "source": [
    "<hr style=\"height:.9px;border:none;color:#333;background-color:#333;\" /><br>\n",
    "<h3>2.4 Escape Sequences</h3>\n",
    "By now, you have been working with several characters in Python that have special meanings ( <em>'</em> , <em>#</em> , <em>\"</em> , etc.). Such characters are appropriately named <strong>special characters</strong>. Oftentimes, we want to drop the special meaning of a character and use it as text. At other times, we want to take a character that Python normally interprets are text and activate its special meaning. If you're confused, have no fear. There is one simple tool to understand and everything else will come with practice. Essentially, Python has a built in character that we can think of as a light switch: it's job is to turn on or turn off the meaning of special characters.\n",
    "\n",
    "<h4>Backslash ( \\ ), the Light Switch for Special Characters</h4>\n",
    "In <em>Code 2.1.4</em>, we initiated an escape sequence using a backslash to turn off the special meaning of the apostrophe character ( <em>'</em> ). By placing a backslash immediately before any such character, Python will ignore its special meaning and interpret it as text. Likewise, the default interpretation of some characters is text, and placing a backslash immediately before such characters activates a special meaning. <em>Table 2.2</em> displays some of the most commonly used escape sequences and special meanings for our current level of programming. A complete list can be found in <a href=\"https://docs.python.org/3/reference/lexical_analysis.html\">the official Python documentation</a>.\n",
    "\n",
    "<br><br>\n",
    "<div style = \"width:image width px; font-size:80%; text-align:center;\">\n",
    "<table align=\"center\">\n",
    "<col width=\"100\">\n",
    "<col width=\"10\">   \n",
    "<col width=\"400\">\n",
    "    <tr>\n",
    "        <th>Sequence</th>\n",
    "        <th>    | </th>\n",
    "        <th>Description</th>\n",
    "    </tr>\n",
    "    <tr>\n",
    "        <td> \\\\ </td>\n",
    "        <td>    | </td>\n",
    "        <td> escapes the special meaning of the backslash ( / )</td>\n",
    "    </tr>\n",
    "    <tr>\n",
    "    <tr>\n",
    "        <td> \\' </td>\n",
    "        <td>    | </td>\n",
    "        <td> escapes the special meaning of the single quote wrapper </td>\n",
    "    </tr>\n",
    "    <tr>\n",
    "        <td> \\\" </td>\n",
    "        <td>    | </td>\n",
    "        <td> escapes the special meaning of the double quote wrapper </td>\n",
    "    </tr>   \n",
    "    <tr>\n",
    "        <td> \\n </td>\n",
    "        <td>    | </td>\n",
    "        <td> activates the special meaning of 'n' (new line) </td>\n",
    "    </tr>\n",
    "    <tr>\n",
    "        <td> \\t </td>\n",
    "        <td>    | </td>\n",
    "        <td> activates the special meaning of 't' (horizonal tab) </td>\n",
    "    </tr>\n",
    "    <tr>\n",
    "          <em>Table 2.2: Common escape sequences.\n",
    "    </tr>\n",
    "</table></div>\n",
    "\n",
    "<br>\n",
    "\n",
    "<hr style=\"height:.9px;border:none;color:#333;background-color:#333;\" /><br>"
   ]
  },
  {
   "cell_type": "markdown",
   "metadata": {
    "cell_style": "split",
    "deletable": false,
    "editable": false,
    "run_control": {
     "frozen": true
    }
   },
   "source": [
    "<h4>Emojis work in the same way.</h4>\n",
    "If you're having trouble with the concept of special characters, think of emojis. <em>Figure 1.3</em> is a screen shot of a conversation I was having with myself in WeChat. That may seem like an odd thing to do, but let's look past this weirdness for the time being and talk about the special meaning of the string \"Python\" in the text.<br><br>\n",
    "\n",
    "As can be observed, when \"Python\" is typed, a special character pops up in one of the predictive text boxes. In this case, it is an emoji that looks like a snake. The same occurs when we type smile, ball, fish, or any of several other strings or phrases. In essence, WeChat is recognizing that the string we have typed can have more than one meaning and is giving us options to choose from. If we hit the <em>Send</em> button, WeChat will make a decision on which meaning to use. Sometimes, programs like WeChat will auto-correct our spelling. This enhanced functionality also utilizes the concept of default values.<br><br>\n",
    "Like WeChat, Python 3 makes several decisions based on default values. Unlike WeChat, however, it does not give options when a character has more than one meaning. Instead, each special character has a default value that can be overridden. This much like the optional arguments covered in <strong>Section 1.1 of Chapter 1 - Setting Up for Success</strong>. Our light switch (a.k.a. the backslash) allows us to override/activate special characters.<br><br>"
   ]
  },
  {
   "cell_type": "markdown",
   "metadata": {
    "cell_style": "split",
    "deletable": false,
    "editable": false,
    "run_control": {
     "frozen": true
    }
   },
   "source": [
    "<br><br>\n",
    "<div style = \"width:image width px; font-size:80%; text-align:center;\"><img src=./Images/chapter-2-emoji_python.jpg width=\"150\" height=\"200\" style=\"padding-bottom:0.5em;\"> <em>Figure 1.4: Python emoji example in WeChat</em></div>"
   ]
  },
  {
   "cell_type": "markdown",
   "metadata": {
    "cell_style": "split",
    "deletable": false,
    "editable": false,
    "run_control": {
     "frozen": true
    }
   },
   "source": [
    "<br><br>\n",
    "<div style = \"width:image width px; font-size:80%; text-align:center;\"><img src=./Images/chapter-2-emoji_smile.jpg width=\"150\" height=\"200\" style=\"padding-bottom:0.5em;\"> <em>Figure 1.5: Smile emoji example in WeChat</em></div>"
   ]
  },
  {
   "cell_type": "markdown",
   "metadata": {
    "deletable": false,
    "editable": false,
    "run_control": {
     "frozen": true
    }
   },
   "source": [
    "<hr style=\"height:.9px;border:none;color:#333;background-color:#333;\" />"
   ]
  },
  {
   "cell_type": "markdown",
   "metadata": {
    "deletable": false,
    "editable": false,
    "run_control": {
     "frozen": true
    }
   },
   "source": [
    "<h3>2.5 Dynamic Strings</h3>\n",
    "\n",
    "Up to this point, all of our strings have been static in that their components have been fixed. Given this, it would be incredibly hard to design even a simple program, such as one to tell us what time it is. This can be addressed with the use of <strong>dynamic strings</strong>, also known as formatted strings or f-strings. A <strong>dynamic string</strong> is a string that contains objects (i.e. variables) or calculations. If the string's variables get updated, the string will adapt. These can come in very handy in several applications, such as dynamic reports, dashboards, personalized emails, and much more.<br><br>\n",
    "<em>Code 2.5.1</em> contains a basic program designed to tell us the current time. When I wrote this program, the current time was 19:51. As one can imagine, this is only useful in a very limited context. Functionally, <em>Code 2.5.2</em> is equally useless, but exemplifies how to convert a standard <em>print()</em> statement into one that is dynamic. As of right now, <em>Code 2.5.2</em> creates no benefit beyond what is offered in <em>Code 2.5.1</em>, but it is one step closer to developing the program we intend to create.<br><br>"
   ]
  },
  {
   "cell_type": "code",
   "execution_count": null,
   "metadata": {
    "cell_style": "split",
    "deletable": false,
    "editable": false
   },
   "outputs": [],
   "source": [
    "## Code 2.5.1 ##\n",
    "\n",
    "time = '19:51'\n",
    "\n",
    "print('The time is:', time)"
   ]
  },
  {
   "cell_type": "code",
   "execution_count": null,
   "metadata": {
    "cell_style": "split",
    "deletable": false,
    "editable": false
   },
   "outputs": [],
   "source": [
    "## Code 2.5.2 ##\n",
    "\n",
    "time = '19:51'\n",
    "\n",
    "print(f'The time is: {time}')"
   ]
  },
  {
   "cell_type": "markdown",
   "metadata": {
    "deletable": false,
    "editable": false,
    "run_control": {
     "frozen": true
    }
   },
   "source": [
    "<br><br>\n",
    "To develop the <em>time</em> object into one that varies based on the current time, we need to get into some code that can seem intimidating. However, this code (presented in <em>Code 2.5.3</em>) utilizes a very useful technique called <strong>method chaining</strong>.\n",
    "<br><br>"
   ]
  },
  {
   "cell_type": "code",
   "execution_count": null,
   "metadata": {
    "deletable": false,
    "editable": false
   },
   "outputs": [],
   "source": [
    "## Code 2.5.3 ##\n",
    "\n",
    "# Importing datetime (where a function for the current time exists)\n",
    "import datetime\n",
    "\n",
    "# Method chaining\n",
    "time = str(datetime.datetime.now().strftime(\"%H:%M\"))\n",
    "\n",
    "# Printing the result\n",
    "print(f'The time is: {time}')"
   ]
  },
  {
   "cell_type": "markdown",
   "metadata": {
    "deletable": false,
    "editable": false,
    "run_control": {
     "frozen": true
    }
   },
   "source": [
    "<hr style=\"height:.9px;border:none;color:#333;background-color:#333;\" />\n",
    "\n",
    "Let's dissect <em>Code 2.5.3</em> piece by piece:<br><br>\n",
    "\n",
    "~~~\n",
    "1  |  ## Code 2.5.3 ##\n",
    "2  |  \n",
    "3  |  import datetime\n",
    "4  |  \n",
    "5  |  time = str(datetime.datetime.now().strftime(\"%H:%M\"))\n",
    "6  |  \n",
    "7  |  print(f'The time is: {time}')\n",
    "~~~\n",
    "\n",
    "<br><h4>Line 3 - Importing datetime</h4>\n",
    "\n",
    "The <em>datetime</em> package contains a number of useful functions for, well, manipulating dates and times. <strong>You are not expected to memorize every detail of the <em>datetime</em> package.</strong> Many packages have an incredible amount of methods embedded inside of them, and you will learn more about various methods as encounter new situations along your coding journey. Our present situation requires us to find a method that returns the current time.\n",
    "\n",
    "<h4>Line 5 - Method Chaining</h4>\n",
    "After importing <em>datetime</em>, we need to access the method <em>now()</em> that returns the current time. How did I know about this method? I searched on Google and noticed <a href=https://stackoverflow.com/questions/415511/how-to-get-the-current-time-in-python>this Stack Overflow thread</a> in the search results. This method is deep within datetime, hence all of the dots (' . ') being used to access it. When we call <em>now()</em>, it returns the exact current time, including the year, month, day, hour, minute, second, and microsecond. This is more detail than we need to develop our program, but we are on the right track. The method after the next dot (<em>strftime</em>) allows us to dissect the result of <em>now()</em> so that it only returns the current hour and minute. Through this process, we have successfully created a program to tell us the current time!<br><br>\n",
    "The process of linking methods together using dots is a technique called <strong>method chaining</strong>. It is similar to the chaining technique used in <strong>Section 1.1 of Chapter 1 - Setting Up for Success</strong>, and is extremely common in Python programming for business analytics. We will learn more about this in later chapters.\n",
    "\n",
    "<h4>Line 7 - Printing the Result</h4>\n",
    "Dynamic strings can be created in one of two ways. In <em>Code 2.5.3</em>, the letter 'f' that is placed immediately before the string in the <em>print()</em> statement tells Python that this code is meant to be dynamic. Objects to be referenced in dynamic strings need to be placed between curly brackets {}. Any time Python sees a set of curly brackets in a dynamic string, it treats whatever is inside as its own line of code. The second method for creating dynamic strings is the .format method, which can be found in <a href=\"https://docs.python.org/3.4/library/string.html\">Section 6.1.2 of the Python documentation</a>.\n",
    "    \n",
    "    \n",
    "<strong>Side Note:</strong> If you're trying to print curly brackets in a dynamic string, remember that you can use the backslash to escape special characters.<br><br>"
   ]
  },
  {
   "cell_type": "markdown",
   "metadata": {
    "deletable": false,
    "editable": false,
    "run_control": {
     "frozen": true
    }
   },
   "source": [
    "<hr style=\"height:.9px;border:none;color:#333;background-color:#333;\" /><br>\n",
    "\n",
    "<h4>The Advantage of Dynamic Strings</h4>\n",
    "\n",
    "Dynamic strings allow for more than just the inclusion of objects. They also allow programmers to:\n",
    "* create less objects, thus enhancing the speed of our working environment\n",
    "* better control the formatting of strings\n",
    "<br>\n",
    "\n",
    "<strong>Section 1.2 of Chapter 1 - Setting Up for Success</strong> discussed how our working environment gets slower as more objects and packages get loaded. Therefore, it is beneficial to minimize the amount of objects we create. <em>Code 2.5.4</em> is an adaptation of our program in which no objects are created. Instead, code for the <em>time</em> object has been embedded withing the dynamic string. These minor enhancements can add up to a massive difference!<br><br>"
   ]
  },
  {
   "cell_type": "code",
   "execution_count": null,
   "metadata": {
    "deletable": false,
    "editable": false
   },
   "outputs": [],
   "source": [
    "## Code 2.5.4 ##\n",
    "\n",
    "# Importing datetime (where a function for the current time exists)\n",
    "import datetime\n",
    "\n",
    "# Method chaining and printing\n",
    "print(f'The time is: {datetime.datetime.now().strftime(\"%H:%M\")}')"
   ]
  },
  {
   "cell_type": "markdown",
   "metadata": {
    "deletable": false,
    "editable": false,
    "run_control": {
     "frozen": true
    }
   },
   "source": [
    "<br>\n",
    "<h4>Dynamic Strings and Triple-Quotes</h4>\n",
    "\n",
    "Things start to get really interesting when we combine dynamic strings with triple quotes, allowing for the inclusion of objects formatted to our specifications. Below is an adapted version of <em>Code 2.5.4</em> that utilizes these two powerful tools.\n",
    "\n",
    "To emphasize this, the focus of Interactive Workbook 1 is to create a dynamic report using this technique.<br><br><br>"
   ]
  },
  {
   "cell_type": "code",
   "execution_count": null,
   "metadata": {
    "deletable": false,
    "editable": false
   },
   "outputs": [],
   "source": [
    "## Code 2.5.5 ##\n",
    "\n",
    "# Importing datetime (where a function for the current time exists)\n",
    "import datetime\n",
    "\n",
    "# Formatted Method chaining and printing\n",
    "print(\n",
    "f\"\"\"\n",
    "**********************************************************************\n",
    "\n",
    "Today is {datetime.datetime.now().strftime(\"%A, %B %d\")}\n",
    "\n",
    "The current time is {datetime.datetime.now().strftime(\"%H:%M\")}\n",
    "\n",
    "                        Have a nice day! :)\n",
    "\n",
    "**********************************************************************\n",
    "\"\"\")"
   ]
  },
  {
   "cell_type": "markdown",
   "metadata": {
    "deletable": false,
    "editable": false,
    "run_control": {
     "frozen": true
    }
   },
   "source": [
    "<hr style=\"height:.9px;border:none;color:#333;background-color:#333;\" /><br>\n",
    "<h2>2.6 Summary</h2>\n",
    "\n",
    "<br>\n",
    "\n",
    "~~~\n",
    "\n",
    " dP\"\"b8 88\"\"Yb 888888    db    888888      88888  dP\"Yb  88\"\"Yb d8b \n",
    "dP   `\" 88__dP 88__     dPYb     88           88 dP   Yb 88__dP Y8P \n",
    "Yb  \"88 88\"Yb  88\"\"    dP__Yb    88       o.  88 Yb   dP 88\"\"Yb `\"' \n",
    " YboodP 88  Yb 888888 dP\"\"\"\"Yb   88       \"bodP'  YbodP  88oodP (8) \n",
    "\n",
    "~~~                                                                         \n",
    "\n",
    "<br>You're two chapters deep! Now that we've covered some of the basics, it's time to move into some syntax that is a bit more interesting. By the time you finish the next chapter, you will be ready to build a basic application that interacts with users!\n",
    "\n",
    "The next chapter will build upon this one, and help solidify your understanding of:\n",
    "* the <strong>print()</strong> function\n",
    "* objects in Python\n",
    "* working with a function's optional arguments\n",
    "* enabling and escaping the meanings of special characters\n",
    "* developing <strong>print()</strong> statements that are dynamic"
   ]
  },
  {
   "cell_type": "markdown",
   "metadata": {
    "deletable": false,
    "editable": false,
    "run_control": {
     "frozen": true
    }
   },
   "source": [
    " "
   ]
  },
  {
   "cell_type": "markdown",
   "metadata": {},
   "source": [
    "<hr style=\"height:.9px;border:none;color:#333;background-color:#333;\" />\n",
    "<hr style=\"height:.9px;border:none;color:#333;background-color:#333;\" />\n",
    "<hr style=\"height:.9px;border:none;color:#333;background-color:#333;\" />\n",
    "<hr style=\"height:.9px;border:none;color:#333;background-color:#333;\" />\n",
    "<br>\n",
    "\n",
    "<h1><u>"
   ]
  },
  {
   "cell_type": "markdown",
   "metadata": {},
   "source": [
    "<h1><u>Chapter 3: Interacting with Users and Variable Types</u></h1>\n",
    "\n",
    "Now that we have an understanding of printing and formatting, it's time to develop our way towards interacting with users. More specifically, this chapter focuses on syntax that allows users to <strong>input()</strong> information that can be used in our programs. This functionality is quite extraordinary as it grants us the ability to collect information and personalize the user experience accordingly.\n",
    "<br><br>After completing this chapter, you will be ready to build a basic application that interacts with users. Thus, this chapter concludes with a project that does just that. To get there, we will cover:\n",
    "* prompting users for input\n",
    "* converting object types\n",
    "* writing more efficient code\n",
    "<br><br>\n",
    "\n",
    "<strong>Note:</strong> In <strong>Chapter 1 - Before Learning Anything Else, Learn This</strong>, it was mentioned that interactive help sessions can cause problems that most beginners are not ready to solve. This is due to the <em>interactivity</em> of interactive <strong>help()</strong>, as while this is running, your Python <a href=\"https://ipython.org/ipython-doc/dev/development/kernels.html\">kernel</a> cannot move on to process other code. In this chapter, we will learn what to do in such situations.\n",
    "\n",
    "<br><hr style=\"height:.9px;border:none;color:#333;background-color:#333;\" />"
   ]
  },
  {
   "cell_type": "markdown",
   "metadata": {
    "deletable": false,
    "editable": false,
    "run_control": {
     "frozen": true
    }
   },
   "source": [
    "<h2>3.1 Prompting Users</h2>\n",
    "\n",
    "As its name implies, the <strong>input()</strong> function allows us to prompt users to give us input."
   ]
  },
  {
   "cell_type": "markdown",
   "metadata": {
    "cell_style": "split",
    "deletable": false,
    "editable": false,
    "run_control": {
     "frozen": true
    }
   },
   "source": [
    "Objects created from <strong>input()</strong> allow for interactive and dynamic programs. Such a program has been developed in <em>Code 3.1.1</em>. In this code, we are using <strong>input()</strong> to prompt a user to input their name. When this code is run, a special window pops up under the coding cell to prompt users for input. It is important to understand what is happening here, as forgetting to respond to an open <strong>input()</strong> will prevent you from running additional code <em>(see the note at the beginning of this chapter for more details)</em>. <em>Figure 3.2</em> outlines the anatomy of Jupyter Notebook's behavior when a user is prompted for <strong>input()</strong>.<br><br>\n",
    "Notice the star (\\*) status in <em>Figure 3.2</em>. This indicates that the kernel is currently busy. There are several reasons why this might occur, including an open user input prompt, a code that hasn't finished processing, or a loop that was never instructed to stop running (covered in a later chapter). As mentioned earlier, while the Python kernel is busy, you cannot move on to process other code. If you run into a situation in Jupyter Notebook where the star won't go away, you can interrupt the kernel by pressing <em>ESC + i</em>.\n",
    "<br><br>\n",
    "<strong>Note:</strong> If you're interested in learning more hotkeys for Jupyter Notebook, try pressing <em>ESC + h</em>."
   ]
  },
  {
   "cell_type": "markdown",
   "metadata": {
    "cell_style": "split",
    "deletable": false,
    "editable": false,
    "run_control": {
     "frozen": true
    }
   },
   "source": [
    "<br><br>"
   ]
  },
  {
   "cell_type": "code",
   "execution_count": null,
   "metadata": {
    "cell_style": "split",
    "deletable": false,
    "editable": false
   },
   "outputs": [],
   "source": [
    "## Code 3.1.1 ##\n",
    "\n",
    "name = input()\n",
    "\n",
    "print(f'Welcome {name}')"
   ]
  },
  {
   "cell_type": "markdown",
   "metadata": {
    "cell_style": "split",
    "deletable": false,
    "editable": false,
    "run_control": {
     "frozen": true
    }
   },
   "source": [
    "<br>"
   ]
  },
  {
   "cell_type": "markdown",
   "metadata": {
    "cell_style": "split",
    "deletable": false,
    "editable": false,
    "run_control": {
     "frozen": true
    }
   },
   "source": [
    "<div style = \"width:image width px; font-size:80%; text-align:left;\"><img src= ./Images/chapter_3_fig_31_user_input_prompt.png width=\"400\" height=\"400\" style=\"padding-bottom:0.5em;\"><em>Figure 3.1: the anatomy of Jupyter Notebook's behavior when a user is prompted.</em></div>"
   ]
  },
  {
   "cell_type": "markdown",
   "metadata": {
    "deletable": false,
    "editable": false,
    "run_control": {
     "frozen": true
    }
   },
   "source": [
    "The second red box in the lower part of <em>Figure 3.2</em> is the <strong>user input prompt</strong>. In the case of the figure, anything typed into this prompt will be stored as a <strong>string</strong> in the object <em>name</em>. Strings and other variable types will be covered in <em>Section 3.2</em>. To reiterate, the Python kernel will continue processing this code block until something is input into this prompt (even something as simple as pressing the <em>return</em> on the keyboard). If you accidentally move through your code too quickly and it stops giving you output, look for the star ( \\* ) in previous coding blocks and check to see if there is an open user prompt.\n",
    "<br><br>\n",
    "\n",
    "\n",
    "<h4>Concept Clarification - Kernels</h4>\n",
    "\n",
    "If you're having trouble conceptualizing a kernel, think of it as an escalator. That's right, an escalator.<br><br>\n",
    "\n",
    "<div align=\"center\">\n",
    "<strong>escalator</strong> - <em>power-driven set of stairs arranged like an endless belt<br> that ascend or descend continuously. - <a href= 'https://www.merriam-webster.com/dictionary/escalator' class='headernavlink'>\n",
    "Merriam-Webster</a></em>\n",
    "<a class=\"tocSkip\"></a></div>\n",
    "<br>\n",
    "\n",
    "Let's say, for example, people are in a straight line walking towards an escalator to go upstairs. For the sake of this argument, let's assume the escalator is only wide enough to fit one person per step. If all goes according to plan, the line of people will reach the top of the escalator in the order in which they started. However, what if the first person in line reached the bottom of the escalator, was a split second from stepping on, and then realized that they were afraid of riding escalators? According to <a href=\"https://www.fearof.net/fear-of-escalators-phobia-escalaphobia/\">fearof.net</a>, this is a legitimate phobia known as Escalaphobia, and it affects hundreds of thousands of individuals globally. In this situation, every person in the entire line is stuck until the first person steps on the escalator or moves out of the way.\n",
    "<br><br>\n",
    "This is how kernels work, and it brushes upon an important mathematical concept known as <a href=\"https://en.wikipedia.org/wiki/Queueing_theory\">Queuing Theory</a>. Think of the escalator like a pathway to your processor, and only one line of code can go through the processor at a time. If something is holding up the line, such as in the case of a code block waiting for user input, no code in line behind it can move forward.\n",
    "<hr style=\"height:.9px;border:none;color:#333;background-color:#333;\" />\n",
    "<br>\n",
    "\n",
    "\n",
    "<h3>Optional Arguments for input()</h3>\n",
    "<strong>input()</strong> has only one optional argument, as can be observed from the <strong>help()</strong> call in <em>Code 3.1.2</em>. As a refresher, an optional argument is one that has a default value, denoted with an equals sign ( <em>=</em> ). As can be observed in <em>Codes 3.1.3</em> and <em>3.1.4</em>, we can utilize this argument by calling its name and providing a value (i.e. <strong>prompt</strong> = 'some_text'), or we can simply type some text and Python will understand what we are trying to do (i.e. 'some_text'). As its name implies, the optional <strong>prompt></strong> argument <em>prompts</em> a user on what they should do."
   ]
  },
  {
   "cell_type": "markdown",
   "metadata": {
    "cell_style": "split",
    "deletable": false,
    "editable": false,
    "run_control": {
     "frozen": true
    }
   },
   "source": [
    "<br><div align=\"center\">\n",
    "<strong>Do not underestimate the value of an informative prompt.</strong>\n",
    "    <a class=\"tocSkip\"></a></div><br>\n",
    "    \n",
    "You cannot expect a user to intuitively understand what they are supposed to input into a prompt. If you require a number with no decimal places, make sure to inform users that this is required. If you require a date in a specific format, make sure to use your <strong>prompt</strong> accordingly. Users are free to put anything into an <strong>input()</strong> prompt, so your directions are incredibly important. We will learn how to control for correct user input in a later chapter.<br><br>\n",
    "In <em>Codes 3.1.3</em> and <em>3.1.4</em>, we have specified that a user should input their name. Notice how this message is followed by a space. Without the trailing space, the output would look like this:<br><br><br>\n",
    "\n",
    "<div style = \"width:image width px; font-size:80%; text-align:center;\"><img src= ./Images/chapter_3_fig_32_user_prompt_no_space.png width=\"150\" height=\"150\" style=\"padding-bottom:0.5em;\"><em>Figure 3.2: Prompt result with no trailing space.</em></div><br><br>\n",
    "As can be observed below, the user experience can be slightly improved with the trailing space. This may seem trivial, but little details such as this can make a huge difference in how your program is received by its audience.<br><br><br>\n",
    "<div style = \"width:image width px; font-size:80%; text-align:center;\"><img src= ./Images/chapter_3_fig_33_user_prompt_with_space.png width=\"150\" height=\"150\" style=\"padding-bottom:0.5em;\"><em>Figure 3.3: Prompt result with a trailing space.</em></div><br><br>"
   ]
  },
  {
   "cell_type": "markdown",
   "metadata": {
    "cell_style": "split",
    "deletable": false,
    "editable": false,
    "run_control": {
     "frozen": true
    }
   },
   "source": [
    "<br>"
   ]
  },
  {
   "cell_type": "code",
   "execution_count": null,
   "metadata": {
    "cell_style": "split",
    "deletable": false,
    "editable": false
   },
   "outputs": [],
   "source": [
    "## Code 3.1.2 ##\n",
    "\n",
    "help(input)"
   ]
  },
  {
   "cell_type": "markdown",
   "metadata": {
    "cell_style": "split",
    "deletable": false,
    "editable": false,
    "run_control": {
     "frozen": true
    }
   },
   "source": [
    "<br>"
   ]
  },
  {
   "cell_type": "code",
   "execution_count": null,
   "metadata": {
    "cell_style": "split",
    "deletable": false,
    "editable": false
   },
   "outputs": [],
   "source": [
    "## Code 3.1.3 ##\n",
    "\n",
    "# Specifying prompt\n",
    "name = input(prompt = 'Input your name: ')\n",
    "\n",
    "print(f'Welcome {name}')"
   ]
  },
  {
   "cell_type": "markdown",
   "metadata": {
    "cell_style": "split",
    "deletable": false,
    "editable": false,
    "run_control": {
     "frozen": true
    }
   },
   "source": [
    "<br>"
   ]
  },
  {
   "cell_type": "code",
   "execution_count": null,
   "metadata": {
    "cell_style": "split",
    "deletable": false,
    "editable": false
   },
   "outputs": [],
   "source": [
    "## Code 3.1.4 ##\n",
    "\n",
    "# Not specifying prompt\n",
    "name = input('Input your name: ')\n",
    "\n",
    "print(f'Welcome {name}')"
   ]
  },
  {
   "cell_type": "markdown",
   "metadata": {
    "deletable": false,
    "editable": false,
    "run_control": {
     "frozen": true
    }
   },
   "source": [
    "<h2>3.2 Type Conversions</h2>\n",
    "As stated earlier, a user is free to input anything into an <strong>input()</strong> prompt. Given this, Python needs to be very careful not to make assumptions as to what we are trying to achieve with any given prompt. To address this concern, Python treats data from an <strong>input()</strong> prompt as a <a href=\"https://docs.python.org/3/library/stdtypes.html#str\">string</a>. Simply put, a string is a set of characters that can be read as text. This is very important to understand, as even if a number were input into an <strong>input()</strong> prompt, Python would treat it as a string instead of making assumptions on how a program will use this information. This can create bugs if we are not careful. For example, in the code below, we are prompting a user to <strong>input()</strong> a number and then attempting to make a calculation with their input.<br><br>\n",
    "\n",
    "~~~\n",
    "number = input(\"\"\"\n",
    "What is your favorite number between 1 and 10?\n",
    "Please input numbers (no text).\"\"\")\n",
    "\n",
    "print(f\"\\nYou've input {number}.\")\n",
    "\n",
    "double = number * 2\n",
    "\n",
    "print(f\"\"\"\n",
    "If you double that number, it becomes {double}.\"\"\")\n",
    "~~~\n",
    "\n",
    "<br>\n",
    "As the object <em>number</em> is coded as a string, Python interprets our meaning of the calculation in the object <em>double</em> as us wanting to print <em>number</em> twice (<em>Code 3.2.1</em>). Although this is not what we intended, such functionality can be quite useful. For example, if we wanted to create a border around our output, as in <em>Code 3.2.2</em>, we could take advantage of how Python interprets strings in multiplication. Such utilization can be observed in <em>Code 3.2.3</em>."
   ]
  },
  {
   "cell_type": "code",
   "execution_count": null,
   "metadata": {
    "deletable": false,
    "editable": false
   },
   "outputs": [],
   "source": [
    "## Code 3.2.1 ##\n",
    "\n",
    "number = input(\"\"\"\n",
    "What is your favorite number between 1 and 10?\n",
    "Please input numbers (no text).\\t\"\"\")\n",
    "\n",
    "print(f\"\\nYou've input {number}.\")\n",
    "\n",
    "double = number * 2\n",
    "\n",
    "print(f\"\"\"\n",
    "If you double that number, it becomes {double}.\"\"\")"
   ]
  },
  {
   "cell_type": "markdown",
   "metadata": {
    "deletable": false,
    "editable": false,
    "run_control": {
     "frozen": true
    }
   },
   "source": [
    "<hr style=\"height:.9px;border:none;color:#333;background-color:#333;\" />"
   ]
  },
  {
   "cell_type": "code",
   "execution_count": null,
   "metadata": {
    "cell_style": "split",
    "deletable": false,
    "editable": false
   },
   "outputs": [],
   "source": [
    "## Code 3.2.2 ##\n",
    "\n",
    "print(\"\"\"\n",
    "****************************************\n",
    "\n",
    "Happy birthday!!!!!\n",
    "\n",
    "****************************************\n",
    "\"\"\")"
   ]
  },
  {
   "cell_type": "code",
   "execution_count": null,
   "metadata": {
    "cell_style": "split",
    "deletable": false,
    "editable": false
   },
   "outputs": [],
   "source": [
    "## Code 3.2.3 ##\n",
    "\n",
    "print(f\"\"\"\n",
    "{'*' * 40}\n",
    "\n",
    "Happy birthday!!!!!\n",
    "\n",
    "{'*' * 40}\n",
    "\"\"\")"
   ]
  },
  {
   "cell_type": "markdown",
   "metadata": {
    "deletable": false,
    "editable": false,
    "run_control": {
     "frozen": true
    }
   },
   "source": [
    "<hr style=\"height:.9px;border:none;color:#333;background-color:#333;\" />"
   ]
  },
  {
   "cell_type": "markdown",
   "metadata": {
    "cell_style": "split",
    "deletable": false,
    "editable": false,
    "run_control": {
     "frozen": true
    }
   },
   "source": [
    "As can be observed, <em>Codes 3.2.2</em> and <em>3.2.3</em> generate the same output. Utilizing string calculations for formatting is especially intriguing when considering how easy it is to ensure we have the same number of stars above and below our <em>Happy Birthday!!!!!</em> message. As our coding skills become more advanced, we will also see that such a practice can save a huge amount of time when debugging.\n",
    "\n",
    "<h3>Basic Object Types</h3>\n",
    "There are an ever-growing number of object types in Python. This is because Python programmers have an ever-growing number of needs. For example and as a preview of what's to come, the data science package <em>pandas</em> is home to the <em>DataFrame</em> object type, which is Python's version of an Excel spreadsheet. Looking further out, when instantiating a model object in the machine learning package <em>scikit-learn</em>, each model object is of its own type. The rationale behind having so many different object types is that it allows each object to behave the way its programmer intended. You can think of an object type like a template, or even better, a tool to perform a specific task. Some tools are flexible and can perform a diverse set of tasks, while others were designed to solve one and only one need. This is another great example as to why you should read the documentation. The <a href=\"https://docs.python.org/3/library/datatypes.html\">documentation on data types</a> can be bewildering for first-time coders, but it contains a wealth of information as to what each object is designed to do, as well as useful methods to help you use each type to its fullest extent.\n",
    "\n",
    "Below is a table of the most basic object types. Also note that when in doubt, you can wrap <strong>type()</strong> around an object, and as its name implies, Python will output the object's type. <em>Code 3.2.4</em> is an open coding block where you can call type on any of the objects we have created in the above codes.<br><br>\n",
    "<strong>Note:</strong> Make sure you have run the coding cells above. If you get an error stating that an object is not defined, it generally means that you forgot to run the coding cell where that object was created.\n",
    "<br><br><table width=\"375\" align=\"left\">\n",
    "<col width=\"50\">\n",
    "<col width=\"150\">\n",
    "    <tr>\n",
    "        <th>Wrapper</th>\n",
    "        <th>Interpretation</th>\n",
    "    </tr>\n",
    "    <tr>\n",
    "        <td> str() </td>\n",
    "        <td> string - changes object type to text</td>\n",
    "    </tr>\n",
    "    <tr>\n",
    "    <tr>\n",
    "        <td> int() </td>\n",
    "        <td> integer - a number <strong>with no</strong> decimal places</td>\n",
    "    </tr>\n",
    "    <tr>\n",
    "        <td> float() </td>\n",
    "        <td> float - a number <strong>with</strong> decimal places</td>\n",
    "    </tr>   \n",
    "    <tr>\n",
    "        <td> bool() </td>\n",
    "        <td> boolean - True or False</td>\n",
    "    </tr>\n",
    "</table>"
   ]
  },
  {
   "cell_type": "markdown",
   "metadata": {
    "cell_style": "split",
    "deletable": false,
    "editable": false,
    "run_control": {
     "frozen": true
    }
   },
   "source": [
    "<br>"
   ]
  },
  {
   "cell_type": "code",
   "execution_count": null,
   "metadata": {
    "cell_style": "split",
    "solution2": "hidden",
    "solution2_first": true
   },
   "outputs": [],
   "source": [
    "## Code 3.2.4 ##\n",
    "\n",
    "# Open coding block for type() discovery\n",
    "\n",
    "\"\"\"\n",
    "Objects created thus far:\n",
    "    + name\n",
    "    + number\n",
    "    + double\n",
    "\n",
    "Use this space to check the types of each object.\n",
    "\"\"\"\n",
    "\n",
    "\n",
    "\n",
    "\n",
    "\n",
    "\n"
   ]
  },
  {
   "cell_type": "code",
   "execution_count": null,
   "metadata": {
    "cell_style": "split",
    "deletable": false,
    "editable": false,
    "solution2": "hidden"
   },
   "outputs": [],
   "source": [
    "## Sample Solution 3.2.4 ##\n",
    "\n",
    "print(type(name))\n",
    "print(type(number))\n",
    "print(type(double))"
   ]
  },
  {
   "cell_type": "markdown",
   "metadata": {
    "cell_style": "split",
    "deletable": false,
    "editable": false,
    "run_control": {
     "frozen": true
    }
   },
   "source": [
    "<br>"
   ]
  },
  {
   "cell_type": "code",
   "execution_count": null,
   "metadata": {
    "cell_style": "split",
    "deletable": false,
    "editable": false
   },
   "outputs": [],
   "source": [
    "## Code 3.2.5 ##\n",
    "\n",
    "number = input(\"\"\"\n",
    "What is your favorite number between 1 and 10?\n",
    "Please input numbers (no text).\\t\"\"\")\n",
    "\n",
    "print(f\"\\nYou've input {number}.\")\n",
    "\n",
    "# Converting number to type int\n",
    "number = int(number)\n",
    "\n",
    "double = number * 2\n",
    "\n",
    "print(f\"\"\"\n",
    "If you double that number, it becomes {double}.\"\"\")"
   ]
  },
  {
   "cell_type": "markdown",
   "metadata": {},
   "source": [
    "<br>\n",
    "<em>Code 3.2.5</em> is a replica of <em>Code 3.2.1</em>, with one enhancement: the object <em>number</em> is being converted into an integer before the object <em>double</em> makes its calculation. Now the program functions in the way we intended! Let's move on to a more advanced example.\n",
    "\n",
    "<br><hr style=\"height:.9px;border:none;color:#333;background-color:#333;\" /><br>\n",
    "<h2>3.3 Avoiding the Unnecessary - Writing Efficient Code</h2>\n",
    "In <em>Code 3.2.4</em>, we are attempting to create a code to be used when someone has a birthday."
   ]
  },
  {
   "cell_type": "markdown",
   "metadata": {
    "cell_style": "split",
    "deletable": false,
    "editable": false,
    "run_control": {
     "frozen": true
    }
   },
   "source": [
    "In this code, we would like to:\n",
    "* Prompt a user to input their birthday\n",
    "* Display a happy birthday message, which includes the user's input\n",
    "* Convert the user's age into days, hours, minutes, and seconds\n",
    "* Display True if a user's age is even\n",
    "\n",
    "<br>\n",
    "<em>Code 3.3.1</em> meets these requirements, assuming a user input their age as instructed by the <strong>input()</strong> prompt. However, the code is a bit inefficient. In particular, it does not take advantage of string calculations, and has several <strong>int()</strong> type conversions spread throughout the code when just one could be used to achieve the same result. Also, the format of the output looks as if it could be improved. The output for days looks appropriate, as depending on the user's input, it displays trailing decimal places (according to \n",
    "<a href=\"https://pumas.jpl.nasa.gov/examples/index.php?id=46\"> NASA</a>, a year is approximately 365.25 days long).<br><br>\n",
    "However, the results for hours, minutes, and seconds are showing a trailing zero. We can clean this up by implementing an <strong>int()</strong> wrapper around each calculation within the curly brackets in our <strong>print()</strong> statement. To keep our code consistent, we should also put a wrapper around the calculation for <em>days</em>, even though it is already functioning properly. This is to help avoid unknown errors, and to also help inform other coders of our intended output.<br><br>\n",
    "Such enhancements have been made in <em>Code 3.3.2</em>. As can be observed, the <em>age</em> object is being converted into an integer immediately after it is defined. Notice how this object does not need to be converted back into a string in the line of code reading <em>Happy birthday you beautiful...</em> . Python is doing this for us behind the scenes of the <strong>print()</strong> statement. Design decisions such as this one help make Python a truly remarkable language.\n",
    "<br><br>\n",
    "The star borders of the birthday message have been recoded using string calculations. Also, notice the enhanced functionality of the exclamation point in the birthday message. With this addition, the message will print one exclamation point for every year since the user's birth. Finally, the conversions to days, hours, minutes, and seconds have been wrapped with their appropriate type conversion wrappers.<br><br>\n",
    "There are many ways to further enhance our code. For example, if a user were to input data of type  string, float, or boolean in the <strong>input()</strong> prompt instead of an integer, the <em>Code 3.3.2</em> would throw a <em>Value Error</em>. It is important to control for such errors, which is a concept known as <a href=\"https://docs.python.org/3/tutorial/errors.html\">exception handling</a>. However, we will save this conversation for a later point in our coding journey."
   ]
  },
  {
   "cell_type": "markdown",
   "metadata": {
    "cell_style": "split",
    "deletable": false,
    "editable": false,
    "run_control": {
     "frozen": true
    }
   },
   "source": [
    "<br>"
   ]
  },
  {
   "cell_type": "code",
   "execution_count": null,
   "metadata": {
    "cell_style": "split",
    "deletable": false,
    "editable": false
   },
   "outputs": [],
   "source": [
    "## Code 3.3.1 ##\n",
    "\n",
    "# Age input\n",
    "age = input(\"\"\"\n",
    "I hear it's your birthday! How old are you today?\n",
    "Please input your age (as a number) in years.\\t\n",
    "\"\"\")\n",
    "\n",
    "# Birthday message\n",
    "print(f\"\"\"\n",
    "****************************************\n",
    "\n",
    "Happy birthday you beautiful {age} year old!\n",
    "      \n",
    "That's the equivalent of:\n",
    "{int(age) * 365.25} days\n",
    "{int(age) * 365.25 * 24} hours\n",
    "{int(age) * 365.25 * 24 * 60} minutes\n",
    "{int(age) * 365.25 * 24 * 60 * 60} seconds\n",
    "\n",
    "It's {bool(age)} that your age in years is an even number.\n",
    "\n",
    "****************************************\n",
    "\"\"\")"
   ]
  },
  {
   "cell_type": "markdown",
   "metadata": {
    "cell_style": "split",
    "deletable": false,
    "editable": false,
    "run_control": {
     "frozen": true
    }
   },
   "source": [
    "<br>"
   ]
  },
  {
   "cell_type": "code",
   "execution_count": null,
   "metadata": {
    "cell_style": "split",
    "deletable": false,
    "editable": false
   },
   "outputs": [],
   "source": [
    "## Code 3.3.2 ##\n",
    "\n",
    "# Age input\n",
    "age = input(\"\"\"\n",
    "I hear it's your birthday! How old are you today?\n",
    "Please input your age (as a number) in years.\\t\n",
    "\"\"\")\n",
    "\n",
    "# Age conversion\n",
    "age = int(age)\n",
    "\n",
    "# Birthday message\n",
    "print(f\"\"\"\n",
    "{'*' * 40}\n",
    "\n",
    "Happy birthday you beautiful {age} year old{'!' * age}\n",
    "      \n",
    "That's the equivalent of:\n",
    "{float(age * 365.25)} days\n",
    "{int(age * 365.25 * 24)} hours\n",
    "{int(age * 365.25 * 24 * 60)} minutes\n",
    "{int(age * 365.25 * 24 * 60 * 60)} seconds\n",
    "\n",
    "It's {bool(age)} that your age in years is an even number.\n",
    "\n",
    "{'*' * 40}\n",
    "\"\"\")"
   ]
  },
  {
   "cell_type": "markdown",
   "metadata": {
    "deletable": false,
    "editable": false,
    "run_control": {
     "frozen": true
    }
   },
   "source": [
    "<br>\n",
    "Upon critiquing <em>Code 3.3.2</em>, you may wonder if the line displaying <em>True</em> when a user's age is even adds any value. It seems intuitive that we can assume a user old enough to use a computer will also be at a mathematical level where they have a solid understanding of even and odd numbers. Perhaps we should alter this line of code to provide more useful information, such as whether or not a user was born in a leap year. Although this requires a more detailed knowledge of Python than we have currently covered, it is imperative to consider the following:\n",
    "\n",
    "<br><div align=\"center\">\n",
    "<strong>It is better to build something that is challenging to code than to build something that is easy but adds no value.</strong>\n",
    "<a class=\"tocSkip\"></a></div><br>\n",
    "\n",
    "At this point, our coding abilities are limited. However, we should not let this dictate our design. Encountering a coding challenge that is beyond our current capabilities is a prime opportunity to improve. Spend some time doing research. If needed, go back to <strong>Chapter 1: Before Learning Anything Else, Learn This</strong> and refresh yourself on how to learn Python. For now, we will move forward to develop our code to be more valuable to users.<br><br>\n",
    "\n",
    "<h3>Adding Additional Functionality</h3>\n",
    "In addition to adding a leap year calculation, it would be interesting to more precisely state the number of days in a year. Returning to research from <a href=\"https://pumas.jpl.nasa.gov/examples/index.php?id=46\">NASA</a>, \"the true length of a year on Earth is 365.2422 days.\" Before reading on, use the open coding block below to try to adjust <em>Code 3.3.2</em> to meet these new requirements:\n",
    "\n",
    "* adjust the number of days per year to 365.2422\n",
    "* change the 'age in years is even' functionality to one that returns True if a user was born in a leap year\n",
    "* add any other changes you feel could add value (such as calculating a user's birth year based on their age)\n",
    "\n",
    "<br>\n",
    "\n",
    "When ready, move on to see a sample solution in <em>Code 3.3.5</em> and read the rationale behind it.<br>"
   ]
  },
  {
   "cell_type": "code",
   "execution_count": null,
   "metadata": {},
   "outputs": [],
   "source": [
    "## Code 3.3.4 ##\n",
    "\n",
    "# Open coding block to meet new requirements\n",
    "\n",
    "# Age input\n",
    "age = input(\"\"\"\n",
    "I hear it's your birthday! How old are you today?\n",
    "Please input your age (as a number) in years.\\t\n",
    "\"\"\")\n",
    "\n",
    "# Age conversion\n",
    "age = int(age)\n",
    "\n",
    "# Birthday message\n",
    "print(f\"\"\"\n",
    "{'*' * 40}\n",
    "\n",
    "Happy birthday you beautiful {age} year old{'!' * age}\n",
    "      \n",
    "That's the equivalent of:\n",
    "{float(age * 365.25)} days\n",
    "{int(age * 365.25 * 24)} hours\n",
    "{int(age * 365.25 * 24 * 60)} minutes\n",
    "{int(age * 365.25 * 24 * 60 * 60)} seconds\n",
    "\n",
    "It's {bool(age)} that your age in years is an even number.\n",
    "\n",
    "{'*' * 40}\n",
    "\"\"\")"
   ]
  },
  {
   "cell_type": "markdown",
   "metadata": {
    "deletable": false,
    "editable": false,
    "run_control": {
     "frozen": true
    }
   },
   "source": [
    "<strong>Note:</strong> The following code may seem intense, especially when compared to <em>Code 3.3.2</em>. Adding a check to see if the user was born in a leap year was not in our original requirements. Thus, much of <em>Code 3.3.2</em> needs to be rewritten. This is commonly the case, and emphasizes how important it is to plan out what you would like your code to do ahead of time.<br><br>\n",
    "In order to achieve the functionality we desire, several changes need to occur. First, we need to develop a method for calculating someone's birth year given their age. This can be engineered by taking the current year and subtracting the users age. Luckily, a method already exists in the subpackage <strong>date</strong>, which is part of the <strong>datetime</strong> package. Here we can find the method <strong>today()</strong> and chain it to the method <strong>year</strong>. When deciding how to determine if a user was born in a leap year, we have two choices: 1) develop a logic in our code, or 2) use a code that is already developed and available in Python. This is a classic make or buy decision, except that the open source packages in Python are free of charge. Therefore, before attempting to develop our own logic, it is in our best interest to search to see if someone has already solved this challenge. If you are currently unaware of such functionality, take some time to search before moving on.<br>"
   ]
  },
  {
   "cell_type": "markdown",
   "metadata": {
    "cell_style": "split",
    "deletable": false,
    "editable": false,
    "run_control": {
     "frozen": true
    }
   },
   "source": [
    "After some research, you may have discovered that the <strong>calendar</strong> package has just the method we are looking for (<strong>isleap</strong>). This function returns True if a year is a leap year, and False otherwise. If you were unable to find this in your search, or if you stumbled onto forums where nobody had yet figured this out, this is a good opportunity for you to go back and contribute to the conversation. With <strong>date.today().year</strong> and <strong>isleap</strong>, we are ready to adjust our code.<br><br>\n",
    "In addition to these enhancements, we should allow the calculations for hours, minutes, and seconds to <strong>float</strong>, or contain decimal places. Converting objects into floats can have strange formatting results, such as several trailing zeros followed by a seemingly random number (<em>Code 3.3.4</em>)."
   ]
  },
  {
   "cell_type": "markdown",
   "metadata": {
    "cell_style": "split",
    "deletable": false,
    "editable": false,
    "run_control": {
     "frozen": true
    }
   },
   "source": [
    "<br>"
   ]
  },
  {
   "cell_type": "code",
   "execution_count": null,
   "metadata": {
    "cell_style": "split",
    "deletable": false,
    "editable": false
   },
   "outputs": [],
   "source": [
    "## Code 3.3.4 ##\n",
    "\n",
    "age = 5\n",
    "\n",
    "print(f\"\"\"\n",
    "{float(age) * 365.2422} days\n",
    "\"\"\")"
   ]
  },
  {
   "cell_type": "markdown",
   "metadata": {
    "deletable": false,
    "editable": false,
    "run_control": {
     "frozen": true
    }
   },
   "source": [
    "This formatting issue can be resolved using a <strong>round()</strong> wrapper. As can be observed from its <strong>help()</strong> documentation, <strong>round()</strong> has one mandatory argument (a number) and one optional argument (the number of digits to round to). By utilizing this wrapper, our output looks cleaner, providing a better experience for our users. A redeveloped solution, enhanced based on the new requirements, is available in <em>Code 3.3.5</em>."
   ]
  },
  {
   "cell_type": "code",
   "execution_count": null,
   "metadata": {
    "deletable": false,
    "editable": false
   },
   "outputs": [],
   "source": [
    "## Code 3.3.5 ##\n",
    "\n",
    "# Importing necessary modules\n",
    "from calendar import isleap\n",
    "from datetime import date\n",
    "\n",
    "# Saving the current year\n",
    "current_year = date.today().year\n",
    "\n",
    "# Saving a precise days per year\n",
    "days_in_year = 365.2422\n",
    "\n",
    "# Prompting a user for their birth year\n",
    "age = input(\"\"\"\n",
    "I hear it's your birthday! How old are you today?\n",
    "Please input your age (as a number) in years.\\t\n",
    "\"\"\")\n",
    "\n",
    "# Converting age\n",
    "age = int(age)\n",
    "\n",
    "# Calculating birth year\n",
    "b_year = current_year - age\n",
    "\n",
    "# Birthday message\n",
    "print(f\"\"\"\n",
    "{'*' * 40}\n",
    "\n",
    "Happy birthday you beautiful {age} year old{'!' * age}\n",
    "\n",
    "That's the equivalent of:\n",
    "{round(float(age * days_in_year), 4)} days\n",
    "{round(float(age * days_in_year * 24), 4)} hours\n",
    "{round(float(age * days_in_year * 24 * 60), 4)} minutes\n",
    "{round(float(age * days_in_year * 24 * 60 * 60), 4)} seconds\n",
    "\n",
    "You were born in {b_year}, and it is {isleap(int(b_year))}\n",
    "that you were born in a leap year.\n",
    "\n",
    "{'*' * 40}\n",
    "\"\"\")"
   ]
  },
  {
   "cell_type": "markdown",
   "metadata": {
    "deletable": false,
    "editable": false,
    "run_control": {
     "frozen": true
    }
   },
   "source": [
    "<hr style=\"height:.9px;border:none;color:#333;background-color:#333;\" /><br>\n",
    "\n",
    "<h2>3.4 Summary</h2>\n",
    "\n",
    "<br>\n",
    "\n",
    "~~~\n",
    " _           _           _ \n",
    "|_) __ _ __ |_)_|_ o __ (_|\n",
    "|   | (_)||||   |_ | | |__|\n",
    " __                   |    \n",
    "(_     _  _  _  _  _  |    \n",
    "__)|_|(_ (_ (/__> _>  o    \n",
    "~~~                                                                         \n",
    "\n",
    "<br>You're one step closer to being able to design interactive programs! The basics are out of the way, and you're ready to move on to your first project. It's going to be mad fun!<br><br>\n",
    "This chapter has prepared you for:\n",
    "* prompting users for input\n",
    "* converting object types\n",
    "* making your code more efficient\n",
    "\n",
    "<br>\n",
    "We have also focused our design decisions on creating an optimal user experience. Although this is not directly related to the work as a business analyst, it is an important consideration when designing any sort of technical solution. Later, when we discuss data exploration and insights, this mindset will become critical to success. Even the most groundbreaking data-driven discoveries are likely to be discarded if they are hard to interpret or infeasible to implement. There's plenty to look forward to in the coming chapters, and it is my hope that upon completion of this book, you will not only be capable in business analytics using Python, but also in driving analytics as a core strategic component of business strategy."
   ]
  },
  {
   "cell_type": "markdown",
   "metadata": {
    "deletable": false,
    "editable": false,
    "run_control": {
     "frozen": true
    }
   },
   "source": [
    " "
   ]
  },
  {
   "cell_type": "markdown",
   "metadata": {
    "deletable": false,
    "editable": false,
    "run_control": {
     "frozen": true
    }
   },
   "source": [
    " "
   ]
  }
 ],
 "metadata": {
  "kernelspec": {
   "display_name": "Python 3",
   "language": "python",
   "name": "python3"
  },
  "language_info": {
   "codemirror_mode": {
    "name": "ipython",
    "version": 3
   },
   "file_extension": ".py",
   "mimetype": "text/x-python",
   "name": "python",
   "nbconvert_exporter": "python",
   "pygments_lexer": "ipython3",
   "version": "3.7.6"
  },
  "toc": {
   "base_numbering": 1,
   "nav_menu": {},
   "number_sections": false,
   "sideBar": true,
   "skip_h1_title": false,
   "title_cell": "Table of Contents",
   "title_sidebar": "Contents",
   "toc_cell": false,
   "toc_position": {
    "height": "calc(100% - 180px)",
    "left": "10px",
    "top": "150px",
    "width": "307.175px"
   },
   "toc_section_display": true,
   "toc_window_display": false
  },
  "varInspector": {
   "cols": {
    "lenName": 16,
    "lenType": 16,
    "lenVar": 40
   },
   "kernels_config": {
    "python": {
     "delete_cmd_postfix": "",
     "delete_cmd_prefix": "del ",
     "library": "var_list.py",
     "varRefreshCmd": "print(var_dic_list())"
    },
    "r": {
     "delete_cmd_postfix": ") ",
     "delete_cmd_prefix": "rm(",
     "library": "var_list.r",
     "varRefreshCmd": "cat(var_dic_list()) "
    }
   },
   "types_to_exclude": [
    "module",
    "function",
    "builtin_function_or_method",
    "instance",
    "_Feature"
   ],
   "window_display": false
  }
 },
 "nbformat": 4,
 "nbformat_minor": 2
}
