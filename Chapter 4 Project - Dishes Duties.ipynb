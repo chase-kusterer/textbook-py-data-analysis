{
 "cells": [
  {
   "cell_type": "markdown",
   "metadata": {
    "deletable": false,
    "editable": false,
    "run_control": {
     "frozen": true
    }
   },
   "source": [
    "***\n",
    "***\n",
    "***\n",
    "<br><br><br><br><br>\n",
    "<h1>Python for Business Analytics</h1>\n",
    "<em>A Nontechnical Approach for Nontechnical People</em><br><br>\n",
    "<em><strong>Custom Edition for Hult International Business School</strong></em><br>\n",
    "\n",
    "Written by Chase Kusterer - Faculty of Analytics <br>\n",
    "Hult International Business School <br>\n",
    "https://github.com/chase-kusterer <br><br><br><br><br>\n",
    "***\n",
    "***\n",
    "***\n",
    "\n",
    "# <u>Project Chapter 4: Dishes Duties</u>"
   ]
  },
  {
   "cell_type": "markdown",
   "metadata": {
    "deletable": false,
    "editable": false,
    "run_control": {
     "frozen": true
    }
   },
   "source": [
    "<strong>Purpose</strong><br>\n",
    "This project is designed to aid in the mastery of the content covered in Chapters 1-4.<br><br>\n",
    "\n",
    "<strong>Primary Topics Covered</strong>\n",
    "* printing (standard and formatted strings)\n",
    "* commenting (# and triple-quotes)\n",
    "* user input\n",
    "* numerical and comparison operands"
   ]
  },
  {
   "cell_type": "markdown",
   "metadata": {
    "deletable": false,
    "editable": false,
    "run_control": {
     "frozen": true
    }
   },
   "source": [
    "***\n",
    "## Part 1: The Debate"
   ]
  },
  {
   "cell_type": "markdown",
   "metadata": {
    "deletable": false,
    "editable": false,
    "run_control": {
     "frozen": true
    }
   },
   "source": [
    "Dean Luis and Dean Mona have both been assigned to wash the dishes\n",
    "after the Master of Business Analytics Welcome Party. They are trying to divide the work evenly, and\n",
    "Dean Luis comes up with a great idea: one person should wash the cups,\n",
    "plates, and silverware, while the other washes the pots and pans."
   ]
  },
  {
   "cell_type": "markdown",
   "metadata": {
    "deletable": false,
    "editable": false,
    "run_control": {
     "frozen": true
    }
   },
   "source": [
    "Having ample experience washing dishes, they believe it will take:\n",
    "\n",
    "- 15 seconds to wash one cup, and there are 500 cups.\n",
    "- 10 seconds to wash one plate, and there are 500 plates.\n",
    "- 10 seconds to wash one piece of silverware, but they can be\n",
    "  washed three at a time. There are 1200 pieces of silverware.\n",
    "- 80 seconds to wash one pot and there are 25 pots.\n",
    "- 60 seconds to wash one pot and there are 75 pans.<br><br>\n",
    "\n",
    "**Dean Luis asks Dean Mona which he prefers. Which should Mona choose?** <br>\n",
    ">a) the cups, plates, and silverware <br>\n",
    ">b) the pots and pans"
   ]
  },
  {
   "cell_type": "markdown",
   "metadata": {
    "deletable": false,
    "editable": false,
    "run_control": {
     "frozen": true
    }
   },
   "source": [
    "***\n",
    "#### <strong>P4.1.1) Use the space below to organize your information into the following objects.</strong>\n",
    "\n",
    "**Washing time** for each:\n",
    "> a) cup (cup_time)<br>\n",
    "> b) plate (plate_time)<br>\n",
    "> c) piece of silverware (silverware_time)<br>\n",
    "> d) pot (pots_time)<br>\n",
    "> e) pan (pans_time)<br>\n",
    "\n",
    "**Quantity** for each:\n",
    "> a) cup (cup_qty)<br>\n",
    "> b) plate (plate_qty)<br>\n",
    "> c) piece of silverware (silverware_qty)<br>\n",
    "> d) pot (pots_qty)<br>\n",
    "> e) pan (pans_qty)<br>"
   ]
  },
  {
   "cell_type": "code",
   "execution_count": null,
   "metadata": {
    "cell_style": "split",
    "solution2": "hidden",
    "solution2_first": true
   },
   "outputs": [],
   "source": [
    "## Exercise 4.1.1 ##\n",
    "\n",
    "# Washing Time Breakdown:\n",
    "cup_time = _____\n",
    "plate_time = _____\n",
    "silverware_time = _____\n",
    "pots_time = _____\n",
    "pans_time = _____\n",
    "\n",
    "\n",
    "# Quantity of Dishes:\n",
    "cup_qty = _____\n",
    "plate_qty = _____\n",
    "silverware_qty = _____\n",
    "pots_qty = _____\n",
    "pans_qty = _____"
   ]
  },
  {
   "cell_type": "code",
   "execution_count": null,
   "metadata": {
    "cell_style": "split",
    "deletable": false,
    "editable": false,
    "solution2": "hidden"
   },
   "outputs": [],
   "source": [
    "## Sample Solution 4.1.1 ##\n",
    "\n",
    "# Washing Time Breakdown:\n",
    "cup_time = 15\n",
    "plate_time = 10\n",
    "silverware_time = 10 / 3\n",
    "pots_time = 80\n",
    "pans_time = 60\n",
    "\n",
    "\n",
    "# Quantity of Dishes:\n",
    "cup_qty = 500\n",
    "plate_qty = 500\n",
    "silverware_qty = 1200\n",
    "pots_qty = 25\n",
    "pans_qty = 75"
   ]
  },
  {
   "cell_type": "markdown",
   "metadata": {
    "deletable": false,
    "editable": false,
    "run_control": {
     "frozen": true
    }
   },
   "source": [
    "***\n",
    "#### **P4.1.2) Use the space below to combine your variables into total washing times:**\n",
    "> a) cup wasing time (cup_wash)<br>\n",
    "> b) plate washing time (plate_wash)<br>\n",
    "> c) silverware washing time (silver_wash)<br>\n",
    "> d) pot washing time (pot_wash)<br>\n",
    "> e) pan washing time (pan_wash)<br>\n",
    "\n",
    "Next sum these times together to create:\n",
    "> f) cups, plates, and silverware washing time (cps_wash)<br>\n",
    "> g) pots and pans washing time (pnp_wash)<br>\n",
    "\n",
    "Print cps wash and pnp_wash."
   ]
  },
  {
   "cell_type": "code",
   "execution_count": null,
   "metadata": {
    "cell_style": "split",
    "solution2": "hidden",
    "solution2_first": true
   },
   "outputs": [],
   "source": [
    "## Exercise 4.1.2 ##\n",
    "\n",
    "# Plates, Cups, and Silverware\n",
    "cup_wash = _____\n",
    "plate_wash = _____\n",
    "silver_wash = _____\n",
    "\n",
    "# Pots and Pans\n",
    "pot_wash = _____\n",
    "pan_wash = _____\n",
    "\n",
    "# Summing the groupings\n",
    "cps_wash = _____\n",
    "pnp_wash = _____\n",
    "\n",
    "# Printing the results\n",
    "print(cps_wash)\n",
    "print(pnp_wash)"
   ]
  },
  {
   "cell_type": "code",
   "execution_count": null,
   "metadata": {
    "cell_style": "split",
    "deletable": false,
    "editable": false,
    "scrolled": true,
    "solution2": "hidden"
   },
   "outputs": [],
   "source": [
    "## Sample Solution 4.1.2 ##\n",
    "\n",
    "# Plates, Cups, and Silverware\n",
    "cup_wash = cup_time * cup_qty\n",
    "plate_wash = plate_time * plate_qty\n",
    "silver_wash = silverware_time * silverware_qty\n",
    "\n",
    "# Pots and Pans\n",
    "pot_wash = pots_time * pots_qty\n",
    "pan_wash = pans_time * pans_qty\n",
    "\n",
    "# Summing the groupings\n",
    "cps_wash = cup_wash + plate_wash + silver_wash\n",
    "pnp_wash = pot_wash + pan_wash\n",
    "\n",
    "# Printing the results\n",
    "print(cps_wash)\n",
    "print(pnp_wash)"
   ]
  },
  {
   "cell_type": "markdown",
   "metadata": {
    "deletable": false,
    "editable": false,
    "run_control": {
     "frozen": true
    }
   },
   "source": [
    "***\n",
    "Even though the numbers above show the total wash times, it is a good practice to run a check for equality. This helps simplify our analysis as it gives us less output on which to make a decision.\n",
    "<br><br>\n",
    "#### <strong>P4.1.3) Use the space below to test for equality between cps_wash and pnp_wash.</strong>"
   ]
  },
  {
   "cell_type": "code",
   "execution_count": null,
   "metadata": {
    "cell_style": "split",
    "solution2": "hidden",
    "solution2_first": true
   },
   "outputs": [],
   "source": [
    "## Exercise 4.1.3 ##\n",
    "\n",
    "# Testing for Equality\n",
    "print(_____ == _____)"
   ]
  },
  {
   "cell_type": "code",
   "execution_count": null,
   "metadata": {
    "cell_style": "split",
    "deletable": false,
    "editable": false,
    "solution2": "hidden"
   },
   "outputs": [],
   "source": [
    "## Sample Solution 4.1.3 ##\n",
    "\n",
    "# Testing for Equality\n",
    "print(cps_wash == pnp_wash)"
   ]
  },
  {
   "cell_type": "markdown",
   "metadata": {
    "deletable": false,
    "editable": false,
    "run_control": {
     "frozen": true
    }
   },
   "source": [
    "***\n",
    "## Part 2: Dynamically Reporting Results\n",
    "\n",
    "Dean Mona runs an analysis in Python and realizes that the duties aren't even close to equal. She drafts an email to Dean Luis informing him of the situation.\n",
    "\n",
    "<strong>Note:</strong> We will use a formatted string (f-string) for this. Technically, this is known as [Literal String Interpolation](https://www.python.org/dev/peps/pep-0498/).\n",
    "\n",
    "#### <strong>P4.2.1) Fill in the blanks below to develop a dynamic message using f-strings.</strong>"
   ]
  },
  {
   "cell_type": "code",
   "execution_count": null,
   "metadata": {
    "cell_style": "center",
    "solution2": "hidden",
    "solution2_first": true
   },
   "outputs": [],
   "source": [
    "## Exercise 4.2.1 ##\n",
    "\n",
    "print(f\"\"\"\n",
    "      Dear Dean Luis,\n",
    "      \n",
    "      It has come to my attention that with our current quantities of:\n",
    "      {_____} cups, {_____} plates, {_____} pieces of\n",
    "      silverware, {_____} pots, and {_____} pans, our duties\n",
    "      would not even be close to equal if we were to split them in the\n",
    "      way that you have recommended.\n",
    "      \n",
    "      I will begin working on a solution where our duties are split\n",
    "      more equally. And reply to you via SMS message.\n",
    "      \n",
    "      Sincerely,\n",
    "      Mona\n",
    "      \"\"\")"
   ]
  },
  {
   "cell_type": "code",
   "execution_count": null,
   "metadata": {
    "cell_style": "center",
    "deletable": false,
    "editable": false,
    "solution2": "hidden"
   },
   "outputs": [],
   "source": [
    "## Sample Solution 4.2.1 ##\n",
    "\n",
    "print(f\"\"\"\n",
    "      Dear Luis,\n",
    "      \n",
    "      It has come to my attention that with our current quantities of:\n",
    "      {cup_qty} cups, {plate_qty} plates, {silverware_qty} pieces of\n",
    "      silverware, {pots_qty} pots, and {pans_qty} pans, our duties\n",
    "      would not even be close to equal if we were to split them in the\n",
    "      way that you have recommended.\n",
    "      \n",
    "      I will begin working on a solution where our duties are split\n",
    "      more equally. And reply to you via SMS message.\n",
    "      \n",
    "      Sincerely,\n",
    "      Mona\n",
    "      \"\"\")"
   ]
  },
  {
   "cell_type": "markdown",
   "metadata": {
    "deletable": false,
    "editable": false,
    "run_control": {
     "frozen": true
    }
   },
   "source": [
    "***\n",
    "In order to elaborate on the situation, Dean Mona has decided to draft another email specifying the total amount of time each person would be working. She plans to do by making calculations in f-strings.\n",
    "\n",
    "#### <strong>P4.2.2) Fill in the blanks below to develop a dynamic message with calculations using a f-strings.</strong>"
   ]
  },
  {
   "cell_type": "code",
   "execution_count": null,
   "metadata": {
    "code_folding": [],
    "solution2": "hidden",
    "solution2_first": true
   },
   "outputs": [],
   "source": [
    "## Exercise 4.2.2 ##\n",
    "\n",
    "print(f\"\"\"\n",
    "      Dear Luis,\n",
    "      \n",
    "      To give more details on my previous email, one of us would be\n",
    "      working for {int(_____ / 3600)} hours and {int((_____ % 3600) / 60)}\n",
    "      minutes, while the other would be working {_____)}\n",
    "      hours and {_____)} minutes.\n",
    "      \n",
    "      I will begin working on a solution where our duties are split\n",
    "      more equally.\n",
    "      \n",
    "      Sincerely,\n",
    "      Mona\n",
    "      \"\"\")"
   ]
  },
  {
   "cell_type": "code",
   "execution_count": null,
   "metadata": {
    "deletable": false,
    "editable": false,
    "solution2": "hidden"
   },
   "outputs": [],
   "source": [
    "## Sample Solution 4.2.2 ##\n",
    "\n",
    "print(f\"\"\"\n",
    "      Dear Luis,\n",
    "      \n",
    "      To give more details on my previous email, one of us would be\n",
    "      working for {int(cps_wash / 3600)} hours and {int((cps_wash % 3600) / 60)}\n",
    "      minutes, while the other would be working {int(pnp_wash / 3600)}\n",
    "      hours and {int((pnp_wash % 3600) / 60)} minutes.\n",
    "      \n",
    "      I will begin working on a solution where our duties are split\n",
    "      more equally.\n",
    "      \n",
    "      Sincerely,\n",
    "      Mona\n",
    "      \"\"\")\n",
    "\n",
    "# See Footnote 1 for these calculations step-by-step"
   ]
  },
  {
   "cell_type": "markdown",
   "metadata": {
    "deletable": false,
    "editable": false,
    "run_control": {
     "frozen": true
    }
   },
   "source": [
    "***\n",
    "## Part 3: Balancing the Work Time"
   ]
  },
  {
   "cell_type": "markdown",
   "metadata": {
    "deletable": false,
    "editable": false,
    "run_control": {
     "frozen": true
    }
   },
   "source": [
    "Dean Mona has asked you for help in balancing the workload. <strong>print()</strong> statements with the current variable values are provided below."
   ]
  },
  {
   "cell_type": "code",
   "execution_count": null,
   "metadata": {
    "cell_style": "center",
    "deletable": false,
    "editable": false
   },
   "outputs": [],
   "source": [
    "## Project Code 4.3.1 ##\n",
    "\n",
    "# Current Variables\n",
    "print(\"Current cup washing time:\", cup_wash)\n",
    "print(\"Current plate washing time:\", plate_wash)\n",
    "print(\"Current silverware washing time:\", silver_wash)\n",
    "print(\"Current pot washing time:\", pot_wash)\n",
    "print(\"Current pan washing time:\", pan_wash)"
   ]
  },
  {
   "cell_type": "markdown",
   "metadata": {
    "deletable": false,
    "editable": false,
    "run_control": {
     "frozen": true
    }
   },
   "source": [
    "#### <strong>P4.3.1) Use the space below to balance the workload between Dean Luis and Dean Mona.</strong>"
   ]
  },
  {
   "cell_type": "code",
   "execution_count": null,
   "metadata": {
    "cell_style": "center",
    "solution2": "hidden",
    "solution2_first": true
   },
   "outputs": [],
   "source": [
    "## Exercise 4.3.1 ##\n",
    "\n",
    "# Change the duties below to balance the workload\n",
    "luis = _____\n",
    "mona = _____\n",
    "\n",
    "print(luis)\n",
    "print(mona)\n",
    "      \n",
    "# Testing for Equality\n",
    "print(luis == mona)"
   ]
  },
  {
   "cell_type": "code",
   "execution_count": null,
   "metadata": {
    "cell_style": "center",
    "deletable": false,
    "editable": false,
    "solution2": "hidden"
   },
   "outputs": [],
   "source": [
    "## Sample Solution 4.3.1 ##\n",
    "\n",
    "# Change the duties below to balance the workload\n",
    "luis = pot_wash + cup_wash + (silver_wash / 2)\n",
    "mona = plate_wash + pan_wash + (silver_wash / 2)\n",
    "\n",
    "print(luis)\n",
    "print(mona)\n",
    "      \n",
    "# Testing for Equality\n",
    "print(luis == mona)"
   ]
  },
  {
   "cell_type": "markdown",
   "metadata": {
    "deletable": false,
    "editable": false,
    "run_control": {
     "frozen": true
    }
   },
   "source": [
    "***\n",
    "#### <strong>4.3.2) Use the space below to draft an email to Dean Luis with your dishes duties recommendations.</strong>"
   ]
  },
  {
   "cell_type": "code",
   "execution_count": null,
   "metadata": {
    "solution2": "hidden",
    "solution2_first": true
   },
   "outputs": [],
   "source": [
    "## Exercise 4.3.2 ##\n",
    "\n",
    "print(f\"\"\"\n",
    "      Dear Luis,\n",
    "      \n",
    "      \n",
    "      \n",
    "      \n",
    "      \n",
    "      Sincerely,\n",
    "      Mona\n",
    "      \"\"\")"
   ]
  },
  {
   "cell_type": "code",
   "execution_count": null,
   "metadata": {
    "deletable": false,
    "editable": false,
    "solution2": "hidden"
   },
   "outputs": [],
   "source": [
    "## Sample Solution 4.3.2 ##\n",
    "\n",
    "print(f\"\"\"\n",
    "      Dear Luis,\n",
    "      \n",
    "      I've come up with a solution. In total, our dishes duties are going to\n",
    "      take {int(luis / 3600)} hours and {int((luis % 3600) / 60)} minutes.\n",
    "      \n",
    "      It's going to be a long night! We are going to wash the silverware\n",
    "      together. Perhaps we should start with this so we can bond? After this,\n",
    "      I'll take the plates and pans, and you take the pots and cups.\n",
    "      \n",
    "      How does this sound?\n",
    "      \n",
    "      Sincerely,\n",
    "      Mona\n",
    "      \"\"\")"
   ]
  },
  {
   "cell_type": "markdown",
   "metadata": {
    "deletable": false,
    "editable": false,
    "run_control": {
     "frozen": true
    }
   },
   "source": [
    "***\n",
    "***\n",
    "## Part 4: Footnotes"
   ]
  },
  {
   "cell_type": "markdown",
   "metadata": {
    "deletable": false,
    "editable": false,
    "run_control": {
     "frozen": true
    }
   },
   "source": [
    "~~~\n",
    "Footnote 1: f-string calculations\n",
    "\n",
    "{int(                # int() can be used similar to =ROUNDDOWN() in Excel\n",
    "cps_wash / 3600)     # dividing cps_wash by 3600 so that it is in hours, not seconds\n",
    "}                    # closing the f string\n",
    "\n",
    "(int(                # int() can be used similar to =ROUNDDOWN() in Excel\n",
    "cps_wash % 3600)     # taking the remainder of cps_wash using %\n",
    "/ 60)}               # dividing by 60 so the remainder is in minutes, not seconds\n",
    "~~~"
   ]
  },
  {
   "cell_type": "markdown",
   "metadata": {
    "deletable": false,
    "editable": false,
    "run_control": {
     "frozen": true
    }
   },
   "source": [
    "~~~\n",
    "____ _  _ ___     ____ ____    ____ ____ ____ _ ___  ___    \n",
    "|___ |\\ | |  \\    |  | |___    [__  |    |__/ | |__]  |     \n",
    "|___ | \\| |__/    |__| |       ___] |___ |  \\ | |     |  ...\n",
    "                                                            \n",
    "____ ____ ____ ____ ___    _ _ _ ____ ____ _  _   /  /  /   \n",
    "| __ |__/ |___ |__|  |     | | | |  | |__/ |_/   /  /  /    \n",
    "|__] |  \\ |___ |  |  |     |_|_| |__| |  \\ | \\_ .  .  .     \n",
    "                                                            \n",
    "~~~"
   ]
  }
 ],
 "metadata": {
  "kernelspec": {
   "display_name": "Python 3",
   "language": "python",
   "name": "python3"
  },
  "language_info": {
   "codemirror_mode": {
    "name": "ipython",
    "version": 3
   },
   "file_extension": ".py",
   "mimetype": "text/x-python",
   "name": "python",
   "nbconvert_exporter": "python",
   "pygments_lexer": "ipython3",
   "version": "3.6.8"
  },
  "toc": {
   "base_numbering": "",
   "nav_menu": {},
   "number_sections": false,
   "sideBar": true,
   "skip_h1_title": false,
   "title_cell": "Table of Contents",
   "title_sidebar": "Contents",
   "toc_cell": false,
   "toc_position": {
    "height": "calc(100% - 180px)",
    "left": "10px",
    "top": "150px",
    "width": "259.2px"
   },
   "toc_section_display": true,
   "toc_window_display": false
  },
  "varInspector": {
   "cols": {
    "lenName": 16,
    "lenType": 16,
    "lenVar": 40
   },
   "kernels_config": {
    "python": {
     "delete_cmd_postfix": "",
     "delete_cmd_prefix": "del ",
     "library": "var_list.py",
     "varRefreshCmd": "print(var_dic_list())"
    },
    "r": {
     "delete_cmd_postfix": ") ",
     "delete_cmd_prefix": "rm(",
     "library": "var_list.r",
     "varRefreshCmd": "cat(var_dic_list()) "
    }
   },
   "types_to_exclude": [
    "module",
    "function",
    "builtin_function_or_method",
    "instance",
    "_Feature"
   ],
   "window_display": false
  }
 },
 "nbformat": 4,
 "nbformat_minor": 2
}
