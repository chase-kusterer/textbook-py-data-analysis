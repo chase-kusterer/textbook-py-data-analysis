{
 "cells": [
  {
   "cell_type": "markdown",
   "metadata": {
    "deletable": false,
    "editable": false,
    "run_control": {
     "frozen": true
    }
   },
   "source": [
    "<hr style=\"height:1px;border:none;color:#333;background-color:#333;\" />\n",
    "<hr style=\"height:1px;border:none;color:#333;background-color:#333;\" />\n",
    "<br><br><br>\n",
    "\n",
    "<h1>Python for Business Analytics</h1>\n",
    "<em>A Nontechnical Approach for Nontechnical People</em><br><br>\n",
    "<em><strong>Custom Edition for Hult International Business School</strong></em><br>\n",
    "Written by Chase Kusterer - Faculty of Analytics <br>\n",
    "Hult International Business School <br>\n",
    "<a href=\"https://github.com/chase-kusterer\">https://github.com/chase-kusterer</a> <br><br><br><br><br>\n",
    "\n",
    "<hr style=\"height:1px;border:none;color:#333;background-color:#333;\" />\n",
    "<hr style=\"height:1px;border:none;color:#333;background-color:#333;\" />\n",
    "\n",
    "<h2>Part II: Fundamental Coding Structures</h2>\n",
    "<br>\n",
    "<hr style=\"height:1px;border:none;color:#333;background-color:#333;\" />\n",
    "<hr style=\"height:1px;border:none;color:#333;background-color:#333;\" />\n",
    "<br>\n",
    "\n",
    "<h1><u>Chapter 4: Numbers, Comparisons, and Randomness</u></h1>"
   ]
  },
  {
   "cell_type": "markdown",
   "metadata": {
    "deletable": false,
    "editable": false,
    "run_control": {
     "frozen": true
    }
   },
   "source": [
    "Up to this point, we have covered basic operations related to printing, formatting text, and prompting users for <strong>input()</strong>. These, along with other skills such as working with optional arguments and exploring documentation files, will prove invaluable as we move into the next chapters. In this chapter, we will dive into another important building block: <strong>operands</strong>. Operands come in two basic forms: numerical and comparison. Having a thorough understanding of both is vital to our success as we move into more advanced programming concepts.\n",
    "<br><br>\n",
    "This chapter also extends beyond these concepts with random number generation. \n",
    "\n",
    "<br><br>\n",
    "<hr style=\"height:.9px;border:none;color:#333;background-color:#333;\" />\n",
    "<br>\n",
    "\n",
    "<h2>4.1 Numerical and Comparison Operands</h2>"
   ]
  },
  {
   "cell_type": "markdown",
   "metadata": {
    "deletable": false,
    "editable": false,
    "run_control": {
     "frozen": true
    }
   },
   "source": [
    "<br>As you may remember from <strong>Chapter 1 - Setting Up for Success</strong>, Python has been designed to be easy to learn, and numerical operands are no exception. To clarify, a <strong>numerical operand</strong> is a character that has a special meaning, allowing users to perform computational operations. For example, the <em><strong>+</strong></em> operand allows users to add two things together. These things can be numbers or something more exotic (for example, strings or more complicated objects). Below is a table of some of the more familiar numerical operands.\n",
    "<br><br>\n",
    "\n",
    "<table width=\"375\" align=\"left\">\n",
    "<col width=\"50\"; align=\"left\">\n",
    "<col width=\"150\">\n",
    "    <tr>\n",
    "        <th>Operand</th>\n",
    "        <th>Description</th>\n",
    "    </tr>\n",
    "    <tr>\n",
    "        <td> + </td>\n",
    "        <td> addition</td>\n",
    "    </tr>\n",
    "    <tr>\n",
    "    <tr>\n",
    "        <td> - </td>\n",
    "        <td> subtraction</td>\n",
    "    </tr>\n",
    "    <tr>\n",
    "        <td> * </td>\n",
    "        <td> multiplication</td>\n",
    "    </tr>   \n",
    "    <tr>\n",
    "        <td> / </td>\n",
    "        <td> division</td>\n",
    "    </tr>\n",
    "    <tr>\n",
    "        <td> % </td>\n",
    "        <td> modulus (remainder from division)</td>\n",
    "    </tr>\n",
    "    <tr>\n",
    "        <td> ** </td>\n",
    "        <td> exponentiation</td>\n",
    "    </tr>\n",
    "</table>"
   ]
  },
  {
   "cell_type": "markdown",
   "metadata": {
    "deletable": false,
    "editable": false,
    "run_control": {
     "frozen": true
    }
   },
   "source": [
    "<br>\n",
    "The order of operations in Python is the same as in standard mathematics, which can be denoted with the acronym PEMDAS (parentheses, expontentiation, multiplication/division; addition/subtraction). However, Python has a deeper set of operands (comparison operands). Many methods in Python take an input, make a calculation, and then do something based in its result. Therefore, our acronym needs to be extended to PEMDAS+. In other words, Python will first handle all PEMDAS computations before running any comparisons. Below is a table of comparison operands:\n",
    "<br><br>\n",
    "<table width=\"375\" align=\"left\">\n",
    "<col width=\"50\"; align=\"left\">\n",
    "<col width=\"150\">\n",
    "    <tr>\n",
    "        <th>Operand</th>\n",
    "        <th>Description</th>\n",
    "    </tr>\n",
    "    <tr>\n",
    "        <td> == </td>\n",
    "        <td> checks to see if two operands are equal</td>\n",
    "    </tr>\n",
    "    <tr>\n",
    "    <tr>\n",
    "        <td> != </td>\n",
    "        <td> Checks to see if two operands are not equal</td>\n",
    "    </tr>\n",
    "    <tr>\n",
    "        <td> > </td>\n",
    "        <td> greater than</td>\n",
    "    </tr>   \n",
    "    <tr>\n",
    "        <td> < </td>\n",
    "        <td> less than</td>\n",
    "    </tr>\n",
    "    <tr>\n",
    "        <td> >= </td>\n",
    "        <td> greater than or equal to</td>\n",
    "    </tr>\n",
    "    <tr>\n",
    "        <td> <= </td>\n",
    "        <td> less than or equal to</td>\n",
    "    </tr>\n",
    "</table>"
   ]
  },
  {
   "cell_type": "markdown",
   "metadata": {
    "deletable": false,
    "editable": false,
    "run_control": {
     "frozen": true
    }
   },
   "source": [
    "<hr style=\"height:.9px;border:none;color:#333;background-color:#333;\" /><br>\n",
    "\n",
    "<h2>4.2 Practice with Numerical and Comparison Operands</h2>\n",
    "\n",
    "The syntax in the two tables above should be familiar, but if you need a refresher before starting this section, feel free to consult any of the great resources you may have on hand or on the Internet. In the following exercises, try to guess the result of each calculation before checking the solutions.\n",
    "\n",
    "<br>"
   ]
  },
  {
   "cell_type": "code",
   "execution_count": null,
   "metadata": {
    "cell_style": "split",
    "deletable": false,
    "editable": false,
    "run_control": {
     "frozen": true
    },
    "solution2": "hidden",
    "solution2_first": true
   },
   "outputs": [],
   "source": [
    "## Code 4.2.1 ##\n",
    "\n",
    "5 * 2"
   ]
  },
  {
   "cell_type": "code",
   "execution_count": null,
   "metadata": {
    "cell_style": "split",
    "deletable": false,
    "editable": false,
    "run_control": {
     "frozen": true
    },
    "solution2": "hidden"
   },
   "outputs": [],
   "source": [
    "## Sample Solution 4.2.1 ##\n",
    "\n",
    "10"
   ]
  },
  {
   "cell_type": "markdown",
   "metadata": {
    "deletable": false,
    "editable": false,
    "run_control": {
     "frozen": true
    }
   },
   "source": [
    "<hr style=\"height:.9px;border:none;color:#333;background-color:#333;\" />"
   ]
  },
  {
   "cell_type": "code",
   "execution_count": null,
   "metadata": {
    "cell_style": "split",
    "deletable": false,
    "editable": false,
    "run_control": {
     "frozen": true
    },
    "solution2": "hidden",
    "solution2_first": true
   },
   "outputs": [],
   "source": [
    "## Code 4.2.2 ##\n",
    "\n",
    "3 + (5 * 2)"
   ]
  },
  {
   "cell_type": "code",
   "execution_count": null,
   "metadata": {
    "cell_style": "split",
    "deletable": false,
    "editable": false,
    "run_control": {
     "frozen": true
    },
    "solution2": "hidden"
   },
   "outputs": [],
   "source": [
    "## Sample Solution 4.2.2 ##\n",
    "\n",
    "13"
   ]
  },
  {
   "cell_type": "markdown",
   "metadata": {
    "deletable": false,
    "editable": false,
    "run_control": {
     "frozen": true
    }
   },
   "source": [
    "<hr style=\"height:.9px;border:none;color:#333;background-color:#333;\" />"
   ]
  },
  {
   "cell_type": "code",
   "execution_count": null,
   "metadata": {
    "cell_style": "split",
    "deletable": false,
    "editable": false,
    "run_control": {
     "frozen": true
    },
    "solution2": "hidden",
    "solution2_first": true
   },
   "outputs": [],
   "source": [
    "## Code 4.2.3 ##\n",
    "\n",
    "(3 + 5) * 2"
   ]
  },
  {
   "cell_type": "code",
   "execution_count": null,
   "metadata": {
    "cell_style": "split",
    "deletable": false,
    "editable": false,
    "run_control": {
     "frozen": true
    },
    "solution2": "hidden"
   },
   "outputs": [],
   "source": [
    "## Sample Solution 4.2.3 ##\n",
    "\n",
    "16"
   ]
  },
  {
   "cell_type": "markdown",
   "metadata": {
    "deletable": false,
    "editable": false,
    "run_control": {
     "frozen": true
    }
   },
   "source": [
    "<hr style=\"height:.9px;border:none;color:#333;background-color:#333;\" />"
   ]
  },
  {
   "cell_type": "code",
   "execution_count": null,
   "metadata": {
    "cell_style": "split",
    "deletable": false,
    "editable": false,
    "run_control": {
     "frozen": true
    },
    "solution2": "hidden",
    "solution2_first": true
   },
   "outputs": [],
   "source": [
    "## Code 4.2.4 ##\n",
    "\n",
    "(3 + 5) * 2 == (5 + 3) * 2"
   ]
  },
  {
   "cell_type": "code",
   "execution_count": null,
   "metadata": {
    "cell_style": "split",
    "deletable": false,
    "editable": false,
    "run_control": {
     "frozen": true
    },
    "solution2": "hidden"
   },
   "outputs": [],
   "source": [
    "## Sample Solution 4.2.4 ##\n",
    "\n",
    "True"
   ]
  },
  {
   "cell_type": "markdown",
   "metadata": {
    "deletable": false,
    "editable": false,
    "run_control": {
     "frozen": true
    }
   },
   "source": [
    "<hr style=\"height:.9px;border:none;color:#333;background-color:#333;\" />"
   ]
  },
  {
   "cell_type": "code",
   "execution_count": null,
   "metadata": {
    "cell_style": "split",
    "deletable": false,
    "editable": false,
    "run_control": {
     "frozen": true
    },
    "solution2": "hidden",
    "solution2_first": true
   },
   "outputs": [],
   "source": [
    "## Code 4.2.5 ##\n",
    "\n",
    "int(True)"
   ]
  },
  {
   "cell_type": "code",
   "execution_count": null,
   "metadata": {
    "cell_style": "split",
    "deletable": false,
    "editable": false,
    "run_control": {
     "frozen": true
    },
    "solution2": "hidden"
   },
   "outputs": [],
   "source": [
    "## Sample Solution 4.2.5 ##\n",
    "\n",
    "1"
   ]
  },
  {
   "cell_type": "markdown",
   "metadata": {
    "deletable": false,
    "editable": false,
    "run_control": {
     "frozen": true
    }
   },
   "source": [
    "<hr style=\"height:.9px;border:none;color:#333;background-color:#333;\" />"
   ]
  },
  {
   "cell_type": "code",
   "execution_count": null,
   "metadata": {
    "cell_style": "split",
    "deletable": false,
    "editable": false,
    "run_control": {
     "frozen": true
    },
    "solution2": "hidden",
    "solution2_first": true
   },
   "outputs": [],
   "source": [
    "## Code 4.2.6 ##\n",
    "\n",
    "10 * ((3 + 5) * 2 == (5 + 3) * 2)"
   ]
  },
  {
   "cell_type": "code",
   "execution_count": null,
   "metadata": {
    "cell_style": "split",
    "deletable": false,
    "editable": false,
    "run_control": {
     "frozen": true
    },
    "solution2": "hidden"
   },
   "outputs": [],
   "source": [
    "## Sample Solution 4.2.6 ##\n",
    "\n",
    "10"
   ]
  },
  {
   "cell_type": "markdown",
   "metadata": {
    "deletable": false,
    "editable": false,
    "run_control": {
     "frozen": true
    }
   },
   "source": [
    "<hr style=\"height:.9px;border:none;color:#333;background-color:#333;\" />"
   ]
  },
  {
   "cell_type": "code",
   "execution_count": null,
   "metadata": {
    "cell_style": "split",
    "deletable": false,
    "editable": false,
    "run_control": {
     "frozen": true
    },
    "solution2": "hidden",
    "solution2_first": true
   },
   "outputs": [],
   "source": [
    "## Code 4.2.7 ##\n",
    "\n",
    "(3 + 5) * 2 == 50"
   ]
  },
  {
   "cell_type": "code",
   "execution_count": null,
   "metadata": {
    "cell_style": "split",
    "deletable": false,
    "editable": false,
    "run_control": {
     "frozen": true
    },
    "solution2": "hidden"
   },
   "outputs": [],
   "source": [
    "## Sample Solution 4.2.7 ##\n",
    "\n",
    "False"
   ]
  },
  {
   "cell_type": "markdown",
   "metadata": {
    "cell_style": "center",
    "deletable": false,
    "editable": false,
    "run_control": {
     "frozen": true
    }
   },
   "source": [
    "<hr style=\"height:.9px;border:none;color:#333;background-color:#333;\" />"
   ]
  },
  {
   "cell_type": "code",
   "execution_count": null,
   "metadata": {
    "cell_style": "split",
    "deletable": false,
    "editable": false,
    "run_control": {
     "frozen": true
    },
    "solution2": "hidden",
    "solution2_first": true
   },
   "outputs": [],
   "source": [
    "## Code 4.2.8 ##\n",
    "\n",
    "int(False)"
   ]
  },
  {
   "cell_type": "code",
   "execution_count": null,
   "metadata": {
    "cell_style": "split",
    "deletable": false,
    "editable": false,
    "run_control": {
     "frozen": true
    },
    "solution2": "hidden"
   },
   "outputs": [],
   "source": [
    "## Sample Solution 4.2.8 ##\n",
    "\n",
    "0"
   ]
  },
  {
   "cell_type": "markdown",
   "metadata": {
    "deletable": false,
    "editable": false,
    "run_control": {
     "frozen": true
    }
   },
   "source": [
    "<hr style=\"height:.9px;border:none;color:#333;background-color:#333;\" />"
   ]
  },
  {
   "cell_type": "code",
   "execution_count": null,
   "metadata": {
    "cell_style": "split",
    "deletable": false,
    "editable": false,
    "run_control": {
     "frozen": true
    },
    "solution2": "hidden",
    "solution2_first": true
   },
   "outputs": [],
   "source": [
    "## Code 4.2.9 ##\n",
    "\n",
    "10 * ((3 + 5) * 2 == 50)"
   ]
  },
  {
   "cell_type": "code",
   "execution_count": null,
   "metadata": {
    "cell_style": "split",
    "deletable": false,
    "editable": false,
    "run_control": {
     "frozen": true
    },
    "solution2": "hidden"
   },
   "outputs": [],
   "source": [
    "## Sample Solution 4.2.9 ##\n",
    "\n",
    "0"
   ]
  },
  {
   "cell_type": "markdown",
   "metadata": {
    "deletable": false,
    "editable": false,
    "run_control": {
     "frozen": true
    }
   },
   "source": [
    "<hr style=\"height:.9px;border:none;color:#333;background-color:#333;\" />"
   ]
  },
  {
   "cell_type": "code",
   "execution_count": null,
   "metadata": {
    "cell_style": "split",
    "deletable": false,
    "editable": false,
    "run_control": {
     "frozen": true
    },
    "solution2": "hidden",
    "solution2_first": true
   },
   "outputs": [],
   "source": [
    "## Code 4.2.10 ##\n",
    "\n",
    "(3 + 5) * 2 != 50"
   ]
  },
  {
   "cell_type": "code",
   "execution_count": null,
   "metadata": {
    "cell_style": "split",
    "deletable": false,
    "editable": false,
    "run_control": {
     "frozen": true
    },
    "solution2": "hidden"
   },
   "outputs": [],
   "source": [
    "## Sample Solution 4.2.10 ##\n",
    "\n",
    "True"
   ]
  },
  {
   "cell_type": "markdown",
   "metadata": {
    "deletable": false,
    "editable": false,
    "run_control": {
     "frozen": true
    }
   },
   "source": [
    "<hr style=\"height:.9px;border:none;color:#333;background-color:#333;\" />"
   ]
  },
  {
   "cell_type": "markdown",
   "metadata": {
    "deletable": false,
    "editable": false,
    "run_control": {
     "frozen": true
    }
   },
   "source": [
    "<h3>4.3 Advanced Operand Practice</h3>\n",
    "Below are some additional practice exercieses. Again, try to determine the each result before revealing the solutions."
   ]
  },
  {
   "cell_type": "code",
   "execution_count": null,
   "metadata": {
    "cell_style": "split",
    "deletable": false,
    "editable": false,
    "run_control": {
     "frozen": true
    },
    "solution2": "hidden",
    "solution2_first": true
   },
   "outputs": [],
   "source": [
    "## Code 4.3.1 ##\n",
    "\n",
    "x = 2\n",
    "y = 3\n",
    "\n",
    "((x <= y) + (y == y)) / (x - y)"
   ]
  },
  {
   "cell_type": "code",
   "execution_count": null,
   "metadata": {
    "cell_style": "split",
    "deletable": false,
    "editable": false,
    "run_control": {
     "frozen": true
    },
    "solution2": "hidden"
   },
   "outputs": [],
   "source": [
    "## Sample Solution 4.3.1 ##\n",
    "\n",
    "-2.0\n",
    "\n",
    "\n"
   ]
  },
  {
   "cell_type": "markdown",
   "metadata": {
    "deletable": false,
    "editable": false,
    "run_control": {
     "frozen": true
    }
   },
   "source": [
    "<hr style=\"height:.9px;border:none;color:#333;background-color:#333;\" />"
   ]
  },
  {
   "cell_type": "code",
   "execution_count": null,
   "metadata": {
    "cell_style": "split",
    "deletable": false,
    "editable": false,
    "run_control": {
     "frozen": true
    },
    "solution2": "hidden",
    "solution2_first": true
   },
   "outputs": [],
   "source": [
    "## Code 4.3.2 ##\n",
    "\n",
    "obj_1 = 'apple'\n",
    "obj_2 = \"\"\"apple\"\"\"\n",
    "\n",
    "obj_1 == obj_2"
   ]
  },
  {
   "cell_type": "code",
   "execution_count": null,
   "metadata": {
    "cell_style": "split",
    "deletable": false,
    "editable": false,
    "run_control": {
     "frozen": true
    },
    "solution2": "hidden"
   },
   "outputs": [],
   "source": [
    "## Sample Solution 4.3.2 ##\n",
    "\n",
    "True\n",
    "\n",
    "\n"
   ]
  },
  {
   "cell_type": "markdown",
   "metadata": {
    "deletable": false,
    "editable": false,
    "run_control": {
     "frozen": true
    }
   },
   "source": [
    "<hr style=\"height:.9px;border:none;color:#333;background-color:#333;\" />"
   ]
  },
  {
   "cell_type": "code",
   "execution_count": null,
   "metadata": {
    "cell_style": "split",
    "deletable": false,
    "editable": false,
    "run_control": {
     "frozen": true
    },
    "solution2": "hidden",
    "solution2_first": true
   },
   "outputs": [],
   "source": [
    "## Code 4.3.3 ##\n",
    "\n",
    "obj_1 = 'orange'\n",
    "obj_2 = \"\"\"oRaNgE\"\"\"\n",
    "\n",
    "float(obj_1 == obj_2)"
   ]
  },
  {
   "cell_type": "code",
   "execution_count": null,
   "metadata": {
    "cell_style": "split",
    "deletable": false,
    "editable": false,
    "run_control": {
     "frozen": true
    },
    "solution2": "hidden"
   },
   "outputs": [],
   "source": [
    "## Sample Solution 4.3.3 ##\n",
    "\n",
    "0.0\n",
    "\n",
    "\n"
   ]
  },
  {
   "cell_type": "markdown",
   "metadata": {
    "deletable": false,
    "editable": false,
    "run_control": {
     "frozen": true
    }
   },
   "source": [
    "<hr style=\"height:.9px;border:none;color:#333;background-color:#333;\" />"
   ]
  },
  {
   "cell_type": "code",
   "execution_count": null,
   "metadata": {
    "cell_style": "split",
    "deletable": false,
    "editable": false,
    "run_control": {
     "frozen": true
    },
    "solution2": "hidden",
    "solution2_first": true
   },
   "outputs": [],
   "source": [
    "## Code 4.3.4 ##\n",
    "\n",
    "obj_1 = \"'grape'\"\n",
    "obj_2 = \"'grape'\"\n",
    "\n",
    "round(float(obj_1 == obj_2), 5000)"
   ]
  },
  {
   "cell_type": "code",
   "execution_count": null,
   "metadata": {
    "cell_style": "split",
    "deletable": false,
    "editable": false,
    "run_control": {
     "frozen": true
    },
    "solution2": "hidden"
   },
   "outputs": [],
   "source": [
    "## Sample Solution 4.3.4 ##\n",
    "\n",
    "1.0\n",
    "\n",
    "\n"
   ]
  },
  {
   "cell_type": "markdown",
   "metadata": {
    "deletable": false,
    "editable": false,
    "run_control": {
     "frozen": true
    }
   },
   "source": [
    "<hr style=\"height:.9px;border:none;color:#333;background-color:#333;\" />"
   ]
  },
  {
   "cell_type": "code",
   "execution_count": null,
   "metadata": {
    "cell_style": "split",
    "deletable": false,
    "editable": false,
    "run_control": {
     "frozen": true
    },
    "solution2": "hidden",
    "solution2_first": true
   },
   "outputs": [],
   "source": [
    "## Code 4.3.5 ##\n",
    "\n",
    "'apple' < 'grape'"
   ]
  },
  {
   "cell_type": "code",
   "execution_count": null,
   "metadata": {
    "cell_style": "split",
    "deletable": false,
    "editable": false,
    "run_control": {
     "frozen": true
    },
    "solution2": "hidden"
   },
   "outputs": [],
   "source": [
    "## Sample Solution 4.3.5 ##\n",
    "\n",
    "True"
   ]
  },
  {
   "cell_type": "markdown",
   "metadata": {
    "deletable": false,
    "editable": false,
    "run_control": {
     "frozen": true
    }
   },
   "source": [
    "<hr style=\"height:.9px;border:none;color:#333;background-color:#333;\" /><br>"
   ]
  },
  {
   "cell_type": "markdown",
   "metadata": {
    "cell_style": "split"
   },
   "source": [
    "<h3>4.4 Numerical Overwrites</h3>\n",
    "\n",
    "Oftentimes, programmers have the need to overwrite a stored numerical value, as in <em>Code 4.4.1</em>. This is quite easy to accomplish, but such an operation happens so frequently that Python contains a built-in shortcut. Instead of overwriting an object as follows:\n",
    "\n",
    "~~~\n",
    "x = x + 5\n",
    "~~~\n",
    "\n",
    "We can do so by combining the plus ( <em>+</em> ) and equals ( <em>=</em> ) signs in our code:\n",
    "\n",
    "~~~\n",
    "x += 5\n",
    "~~~\n",
    "\n",
    "This may seem like a trivial enhancement, and you may feel it is unnecessary to learn. However, keep in mind that other people are likely to use this syntax in their code, and as an analyst using Python, you will be expected to know what it means. Think of it as you would a <a href=\"https://dictionary.cambridge.org/grammar/british-grammar/writing/contractions\">contraction</a> in the English language. Even if you do not use them, they're very common in everyday speech.\n",
    "<br><br>\n",
    "Essentially, any standard numerical operand can be contracted by simply adding an equals sign after its syntax. Below is a modified table of the numerical operand syntax covered thus far. Feel free to play with them in the open coding block below the table.\n",
    "<br><br>\n",
    "\n",
    "<table width=\"300\" align=\"left\">\n",
    "<col width=\"50\"; align=\"left\">\n",
    "<col width=\"150\">\n",
    "    <tr>\n",
    "        <th>Operand</th>\n",
    "        <th>Description</th>\n",
    "    </tr>\n",
    "    <tr>\n",
    "        <td> += </td>\n",
    "        <td> addition and overwrite</td>\n",
    "    </tr>\n",
    "    <tr>\n",
    "    <tr>\n",
    "        <td> -= </td>\n",
    "        <td> subtraction and overwrite</td>\n",
    "    </tr>\n",
    "    <tr>\n",
    "        <td> *= </td>\n",
    "        <td> multiplication and overwrite</td>\n",
    "    </tr>   \n",
    "    <tr>\n",
    "        <td> /= </td>\n",
    "        <td> division and overwrite</td>\n",
    "    </tr>\n",
    "    <tr>\n",
    "        <td> %= </td>\n",
    "        <td> modulus and overwrite</td>\n",
    "    </tr>\n",
    "    <tr>\n",
    "        <td> **= </td>\n",
    "        <td> exponentiation and overwrite</td>\n",
    "    </tr>\n",
    "</table>"
   ]
  },
  {
   "cell_type": "markdown",
   "metadata": {
    "cell_style": "split",
    "deletable": false,
    "editable": false,
    "run_control": {
     "frozen": true
    }
   },
   "source": [
    "<br>"
   ]
  },
  {
   "cell_type": "code",
   "execution_count": null,
   "metadata": {
    "cell_style": "split",
    "deletable": false,
    "editable": false
   },
   "outputs": [],
   "source": [
    "## Code 4.4.1 ##\n",
    "\n",
    "# creating an object\n",
    "x = 5\n",
    "\n",
    "# overwriting the object\n",
    "x = x + 5\n",
    "\n",
    "# printing the object\n",
    "print(x)"
   ]
  },
  {
   "cell_type": "markdown",
   "metadata": {
    "cell_style": "split",
    "deletable": false,
    "editable": false,
    "run_control": {
     "frozen": true
    }
   },
   "source": [
    "<br>"
   ]
  },
  {
   "cell_type": "code",
   "execution_count": null,
   "metadata": {
    "cell_style": "split",
    "deletable": false,
    "editable": false
   },
   "outputs": [],
   "source": [
    "## Code 4.4.2 ##\n",
    "\n",
    "# creating an object\n",
    "x = 5\n",
    "\n",
    "# overwriting the object\n",
    "x += 5\n",
    "\n",
    "# printing the object\n",
    "print(x)"
   ]
  },
  {
   "cell_type": "markdown",
   "metadata": {
    "cell_style": "split",
    "deletable": false,
    "editable": false,
    "run_control": {
     "frozen": true
    }
   },
   "source": [
    "<br>"
   ]
  },
  {
   "cell_type": "code",
   "execution_count": null,
   "metadata": {
    "cell_style": "split"
   },
   "outputs": [],
   "source": [
    "## Code 4.4.3 ##\n",
    "\n",
    "# Open coding block\n",
    "\n",
    "\n",
    "\n",
    "\n"
   ]
  },
  {
   "cell_type": "markdown",
   "metadata": {
    "deletable": false,
    "editable": false,
    "run_control": {
     "frozen": true
    }
   },
   "source": [
    "<hr style=\"height:.9px;border:none;color:#333;background-color:#333;\" />"
   ]
  },
  {
   "cell_type": "markdown",
   "metadata": {
    "deletable": false,
    "editable": false,
    "run_control": {
     "frozen": true
    }
   },
   "source": [
    "<h3>4.5 Basic Randoms and Ranges</h3>\n",
    "\n",
    "In many cases, programs require a way to generate a random number or element. There are many packages in Python to help solve such a challenge, and in this chapter we will focus on those existing in the <strong>random</strong> package. As its name implies, <a href=\"https://docs.python.org/3.6/library/random\">the random package</a> contains several methods to generate random variables.<br>\n",
    "\n",
    "<h4>4.5.1 The Need for Different Types of Generators</h4>\n",
    "The field of random number generation is extremely interesting. This is partly because computers are not very good at doing things that they are not programmed to do. In other words, computers are not meant to be random. If this were <em>not</em> the case, tasks such as debugging would be incredibly difficult. This being said, computer scientists have developed methods to address this challenge. Essentially, random numbers come in two forms: pseudo-random and true random. According to <a href=\"https://www.howtogeek.com/183051/htg-explains-how-computers-generate-random-numbers/\">howtogeek.com</a>:\n",
    "<br><br><div align=\"center\"><em>\n",
    "    Computers can generate truly random numbers by observing some outside data,<br>\n",
    "    like mouse movements or fan noise, which is not predictable, and creating data from it.<br>This is known as entropy. Other times, they generate “pseudorandom” numbers by using<br>\n",
    "    an algorithm so the results appear random, even though they aren’t.\n",
    "</em><a class=\"tocSkip\"></a></div><br>\n",
    "When we ask a program to pick a random number, we are asking it to follow a sequence (i.e. an algorithm), resulting in a number being generated that only <em>appears</em> to be random. In fact, the computer is not being random at all, but instead is following its programming instructions as expected. For many programming challenges (including those covered in this chapter), pseudo-random number generation is a good solution as it is easy to implement and control. However, in fields such as security encryption, pseudo-random can be dangerous for the very reason that it can be predictable.\n",
    "<br><br>\n",
    "Random number generation also interesting because randomness makes it difficult to replicate results. If a researcher was attempting to confirm a study by a colleague, uncontrolled randomness would complicate this process. To hurdle this obstacle, most random number generators come with an optional <strong>seed</strong> argument. Essentially, a seed is a starting point in pseudo-random number generation. In other words, you can conceptualize a seed in random number generation as you would any other seed: they are the starting point for where something starts growing. For example, if we wanted to plant roses in our garden, we would bury rose seeds in the spots where we want our roses to grow. As another example, let's assume we wanted to select one number from the following sequence of ten numbers:<br><br>\n",
    "\n",
    "~~~\n",
    "0, 1, 1, 2, 3, 5, 8, 13, 21, 34\n",
    "~~~\n",
    "\n",
    "<br>If we do not set a seed (i.e. a starting point), each number would have a 10% chance of being selected. However, if we set a seed to start at, say, the fifth number, that number has a 100% chance of being selected. This becomes more useful in cases where we would like to select more than one number from a sequence. Also, as you might imagine, random number sequences are quite a bit more complex than the one above. Therefore, it is difficult to intuitively determine the results from using a given random seed.\n",
    "\n",
    "<h4>4.5.2 Random Number Generation and the Philosophy of Analytics</h4>\n",
    "Take a moment to ponder the following question:\n",
    "<br><br><div align=\"center\"><em><strong>\n",
    "    What is random?</strong>\n",
    "</em><a class=\"tocSkip\"></a></div><br>\n",
    "    \n",
    "Try to think of a random number between 1 and 100. How did you make your selection? If asked the same question again, do you feel you would have chosen a different number? Do you feel that all numbers between 1 and 100 had an equal chance of selection, or do you feel that your choice may have been biased? If you felt your selection was biased, select another number. Did you compensate for this bias? If so, do you feel your selection is more random, or more predictable?<br><br>\n",
    "Thought experiments such as this help shed light on an interesting notion: it may be completely infeasible to generate a truly random number. We all have biases, and as analysts it is our responsibility to acknowledge and minimize their effects on our endeavors. Each of our ideas should be supported by data, and our results should be replicable. Also, it is unlikely that the results of our analysis will fully reflect the phenomenon we wish to study without error. In fact, a common philosophy in statistics that the true value of something as fundamental as a population mean will never truly be known, and can only be estimated within a certain degree of confidence. This implies that we also need to keep an open mind when attaining results that go against our intuition (i.e. one of our biases). It is unlikely that we will ever generate truly random numbers, just as it is unlikely that we will ever truly attain results that are completely error-free. This perspective will become incredibly valuable when we venture into the chapters dedicated to data analysis.\n",
    "<br>\n",
    "<h4>4.5.3 Ranges</h4>\n",
    "In order to generate a random number in Python, we first need to specify a range of values in which to draw a random number from. In other words, we need to tell Python which values it is allowed to use. In Python, a <strong>range</strong> is a sequence of index values, and in simple terms, <strong>index</strong> means position. For example, each number in our previous sequence has its own position. This helps Python understand where each number is located, and allows us to do many powerful things (covered in <strong>Chapter 5 - Lists and List Operations</strong>). By default, indexes start at zero.\n",
    "<br><br>\n",
    "\n",
    "~~~\n",
    "Index:    0  |  1  |  2  |  3  |  4  |  5  |  6  |  7  |  8  |  9  |\n",
    "Value:    0  |  1  |  1  |  2  |  3  |  5  |  8  | 13  | 21  | 34  |\n",
    "~~~\n",
    "\n",
    "<br>\n",
    "<strong>Note:</strong> You may be wondering why sequences in Python start at zero and not one. This is because Python was engineered using concepts from linear algebra. If you are unfamiliar with linear algebra, think of the x- y- coordinate plane, where the origin is at point (0, 0). As our sequence above is one dimensional, its origin is point zero. Thus, Python uses this number as the first index value.\n",
    "<br>\n",
    "\n",
    "<h4>4.5.4 Generating Pseudo-Random Numbers in Python</h4>\n",
    "As stated earlier, we shall be utilizing the <strong>random</strong> package. This package is filled with a delightful set of methods that allow us to add randomness to our code. We shall start with importing <strong>random</strong> and using its <strong>randint()</strong> method. As always when using a new method for the first time, it is important to <strong>read the <a href=\"https://docs.python.org/3/library/random.html#random.randint\">Python documentation</a></strong>. Calling <strong>help()</strong> on this method gives the following result:\n",
    "<br><br><br>\n",
    "\n",
    "~~~\n",
    "Help on method randint in module random:\n",
    "\n",
    "randint(a, b) method of random.Random instance\n",
    "    Return random integer in range [a, b], including both end points.\n",
    "~~~\n",
    "\n",
    "<br><p>\n",
    "Notice two things in the <strong>help()</strong> documentation: the square brackets <em>[&nbsp;&nbsp;&nbsp;]</em> and that the range includes both endpoints. These two aspects of the <strong>help()</strong> file are redundant. In mathematics, square brackets imply that an end point is inclusive. Their counterpart, round brackets <em>(&nbsp;&nbsp;&nbsp;)</em>, imply the opposite. Little details such as whether or not a range includes endpoints are extremely important. As mentioned in previous chapters, spending a little time to better understand how a method works can save you hours in the long run.\n",
    "</p><br>\n",
    "Let's start making some random numbers!\n",
    "\n",
    "<br><hr style=\"height:.9px;border:none;color:#333;background-color:#333;\" />"
   ]
  },
  {
   "cell_type": "code",
   "execution_count": null,
   "metadata": {
    "deletable": false,
    "editable": false
   },
   "outputs": [],
   "source": [
    "## Code 4.5.1 ##\n",
    "\n",
    "# importing random (don't forget to do this!)\n",
    "import random"
   ]
  },
  {
   "cell_type": "markdown",
   "metadata": {
    "deletable": false,
    "editable": false,
    "run_control": {
     "frozen": true
    }
   },
   "source": [
    "<br>"
   ]
  },
  {
   "cell_type": "code",
   "execution_count": null,
   "metadata": {
    "deletable": false,
    "editable": false
   },
   "outputs": [],
   "source": [
    "## Code 4.5.2 ##\n",
    "\n",
    "# spacing out my code so that it is more read\n",
    "random.randint(a = 1,  # spacing out my code so\n",
    "               b = 10) # that it is more readable"
   ]
  },
  {
   "cell_type": "markdown",
   "metadata": {
    "deletable": false,
    "editable": false,
    "run_control": {
     "frozen": true
    }
   },
   "source": [
    "<hr style=\"height:.9px;border:none;color:#333;background-color:#333;\" /><br>\n",
    "\n",
    "Woo hoo! We've just generated a random number! Notice how if you run this <em>Code 4.5.2</em> again, it will generate a different number. This is a perfect opportunity to create a guessing game. <em>Code 4.5.3</em> is open for you to create. Try to build something that:\n",
    "1. asks a user to play your guessing game\n",
    "2. prompts a user to make a guess\n",
    "3. generates a random number between 1 and 10\n",
    "4. prints whether or not the answer was correct\n",
    "\n",
    "You have all the skills you need to accomplish this task, so have fun!\n",
    "\n",
    "<br><hr style=\"height:.9px;border:none;color:#333;background-color:#333;\" />"
   ]
  },
  {
   "cell_type": "code",
   "execution_count": null,
   "metadata": {
    "solution2": "shown",
    "solution2_first": true
   },
   "outputs": [],
   "source": [
    "## Code 4.5.3 ##\n",
    "\n",
    "# Open coding block\n",
    "\n",
    "\n",
    "\n",
    "\n",
    "\n",
    "\n",
    "\n",
    "\n",
    "\n",
    "\n",
    "\n",
    "\n"
   ]
  },
  {
   "cell_type": "code",
   "execution_count": null,
   "metadata": {
    "deletable": false,
    "editable": false,
    "solution2": "shown"
   },
   "outputs": [],
   "source": [
    "## Sample Solution 4.5.3 ##\n",
    "\n",
    "# user input\n",
    "print('Can you guess the number I am thinking of?')\n",
    "guess = input('Pick a number between 1 and 10.\\n')\n",
    "\n",
    "# turning guess into an integer\n",
    "guess = int(guess)\n",
    "\n",
    "# generating a random number\n",
    "number = random.randint(a = 1,\n",
    "                        b = 10)\n",
    "\n",
    "print(f\"\"\"\n",
    "Did you guess correctly (True/False)?\n",
    "{guess == number}\n",
    "\n",
    "I was thinking of the number {number}!\n",
    "\"\"\")"
   ]
  },
  {
   "cell_type": "markdown",
   "metadata": {
    "deletable": false,
    "editable": false,
    "run_control": {
     "frozen": true
    }
   },
   "source": [
    "<hr style=\"height:.9px;border:none;color:#333;background-color:#333;\" /><br>\n",
    "Remember, we can set a seed so that we always get the same result. This becomes very important in later chapters. For now, however, we can use this technique to <em>game</em> our guessing game. This is, potentially, a great way to impress your friends that do not know how to read code, and the method <strong>random.seed()</strong> will help us in doing so. If this is your first time using this method, take a minute to look at the help documentation (it briefly explains how the random package generates random numbers... interesting, right!).\n",
    "<br><br>\n",
    "<hr style=\"height:.9px;border:none;color:#333;background-color:#333;\" />"
   ]
  },
  {
   "cell_type": "code",
   "execution_count": null,
   "metadata": {
    "deletable": false,
    "editable": false
   },
   "outputs": [],
   "source": [
    "## Code 4.5.4 ##\n",
    "\n",
    "random.seed(508)\n",
    "\n",
    "# user input\n",
    "print('Can you guess the number I am thinking of?')\n",
    "guess = input('Pick a number between 1 and 10.\\n')\n",
    "\n",
    "# turning guess into an integer\n",
    "guess = int(guess)\n",
    "\n",
    "# generating a random number\n",
    "number = random.randint(a = 1,\n",
    "                        b = 10)\n",
    "\n",
    "print(f\"\"\"\n",
    "Did you guess correctly (True/False)?\n",
    "{guess == number}\n",
    "\n",
    "I was thinking of the number {number}!\n",
    "\"\"\")"
   ]
  },
  {
   "cell_type": "markdown",
   "metadata": {
    "deletable": false,
    "editable": false,
    "run_control": {
     "frozen": true
    }
   },
   "source": [
    "<hr style=\"height:.9px;border:none;color:#333;background-color:#333;\" /><br>\n",
    "\n",
    "<h2>4.6 Summary</h2>\n",
    "\n",
    "<br>\n",
    "\n",
    "~~~\n",
    "  _    _ _       _        __ _           _ \n",
    " | |  | (_)     | |      / _(_)         | |\n",
    " | |__| |_  __ _| |__   | |_ ___   _____| |\n",
    " |  __  | |/ _` | '_ \\  |  _| \\ \\ / / _ \\ |\n",
    " | |  | | | (_| | | | | | | | |\\ V /  __/_|\n",
    " |_|  |_|_|\\__, |_| |_| |_| |_| \\_/ \\___(_)\n",
    "            __/ |                          \n",
    "           |___/                           \n",
    "~~~                                                                         \n",
    "\n",
    "<br>\n",
    "There is much, much more to learn about random number generation in Python. However, we will save these conversations for a later chapter. For now, feel good about yourself for moving a little further in your Python journey."
   ]
  },
  {
   "cell_type": "markdown",
   "metadata": {
    "deletable": false,
    "editable": false,
    "run_control": {
     "frozen": true
    }
   },
   "source": [
    " "
   ]
  },
  {
   "cell_type": "markdown",
   "metadata": {
    "deletable": false,
    "editable": false,
    "run_control": {
     "frozen": true
    }
   },
   "source": [
    "<hr style=\"height:.9px;border:none;color:#333;background-color:#333;\" />\n",
    "<hr style=\"height:.9px;border:none;color:#333;background-color:#333;\" />\n",
    "<hr style=\"height:.9px;border:none;color:#333;background-color:#333;\" />\n",
    "<hr style=\"height:.9px;border:none;color:#333;background-color:#333;\" />\n",
    "<br>\n",
    "\n",
    "<h1><u>Chapter 5: Lists and List Operations</u></h1>"
   ]
  },
  {
   "cell_type": "markdown",
   "metadata": {
    "deletable": false,
    "editable": false,
    "run_control": {
     "frozen": true
    }
   },
   "source": [
    "<h2>5.1 Why Lists are Important</h2>\n",
    "\n",
    "Having learned the basics of indexes in the previous chapter, we are ready to understand the value of declaring lists. For our purposes:<br><br>\n",
    "\n",
    "<div align=\"center\"><h3>\n",
    "    Lists are a way to better organize our information.\n",
    "<a class=\"tocSkip\"></a></h3></div><br>\n",
    "\n",
    "Our goal with lists is to store more than one item in the same place. You can think of this as declaring one object that holds many things. Conceptually, lists are the simplest of Python's four built-in data structures (lists, tuples, dictionaries, and sets), and are something that you must be comfortable with before conducting data analysis in Python. They are used very frequently, and your time spent understanding them will pay dividends on your ability to grasp more advanced concepts in Python.\n",
    "<br><br>\n",
    "<h4>A special note for Excel users:</h4>\n",
    "If you're used to working with Excel sheets, also known as flat files, please note that these exist in Python as well. We call these DataFrames, and they are housed in the <strong>pandas</strong> package. You may be wondering:<br><br>\n",
    "\n",
    "<div align=\"center\"><em>\"Why do I need to learn about lists if I can use a data structure that I'm more familiar with?\"</em></div>\n",
    "\n",
    "This mentality held me back when I was first learning to code. I was used to my data being structured in a spreadsheet format and expected it to always be this way. It also didn't help that in most cases, data science competitions provided data in some sort of spreadsheet format, or something that could easily be converted into one. I did not fully understand the value of other data structures until I started to work on real projects. In the real world, data comes in <em>many</em> formats, and in today's world of analytics, you will be expected to do much more than work with flat files.\n",
    "\n",
    "The key lesson to keep in mind is that <strong>coding involves a different type of thinking than working with software such as Excel</strong>. You will not regret the time invested in learning how to work with different data structures.<br><br>\n",
    "\n",
    "<hr style=\"height:.9px;border:none;color:#333;background-color:#333;\" /><br>\n",
    "\n",
    "<h2>5.2 Declaring a List</h2>\n",
    "\n",
    "Declaring a list is very similar to declaring any of the objects we have covered in previous chapters. In fact, declaring almost anything in Python is very similar to what we have already covered."
   ]
  },
  {
   "cell_type": "markdown",
   "metadata": {
    "cell_style": "split",
    "deletable": false,
    "editable": false,
    "run_control": {
     "frozen": true
    }
   },
   "source": [
    "<em>Codes 5.2.1</em> and <em>5.2.2</em> are virtually the same. The only difference is that in the latter, we added <strong>square brackets</strong> <em>[ ]</em> around the item being stored. The square brackets tell Python that we are creating a list. We can even declare a list with nothing inside of it. This idea may seem bizarre, but it is actually done quite often. We will explain the rationale for this when we discuss <strong>for loops</strong> in a later chapter.\n",
    "<br><br>\n",
    "Notice that the output of the <strong>print()</strong> statement in *Code 5.2.2* also has square brackets. This is to inform you that *my_list* is a list and not a scalar (single) variable. This is also apparent when using the <strong>type()</strong> wrapper around each object, as in <em>Code 5.2.3</em>. As can be observed, the objects <em>my_variable</em> and <em>my_list</em> are of different classes.<br><br>\n",
    "\n",
    "<h4>A Brief Explanation of Classes</h4>\n",
    "A <strong>class</strong> is a template to create objects. When we created <em>my_variable</em>, we created an object that stores an integer. Integers are very common in Python, thus they have a template (i.e. a class). Classes help to ensure that objects behave the way that they are supposed to so that programmers don't get unexpected results. More information on classes can be found in <a href=\"https://docs.python.org/3.7/tutorial/classes.html\">the Python Documentation</a>.<br><br>\n",
    "\n",
    "<h4>Returning to Lists</h4>\n",
    "Since <em>my_variable</em> and <em>my_list</em> are of different classes, they are not the same type of object. Therefore, we cannot expect them to behave in the same way. To exemplify this, see <em>Code 5.2.4</em>. Even though both objects contain the value 5, we do not get the same result when applying simple numerical operands such as multiplication. Again,<br><br>\n",
    "\n",
    "<div align=\"center\"><h4><em>Coding involves a different type of thinking.</em></h4></div><br>\n",
    "\n",
    "Knowing that these objects are of different classes informs you that they are not intended to work in the same way. In fact, one of the first places to check when your code is not working properly is your object types."
   ]
  },
  {
   "cell_type": "markdown",
   "metadata": {
    "cell_style": "split",
    "deletable": false,
    "editable": false,
    "run_control": {
     "frozen": true
    }
   },
   "source": [
    "<br>"
   ]
  },
  {
   "cell_type": "code",
   "execution_count": null,
   "metadata": {
    "cell_style": "split",
    "deletable": false,
    "editable": false
   },
   "outputs": [],
   "source": [
    "## Code 5.2.1 ##\n",
    "\n",
    "# Declaring a variable\n",
    "my_variable = 5\n",
    "\n",
    "print(my_variable)"
   ]
  },
  {
   "cell_type": "markdown",
   "metadata": {
    "cell_style": "split",
    "deletable": false,
    "editable": false,
    "run_control": {
     "frozen": true
    }
   },
   "source": [
    "<br>"
   ]
  },
  {
   "cell_type": "code",
   "execution_count": null,
   "metadata": {
    "cell_style": "split",
    "deletable": false,
    "editable": false
   },
   "outputs": [],
   "source": [
    "## Code 5.2.2 ##\n",
    "\n",
    "# Declaring a list\n",
    "my_list = [5]\n",
    "\n",
    "print(my_list)"
   ]
  },
  {
   "cell_type": "markdown",
   "metadata": {
    "cell_style": "split",
    "deletable": false,
    "editable": false,
    "run_control": {
     "frozen": true
    }
   },
   "source": [
    "<br>"
   ]
  },
  {
   "cell_type": "code",
   "execution_count": null,
   "metadata": {
    "cell_style": "split",
    "deletable": false,
    "editable": false
   },
   "outputs": [],
   "source": [
    "## Code 5.2.3 ##\n",
    "\n",
    "# Printing object types\n",
    "print(f\"\"\"\n",
    "my_variable is of type:  {type(my_variable)}\n",
    "my_list is of type: \\t {type(my_list)}\n",
    "\"\"\")"
   ]
  },
  {
   "cell_type": "markdown",
   "metadata": {
    "cell_style": "split",
    "deletable": false,
    "editable": false,
    "run_control": {
     "frozen": true
    }
   },
   "source": [
    "<br>"
   ]
  },
  {
   "cell_type": "code",
   "execution_count": null,
   "metadata": {
    "cell_style": "split",
    "deletable": false,
    "editable": false
   },
   "outputs": [],
   "source": [
    "## Code 2.2.4 ##\n",
    "\n",
    "# Applying basic operations\n",
    "print(f\"\"\"\n",
    "my_variable * 2 = {my_variable * 2}\n",
    "my_list     * 2 = {my_list * 2}\n",
    "\"\"\")"
   ]
  },
  {
   "cell_type": "markdown",
   "metadata": {
    "deletable": false,
    "editable": false,
    "run_control": {
     "frozen": true
    }
   },
   "source": [
    "<hr style=\"height:.9px;border:none;color:#333;background-color:#333;\" /><br>\n",
    "\n",
    "<h2>5.3 The Advantages of Lists Over Several Independent Objects</h2>\n",
    "\n",
    "Lists have several advantages over creating a large amount of individual objects. In the context of coding for analytics, lists have three of the primary advantages. They are:\n",
    "\n",
    "* Mutatable   (i.e. easy to change)\n",
    "* Extensible  (i.e. easy to add new items/quantities)\n",
    "* Convertable (i.e. from a list to a DataFrame)\n",
    "\n",
    "In this chapter, we will work with some of the code from <strong>Project Chapter 5 - Preparing for a Party</strong>. To get started, we need to load some required base objects. This has been done in <em>Code 5.3.1</em>, where three lists are being declared to store the names and amounts of various food items. These lists are then being stored into a master list named <em>food_n_beverage</em>."
   ]
  },
  {
   "cell_type": "code",
   "execution_count": null,
   "metadata": {
    "deletable": false,
    "editable": false
   },
   "outputs": [],
   "source": [
    "## Code 5.3.1 ##\n",
    "\n",
    "# Required from Project Chapter 5\n",
    "\n",
    "chips           = ['bags of chips', 50]\n",
    "salsa           = ['jars of salsa', 25]\n",
    "still_water     = ['liters of still water', 100]\n",
    "\n",
    "food_n_beverage = [chips, salsa, still_water]"
   ]
  },
  {
   "cell_type": "markdown",
   "metadata": {
    "deletable": false,
    "editable": false,
    "run_control": {
     "frozen": true
    }
   },
   "source": [
    "<br><br>\n",
    "\n",
    "Before moving forward, notice a few characteristics of the lists created in <em>Code 5.3.1</em>. First, the lists <em>chips</em>, <em>salsa</em>, and <em>still_water</em> each contain more than one object type (strings and integers). This is no problem for Python. Also notice that <em>food_n_beverage</em> is a list of lists. Since lists are similar to any of our other object types, Python can handle this as well.\n",
    "\n",
    "<h3>Lists are mutable.</h3>\n",
    "\n",
    "If we needed more chips, we could simply change the amount of chips in the chips object. Notice that after doing so, we need to make sure to rerun our <em>food_n_beverage</em> object so that it contains this new information.\n",
    "\n",
    "<br><br>"
   ]
  },
  {
   "cell_type": "code",
   "execution_count": null,
   "metadata": {
    "deletable": false,
    "editable": false
   },
   "outputs": [],
   "source": [
    "## Code 5.3.2 ##\n",
    "\n",
    "chips           = ['bags of chips', 75] # changed to 75\n",
    "salsa           = ['jars of salsa', 25]\n",
    "still_water     = ['liters of still water', 100]\n",
    "\n",
    "food_n_beverage = [chips, salsa, still_water]\n",
    "\n",
    "# Printing the current food and beverage list\n",
    "print(food_n_beverage)"
   ]
  },
  {
   "cell_type": "markdown",
   "metadata": {
    "deletable": false,
    "editable": false,
    "run_control": {
     "frozen": true
    }
   },
   "source": [
    "<br><br>\n",
    "\n",
    "<h3>Lists are extensible.</h3>\n",
    "\n",
    "We can add new items to lists in several different ways. For example, we can use the <strong>.append()</strong> method to add something to the end of a list. We will cover more methods for adding items to lists later in this chapter.\n",
    "\n",
    "<br><br>"
   ]
  },
  {
   "cell_type": "code",
   "execution_count": null,
   "metadata": {
    "deletable": false,
    "editable": false
   },
   "outputs": [],
   "source": [
    "## Code 5.3.3 ##\n",
    "\n",
    "sparkling_water = ['liters sparkling water', 100]\n",
    "\n",
    "food_n_beverage.append(sparkling_water) # appending the list\n",
    "\n",
    "print(food_n_beverage)"
   ]
  },
  {
   "cell_type": "markdown",
   "metadata": {
    "deletable": false,
    "editable": false,
    "run_control": {
     "frozen": true
    }
   },
   "source": [
    "<br><br>\n",
    "\n",
    "<h3>Lists are convertable.</h3>\n",
    "\n",
    "Lists are easy to convert into other object types. Although this is beyond our current scope, <em>Code 5.3.4</em> converts our <em>food_n_beverage</em> list into a pandas DataFrame (i.e. Python's equivalent of a spreadsheet). This simple process will be explained in more detail in a later chapter.\n",
    "\n",
    "<br><br>"
   ]
  },
  {
   "cell_type": "code",
   "execution_count": null,
   "metadata": {
    "deletable": false,
    "editable": false
   },
   "outputs": [],
   "source": [
    "## Code 5.3.4 ##\n",
    "\n",
    "import pandas as pd\n",
    "\n",
    "food_n_beverage_df = pd.DataFrame(food_n_beverage) # df is short for DataFrame\n",
    "\n",
    "print(food_n_beverage_df)"
   ]
  },
  {
   "cell_type": "markdown",
   "metadata": {
    "deletable": false,
    "editable": false,
    "run_control": {
     "frozen": true
    }
   },
   "source": [
    "<br><br>\n",
    "\n",
    "The conversion in <em>Code 5.3.4</em> becomes even more powerful when using common DataFrame features. Such features are exemplified in <em>Code 5.3.5</em>, where each column is being named and the <em>Item</em> column is being used as an index. Performing the latter allows us to search for each item by name instead of its index number.\n",
    "\n",
    "<br><br>"
   ]
  },
  {
   "cell_type": "code",
   "execution_count": null,
   "metadata": {
    "deletable": false,
    "editable": false
   },
   "outputs": [],
   "source": [
    "## Code 5.3.5 ##\n",
    "\n",
    "food_n_beverage_df = pd.DataFrame(food_n_beverage,\n",
    "                                  columns = ['Item', 'Quantity'])\n",
    "\n",
    "food_n_beverage_df.set_index('Item',\n",
    "                             inplace = True)\n",
    "\n",
    "print(food_n_beverage_df)"
   ]
  },
  {
   "cell_type": "markdown",
   "metadata": {
    "deletable": false,
    "editable": false,
    "run_control": {
     "frozen": true
    }
   },
   "source": [
    "<hr style=\"height:.9px;border:none;color:#333;background-color:#333;\" /><br>\n",
    "\n",
    "<h2>5.4 Accessing List Elements</h2>"
   ]
  },
  {
   "cell_type": "markdown",
   "metadata": {
    "deletable": false,
    "editable": false,
    "run_control": {
     "frozen": true
    }
   },
   "source": [
    "Mastering how to access list elements will pay off greatly in the future. This technique is applicable in a wide array of situations, such as accessing elements in more complex data structures, filtering and subsetting, and creating new columns in a dataset. As you may have noticed, the foods (chips and salsa) are at the beginning of the <em>food_n_beverage</em> list. These can be accessed by referencing each element's <strong>index</strong> value.<br><br>\n",
    "\n",
    "<h3>Indexing in Python</h3>\n",
    "\n",
    "Consider the following list:\n",
    "\n",
    "~~~\n",
    "['first', 'second', 'third']\n",
    "~~~\n",
    "\n",
    "Reiterating from the previous chapter, <strong>indexing in Python starts at 0.</strong> Therefore, the first element of a list is at index 0. You can think of this like the x- y-coordinate plane in geometry, where (0, 0) represents the origin, or where the x-axis meets the y-axis. There are two common methods for indexing lists: forward and backward.\n",
    "<br><br>\n",
    "<strong>To index forward</strong>, place a <em>non-negative</em> number in brackets immediately after a list (i.e. example_list[0]). This will access the list's first element.\n",
    "<br><br>\n",
    "<strong>To index backward</strong>, use a <em>negative</em> number instead of a non-negative number (i.e. example_list[-1]). The <em>-1</em> represents the last element of a list, implying that <em>-2</em> represents the second to last element, <em>-3</em> the third to last, and so on. \n",
    "<br><br>\n",
    "<strong>Slicing an index</strong> refers to pulling more than one sequential value from a list (i.e. example_list[0:2]). Lists can also be sliced by specifying multiple index values, separated by a semi-colon (i.e. example_list[0:2; 5]).\n",
    "\n",
    "<strong>Note:</strong> The last value in an index slice is exclusive, meaning it is not included as part of the slice.\n",
    "\n",
    "<br>"
   ]
  },
  {
   "cell_type": "code",
   "execution_count": null,
   "metadata": {
    "deletable": false,
    "editable": false
   },
   "outputs": [],
   "source": [
    "## Code 5.4.1 ##\n",
    "\n",
    "example_list = ['first', 'second', 'third']\n",
    "\n",
    "# Printing the first element of the list (forward indexing)\n",
    "print(example_list[0])"
   ]
  },
  {
   "cell_type": "markdown",
   "metadata": {
    "deletable": false,
    "editable": false,
    "run_control": {
     "frozen": true
    }
   },
   "source": [
    "<br>"
   ]
  },
  {
   "cell_type": "code",
   "execution_count": null,
   "metadata": {
    "deletable": false,
    "editable": false
   },
   "outputs": [],
   "source": [
    "## Code 5.4.2 ##\n",
    "\n",
    "# Printing the last element of the list (backward indexing)\n",
    "print(example_list[-1])"
   ]
  },
  {
   "cell_type": "markdown",
   "metadata": {
    "deletable": false,
    "editable": false,
    "run_control": {
     "frozen": true
    }
   },
   "source": [
    "<br>"
   ]
  },
  {
   "cell_type": "code",
   "execution_count": null,
   "metadata": {
    "deletable": false,
    "editable": false
   },
   "outputs": [],
   "source": [
    "## Code 5.4.3 ##\n",
    "\n",
    "# Slicing the first and second elements of the list\n",
    "print(example_list[0:2])"
   ]
  },
  {
   "cell_type": "markdown",
   "metadata": {
    "deletable": false,
    "editable": false,
    "run_control": {
     "frozen": true
    }
   },
   "source": [
    "<br>"
   ]
  },
  {
   "cell_type": "code",
   "execution_count": null,
   "metadata": {
    "deletable": false,
    "editable": false
   },
   "outputs": [],
   "source": [
    "## Code 2.4.4 ##\n",
    "\n",
    "# Equating forward and backwards slicing methods\n",
    "example_list[0:2] == example_list[-3:-1]"
   ]
  },
  {
   "cell_type": "markdown",
   "metadata": {
    "deletable": false,
    "editable": false,
    "run_control": {
     "frozen": true
    }
   },
   "source": [
    "<strong>Note:</strong> More information related to data structures and their methods can be found in <a href=\"https://docs.python.org/3/tutorial/datastructures.html\">the Python documentation</a>."
   ]
  },
  {
   "cell_type": "markdown",
   "metadata": {
    "deletable": false,
    "editable": false,
    "run_control": {
     "frozen": true
    }
   },
   "source": [
    "<br><hr style=\"height:.9px;border:none;color:#333;background-color:#333;\" /><br>\n",
    "\n",
    "<h2>5.5 Adding Items to a List</h2>\n",
    "\n",
    "In this section, we will cover three methods to add items to a list: <strong>.append()</strong>, <strong>.insert()</strong>, and <strong>.extend()</strong>.\n",
    "<br>\n",
    "<h3>list.append()</h3>\n",
    "\n",
    "The method <strong>.append()</strong> adds a single object to the end of a list. This object can be of any data type (string, integer, float, etc.). It can even be a more complex structure such as another list or a tuple. <em>Code 5.5.2</em> is an example as to how to use <strong>.append()</strong>. Try running this code block several times to see what happens to <em>example_list</em>.<br><br>"
   ]
  },
  {
   "cell_type": "code",
   "execution_count": null,
   "metadata": {
    "deletable": false,
    "editable": false
   },
   "outputs": [],
   "source": [
    "## Code 5.5.1 ##\n",
    "\n",
    "# Creating a list\n",
    "example_list = [7]"
   ]
  },
  {
   "cell_type": "markdown",
   "metadata": {
    "deletable": false,
    "editable": false,
    "run_control": {
     "frozen": true
    }
   },
   "source": [
    "<br>"
   ]
  },
  {
   "cell_type": "code",
   "execution_count": null,
   "metadata": {
    "deletable": false,
    "editable": false
   },
   "outputs": [],
   "source": [
    "## Code 5.5.2 ##\n",
    "\n",
    "# Appending the list\n",
    "example_list.append(9)\n",
    "\n",
    "# Printing the results\n",
    "print(example_list)"
   ]
  },
  {
   "cell_type": "markdown",
   "metadata": {
    "deletable": false,
    "editable": false,
    "run_control": {
     "frozen": true
    }
   },
   "source": [
    "<br>\n",
    "\n",
    "<h3>list.insert()</h3>\n",
    "\n",
    "The method <strong>.insert()</strong> takes two arguments: an index and an object. You can consider this as a more complex version of the <strong>.append()</strong> method, giving you the flexibility to choose in which position you would like to insert an item. This method works as follows: list.insert(<em>index = where you want to insert your object</em>, <em>object = what you want to insert</em>). As with other methods, it is not required to specify each argument by name. As long as the arguments are kept in order, this method should work as expected.\n",
    "<br><br>\n",
    "Be careful: <strong>.insert()</strong> places an object in the position you specify and shifts the positions of the following list objects one place to the right. In other words, the index value of list items after the position of your insert are one value higher than their original index. <em>Code 5.5.3</em> exemplifies the use of this method.\n",
    "\n",
    "<br><br>"
   ]
  },
  {
   "cell_type": "code",
   "execution_count": null,
   "metadata": {
    "deletable": false,
    "editable": false
   },
   "outputs": [],
   "source": [
    "## Code 5.5.3 ##\n",
    "\n",
    "# Resetting example_list\n",
    "example_list = [7, 9]\n",
    "\n",
    "# Inserting at the beginning of the list\n",
    "example_list.insert(0, 6)\n",
    "\n",
    "# Inserting in the middle of the list\n",
    "example_list.insert(2, 8)\n",
    "\n",
    "# Inserting at the end of the list\n",
    "example_list.insert(4, 10)\n",
    "\n",
    "# Printing the results\n",
    "print(example_list)"
   ]
  },
  {
   "cell_type": "markdown",
   "metadata": {
    "deletable": false,
    "editable": false,
    "run_control": {
     "frozen": true
    }
   },
   "source": [
    "<br>\n",
    "\n",
    "Notice what happens when we try to use backward indexing to insert an item at the end of the list (<em>Code 5.5.4</em>). As can be observed, our result is not as we expected. However, this makes perfect sense."
   ]
  },
  {
   "cell_type": "markdown",
   "metadata": {
    "cell_style": "split",
    "deletable": false,
    "editable": false,
    "run_control": {
     "frozen": true
    }
   },
   "source": [
    "<strong>.insert()</strong> added a new item to the end of the existing list. Since there was already an object at the end of the list, it was shifted one place to the right. Obviously, this was not what we intended. Your first thought may be to try indexing at <em>-0</em> instead of <em>-1</em>, but Python will treat <em>-0</em> as it treats <em>0</em> and insert at the beginning of the list. We could also simply count the number of items that are currently in the list, but this is not always feasible given that our list is changing size with each <strong>.insert()</strong>.\n",
    "<br><br>\n",
    "Instead, we can employ the <a href=\"https://docs.python.org/3/library/functions.html\">built-in function len()</a> to solve this challenge. The purpose of <strong>len()</strong> is to count the number of items in a container (an object that can hold more than one item). Therefore, this function will adapt to the changing size of our list, making it an ideal solution for what we are trying to achieve. This has been done in <em>Code 5.5.5</em>."
   ]
  },
  {
   "cell_type": "markdown",
   "metadata": {
    "cell_style": "split",
    "deletable": false,
    "editable": false,
    "run_control": {
     "frozen": true
    }
   },
   "source": [
    "<br>"
   ]
  },
  {
   "cell_type": "code",
   "execution_count": null,
   "metadata": {
    "cell_style": "split",
    "deletable": false,
    "editable": false
   },
   "outputs": [],
   "source": [
    "## Code 5.5.4 ##\n",
    "\n",
    "example_list.insert(-1, 11)\n",
    "\n",
    "print(example_list)"
   ]
  },
  {
   "cell_type": "markdown",
   "metadata": {
    "cell_style": "split",
    "deletable": false,
    "editable": false,
    "run_control": {
     "frozen": true
    }
   },
   "source": [
    "<br>"
   ]
  },
  {
   "cell_type": "code",
   "execution_count": null,
   "metadata": {
    "cell_style": "split",
    "deletable": false,
    "editable": false
   },
   "outputs": [],
   "source": [
    "## Code 5.5.5 ##\n",
    "\n",
    "# Resetting example_list\n",
    "example_list = [6, 7, 8, 9, 10]\n",
    "\n",
    "example_list.insert(len(example_list),\n",
    "                    11)\n",
    "\n",
    "print(example_list)"
   ]
  },
  {
   "cell_type": "markdown",
   "metadata": {
    "deletable": false,
    "editable": false,
    "run_control": {
     "frozen": true
    }
   },
   "source": [
    "<h3>list.extend()</h3>\n",
    "\n",
    "The method <strong>.extend()</strong> is useful when you need to append multiple objects to the end of a list. It takes an <strong>iterable</strong> as its only argument. The word <strong>iterable</strong> is programming jargon for something that can be operated over sequentially. In other words, an <strong>iterable</strong> is a series of objects that can be processed one-by-one. Each of our lists are examples of iterables.\n",
    "<br><br>\n",
    "If we used <strong>.extend()</strong> to add the values of <em>example_list</em> to another list (<em>my_list</em> in <em>Code 5.5.6</em>), it would add each element in <em>example_list</em> sequentially. If we instead used the <strong>.append()</strong> method, <em>example_list</em> would be added as a single item (a list). This can be observed in <em>Code 5.5.7</em>.\n",
    "\n",
    "<br>"
   ]
  },
  {
   "cell_type": "code",
   "execution_count": null,
   "metadata": {
    "cell_style": "split",
    "deletable": false,
    "editable": false
   },
   "outputs": [],
   "source": [
    "## Code 5.5.6 ##\n",
    "\n",
    "# Creating a new list\n",
    "my_list = [1, 2, 3, 4, 5]\n",
    "\n",
    "# Extending the list\n",
    "my_list.extend(example_list)\n",
    "\n",
    "# Printing the list\n",
    "print(my_list)"
   ]
  },
  {
   "cell_type": "code",
   "execution_count": null,
   "metadata": {
    "cell_style": "split",
    "deletable": false,
    "editable": false
   },
   "outputs": [],
   "source": [
    "## Code 5.5.7 ##\n",
    "\n",
    "# Resetting the list\n",
    "my_list = [1, 2, 3, 4, 5]\n",
    "\n",
    "# Appending the list\n",
    "my_list.append(example_list)\n",
    "\n",
    "# Printing the list\n",
    "print(my_list)"
   ]
  },
  {
   "cell_type": "markdown",
   "metadata": {
    "deletable": false,
    "editable": false,
    "run_control": {
     "frozen": true
    }
   },
   "source": [
    "<hr style=\"height:.9px;border:none;color:#333;background-color:#333;\" /><br>\n",
    "\n",
    "<h2>5.6 The Elegance of Simplicity</h2>\n",
    "\n",
    "<strong>.extend()</strong> was designed to add items to the end of a list. This being stated, what if we wanted to add multiple items to the beginning of a list? For example, what if we wanted to add foods to the beginning of the <em>food_n_beverage</em> list mentioned in the beginning of this chapter? We could take the long and tedious approach of coding several <strong>.insert()</strong> statements, but there is a more elegant solution. To get there, let's analyze our current situation:\n",
    "<br><br>\n",
    "\n",
    "<strong>Current Situation</strong><pre>\n",
    "<u>Goal</u>:             Add multiple items to the beginning of a list.\n",
    "<u>Optimal Solution</u>: One line of code.\n",
    "<u>Rationale</u>:        One chunk of code will be easy to update/maintain/reuse.\n",
    "\n",
    "<u>Drawback(s) of Current Techniques</u>\n",
    "<strong>.insert()</strong> - more than one line of code is needed\n",
    "<strong>.extend()</strong> - adds to the end of a list, not the beginning\n",
    "</pre>\n"
   ]
  },
  {
   "cell_type": "markdown",
   "metadata": {
    "deletable": false,
    "editable": false,
    "run_control": {
     "frozen": true
    }
   },
   "source": [
    "We could attempt to feed more than one object into <strong>.insert()</strong> as in <em>Code 5.6.1</em>, but this will generate a <strong>TypeError</strong>. Type errors occur when we provide a method with an object type that it was not designed to handle. In the case of <em>Code 5.6.1</em>, we have provided the <strong>.insert()</strong> method with list for the index argument. Unfortunately for us, the index argument for <strong>.insert()</strong> must be an integer. This makes perfect sense, as indexes are integers. Also, as <strong>.insert()</strong> is one of Python's built-in base functions, it is very likely that its designers wanted to keep it as simple and stable as possible. This also makes a lot of sense, as other programmers can use <strong>.insert()</strong> to build more advanced functions without having to worry about unexpected results.\n",
    "\n",
    "<br>"
   ]
  },
  {
   "cell_type": "code",
   "execution_count": null,
   "metadata": {
    "deletable": false,
    "editable": false,
    "run_control": {
     "frozen": true
    }
   },
   "outputs": [],
   "source": [
    "# Code 5.6.1 ##\n",
    "\n",
    "food_n_beverage.insert([0,1], [['avocados', 10],\n",
    "                                ['bananas', 10]])\n",
    "\n",
    "\"\"\"\n",
    "---------------------------------------------------------------------------\n",
    "TypeError                                 Traceback (most recent call last)\n",
    "<ipython-input-28-e8dc5f2de52c> in <module>\n",
    "      2 \n",
    "      3 food_n_beverage.insert([0,1], [['avocados', 10],\n",
    "----> 4                                 ['bananas', 10]])\n",
    "\n",
    "TypeError: 'list' object cannot be interpreted as an integer\n",
    "\"\"\""
   ]
  },
  {
   "cell_type": "markdown",
   "metadata": {
    "deletable": false,
    "editable": false,
    "run_control": {
     "frozen": true
    }
   },
   "source": [
    "<hr style=\"height:.9px;border:none;color:#333;background-color:#333;\" /><br>\n",
    "\n",
    "Let's consider <strong>.extend()</strong> from <em>Code 5.5.6</em>. This method takes one and only one argument: the iterable to sequentially append to the end of a list. Although this method does not natively solve our problem, what if we restructured our problem instead of our solution? In other words, what if we:\n",
    "\n",
    "1. Reversed our list so that foods are at the end\n",
    "2. Used the <strong>.extend()</strong> method to add new foods\n",
    "3. Reversed the list again so that foods are back at the beginning\n",
    "\n",
    "This would solve our problem, and we can use a wonderful method named <strong>.reverse()</strong> to help accomplish this. How did I know about this method? I read <a href=\"https://docs.python.org/3/tutorial/datastructures.html\">the Python documentation</a> related to lists. If you skipped over this link in Section 5.4 above, now is a good time to do your research. Let's apply this method and see if it solves our problem."
   ]
  },
  {
   "cell_type": "markdown",
   "metadata": {
    "cell_style": "split",
    "deletable": false,
    "editable": false,
    "run_control": {
     "frozen": true
    }
   },
   "source": [
    "<h3>Reversing a list with .reverse()</h3>\n",
    "\n",
    "For lists, the <strong>.reverse()</strong> method does exactly as its name implies: it reverses the order of a list. We can see this from <em>Codes 5.6.2</em> and <em>5.6.3</em>.\n",
    "<br><br>\n",
    "<strong>We need to be careful to remember whether or not our list is reversed.</strong> As this is our first time working with <strong>.reverse()</strong>, it is best to take a conservative approach and create a new object for the reversed-version of our list (<em>Code 5.6.4</em>). In doing so, we also need to be careful not to copy our original list in the wrong way.\n",
    "<br>\n",
    "<h3>The <em>Wrong</em> Way to Copy Lists</h3>\n",
    "\n",
    "Before we learn how to do this the right way, let's see what happens when we copy an object in the <em>wrong</em> way. In <em>Code 5.6.4</em>, we have created a new object (<em>rev_my_list</em>) with the intention of using it to make our reversal while preserving the integrity of our original list (<em>my_list</em>).\n",
    "<br><br>\n",
    "So far, everything appears to be working properly. However, notice what happens to <em>my_list</em> in <em>Code 5.6.5</em>. Our change to <em>rev_my_list</em> also changed <em>my_list</em>. This may seem strange, but this is the way objects work in Python. When we ran:\n",
    "\n",
    "~~~\n",
    "rev_my_list = my_list\n",
    "~~~\n",
    "\n",
    "in <em>Code 5.6.5</em>, we created two objects that share the same address. In other words, the lists are two different names for the same object. Changing either list will affect both of them. This is better observed by the use of the built-in function <strong>id()</strong> in <em>Code 5.6.6</em>. We can resolve this problem by using the method <strong>.copy()</strong>.\n",
    "<br><br>\n",
    "<h3>Copying a list with .copy()</h3>\n",
    "\n",
    "In short, the method <strong>.copy()</strong> makes a copy of an object, storing it in a new address. In the context of our lists, this will prevent both lists from changing when we use <strong>.reverse()</strong> and <strong>.extend()</strong>. This has been done in <em>Code 5.6.7</em>. As can be observed, using <strong>.copy()</strong> prevents the undue consequence of two objects being effected by each other's changes. We have arrived at our intended result, and covered some of the key components of lists and list operations along the way.\n",
    "<br>\n",
    "<h3>Wrapping Up</h3>\n",
    "\n",
    "At the time of this writing, Python 3 has 11 built-in methods for lists, which can be found in <a href=\"https://docs.python.org/3/tutorial/datastructures.html\">the Python documentation</a>. Masting the ones presented in this chapter, as well as indexing and slicing, shall provide a strong foundation to move forward into more advanced concepts. <strong>Project Chapter 5 - Preparing for a Party</strong> is designed to help you achieve such mastery.\n",
    "<br><br><br><br><br><br><br><br><br><br><br><br><br><br><br>"
   ]
  },
  {
   "cell_type": "markdown",
   "metadata": {
    "cell_style": "split",
    "deletable": false,
    "editable": false,
    "run_control": {
     "frozen": true
    }
   },
   "source": [
    "<br>"
   ]
  },
  {
   "cell_type": "code",
   "execution_count": null,
   "metadata": {
    "cell_style": "split",
    "deletable": false,
    "editable": false
   },
   "outputs": [],
   "source": [
    "## Code 5.6.2 ##\n",
    "\n",
    "my_list = [1, 2, 3, 4, 5]\n",
    "\n",
    "print(my_list)"
   ]
  },
  {
   "cell_type": "markdown",
   "metadata": {
    "cell_style": "split",
    "deletable": false,
    "editable": false,
    "run_control": {
     "frozen": true
    }
   },
   "source": [
    "<br>"
   ]
  },
  {
   "cell_type": "code",
   "execution_count": null,
   "metadata": {
    "cell_style": "split",
    "deletable": false,
    "editable": false
   },
   "outputs": [],
   "source": [
    "## Code 5.6.3 ##\n",
    "\n",
    "my_list.reverse()\n",
    "\n",
    "print(my_list)"
   ]
  },
  {
   "cell_type": "markdown",
   "metadata": {
    "cell_style": "split",
    "deletable": false,
    "editable": false,
    "run_control": {
     "frozen": true
    }
   },
   "source": [
    "<br>"
   ]
  },
  {
   "cell_type": "code",
   "execution_count": null,
   "metadata": {
    "cell_style": "split",
    "deletable": false,
    "editable": false
   },
   "outputs": [],
   "source": [
    "## Code 5.6.4 ##\n",
    "\n",
    "my_list = [1, 2, 3, 4, 5]\n",
    "\n",
    "# The WRONG way to copy lists\n",
    "rev_my_list = my_list\n",
    "\n",
    "print(f\"\"\"\n",
    "my_list:     {my_list}\n",
    "rev_my_list: {rev_my_list}\n",
    "\"\"\")"
   ]
  },
  {
   "cell_type": "markdown",
   "metadata": {
    "cell_style": "split",
    "deletable": false,
    "editable": false,
    "run_control": {
     "frozen": true
    }
   },
   "source": [
    "<br>"
   ]
  },
  {
   "cell_type": "code",
   "execution_count": null,
   "metadata": {
    "cell_style": "split",
    "deletable": false,
    "editable": false
   },
   "outputs": [],
   "source": [
    "## Code 5.6.5 ##\n",
    "\n",
    "# Reversing my_list\n",
    "rev_my_list.reverse()\n",
    "\n",
    "# Extending rev_my_list with new items\n",
    "rev_my_list.extend([0, -1])\n",
    "\n",
    "# Reversing the list back to original form\n",
    "rev_my_list.reverse()\n",
    "\n",
    "# Printing the result\n",
    "print(f\"\"\"\n",
    "my_list:     {my_list}\n",
    "rev_my_list: {rev_my_list}\n",
    "\"\"\")"
   ]
  },
  {
   "cell_type": "markdown",
   "metadata": {
    "cell_style": "split",
    "deletable": false,
    "editable": false,
    "run_control": {
     "frozen": true
    }
   },
   "source": [
    "<br>"
   ]
  },
  {
   "cell_type": "code",
   "execution_count": null,
   "metadata": {
    "cell_style": "split",
    "deletable": false,
    "editable": false
   },
   "outputs": [],
   "source": [
    "## Code 5.6.5 ##\n",
    "\n",
    "# Reversing my_list\n",
    "rev_my_list.reverse()\n",
    "\n",
    "# Extending rev_my_list with new items\n",
    "rev_my_list.extend([0, -1])\n",
    "\n",
    "# Reversing the list back to original form\n",
    "rev_my_list.reverse()\n",
    "\n",
    "# Printing the result\n",
    "print(f\"\"\"\n",
    "my_list:     {my_list}\n",
    "rev_my_list: {rev_my_list}\n",
    "\"\"\")"
   ]
  },
  {
   "cell_type": "code",
   "execution_count": null,
   "metadata": {
    "deletable": false,
    "editable": false
   },
   "outputs": [],
   "source": [
    "## Code 5.6.7 ##\n",
    "\n",
    "# Resetting my_list\n",
    "my_list = [5, 6, 7, 8]\n",
    "\n",
    "# Copying my_list\n",
    "rev_my_list = my_list.copy()\n",
    "\n",
    "# Reversing rev_my_list\n",
    "rev_my_list.reverse()\n",
    "\n",
    "# Extending rev_my_list with new items\n",
    "rev_my_list.extend([4, 3, 2, 1])\n",
    "\n",
    "# Reversing rev_my_list\n",
    "rev_my_list.reverse()\n",
    "\n",
    "# Printing the result\n",
    "print(f\"\"\"\n",
    "my_list:     {my_list}\n",
    "rev_my_list: {rev_my_list}\n",
    "\"\"\")"
   ]
  },
  {
   "cell_type": "markdown",
   "metadata": {
    "deletable": false,
    "editable": false,
    "run_control": {
     "frozen": true
    }
   },
   "source": [
    "<br>\n",
    "\n",
    "~~~\n",
    " ______  _                                 _     _ \n",
    "|  ___ \\(_)                               | |   | |\n",
    "| |   | |_  ____ ____    _ _ _  ___   ____| |  _| |\n",
    "| |   | | |/ ___) _  )  | | | |/ _ \\ / ___) | / )_|\n",
    "| |   | | ( (__( (/ /   | | | | |_| | |   | |< ( _ \n",
    "|_|   |_|_|\\____)____)   \\____|\\___/|_|   |_| \\_)_|\n",
    "                                                   \n",
    "~~~"
   ]
  },
  {
   "cell_type": "markdown",
   "metadata": {
    "deletable": false,
    "editable": false,
    "run_control": {
     "frozen": true
    }
   },
   "source": [
    "<br>"
   ]
  },
  {
   "cell_type": "markdown",
   "metadata": {
    "deletable": false,
    "editable": false,
    "run_control": {
     "frozen": true
    }
   },
   "source": [
    "<hr style=\"height:.9px;border:none;color:#333;background-color:#333;\" />\n",
    "<hr style=\"height:.9px;border:none;color:#333;background-color:#333;\" />\n",
    "<hr style=\"height:.9px;border:none;color:#333;background-color:#333;\" />\n",
    "<hr style=\"height:.9px;border:none;color:#333;background-color:#333;\" />\n",
    "<br>\n",
    "\n",
    "<h1><u>Chapter 6: Conditional Statements and Controlling Input</u></h1>"
   ]
  },
  {
   "cell_type": "markdown",
   "metadata": {
    "deletable": false,
    "editable": false,
    "run_control": {
     "frozen": true
    }
   },
   "source": [
    "Up to this point, we have covered several fundamental coding principles. Now, we are ready to dive into more advanced structures, starting with techniques to conditionally control a code's output. In short, we are ready to discuss conditional statements. A <strong>conditional statement</strong> (also known as a conditional) is a coding syntax that runs if a given condition is met. Conditional statements are very common in the real world. Take, for example, the following statement:\n",
    "<br><br>\n",
    "\n",
    "~~~\n",
    "If it's raining, the baseball game will be canceled.\n",
    "Otherwise, the game will take place as scheduled.\n",
    "~~~\n",
    "\n",
    "<br>\n",
    "As generally in the real world, Python conditional statements start with the word <em>if</em>. The syntax for the alternative statement (<em>'otherwise'</em> in the example above), is <em>else</em>. In the case of the statement above, if it is not raining, the condition to cancel the game is not met and the thus is disregarded. This is better exemplified in the following expansion of our baseball example:\n",
    "<br><br>\n",
    "\n",
    "~~~\n",
    "If it's raining, the baseball game will be canceled and we will email all of the people\n",
    "that bought tickets. We also have to issue refunds, and will do so by directly\n",
    "crediting people's credit cards. Since some people paid in cash, we will provide them\n",
    "with a cash voucher in the email that can be redeemed within the next 90 days. Also,\n",
    "since some people may have traveled a long distance to attend the game, we need to make\n",
    "sure to remind them that our Terms and Conditions state that we are not responsible for reimbursing travel expenses. Finally, we should inform our call center that they may\n",
    "receive a high call volume given the situation. \n",
    "\n",
    "Otherwise, the game will take place as scheduled.\n",
    "~~~\n",
    "\n",
    "<br>\n",
    "Compared to the first example, the second takes longer to read and process. It would be incredibly inefficient if we were required to read and process all instructions for every conceivable situation every time there was a baseball game, especially if the conditions for each instruction were not met. Python feels the same way, and takes a similar, pragmatic approach.\n",
    "\n",
    "<h4>A Note to Excel Users</h4>\n",
    "The syntax covered in the chapter is very similar to the <a href=\"https://support.office.com/en-us/article/if-function-69aed7c9-4e8a-4755-a9bc-aa8bbff73be2\">IF function in Excel</a>:\n",
    "<br><br>\n",
    "\n",
    "~~~\n",
    "IF(logical test, [value if true], [value if false])\n",
    "~~~\n",
    "\n",
    "<br>\n",
    "This function is excellent and has tremendous value. However, you have also likely experienced the frustration of debugging an IF function with multiple criteria:<br><br>\n",
    "\n",
    "~~~\n",
    "IF(logical test, [value if true], IF(logical test, [value if true], IF(logical test,\n",
    "[value if true], IF(logical test, [value if true], IF(logical test, [value if true], IF(logical test, [value if true], IF(logical test, [value if true], [value if\n",
    "false])))))))\n",
    "~~~\n",
    "\n",
    "<br>\n",
    "As you will discover, this concept in Python is quite powerful and much easier to organize. Another advantage of using Python for such syntax is that the code is much easier to replicate when new data is available (i.e. new spreadsheets).\n",
    "\n",
    "<br><hr style=\"height:.9px;border:none;color:#333;background-color:#333;\" /><br>\n",
    "\n",
    "<h2>6.1 Python's Pragmatic Approach to Conditional Statements</h2><br>"
   ]
  },
  {
   "cell_type": "markdown",
   "metadata": {
    "deletable": false,
    "editable": false,
    "run_control": {
     "frozen": true
    }
   },
   "source": [
    "<br><br>\n",
    "<div style = \"width:image width px; font-size:80%; text-align:center;\"><img src= ./Images/chapter_6_fig_61_conditional_statement_if.png width=\"500\" height=\"300\" style=\"padding-bottom:0.5em;\"> <em>Figure 6.1: Conceptual Drawing of a Conditional Statement</em></div>"
   ]
  },
  {
   "cell_type": "markdown",
   "metadata": {
    "deletable": false,
    "editable": false,
    "run_control": {
     "frozen": true
    }
   },
   "source": [
    "<em>Figure 6.1</em> portrays a conceptual drawing of a conditional statement. As can be observed, <strong>if</strong> a condition is true, Python will change the path it follows to the code of this condition. Thus, Python pretends that the other code path does not exist. Once Python is finished running the conditional code, it returns to the main path. Think of this as you would the phrase:\n",
    "\n",
    "<div align=\"center\"><h4>\n",
    "    Out of sight, out of mind.\n",
    "<a class=\"tocSkip\"></a></h4></div><br></div>\n",
    "When Python reads a conditional statement, it makes a decision as to which path to take based on whether or not its condition is true. <strong>This is not AI</strong>. The computer is not thinking; it is simply following pre-written instructions. You'd be incredibly surprised at what some charlatans of the trade will try to market as AI to the ignorant buyer. It is my hope that by the end of this book you will be better educated in making such distinctions.\n",
    "<br>"
   ]
  },
  {
   "cell_type": "markdown",
   "metadata": {
    "cell_style": "split",
    "deletable": false,
    "editable": false,
    "run_control": {
     "frozen": true
    }
   },
   "source": [
    "<em>Code 6.6.1</em> contains a basic conditional and <em>Figure 6.2</em> explains its anatomy. The first line of a conditional statement starts with the word <strong>if</strong> and ends with a <strong>semicolon</strong> ( <strong>:</strong> ). This informs Python to check to see if the condition in between these two syntaxes is true or false. In other words, the conditional statement in <em>Code 6.1.1</em> is checking to see if <em>people</em> is greater than <em>chairs</em>. After this, one of three things will occur:\n",
    "\n",
    "* If the condition is <strong>true</strong>, Python will run the indented code under the statement.\n",
    "* If the condition is <strong>false</strong>, Python will ignore all of the indented code and resume processing when it sees a line of code that is not indented.\n",
    "* An error will occur, as will be discussed later in this chapter.\n",
    "\n",
    "In Python, <strong>indentation is very important.</strong> It is a critical component of conditional statements, loops, and functions. You can think of it as a special character that tells Python where it can skip code and where it must resume, allowing it to process your code more efficiently.\n",
    "<br><br><br><br><br><br>"
   ]
  },
  {
   "cell_type": "markdown",
   "metadata": {
    "cell_style": "split",
    "deletable": false,
    "editable": false,
    "run_control": {
     "frozen": true
    }
   },
   "source": [
    "<br>"
   ]
  },
  {
   "cell_type": "code",
   "execution_count": null,
   "metadata": {
    "cell_style": "split",
    "deletable": false,
    "editable": false
   },
   "outputs": [],
   "source": [
    "## Code 6.1.1 ##\n",
    "\n",
    "# declaring objects\n",
    "people = 100\n",
    "chairs = 50\n",
    "\n",
    "# creating a condition\n",
    "if people > chairs:\n",
    "    print('We need more chairs!')"
   ]
  },
  {
   "cell_type": "markdown",
   "metadata": {
    "cell_style": "split",
    "deletable": false,
    "editable": false,
    "run_control": {
     "frozen": true
    }
   },
   "source": [
    "<br>"
   ]
  },
  {
   "cell_type": "markdown",
   "metadata": {
    "cell_style": "split",
    "deletable": false,
    "editable": false,
    "run_control": {
     "frozen": true
    }
   },
   "source": [
    "<div style = \"width:image width px; font-size:80%; text-align:center;\"><img src= ./Images/chapter_6_fig_62_anatomy_of_conditional_statement.png width=\"1000\" height=\"600\" style=\"padding-bottom:0.5em;\"> <em>Figure 6.2: Anatomy of a Conditional Statement</em></div>"
   ]
  },
  {
   "cell_type": "markdown",
   "metadata": {
    "deletable": false,
    "editable": false,
    "run_control": {
     "frozen": true
    }
   },
   "source": [
    "<br><br>In <em>Code 6.1.1</em>, the condition is met and the <strong>print()</strong> statement runs. However, what if we wanted to display a message when the condition is <em>not</em> met? This is easily done with the use of an <strong>else</strong> clause. Essentially, an <strong>else</strong> clause runs in the event that the criteria given in an <strong>if</strong> statement is not met. This syntax is not mandatory, but can add a lot of value to your code. This can be exemplified from a modified version of the baseball example at the beginning of this chapter:\n",
    "<br><br>\n",
    "\n",
    "~~~\n",
    "IF it's raining...\n",
    "\n",
    "ELSE, the game will take place as scheduled.\n",
    "~~~\n",
    "\n",
    "<br>\n",
    "Without the <strong>else</strong> clause, there would be no instructions to start playing the game! Common sense dictates that the game will start without the need for explicit instructions, but programs do not share the same common sense as humans. This lack of common intuition is similar to a story from when my uncle was in rodeo:\n",
    "<br><br>\n",
    "\n",
    "<hr style=\"height:.9px;border:none;color:#333;background-color:#333;\" />\n",
    "\n",
    "<br><div align=\"center\">\n",
    "One time, my uncle was carpooling to a rodeo competition with two other people. In order to be at their<br>\n",
    "best, he and one of his carpool mates decided they would sleep until they arrived at the competition.<br>\n",
    "The person they left responsible for driving was not the brightest of bulbs, but the only thing he needed<br>\n",
    "to do was stay on the same road the entire time. My uncle and the other passenger instructed him to:\n",
    "<br><br>\n",
    "    <strong><em>Stay on this road and don't get off for any reason!</em></strong>\n",
    "<br><br>\n",
    "Later, they awoke to find that the driver did as requested, but had driven two hours past the exit<br>\n",
    "for the competition. On a side note, while the driver was competing in the rodeo, he got bucked<br>\n",
    "off his steer and landed on his head. His head was didn't injured, but somehow he broke his foot.\n",
    "<a class=\"tocSkip\"></div><br>\n",
    "\n",
    "<hr style=\"height:.9px;border:none;color:#333;background-color:#333;\" />"
   ]
  },
  {
   "cell_type": "markdown",
   "metadata": {
    "cell_style": "split",
    "deletable": false,
    "editable": false,
    "run_control": {
     "frozen": true
    }
   },
   "source": [
    "<br><br><em>Code 6.1.2</em> is a modification of <em>Code 6.1.1</em>. In this code, since <em>chairs</em> is greater than <em>people</em>, the <strong>else</strong> statement runs instead of the <strong>if</strong> statement. Notice how the <strong>else</strong> clause does not contain a condition. This is because it only runs if all previous conditions are not met. Also notice how the <strong>else</strong> clause is on the margin, also known as Column 0. When Python realized the condition in the <strong>if</strong> statement was not met, it ignored all indented code and jumped to the next line at Column 0. This reemphasizes the importance of indents."
   ]
  },
  {
   "cell_type": "code",
   "execution_count": null,
   "metadata": {
    "cell_style": "split",
    "deletable": false,
    "editable": false
   },
   "outputs": [],
   "source": [
    "## Code 6.1.2 ##\n",
    "\n",
    "# declaring objects\n",
    "people = 100\n",
    "chairs = 150 # changed to 150\n",
    "\n",
    "# creating a condition\n",
    "if people > chairs:\n",
    "    print('We need more chairs!')\n",
    "\n",
    "# writing an else clause (not indented)\n",
    "else:\n",
    "    print('We have enough chairs.')"
   ]
  },
  {
   "cell_type": "markdown",
   "metadata": {
    "deletable": false,
    "editable": false,
    "run_control": {
     "frozen": true
    }
   },
   "source": [
    "<br><hr style=\"height:.9px;border:none;color:#333;background-color:#333;\" /><br>\n",
    "<h2>6.2 Different Actions for Different Conditions</h2>"
   ]
  },
  {
   "cell_type": "markdown",
   "metadata": {
    "cell_style": "split",
    "deletable": false,
    "editable": false,
    "run_control": {
     "frozen": true
    }
   },
   "source": [
    "<br>Conditionals in Python can be extended to include different actions for different conditions. This can be conceptualized as in <em>Figure 6.3</em>, and can be extended as many times as needed. The syntax to extend a conditional is <strong>elif</strong>, and it has the same anatomy as an <strong>if</strong> statement. As can be observed from <em>Code 6.2.1</em>, <strong>elif</strong> statements are placed at Column 0. This tells Python if the condition in the first statement is not met, read the next conditional statement. If that condition is also not met, continue until you find an <strong>else</strong> clause, or another line of code on Column 0.\n",
    "<br><br><br><br><br>\n",
    "<h4>What happens if more than one condition is met?</h4>\n",
    "In many situations, the conditions from more than one statement may be met (i.e. both the <strong>if</strong> and <strong>elif</strong> statements evaluate to true). In cases such as these, only the first condition will run. Remember, once Python finds a conditional statement that evaluates to true, it ignores all of the other conditional statements, even if their conditions are more suitable for a given situation. In other words, if the conditions of the <strong>if</strong> statement are true, Python will skip over all of its following conditional statements (<strong>elif</strong> and <strong>else</strong>). Order matters, so make sure you organize your code according to the way you would like it to run. This concept is exemplified in <em>Codes 6.2.2</em> and <em>6.2.3</em>."
   ]
  },
  {
   "cell_type": "markdown",
   "metadata": {
    "cell_style": "split",
    "deletable": false,
    "editable": false,
    "run_control": {
     "frozen": true
    }
   },
   "source": [
    "<br><br><div style = \"width:image width px; font-size:80%; text-align:center;\"><img src= ./Images/chapter_6_fig_63_conditional_statement_elif.png width=\"400\" height=\"200\" style=\"padding-bottom:0.5em;\"> <em>Figure 6.3: Conceptual Drawing of an Extended Conditional Statement</em></div><br><br>"
   ]
  },
  {
   "cell_type": "code",
   "execution_count": null,
   "metadata": {
    "cell_style": "split",
    "deletable": false,
    "editable": false
   },
   "outputs": [],
   "source": [
    "## Code 6.2.1 ##\n",
    "\n",
    "# declaring objects\n",
    "people = 100\n",
    "chairs = 150\n",
    "\n",
    "# writing a conditional statement\n",
    "if people > chairs:\n",
    "    print('We need more chairs!')\n",
    "\n",
    "elif people == chairs:\n",
    "    print('Good job everyone!')\n",
    "    \n",
    "else:\n",
    "    print('We have enough chairs.')"
   ]
  },
  {
   "cell_type": "markdown",
   "metadata": {
    "deletable": false,
    "editable": false,
    "run_control": {
     "frozen": true
    }
   },
   "source": [
    "<br><hr style=\"height:.9px;border:none;color:#333;background-color:#333;\" /><br>"
   ]
  },
  {
   "cell_type": "code",
   "execution_count": null,
   "metadata": {
    "cell_style": "split",
    "deletable": false,
    "editable": false
   },
   "outputs": [],
   "source": [
    "## Code 6.2.2 ##\n",
    "\n",
    "# declaring objects\n",
    "people = 100\n",
    "chairs = 100 # changed to 100\n",
    "\n",
    "# changed if condition to >=\n",
    "if people >= chairs: \n",
    "    print('We need more chairs!')\n",
    "\n",
    "# elif will never run because\n",
    "# the if condition is met\n",
    "elif people == chairs:\n",
    "    print('Good job everyone!')\n",
    "    \n",
    "else:\n",
    "    print('We have enough chairs.')\n"
   ]
  },
  {
   "cell_type": "code",
   "execution_count": null,
   "metadata": {
    "cell_style": "split",
    "deletable": false,
    "editable": false
   },
   "outputs": [],
   "source": [
    "## Code 6.2.3 ##\n",
    "\n",
    "# declaring objects\n",
    "people = 100\n",
    "chairs = 100 # changed to 100\n",
    "\n",
    "# reordering the conditions\n",
    "if people == chairs:\n",
    "    print('Good job everyone!')\n",
    "\n",
    "# has a chance to run\n",
    "elif people >= chairs:\n",
    "    print('We need more chairs!')\n",
    "    \n",
    "else:\n",
    "    print('We have enough chairs.')\n",
    "\n"
   ]
  },
  {
   "cell_type": "markdown",
   "metadata": {
    "deletable": false,
    "editable": false,
    "run_control": {
     "frozen": true
    }
   },
   "source": [
    "As can be observed, the <strong>elif</strong> statement in <em>Code 6.2.2</em> has no chance of ever running because the condition <em>people == chairs</em> is met in the <strong>if</strong> statement. By reordering the sequence of the conditionals (<em>Code 6.2.3</em>), each conditional statement has a chance of running given the values of <em>people</em> and <em>chairs</em>.\n",
    "\n",
    "<br><hr style=\"height:.9px;border:none;color:#333;background-color:#333;\" /><br>"
   ]
  },
  {
   "cell_type": "markdown",
   "metadata": {
    "deletable": false,
    "editable": false,
    "run_control": {
     "frozen": true
    }
   },
   "source": [
    "<h2>6.3 Using <em>else</em> for something else</h2>\n",
    "\n",
    "Let's shift our attention to <em>Code 6.3.1</em>, which is a reorganized version of <em>Code 4.5.3</em> from <strong>Chapter 4: Numbers, Comparisons, and Randomness</strong> with a few modifications:\n",
    "\n",
    "* The user input prompt offers a hint, telling users the number to guess\n",
    "* The line <em>guess = int(guess)</em> has been commented out.\n",
    "* The final <strong>print()</strong> statement has been turned into a conditional.\n",
    "\n",
    "Try inputting the correct number and see which condition runs.\n",
    "\n",
    "<br>"
   ]
  },
  {
   "cell_type": "code",
   "execution_count": null,
   "metadata": {
    "deletable": false,
    "editable": false
   },
   "outputs": [],
   "source": [
    "## Code 6.3.1 ##\n",
    "\n",
    "# adapted from Code 4.5.3\n",
    "\n",
    "# importing random\n",
    "import random\n",
    "\n",
    "# generating a random number\n",
    "number = random.randint(a = 1,\n",
    "                        b = 10)\n",
    "\n",
    "# user input\n",
    "print('Can you guess the number I am thinking of?')\n",
    "guess = input(f\"\"\"\n",
    "Pick a number between 1 and 10.\n",
    "(Hint: The number is {number}.)\n",
    "\"\"\")\n",
    "\n",
    "# turning guess into an integer\n",
    "#guess = int(guess)\n",
    "\n",
    "# creating a conditional\n",
    "if guess == number:\n",
    "    print('Nice job!')\n",
    "    \n",
    "else:\n",
    "    print(f\"Good try, but I was thinking of the number {number}.\")"
   ]
  },
  {
   "cell_type": "markdown",
   "metadata": {
    "deletable": false,
    "editable": false,
    "run_control": {
     "frozen": true
    }
   },
   "source": [
    "<br><br>\n",
    "\n",
    "No matter what number a user inputs, the <strong>else</strong> clause will always run. Without the line <em>guess = int(guess)</em>, the objects <em>number</em> and <em>guess</em> are of different types, thus Python will not consider them to be equal. Obviously, this is a bug in our code, which can be recognized from the <strong>else</strong> clause running. Even though <strong>else</strong> is not mandatory, it is a good practice to include it in conditional statements for this very reason. As our programs become more complex, techniques to recognize bugs become all the more important. Let's consider a more complex example of using <strong>else</strong> as a basic approach to for this task. Take, for example, <em>Code 6.3.2</em> below.\n",
    "<br><br>\n",
    "<strong>Note:</strong> For a review of type conversions, return to <strong>Chapter 3: User Input and Variable Types</strong>.\n",
    "\n",
    "<br><br>"
   ]
  },
  {
   "cell_type": "code",
   "execution_count": null,
   "metadata": {
    "deletable": false,
    "editable": false
   },
   "outputs": [],
   "source": [
    "## Code 6.3.2 ##\n",
    "\n",
    "guess = input(f\"\"\"\n",
    "Which of these sports is played with a basket and a ball?\n",
    "(Please input 1, 2, or 3.)\n",
    "    1. Basketball\n",
    "    2. Fencing\n",
    "    3. Hockey\n",
    "\n",
    "\"\"\")\n",
    "\n",
    "if guess == '1':\n",
    "    print(\"\\nYou know your sports!\")\n",
    "\n",
    "elif guess == '2':\n",
    "    print(\"\\nI'm sorry, that's incorrect.\")\n",
    "    \n",
    "elif guess == '3':\n",
    "    print(\"\\nI'm sorry, that's incorrect.\")\n",
    "\n",
    "else:\n",
    "    print('\\nSomething went wrong')"
   ]
  },
  {
   "cell_type": "markdown",
   "metadata": {
    "deletable": false,
    "editable": false,
    "run_control": {
     "frozen": true
    }
   },
   "source": [
    "<br><br>\n",
    "\n",
    "<em>Code 6.3.2</em> has some merit in controlling for bugs. It clearly explains that a user should input a number between one and three. Also, the first three conditional statements consider the fact that Python will treat user input as a string, controlling each condition accordingly. Finally, an <strong>else</strong> clause has been coded to catch invalid user input or any additional bugs. If a user were to input <em>'Basketball'</em> instead of <em>1</em>, the <strong>else</strong> clause would run.\n",
    "<br><br>\n",
    "Although <em>Code 6.3.2</em> makes a good effort to control for bugs, it does not provide an optimal user experience. Most notably, the code is too restrictive. Even though the input prompt clearly explains that a user should input <em>1</em>, <em>2</em>, or <em>3</em>, <em>Basketball</em> should be a valid answer. This would allow more flexibility to users and create a better user experience. Thinking along these terms, should the inputs <em>'basketball'</em>, <em>'BASKETBALL'</em>, and <em>'BaSkEtBaLl'</em> also be valid entries? Lucky for us, with a few simple modifications, our code can handle such situations with ease.\n",
    "<br><br>\n",
    "<hr style=\"height:.9px;border:none;color:#333;background-color:#333;\" />\n",
    "<br>\n",
    "<h2>6.4 Adding <em>in</em> and Controlling for Case Sensitivity</h2>"
   ]
  },
  {
   "cell_type": "markdown",
   "metadata": {
    "cell_style": "split",
    "deletable": false,
    "editable": false,
    "run_control": {
     "frozen": true
    }
   },
   "source": [
    "One of the most powerful syntaxes to address our challenge of making <em>Code 6.3.2</em> more user friendly is the two letter word <strong>in</strong>. This syntax checks to see if a certain element exists inside a larger set of elements. In the case of strings, <strong>in</strong> can be used to determine if a certain sequence (i.e. a substring) exists in a larger sequence. In other words, it allows us to check if a character or set of characters exists in a string. In <em>Code 6.4.1</em>, since <em>'P'</em> exists in the string stored in the object <em>name</em>, the line of code:\n",
    "\n",
    "~~~\n",
    "'P' in name\n",
    "~~~\n",
    "\n",
    "evaluates to true. However, since there is no lowercase <em>'p'</em> stored in <em>name</em>, <em>Code 6.4.2</em> evaluates to false. Remember, in Python each letter has its own unique address, therefore capital and lowercase letters are different. This aspect of Python becomes a challenge when prompting users for input as there is no guarantee that a user will follow our directions."
   ]
  },
  {
   "cell_type": "markdown",
   "metadata": {
    "cell_style": "split",
    "deletable": false,
    "editable": false,
    "run_control": {
     "frozen": true
    }
   },
   "source": [
    "<br>"
   ]
  },
  {
   "cell_type": "code",
   "execution_count": null,
   "metadata": {
    "cell_style": "split",
    "deletable": false,
    "editable": false
   },
   "outputs": [],
   "source": [
    "## Code 6.4.1 ##\n",
    "\n",
    "name = 'Python'\n",
    "\n",
    "# big P\n",
    "'P' in name"
   ]
  },
  {
   "cell_type": "markdown",
   "metadata": {
    "cell_style": "split",
    "deletable": false,
    "editable": false,
    "run_control": {
     "frozen": true
    }
   },
   "source": [
    "<br>"
   ]
  },
  {
   "cell_type": "code",
   "execution_count": null,
   "metadata": {
    "cell_style": "split",
    "deletable": false,
    "editable": false
   },
   "outputs": [],
   "source": [
    "## Code 6.4.2 ##\n",
    "\n",
    "name = 'Python'\n",
    "\n",
    "# small p\n",
    "'p' in name"
   ]
  },
  {
   "cell_type": "markdown",
   "metadata": {
    "deletable": false,
    "editable": false,
    "run_control": {
     "frozen": true
    }
   },
   "source": [
    "<br>For this reason, we must plan accordingly. Instead of trying to consider every possible case for user input, we can utilize one of Python's wonderful <a href=\"https://docs.python.org/3/library/stdtypes.html#string-methods\">string methods</a>. Several methods are available to help us accomplish our task, including those listed in the following table.\n",
    "<br><br>"
   ]
  },
  {
   "cell_type": "markdown",
   "metadata": {
    "deletable": false,
    "editable": false,
    "run_control": {
     "frozen": true
    }
   },
   "source": [
    "<table width=\"475\" align=\"left\">\n",
    "<col width=\"30\"; align=\"left\">\n",
    "<col width=\"150\">\n",
    "    <tr>\n",
    "        <th>Method</th>\n",
    "        <th>Description</th>\n",
    "    </tr>\n",
    "    <tr>\n",
    "        <td> .capitalize() </td>\n",
    "        <td> capitalizes the first character of a string, leaving the rest lowercase</td>\n",
    "    </tr>\n",
    "    <tr>\n",
    "    <tr>\n",
    "        <td> .casefold() </td>\n",
    "        <td> lowercases all characters in a string (<em>includes</em> special characters)</td>\n",
    "    </tr>\n",
    "    <tr>\n",
    "        <td> .lower() </td>\n",
    "        <td> lowercases all characters in a string (<em>excludes</em> special characters)</td>\n",
    "    </tr>   \n",
    "    <tr>\n",
    "        <td> .upper() </td>\n",
    "        <td> capitalizes all characters in a string</td>\n",
    "    </tr>\n",
    "</table>"
   ]
  },
  {
   "cell_type": "markdown",
   "metadata": {
    "deletable": false,
    "editable": false,
    "run_control": {
     "frozen": true
    }
   },
   "source": [
    "<br>Any of these methods would work for our task of standardizing the word <em>'basketball'</em> in <em>Code 6.3.2</em>. However, what if instead of inputting text from the English alphabet, a user input 'ß' from the German alphabet? Such a case may be difficult to control given it is in another language. Since it is already lowercase, methods such as <strong>lower()</strong> would do nothing to this character. However, according to the example from the string methods link above, <strong>casefold()</strong> will convert 'ß' to 'ss'. <em>Code 6.4.3</em> uses this character to test the results of each of the aforementioned string formatting methods.\n",
    "\n",
    "<br>"
   ]
  },
  {
   "cell_type": "code",
   "execution_count": null,
   "metadata": {
    "deletable": false,
    "editable": false
   },
   "outputs": [],
   "source": [
    "## Code 6.4.3 ##\n",
    "\n",
    "german_example = 'ß'\n",
    "\n",
    "# Testing different methods\n",
    "print(f\"\"\"\n",
    "FORMAT     | RESULT\n",
    "original   | {german_example}\n",
    "capitalize | {german_example.capitalize()}\n",
    "casefold   | {german_example.casefold()}\n",
    "lower()    | {german_example.lower()}\n",
    "upper()    | {german_example.upper()}\n",
    "\"\"\")"
   ]
  },
  {
   "cell_type": "markdown",
   "metadata": {
    "deletable": false,
    "editable": false,
    "run_control": {
     "frozen": true
    }
   },
   "source": [
    "<br>\n",
    "\n",
    "After applying <strong>.casefold()</strong> to our basketball example, our program will become more robust, granting users more input flexibility and potentially creating a better user experience. However, what if a user were to input something more elaborate? For example: <em>\"I'm not sure, but I think it's probably basketball.\"</em> Obviously, our code is not designed to handle such situations. Coding for every conceivable input using syntax such as <em>==</em> or <em>!=</em> would be incredibly inefficient. Luckily, this functionality can be developed with the use of <strong>in</strong>.\n",
    "<br><br>\n",
    "Instead of coding a conditional statement as follows:\n",
    "<br><br>\n",
    "\n",
    "~~~\n",
    "elif guess == 'basketball':\n",
    "    print(\"\\nYou know your sports!\")\n",
    "~~~\n",
    "<br>\n",
    "we can utilize <strong>in</strong> to search a user's input for the key word or phrase we are looking for:\n",
    "<br><br>\n",
    "\n",
    "~~~\n",
    "elif 'basketball' in guess:\n",
    "    print(\"\\nYou know your sports!\")\n",
    "~~~\n",
    "\n",
    "<br><hr style=\"height:.9px;border:none;color:#333;background-color:#333;\" />"
   ]
  },
  {
   "cell_type": "markdown",
   "metadata": {
    "cell_style": "split",
    "deletable": false,
    "editable": false,
    "run_control": {
     "frozen": true
    }
   },
   "source": [
    "To further exemplify, <em>Code 6.4.4</em> is checking whether or not the word <em>'stella'</em> is part of the word <em>'constellation'</em>. As this exact character sequence exists in the word <em>'constellation'</em>, this code evaluates to true.\n",
    "<br><br>\n",
    "The syntax <strong>in</strong> can also be applied to other data structures, such as the list in <em>Code 6.4.5</em>. This code is checking if <em>'z'</em> is a member of the object <em>lst</em>. As <em>'z'</em> is not an element of this object, <em>Code 6.4.5</em> evaluates to false.\n",
    "<br><br>\n",
    "The counterpart of <strong>in</strong> is <strong>not in</strong>. This syntax works in a similar fashion to <em>!=</em> from <strong>Chapter 4 - Numbers, Comparisons, and Randomness</strong>. <em>Code 6.4.6</em> utilizes this syntax in order to reverse the logic of <strong>in</strong>. Since <em>'key'</em> is not in inventory, the <strong>elif</strong> clause runs."
   ]
  },
  {
   "cell_type": "markdown",
   "metadata": {
    "cell_style": "split",
    "deletable": false,
    "editable": false,
    "run_control": {
     "frozen": true
    }
   },
   "source": [
    "<br>"
   ]
  },
  {
   "cell_type": "code",
   "execution_count": null,
   "metadata": {
    "cell_style": "split",
    "deletable": false,
    "editable": false
   },
   "outputs": [],
   "source": [
    "## Code 6.4.4 ##\n",
    "\n",
    "# checking for membership\n",
    "'stella' in 'constellation'"
   ]
  },
  {
   "cell_type": "markdown",
   "metadata": {
    "cell_style": "split",
    "deletable": false,
    "editable": false,
    "run_control": {
     "frozen": true
    }
   },
   "source": [
    "<br>"
   ]
  },
  {
   "cell_type": "code",
   "execution_count": null,
   "metadata": {
    "cell_style": "split",
    "deletable": false,
    "editable": false
   },
   "outputs": [],
   "source": [
    "## Code 6.4.5 ##\n",
    "\n",
    "# creating a list\n",
    "lst = ['a', 'b', 'c']\n",
    "\n",
    "# checking for membership\n",
    "print('z' in lst)"
   ]
  },
  {
   "cell_type": "markdown",
   "metadata": {
    "deletable": false,
    "editable": false,
    "run_control": {
     "frozen": true
    }
   },
   "source": [
    "<br><hr style=\"height:.9px;border:none;color:#333;background-color:#333;\" /><br>"
   ]
  },
  {
   "cell_type": "markdown",
   "metadata": {
    "deletable": false,
    "editable": false,
    "run_control": {
     "frozen": true
    }
   },
   "source": [
    "<br><br>\n",
    "\n",
    "<em>Code 6.4.7</em> returns to our basketball example, taking <strong>casefold()</strong> and <strong>in</strong> into consideration. Although more user friendly, this has greatly increased the amount of conditional statements we are using. The next section will discuss ways in which we can consolidate conditions, thus allowing us to shorten our code.\n",
    "\n",
    "<br><br>"
   ]
  },
  {
   "cell_type": "code",
   "execution_count": null,
   "metadata": {
    "deletable": false,
    "editable": false
   },
   "outputs": [],
   "source": [
    "## Code 6.4.7 ##\n",
    "\n",
    "# adapted from Code 6.3.2\n",
    "\n",
    "# adapting the directions\n",
    "guess = input(f\"\"\"\n",
    "Which of these sports is played with a basket and a ball?\n",
    "(Please input the number or name of your choice.)\n",
    "    1. Basketball\n",
    "    2. Fencing\n",
    "    3. Hockey\n",
    "\n",
    "\"\"\")\n",
    "\n",
    "# converting guess using .casefold()\n",
    "guess = guess.casefold()\n",
    "\n",
    "# extending the conditional\n",
    "if guess == '1':\n",
    "    print(\"\\nYou know your sports!\")\n",
    "\n",
    "elif 'basketball' in guess:\n",
    "    print(\"\\nYou know your sports!\")\n",
    "\n",
    "elif guess == '2':\n",
    "    print(\"\\nI'm sorry, that's incorrect.\")\n",
    "\n",
    "elif 'fencing' in guess:\n",
    "    print(\"\\nI'm sorry, that's incorrect.\")\n",
    "\n",
    "elif guess == '3':\n",
    "    print(\"\\nI'm sorry, that's incorrect.\")\n",
    "\n",
    "elif 'hockey' in guess:\n",
    "    print(\"\\nI'm sorry, that's incorrect.\")\n",
    "\n",
    "else:\n",
    "    print('\\nSomething went wrong')"
   ]
  },
  {
   "cell_type": "markdown",
   "metadata": {
    "deletable": false,
    "editable": false,
    "run_control": {
     "frozen": true
    }
   },
   "source": [
    "<hr style=\"height:.9px;border:none;color:#333;background-color:#333;\" /><br>\n",
    "\n",
    "<h2>6.5 Consolidating Conditionals with <em>and</em> / <em>or</em></h2>\n",
    "Instead of writing several conditionals that lead to the same result, we can utilize the syntaxes <strong>and</strong> and <strong>or</strong> to help us consolidate our code. As an example, let's apply the <strong>or</strong> syntax  to <em>Code 6.4.7</em>.\n",
    "\n",
    "<br>"
   ]
  },
  {
   "cell_type": "code",
   "execution_count": null,
   "metadata": {
    "deletable": false,
    "editable": false
   },
   "outputs": [],
   "source": [
    "## Code 6.5.1 ##\n",
    "\n",
    "# adapted from Code 6.4.7\n",
    "\n",
    "# adapting the directions\n",
    "guess = input(f\"\"\"\n",
    "Which of these sports is played with a basket and a ball?\n",
    "(Please input the number or name of your choice.)\n",
    "    1. Basketball\n",
    "    2. Fencing\n",
    "    3. Hockey\n",
    "\n",
    "\"\"\")\n",
    "\n",
    "# converting guess using .casefold()\n",
    "guess = guess.casefold()\n",
    "\n",
    "# extending the conditional\n",
    "if guess == '1' or 'basketball' in guess:\n",
    "    print(\"\\nYou know your sports!\")\n",
    "\n",
    "elif guess in ['2', '3'] or 'fencing' in guess or 'hockey' in guess:\n",
    "    print(\"\\nI'm sorry, that's incorrect.\")\n",
    "\n",
    "else:\n",
    "    print('\\nSomething went wrong')"
   ]
  },
  {
   "cell_type": "markdown",
   "metadata": {
    "deletable": false,
    "editable": false,
    "run_control": {
     "frozen": true
    }
   },
   "source": [
    "<br><br>\n",
    "\n",
    "With the use of <strong>or</strong>, our code has been significantly shortened. As expressed in the code above, <strong>in</strong> and <strong>not in</strong> can be utilized in tandem with <strong>and</strong> and <strong>or</strong>. The following codes are designed to give you practice in using these syntaxes. Fill in the blanks so that each code block evaluates to true.\n",
    "\n",
    "<br><br>"
   ]
  },
  {
   "cell_type": "code",
   "execution_count": null,
   "metadata": {
    "cell_style": "split",
    "solution2": "hidden",
    "solution2_first": true
   },
   "outputs": [],
   "source": [
    "### Code 6.5.6 ##\n",
    "\n",
    "name = 'xiong'\n",
    "\n",
    "'xing' in name ___ 'ong' in name"
   ]
  },
  {
   "cell_type": "code",
   "execution_count": null,
   "metadata": {
    "cell_style": "split",
    "deletable": false,
    "editable": false,
    "solution2": "hidden"
   },
   "outputs": [],
   "source": [
    "### Sample Solution 6.5.6 ##\n",
    "\n",
    "name = 'xiong'\n",
    "\n",
    "'xing' in name or 'ong' in name"
   ]
  },
  {
   "cell_type": "markdown",
   "metadata": {
    "deletable": false,
    "editable": false,
    "run_control": {
     "frozen": true
    }
   },
   "source": [
    "<hr style=\"height:.9px;border:none;color:#333;background-color:#333;\" />"
   ]
  },
  {
   "cell_type": "code",
   "execution_count": null,
   "metadata": {
    "cell_style": "split",
    "solution2": "hidden",
    "solution2_first": true
   },
   "outputs": [],
   "source": [
    "### Code 6.5.7 ##\n",
    "\n",
    "places = ['CAN', 'MEX', 'USA']\n",
    "\n",
    "\n",
    "'CAN' ___ places and 'UK' ___ places"
   ]
  },
  {
   "cell_type": "code",
   "execution_count": null,
   "metadata": {
    "cell_style": "split",
    "deletable": false,
    "editable": false,
    "solution2": "hidden"
   },
   "outputs": [],
   "source": [
    "### Sample Solution 6.5.7 ##\n",
    "\n",
    "places = ['CAN', 'MEX', 'USA']\n",
    "\n",
    "\n",
    "'CAN' in places and 'UK' not in places"
   ]
  },
  {
   "cell_type": "markdown",
   "metadata": {
    "deletable": false,
    "editable": false,
    "run_control": {
     "frozen": true
    }
   },
   "source": [
    "<hr style=\"height:.9px;border:none;color:#333;background-color:#333;\" />"
   ]
  },
  {
   "cell_type": "code",
   "execution_count": null,
   "metadata": {
    "cell_style": "split",
    "solution2": "hidden",
    "solution2_first": true
   },
   "outputs": [],
   "source": [
    "### Code 6.5.8 ##\n",
    "\n",
    "colors = ['red', 'orange', 'yellow',\n",
    "          'green', 'blue', 'indigo',\n",
    "          'violet']\n",
    "\n",
    "len(colors) > 50 ___ \\\n",
    "'r' ___ colors[0] ___ \\\n",
    "'r' ___ colors[2]"
   ]
  },
  {
   "cell_type": "code",
   "execution_count": null,
   "metadata": {
    "cell_style": "split",
    "deletable": false,
    "editable": false,
    "solution2": "hidden"
   },
   "outputs": [],
   "source": [
    "### Sample Solution 6.5.8 ##\n",
    "\n",
    "colors = ['red', 'orange', 'yellow',\n",
    "          'green', 'blue', 'indigo',\n",
    "          'violet']\n",
    "\n",
    "len(colors) > 50 or \\\n",
    "'r' in colors[0] and not\\\n",
    "'r' in colors[2]"
   ]
  },
  {
   "cell_type": "markdown",
   "metadata": {
    "deletable": false,
    "editable": false,
    "run_control": {
     "frozen": true
    }
   },
   "source": [
    "<hr style=\"height:.9px;border:none;color:#333;background-color:#333;\" />"
   ]
  },
  {
   "cell_type": "code",
   "execution_count": null,
   "metadata": {
    "cell_style": "split",
    "solution2": "hidden",
    "solution2_first": true
   },
   "outputs": [],
   "source": [
    "### Code 6.5.9 ##\n",
    "\n",
    "primes = [2, 3, 5, 7, 11]\n",
    "\n",
    "2 ___ primes ___ \\\n",
    "1 ___ _primes ___ \\\n",
    "53 ___ primes"
   ]
  },
  {
   "cell_type": "code",
   "execution_count": null,
   "metadata": {
    "cell_style": "split",
    "deletable": false,
    "editable": false,
    "solution2": "hidden"
   },
   "outputs": [],
   "source": [
    "### Sample Solution 6.5.9 ##\n",
    "\n",
    "primes = [2, 3, 5, 7, 11]\n",
    "\n",
    "2 in primes and \\\n",
    "1 not in primes or \\\n",
    "53 in primes"
   ]
  },
  {
   "cell_type": "markdown",
   "metadata": {
    "deletable": false,
    "editable": false,
    "run_control": {
     "frozen": true
    }
   },
   "source": [
    "<hr style=\"height:.9px;border:none;color:#333;background-color:#333;\" /><br>\n",
    "\n",
    "<h2>6.6 Nested Conditionals</h2>\n",
    "This final section will discuss <strong>nested conditionals</strong> or conditionals that are inside of other conditionals. <strong>Nested conditionals</strong> allow us to develop programs for more complex situations. Conceptually, nested conditionals can be thought of as in <em>Figure 6.4</em> below.\n",
    "<br><br><br>\n",
    "\n",
    "<div style = \"width:image width px; font-size:80%; text-align:center;\"><img src= ./Images/chapter_6_fig_64_nested_conditional_statement.png width=\"400\" height=\"200\" style=\"padding-bottom:0.5em;\"> <em>Figure 6.4: Conceptual Drawing of a Nested Conditional Statement</em></div>\n",
    "\n",
    "<br><br>\n",
    "The logic of <em>Figure 6.4</em> can be extended to as many levels of inner nesting as needed. The key to managing nested conditionals is to <strong>make sure that each statement is properly indented.</strong> To exemplify, let's return to our people and chairs example from <em>Section 6.2</em>.\n",
    "\n",
    "<br><br>"
   ]
  },
  {
   "cell_type": "code",
   "execution_count": null,
   "metadata": {
    "deletable": false,
    "editable": false
   },
   "outputs": [],
   "source": [
    "## Code 6.6.1 ##\n",
    "\n",
    "# adapted from 6.2.3\n",
    "\n",
    "# declaring objects\n",
    "event_manager = 'Mona'\n",
    "people = 100\n",
    "chairs = 100\n",
    "\n",
    "# outer conditional (indented one level)\n",
    "if 'M' in event_manager:\n",
    "    \n",
    "    # inner conditional (indented two levels)\n",
    "    if people == chairs:\n",
    "        print(\"We’d better get some extra chairs just in case!\")\n",
    "\n",
    "    elif people > chairs:\n",
    "        print(\"Quick, find more chairs!\")\n",
    "\n",
    "    else:\n",
    "        print(\"We have enough chairs.\")\n",
    "\n",
    "# back to outer conditional (indented one level)\n",
    "elif 'M' not in event_manager:\n",
    "    print(\"I think we can get by with less chairs.\")\n",
    "\n",
    "else:\n",
    "    print(\"Something went wrong.\")"
   ]
  },
  {
   "cell_type": "markdown",
   "metadata": {
    "deletable": false,
    "editable": false,
    "run_control": {
     "frozen": true
    }
   },
   "source": [
    "<br><br>\n",
    "\n",
    "As can be observed, utilizing nested conditionals allows us to develop programs that can handle specific situations. This alleviates the pressure of trying to ensure that our conditionals are in an optimal order, making it possible for the results of each condition to run. Remember, indenting is important and should be done with care. This will save time as indentation errors can be hard to spot and debug.\n",
    "\n",
    "<br><hr style=\"height:.9px;border:none;color:#333;background-color:#333;\" /><br>"
   ]
  },
  {
   "cell_type": "markdown",
   "metadata": {
    "deletable": false,
    "editable": false,
    "run_control": {
     "frozen": true
    }
   },
   "source": [
    "<h2>6.7 Summary</h2>\n",
    "\n",
    "A conditional statement (i.e. a conditional) is a coding syntax that runs if a given condition is met. They are very common in many programming languages, and in Python are structured as follows:\n",
    "<br><br>\n",
    "\n",
    "~~~\n",
    "if [CONDITION]:\n",
    "    [CODE TO RUN IF CONDITION IS MET]\n",
    "~~~\n",
    "\n",
    "<br>\n",
    "Conditionals can be extended with the use of <strong>elif</strong> and <strong>else</strong>, and several conditionals can be combined with the use of <strong>and</strong> / <strong>or</strong>. Remember, indenting is very important, as it tells Python what code it is required to run and what code it can skip if a given condition is not met.\n",
    "<br><br>\n",
    "Finally, case methods such as <strong>.capitalize()</strong>, <strong>.casefold()</strong>, <strong>.lower()</strong>, and <strong>.upper()</strong> can help limit the amount of conditionals needed to control user input as well as in other situations where strings are being utilized. Finally, <strong>in</strong> and <strong>not in</strong> are powerful syntaxes that check to see if a certain element exists inside a larger set of elements.\n",
    "<br>\n",
    "\n",
    "~~~\n",
    "___________                   .__  .__                 __  ._.\n",
    "\\_   _____/__  ___ ____  ____ |  | |  |   ____   _____/  |_| |\n",
    " |    __)_\\  \\/  // ___\\/ __ \\|  | |  | _/ __ \\ /    \\   __\\ |\n",
    " |        \\>    <\\  \\__\\  ___/|  |_|  |_\\  ___/|   |  \\  |  \\|\n",
    "/_______  /__/\\_ \\\\___  >___  >____/____/\\___  >___|  /__|  __\n",
    "        \\/      \\/    \\/    \\/               \\/     \\/      \\/\n",
    "~~~"
   ]
  },
  {
   "cell_type": "markdown",
   "metadata": {
    "deletable": false,
    "editable": false,
    "run_control": {
     "frozen": true
    }
   },
   "source": [
    "<br>"
   ]
  }
 ],
 "metadata": {
  "kernelspec": {
   "display_name": "Python 3",
   "language": "python",
   "name": "python3"
  },
  "language_info": {
   "codemirror_mode": {
    "name": "ipython",
    "version": 3
   },
   "file_extension": ".py",
   "mimetype": "text/x-python",
   "name": "python",
   "nbconvert_exporter": "python",
   "pygments_lexer": "ipython3",
   "version": "3.7.6"
  },
  "toc": {
   "base_numbering": 1,
   "nav_menu": {},
   "number_sections": false,
   "sideBar": true,
   "skip_h1_title": false,
   "title_cell": "Table of Contents",
   "title_sidebar": "Contents",
   "toc_cell": false,
   "toc_position": {
    "height": "calc(100% - 180px)",
    "left": "10px",
    "top": "150px",
    "width": "307.175px"
   },
   "toc_section_display": true,
   "toc_window_display": false
  },
  "varInspector": {
   "cols": {
    "lenName": 16,
    "lenType": 16,
    "lenVar": 40
   },
   "kernels_config": {
    "python": {
     "delete_cmd_postfix": "",
     "delete_cmd_prefix": "del ",
     "library": "var_list.py",
     "varRefreshCmd": "print(var_dic_list())"
    },
    "r": {
     "delete_cmd_postfix": ") ",
     "delete_cmd_prefix": "rm(",
     "library": "var_list.r",
     "varRefreshCmd": "cat(var_dic_list()) "
    }
   },
   "types_to_exclude": [
    "module",
    "function",
    "builtin_function_or_method",
    "instance",
    "_Feature"
   ],
   "window_display": false
  }
 },
 "nbformat": 4,
 "nbformat_minor": 2
}
