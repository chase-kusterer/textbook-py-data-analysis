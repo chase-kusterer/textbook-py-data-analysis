{
 "cells": [
  {
   "cell_type": "markdown",
   "metadata": {},
   "source": [
    "***\n",
    "***\n",
    "***\n",
    "<br><br><br><br><br>\n",
    "<h1>Python for Business Analytics</h1>\n",
    "<em>A Nontechnical Approach for Nontechnical People</em><br><br>\n",
    "<em><strong>Custom Edition for Hult International Business School</strong></em><br>\n",
    "\n",
    "Written by Chase Kusterer - Faculty of Analytics <br>\n",
    "Hult International Business School <br>\n",
    "https://github.com/chase-kusterer <br><br><br><br><br>\n",
    "***\n",
    "***\n",
    "***\n",
    "\n",
    "# <u>Chapter 5: Lists and List Operations</u>"
   ]
  },
  {
   "cell_type": "markdown",
   "metadata": {
    "deletable": false,
    "editable": false,
    "toc": true
   },
   "source": [
    "<h1>Table of Contents<span class=\"tocSkip\"></span></h1>\n",
    "<div class=\"toc\"><ul class=\"toc-item\"><li><span><a href=\"#5.1-Why-Lists-are-Important\" data-toc-modified-id=\"5.1-Why-Lists-are-Important-1\">5.1 Why Lists are Important</a></span><ul class=\"toc-item\"><li><span><a href=\"#A-special-note-for-Excel-users:\" data-toc-modified-id=\"A-special-note-for-Excel-users:-1.1\">A special note for Excel users:</a></span></li></ul></li><li><span><a href=\"#2.2-Declaring-a-List\" data-toc-modified-id=\"2.2-Declaring-a-List-2\">2.2 Declaring a List</a></span><ul class=\"toc-item\"><li><ul class=\"toc-item\"><li><span><a href=\"#A-Brief-Explanation-of-Classes\" data-toc-modified-id=\"A-Brief-Explanation-of-Classes-2.0.1\">A Brief Explanation of Classes</a></span></li><li><span><a href=\"#Returning-to-Lists\" data-toc-modified-id=\"Returning-to-Lists-2.0.2\">Returning to Lists</a></span></li><li><span><a href=\"#Coding-involves-a-different-type-of-thinking.\" data-toc-modified-id=\"Coding-involves-a-different-type-of-thinking.-2.0.3\"><em>Coding involves a different type of thinking.</em></a></span></li></ul></li></ul></li><li><span><a href=\"#2.3-The-Advantages-of-Lists-Over-Several-Independent-Objects\" data-toc-modified-id=\"2.3-The-Advantages-of-Lists-Over-Several-Independent-Objects-3\">2.3 The Advantages of Lists Over Several Independent Objects</a></span><ul class=\"toc-item\"><li><span><a href=\"#Lists-are-easily-mutable.\" data-toc-modified-id=\"Lists-are-easily-mutable.-3.1\">Lists are easily mutable.</a></span></li><li><span><a href=\"#Lists-are-extensible.\" data-toc-modified-id=\"Lists-are-extensible.-3.2\">Lists are extensible.</a></span></li><li><span><a href=\"#Lists-are-convertable.\" data-toc-modified-id=\"Lists-are-convertable.-3.3\">Lists are convertable.</a></span></li></ul></li><li><span><a href=\"#2.4-Accessing-List-Elements\" data-toc-modified-id=\"2.4-Accessing-List-Elements-4\">2.4 Accessing List Elements</a></span><ul class=\"toc-item\"><li><span><a href=\"#Indexing-in-Python\" data-toc-modified-id=\"Indexing-in-Python-4.1\">Indexing in Python</a></span></li></ul></li><li><span><a href=\"#2.5-Adding-Items-to-a-List\" data-toc-modified-id=\"2.5-Adding-Items-to-a-List-5\">2.5 Adding Items to a List</a></span><ul class=\"toc-item\"><li><span><a href=\"#list.append()\" data-toc-modified-id=\"list.append()-5.1\">list.append()</a></span></li><li><span><a href=\"#list.insert()\" data-toc-modified-id=\"list.insert()-5.2\">list.insert()</a></span><ul class=\"toc-item\"><li><span><a href=\"#Back-to-list.insert()\" data-toc-modified-id=\"Back-to-list.insert()-5.2.1\">Back to list.insert()</a></span></li></ul></li><li><span><a href=\"#Using-list.extend()\" data-toc-modified-id=\"Using-list.extend()-5.3\">Using list.extend()</a></span></li></ul></li><li><span><a href=\"#2.6-The-Elegance-of-Simplicity\" data-toc-modified-id=\"2.6-The-Elegance-of-Simplicity-6\">2.6 The Elegance of Simplicity</a></span><ul class=\"toc-item\"><li><span><a href=\"#Reversing-a-list-with-.reverse()\" data-toc-modified-id=\"Reversing-a-list-with-.reverse()-6.1\">Reversing a list with .reverse()</a></span></li><li><span><a href=\"#The-Wrong-Way-to-Copy-Lists\" data-toc-modified-id=\"The-Wrong-Way-to-Copy-Lists-6.2\">The <em>Wrong</em> Way to Copy Lists</a></span></li><li><span><a href=\"#Copying-a-list-with-.copy()\" data-toc-modified-id=\"Copying-a-list-with-.copy()-6.3\">Copying a list with .copy()</a></span></li><li><span><a href=\"#Wrapping-Up\" data-toc-modified-id=\"Wrapping-Up-6.4\">Wrapping Up</a></span></li></ul></li></ul></div>"
   ]
  },
  {
   "cell_type": "markdown",
   "metadata": {},
   "source": [
    "***\n",
    "***\n",
    "\n",
    "## 5.1 Why Lists are Important\n",
    "\n",
    "Having learned the basics of indexes in the previous chapter, we are ready to understand the value of declaring lists. For our purposes:<br><br>\n",
    "\n",
    "<div align=\"center\"><h3>\n",
    "    Lists are a way to better organize our information.\n",
    "<a class=\"tocSkip\"></h3></div><br>\n",
    "\n",
    "Our goal with lists is to store more than one item in the same place. You can think of this as declaring one object that holds many things. Conceptually, lists are the simplest of Python's four built-in data structures (lists, tuples, dictionaries, and sets), and are something that you must be comfortable with before conducting data analysis in Python. They are used very frequently, even at the entry levels of analysis, and your time spent understanding them will pay dividends on your ability to grasp more advanced concepts in Python.<br><br>\n",
    "\n",
    "### A special note for Excel users:\n",
    "If you're used to working with Excel sheets, also known as flat files, please note that these exist in Python as well. We call these DataFrames, and they are housed in the <strong>pandas</strong> package. You may be wondering:<br><br>\n",
    "\n",
    "<div align=\"center\"><em>\"Why do I need to learn about lists if I can use a data structure that I'm more familiar with?\"</em></div>\n",
    "\n",
    "This mentality held me back when I was first learning to code. I was used to my data being structured in a spreadsheet format and expected it to always be this way. It also didn't help that in most cases, data science competitions provided data in some sort of spreadsheet format, or something that could easily be converted into one. I did not fully understand the value of other data structures until I started to work on real projects. In the real world, data comes in <em>many</em> formats, and in today's world of analytics, you will be expected to do much more than work with flat files.\n",
    "\n",
    "The key lesson to keep in mind is that <strong>coding involves a different type of thinking than working with software such as Excel</strong>. You will not regret the time invested in learning how to work with different data structures.<br><br>\n",
    "\n",
    "***\n",
    "\n",
    "## 2.2 Declaring a List\n",
    "Declaring a list is very similar to declaring any of the objects we have covered in previous chapters. In fact, declaring almost anything in Python is very similar to what we have covered."
   ]
  },
  {
   "cell_type": "markdown",
   "metadata": {
    "cell_style": "split"
   },
   "source": [
    "<em>Code 5.2.1</em> and <em>5.2.2</em> are virually the same. The only difference is that in the latter, we added <strong>square brackets</strong> <em>[ ]</em> around the item being stored. The square brackets tell Python that we are creating a list.\n",
    "<br><br>\n",
    "We can even declare a list with nothing inside of it. The idea of declaring an empty list may seem bizarre, but it is actually done quite often. We will explain the rationale for this when we discuss <strong>for loops</strong> in a later chapter.\n",
    "<br><br>\n",
    "Notice that the output of the print statement in *Code 5.2.2* also has square brackets. This is to inform you that *my_list* is a list and not a scalar (single) variable.\n",
    "\n",
    "This is also apparent when using the <strong>type()</strong> wrapper around each object, as in <em>Code 5.2.3</em>. As can be observed, the objects <em>my_variable</em> and <em>my_list</em> are of different classes.<br><br>\n",
    "\n",
    "#### A Brief Explanation of Classes\n",
    "A <strong>class</strong> is a template to create objects. When we created <em>my_variable</em>, we created an object that stores an integer. Integers are very common in Python, thus they have a template (i.e. a class). Classes help to ensure that objects behave the way that they are supposed to so that programmers don't get unexpected results. More information on classes can be found in [the Python Documentation](https://docs.python.org/3.7/tutorial/classes.html).<br><br>\n",
    "\n",
    "#### Returning to Lists\n",
    "Since <em>my_variable</em> and <em>my_list</em> are of different classes, they are not the same type of object. Therefore, we cannot expect them to behave in the same way. To exemplify this, see <em>Code 5.2.4</em>. Even though both objects contain the value 5, we do not get the same result when applying simple numerical operands such as multiplication. Again,<br><br>\n",
    "\n",
    "<div align=\"center\"><h4><em>Coding involves a different type of thinking.</em></h4></div><br>\n",
    "\n",
    "Knowing that these objects are of different classes informs you that they are not intended to work in the same way. In fact, one of the first places to check when your code is not working properly is your object types.\n",
    "\n",
    "***"
   ]
  },
  {
   "cell_type": "code",
   "execution_count": null,
   "metadata": {
    "cell_style": "split",
    "deletable": false,
    "editable": false
   },
   "outputs": [],
   "source": [
    "## Code 5.2.1 ##\n",
    "\n",
    "# Declaring a variable\n",
    "my_variable = 5\n",
    "\n",
    "print(my_variable)"
   ]
  },
  {
   "cell_type": "markdown",
   "metadata": {
    "cell_style": "split"
   },
   "source": [
    "***"
   ]
  },
  {
   "cell_type": "code",
   "execution_count": null,
   "metadata": {
    "cell_style": "split",
    "deletable": false,
    "editable": false
   },
   "outputs": [],
   "source": [
    "## Code 5.2.2 ##\n",
    "\n",
    "# Declaring a list\n",
    "my_list = [5]\n",
    "\n",
    "print(my_list)"
   ]
  },
  {
   "cell_type": "markdown",
   "metadata": {
    "cell_style": "split"
   },
   "source": [
    "***"
   ]
  },
  {
   "cell_type": "code",
   "execution_count": null,
   "metadata": {
    "cell_style": "split",
    "deletable": false,
    "editable": false
   },
   "outputs": [],
   "source": [
    "## Code 5.2.3 ##\n",
    "\n",
    "# Printing object types\n",
    "print(f\"\"\"\n",
    "my_variable is of type:  {type(my_variable)}\n",
    "my_list is of type: \\t {type(my_list)}\n",
    "\"\"\")"
   ]
  },
  {
   "cell_type": "markdown",
   "metadata": {
    "cell_style": "split"
   },
   "source": [
    "***"
   ]
  },
  {
   "cell_type": "code",
   "execution_count": null,
   "metadata": {
    "cell_style": "split",
    "deletable": false,
    "editable": false
   },
   "outputs": [],
   "source": [
    "## Code 2.2.4 ##\n",
    "\n",
    "# Applying basic operations\n",
    "print(f\"\"\"\n",
    "my_variable * 2 = {my_variable * 2}\n",
    "my_list     * 2 = {my_list * 2}\n",
    "\"\"\")"
   ]
  },
  {
   "cell_type": "markdown",
   "metadata": {},
   "source": [
    "***\n",
    "\n",
    "## 2.3 The Advantages of Lists Over Several Independent Objects\n",
    "Lists have several advantages over creating a large amount of individual objects. In the context of coding for analytics, lists have three of the primary advantages. They are:\n",
    "* Mutatable   (i.e. easy to change)\n",
    "* Extensible  (i.e. easy to add new items/quantities)\n",
    "* Convertable (i.e. from a list to a DataFrame)\n",
    "\n",
    "In this chapter, we will work with some of the code from [Project 2 - Preparing for a Party](). To get started, we need to load some required base objects. This has been done in <em>Code 5.3.1</em>, where three lists are being declared to store the names and amounts of various food items. These lists are then being stored into a master list named <em>food_n_beverage</em>.\n",
    "\n",
    "***"
   ]
  },
  {
   "cell_type": "code",
   "execution_count": null,
   "metadata": {
    "cell_style": "center",
    "code_folding": [],
    "deletable": false,
    "editable": false
   },
   "outputs": [],
   "source": [
    "## Code 5.3.1 ##\n",
    "\n",
    "# Required from Project 2\n",
    "\n",
    "chips           = ['bags of chips', 50]\n",
    "salsa           = ['jars of salsa', 25]\n",
    "still_water     = ['liters of still water', 100]\n",
    "\n",
    "food_n_beverage = [chips, salsa, still_water]"
   ]
  },
  {
   "cell_type": "markdown",
   "metadata": {},
   "source": [
    "***\n",
    "\n",
    "Before moving forward, notice a few characteristics of the lists created in <em>Code 5.3.1</em>. First, the lists <em>chips</em>, <em>salsa</em>, and <em>still_water</em> each contain more than one object type (strings and integers). This is no problem for Python. Also notice that <em>food_n_beverage</em> is a list of lists. Since lists are similar to any of our other object types, Python can handle this as well.\n",
    "\n",
    "### Lists are easily mutable.\n",
    "If we needed more chips, we could simply change the amount of chips in the chips object. Notice that after doing so, we need to make sure to rerun our <em>food_n_beverage</em> object so that it contains this new information."
   ]
  },
  {
   "cell_type": "code",
   "execution_count": null,
   "metadata": {
    "deletable": false,
    "editable": false
   },
   "outputs": [],
   "source": [
    "## Code 5.3.2 ##\n",
    "\n",
    "chips           = ['bags of chips', 75] # changed to 75\n",
    "salsa           = ['jars of salsa', 25]\n",
    "still_water     = ['liters of still water', 100]\n",
    "\n",
    "food_n_beverage = [chips, salsa, still_water]\n",
    "\n",
    "# Printing the current food and beverage list\n",
    "print(food_n_beverage)"
   ]
  },
  {
   "cell_type": "markdown",
   "metadata": {},
   "source": [
    "***\n",
    "### Lists are extensible.\n",
    "We can add new items to lists in several different ways. For example, we can use the <strong>.append()</strong> method to add something to the end of a list. We will cover more methods for adding items to lists later in this chapter."
   ]
  },
  {
   "cell_type": "code",
   "execution_count": null,
   "metadata": {
    "deletable": false,
    "editable": false
   },
   "outputs": [],
   "source": [
    "## Code 5.3.3 ##\n",
    "\n",
    "sparkling_water = ['liters sparkling water', 100]\n",
    "\n",
    "food_n_beverage.append(sparkling_water) # appending the list\n",
    "\n",
    "print(food_n_beverage)"
   ]
  },
  {
   "cell_type": "markdown",
   "metadata": {},
   "source": [
    "***\n",
    "### Lists are convertable.\n",
    "Lists are easy to convert into other object types. Although this is beyond our current scope, <em>Code 5.3.4</em> converts our <em>food_n_beverage</em> list into a pandas DataFrame (i.e. Python's equivalent of a spreadsheet). This simple process will be explained in more detail in a later chapter."
   ]
  },
  {
   "cell_type": "code",
   "execution_count": null,
   "metadata": {
    "deletable": false,
    "editable": false
   },
   "outputs": [],
   "source": [
    "## Code 5.3.4 ##\n",
    "\n",
    "import pandas as pd\n",
    "\n",
    "food_n_beverage_df = pd.DataFrame(food_n_beverage) # df is short for DataFrame\n",
    "\n",
    "print(food_n_beverage_df)"
   ]
  },
  {
   "cell_type": "markdown",
   "metadata": {},
   "source": [
    "***\n",
    "\n",
    "The coversion in <em>Code 5.3.4</em> becomes even more powerful when using common DataFrame features. Such features are exemplified in <em>Code 5.3.5</em>, where each column is being named and the <em>Item</em> column is being used as an index. Performing the latter allows us to search for each item by name instead of its index number."
   ]
  },
  {
   "cell_type": "code",
   "execution_count": null,
   "metadata": {
    "deletable": false,
    "editable": false
   },
   "outputs": [],
   "source": [
    "## Code 5.3.5 ##\n",
    "\n",
    "food_n_beverage_df = pd.DataFrame(food_n_beverage,\n",
    "                                  columns = ['Item', 'Quantity'])\n",
    "\n",
    "food_n_beverage_df.set_index('Item',\n",
    "                             inplace = True)\n",
    "\n",
    "print(food_n_beverage_df)"
   ]
  },
  {
   "cell_type": "markdown",
   "metadata": {},
   "source": [
    "***\n",
    "***\n",
    "## 2.4 Accessing List Elements"
   ]
  },
  {
   "cell_type": "markdown",
   "metadata": {},
   "source": [
    "Mastering how to access list elements will pay off greatly in the future. This technique is applicable in a wide array of situations, such as accessing elements in more complex data structures, filtering and subsetting, and creating new columns in a dataset. As you may have noticed, the foods (chips and salsa) are at the beginning of the <em>food_n_beverage</em> list. These can be accessed by referencing each element's <strong>index</strong> value.<br><br>\n",
    "\n",
    "### Indexing in Python\n",
    "Consider the following list:\n",
    "\n",
    "~~~\n",
    "['first', 'second', 'third']\n",
    "~~~\n",
    "\n",
    "Reiterating from the previous chapter, <strong>indexing in Python starts at 0.</strong> Therefore, the first element of a list is element 0. You can think of this like the coordinate plane in geometry, where (0, 0) represents the origin, or where the x-axis meets the y-axis. There are two common methods for indexing lists: forward and backward.\n",
    "<br><br>\n",
    "<strong>To index forward</strong>, place a <em>non-negative</em> number in brackets immediately after a list (i.e. example_list[0]). This will access the list's first element.\n",
    "<br><br>\n",
    "<strong>To index backward</strong>, use a <em>negative</em> number instead of a non-negative number (i.e. example_list[-1]). The <em>-1</em> represents the last element of a list, implying that <em>-2</em> represents the second to last element, <em>-3</em> the third to last, and so on. \n",
    "<br><br>\n",
    "<strong>Slicing an index</strong> refers to pulling more than one sequential value from a list (i.e. example_list[0:2]). Lists can also be sliced by specifying multiple index values, separated by a semi-colon (i.e. example_list[0:2; 5]).\n",
    "\n",
    "<strong>Note:</strong> The last value in an index slice is exclusive, meaning it is not included as part of the slice.\n",
    "\n",
    "***"
   ]
  },
  {
   "cell_type": "code",
   "execution_count": null,
   "metadata": {
    "deletable": false,
    "editable": false
   },
   "outputs": [],
   "source": [
    "## Code 5.4.1 ##\n",
    "\n",
    "example_list = ['first', 'second', 'third']\n",
    "\n",
    "# Printing the first element of the list (forward indexing)\n",
    "print(example_list[0])"
   ]
  },
  {
   "cell_type": "code",
   "execution_count": null,
   "metadata": {
    "deletable": false,
    "editable": false
   },
   "outputs": [],
   "source": [
    "## Code 5.4.2 ##\n",
    "\n",
    "# Printing the last element of the list (backward indexing)\n",
    "print(example_list[-1])"
   ]
  },
  {
   "cell_type": "code",
   "execution_count": null,
   "metadata": {
    "deletable": false,
    "editable": false
   },
   "outputs": [],
   "source": [
    "## Code 5.4.3 ##\n",
    "\n",
    "# Slicing the first and second elements of the list\n",
    "print(example_list[0:2])"
   ]
  },
  {
   "cell_type": "code",
   "execution_count": null,
   "metadata": {
    "deletable": false,
    "editable": false
   },
   "outputs": [],
   "source": [
    "## Code 2.4.4 ##\n",
    "\n",
    "# Equating forward and backwards slicing methods\n",
    "example_list[0:2] == example_list[-3:-1]"
   ]
  },
  {
   "cell_type": "markdown",
   "metadata": {},
   "source": [
    "<strong>Note:</strong> More information related to data structures and their methods can be found in [the Python documentation](https://docs.python.org/3/tutorial/datastructures.html)."
   ]
  },
  {
   "cell_type": "markdown",
   "metadata": {},
   "source": [
    "***\n",
    "\n",
    "## 2.5 Adding Items to a List"
   ]
  },
  {
   "cell_type": "markdown",
   "metadata": {},
   "source": [
    "In this section, we will cover two methods to add items to a list: <strong>.append()</strong> and <strong>.insert()</strong>. <br>\n",
    "### list.append()\n",
    "The method <strong>.append()</strong> adds a single object to the end of a list. This object can be of any data type (string, integer, float, etc.). It can even be a more complex structure such as another list or a tuple."
   ]
  },
  {
   "cell_type": "markdown",
   "metadata": {},
   "source": [
    "***\n",
    "### list.insert()\n",
    "The method <strong>.insert()</strong> takes two arguments: an index and an object. You can consider this as a more complex version of the <strong>.append()</strong> method, giving you the flexibility to choose where you would like to insert an object.\n",
    "\n",
    "<strong>Note:</strong> It is important to reiterate Line 3 of the Python mantra. If you need a refresher, please run <em>Code 5.5.1</em>."
   ]
  },
  {
   "cell_type": "code",
   "execution_count": null,
   "metadata": {
    "cell_style": "split",
    "deletable": false,
    "editable": false
   },
   "outputs": [],
   "source": [
    "## Code 5.5.1 ##\n",
    "\n",
    "import this"
   ]
  },
  {
   "cell_type": "markdown",
   "metadata": {},
   "source": [
    "<strong>Simple is better than complex</strong>. This implies that if a simple coding solution solves your problem, it is a good one. This is not always easy to achieve, and innovations to address the alleviation of complex solutions are the heart and soul of open source programming. If you find a way to simplify a complex coding problem, <strong>contribute your solution to what you are trying to achieve.** The Python community will thank you for it."
   ]
  },
  {
   "cell_type": "markdown",
   "metadata": {
    "cell_style": "center"
   },
   "source": [
    "#### Back to list.insert()\n",
    "This method works as follows: list.insert(<em>index = where you want to insert your object</span>, <span class=\"girk\">object = what you want to insert</em>) <br>\n",
    "\n",
    "*Note: This function inserts in the position you specify and shifts later list objects. In other words, objects after your insert move from their original index value k to k+1.* <br>\n",
    "\n",
    "For example, the code below will insert an object at the beginning of a list."
   ]
  },
  {
   "cell_type": "code",
   "execution_count": null,
   "metadata": {
    "cell_style": "center",
    "deletable": false,
    "editable": false
   },
   "outputs": [],
   "source": [
    "## Code 2.5.2 ##\n",
    "\n",
    "example_list = [7, 9]\n",
    "\n",
    "# Inserting an object at the beginning of a list.\n",
    "example_list.insert(0, 6)\n",
    "\n",
    "# Printing the list\n",
    "print(example_list)"
   ]
  },
  {
   "cell_type": "markdown",
   "metadata": {
    "deletable": false,
    "editable": false,
    "run_control": {
     "frozen": true
    }
   },
   "source": [
    "***\n",
    "We can insert an object at any point in the list."
   ]
  },
  {
   "cell_type": "code",
   "execution_count": null,
   "metadata": {
    "cell_style": "center",
    "deletable": false,
    "editable": false
   },
   "outputs": [],
   "source": [
    "## Code 2.5.3 ##\n",
    "\n",
    "example_list.insert(2, 8)\n",
    "\n",
    "print(example_list)"
   ]
  },
  {
   "cell_type": "markdown",
   "metadata": {},
   "source": [
    "***\n",
    "\n",
    "### Using list.extend()\n",
    "The method **.extend()** is useful when you need to append multiple objects to the end of a list. It takes an **iterable** as its only argument. The word iterable is programming jargon for something that can sequentially run over. In other words, an iterable is a series of objects that can be processed one by one. All of our lists are examples of iterables. All this means is that we can run an operation on each element in our lists one-by-one.<br>\n",
    "If we used **.extend()** to add the values of *example_list* to *my_list*, it would add each element in *example_list* sequentially (i.e. one-by-one)."
   ]
  },
  {
   "cell_type": "code",
   "execution_count": null,
   "metadata": {
    "cell_style": "split",
    "deletable": false,
    "editable": false
   },
   "outputs": [],
   "source": [
    "## Code 2.5.4 ##\n",
    "\n",
    "print(my_list)\n",
    "print(example_list)"
   ]
  },
  {
   "cell_type": "code",
   "execution_count": null,
   "metadata": {
    "cell_style": "split",
    "deletable": false,
    "editable": false
   },
   "outputs": [],
   "source": [
    "## Code 2.5.5 ##\n",
    "\n",
    "my_list.extend(example_list)\n",
    "print(my_list)"
   ]
  },
  {
   "cell_type": "markdown",
   "metadata": {},
   "source": [
    "If we used the **.append()** method instead of **.extend()**, we would get a list with two objects: the number 5 and the list [6, 7, 8, 9]."
   ]
  },
  {
   "cell_type": "code",
   "execution_count": null,
   "metadata": {
    "cell_style": "center",
    "code_folding": [],
    "deletable": false,
    "editable": false
   },
   "outputs": [],
   "source": [
    "## Code 2.5.6 ##\n",
    "\n",
    "# Resetting my_list and example_list\n",
    "my_list = [5]\n",
    "example_list = [6, 7, 8, 9]\n",
    "\n",
    "my_list.append(example_list)\n",
    "print(my_list)\n",
    "\n",
    "print(f'My list is now of length {len(my_list)}.')"
   ]
  },
  {
   "cell_type": "markdown",
   "metadata": {},
   "source": [
    "**.extend()** is a great method for *extending* at the end of a list, but what if we wanted to add multiple items to the beginning of a list?\n",
    "\n",
    "<br>\n",
    "\n",
    "***\n",
    "***\n",
    "\n",
    "## 2.6 The Elegance of Simplicity\n",
    "**.extend()** was designed to add items to the end of a list. This creates a challenge for us, as we would like to add foods to the beginning of the list, not the end. We could take the long and tedious approach of coding a several **.insert()** statements, but there is a more elegant solution. To get there, let's analyze our current situation:<br><br>\n",
    "\n",
    "<strong>Current Situation</strong><pre>\n",
    "<u>Goal</u>:             Add multiple items to the beginning of a list.\n",
    "<u>Optimal Solution</u>: One line of code.\n",
    "<u>Rationale</u>:        One chunk of code will be easy to update/maintain and we can use it over and over again.\n",
    "\n",
    "<u>Drawback(s) of Current Techniques</u>\n",
    "<strong>.insert()</strong> - more than one line of code is needed\n",
    "<strong>.extend()</strong> - adds to the end of a list, not the beginning\n",
    "</pre>"
   ]
  },
  {
   "cell_type": "markdown",
   "metadata": {
    "cell_style": "split"
   },
   "source": [
    "We could attempt to feed more than one object into **.insert()** as in *Code 2.6.1*, but this will generate a **TypeError**. TypeErrors occur when we provide a function with a variable type that it was not designed to handle. In the case of *Code 2.6.1*, we have provided the **.insert()** method with list for the index argument. Unfortunately for us, the index argument must be an integer value. This makes perfect sense, as indexes are integers. Also, as **.insert()** is one of Python's built-in base functions, it is very likely that its designers wanted to keep it as simple and stable as possible. This makes a lot of sense, as other programmers can use **.insert()** to build more advanced functions without having to worry about unexpected results. Again, as stated in Line 3 of the Python mantra: **simple is better than complex**."
   ]
  },
  {
   "cell_type": "code",
   "execution_count": null,
   "metadata": {
    "cell_style": "split",
    "deletable": false,
    "editable": false,
    "run_control": {
     "frozen": true
    }
   },
   "outputs": [],
   "source": [
    "# Code 2.6.1 ##\n",
    "\n",
    "food_n_beverage.insert([0,1], [['avocados', 10],\n",
    "                                ['bananas', 10]])\n",
    "\n",
    "\"\"\"\n",
    "---------------------------------------------------------------------------\n",
    "TypeError                                 Traceback (most recent call last)\n",
    "<ipython-input-28-e8dc5f2de52c> in <module>\n",
    "      2 \n",
    "      3 food_n_beverage.insert([0,1], [['avocados', 10],\n",
    "----> 4                                 ['bananas', 10]])\n",
    "\n",
    "TypeError: 'list' object cannot be interpreted as an integer\n",
    "\"\"\""
   ]
  },
  {
   "cell_type": "markdown",
   "metadata": {
    "cell_style": "split",
    "deletable": false,
    "editable": false,
    "run_control": {
     "frozen": true
    }
   },
   "source": [
    " "
   ]
  },
  {
   "cell_type": "markdown",
   "metadata": {
    "cell_style": "split"
   },
   "source": [
    "Let's take a look at **.extend()**. From *Code 2.6.2*, we can see that **.extend()** takes one and only one argument: the iterable to sequentially append to the end of a list.<br><br>\n",
    "Although this method does not natively solve our problem, what if we restructured our problem instead of our solution? In other words, what if we:\n",
    "\n",
    "1. Reversed our list so that foods are at the end\n",
    "2. Used the **.extend()** method to add new foods\n",
    "3. Reversed the list again so that foods are at the beginning\n",
    "\n",
    "This would solve our problem, and we can use a wonderful method named **.reverse()** to accomplish this. How did I know about this method? I read [the Python documentation](https://docs.python.org/3/tutorial/datastructures.html). If you skipped over this link in section 2.4 above, now is a good time to do your research.<br>\n",
    "\n",
    "Let's apply this method and see if it solves our problem."
   ]
  },
  {
   "cell_type": "code",
   "execution_count": null,
   "metadata": {
    "cell_style": "split",
    "deletable": false,
    "editable": false
   },
   "outputs": [],
   "source": [
    "## Code 2.6.2 ##\n",
    "\n",
    "help(list.extend)"
   ]
  },
  {
   "cell_type": "markdown",
   "metadata": {},
   "source": [
    " "
   ]
  },
  {
   "cell_type": "markdown",
   "metadata": {
    "cell_style": "split"
   },
   "source": [
    "### Reversing a list with .reverse()\n",
    "For lists, the **.reverse()** method does exactly as its name implies: it reverses the order of a list. We can see this from *Code 2.6.3* and *Code 2.6.4*. <br>\n",
    "\n",
    "**We need to be careful for two reasons.** First, we need to remember whether my_list is reversed or not. Second, if we ran *Code 2.6.4* again, our list would be back in its original order. As this is our first time working with **.reverse()**, it is best to take a conservative approach and create a new object for the reversed-version of our list (*Code 2.6.5*).<br><br>\n",
    "\n",
    "### The *Wrong* Way to Copy Lists\n",
    "Before we learn how to do this the right way, let's see what happens when we do this the *wrong* way. In *Code 2.6.5*, we have created a new object (*rev_my_list*) with the intention of using it to make our reversal while preserving the integrity of our original list (*my_list*).<br>\n",
    "\n",
    "So far, everything appears to be working properly. Let's perform our reversal in *Code 2.6.6*. As can be observed, the reversals worked and our list got extended, but with an unintended consequence: Every change to *rev_my_list* also changed *my_list*. It may seem strange, but this is the way objects work in Python. When we ran *rev_my_list = my_list* in *Code 2.6.5*, created two objects that share the same address. In other words, the lists are two different names for the same object. Changing either list will affect both lists. This is apparent in *Code 2.6.7*.\n",
    "\n",
    "We can resolve this problem by using the method **.copy()**.<br><br>\n",
    "\n",
    "### Copying a list with .copy()\n",
    "In short, the method **.copy()** makes a copy of an object, storing it in a new address. In the context of our lists, this will prevent both lists from changing when we use **.reverse()** and **.extend()**. This has been done in *Code 2.6.8*. <br>\n",
    "\n",
    "As can be observed, using **.copy()** prevents the undue consequence of objects being effected by changes. We have arrived at our intended result, and covered some of the key components of lists and list operations.<br><br>\n",
    "\n",
    "### Wrapping Up\n",
    "At the time of this writing, Python 3 has 11 built-in methods for lists, which can be found in [the Python documentation](https://docs.python.org/3/tutorial/datastructures.html). Masting the five presented in this chapter, as well as indexing and slicing, are enough to provide a good foundation to move forward into more advanced concepts."
   ]
  },
  {
   "cell_type": "markdown",
   "metadata": {
    "cell_style": "split"
   },
   "source": [
    " "
   ]
  },
  {
   "cell_type": "code",
   "execution_count": null,
   "metadata": {
    "cell_style": "split",
    "deletable": false,
    "editable": false
   },
   "outputs": [],
   "source": [
    " ## Code 2.6.3 ##\n",
    "\n",
    "my_list = [5, 6, 7, 8]\n",
    "\n",
    "print(my_list)"
   ]
  },
  {
   "cell_type": "code",
   "execution_count": null,
   "metadata": {
    "cell_style": "split",
    "deletable": false,
    "editable": false
   },
   "outputs": [],
   "source": [
    "## Code 2.6.4 ##\n",
    "\n",
    "my_list.reverse()\n",
    "\n",
    "print(my_list)"
   ]
  },
  {
   "cell_type": "code",
   "execution_count": null,
   "metadata": {
    "cell_style": "split",
    "deletable": false,
    "editable": false
   },
   "outputs": [],
   "source": [
    "## Code 2.6.5 ##\n",
    "\n",
    "my_list = [5, 6, 7, 8]\n",
    "\n",
    "# The WRONG way to copy lists\n",
    "rev_my_list = my_list\n",
    "\n",
    "print(f\"\"\"\n",
    "my_list:     {my_list}\n",
    "rev_my_list: {rev_my_list}\n",
    "\"\"\")"
   ]
  },
  {
   "cell_type": "code",
   "execution_count": null,
   "metadata": {
    "cell_style": "split",
    "deletable": false,
    "editable": false
   },
   "outputs": [],
   "source": [
    "## Code 2.6.6 ##\n",
    "\n",
    "# Reversing my_list\n",
    "rev_my_list.reverse()\n",
    "\n",
    "# Extending rev_my_list with new items\n",
    "rev_my_list.extend([4, 3, 2, 1])\n",
    "\n",
    "# Reversing the list back to original form\n",
    "rev_my_list.reverse()\n",
    "\n",
    "# Printing the result\n",
    "print(f\"\"\"\n",
    "my_list:     {my_list}\n",
    "rev_my_list: {rev_my_list}\n",
    "\"\"\")"
   ]
  },
  {
   "cell_type": "code",
   "execution_count": null,
   "metadata": {
    "cell_style": "split",
    "deletable": false,
    "editable": false
   },
   "outputs": [],
   "source": [
    "## Code 2.6.7 ##\n",
    "\n",
    "# Checking the addresses of each list\n",
    "print(f\"\"\"\n",
    "Object Addresses:\n",
    "my_list:     {id(my_list)}\n",
    "rev_my_list: {id(rev_my_list)}\n",
    "\"\"\")"
   ]
  },
  {
   "cell_type": "markdown",
   "metadata": {
    "deletable": false,
    "editable": false,
    "run_control": {
     "frozen": true
    }
   },
   "source": [
    " "
   ]
  },
  {
   "cell_type": "code",
   "execution_count": null,
   "metadata": {
    "cell_style": "split",
    "deletable": false,
    "editable": false
   },
   "outputs": [],
   "source": [
    "## Code 2.6.8 ##\n",
    "\n",
    "# Resetting my_list\n",
    "my_list = [5, 6, 7, 8]\n",
    "\n",
    "# Copying my_list\n",
    "rev_my_list = my_list.copy()\n",
    "\n",
    "# Reversing rev_my_list\n",
    "rev_my_list.reverse()\n",
    "\n",
    "# Extending rev_my_list with new items\n",
    "rev_my_list.extend([4, 3, 2, 1])\n",
    "\n",
    "# Reversing rev_my_list\n",
    "rev_my_list.reverse()\n",
    "\n",
    "# Printing the result\n",
    "print(f\"\"\"\n",
    "my_list:     {my_list}\n",
    "rev_my_list: {rev_my_list}\n",
    "\"\"\")"
   ]
  },
  {
   "cell_type": "raw",
   "metadata": {
    "cell_style": "split"
   },
   "source": [
    "\n",
    "\n",
    "\n",
    "\n",
    "\n",
    "\n",
    "\n",
    "\n",
    "  ____                              _ \n",
    " / ___| _   _  ___ ___ ___  ___ ___| |\n",
    " \\___ \\| | | |/ __/ __/ _ \\/ __/ __| |\n",
    "  ___) | |_| | (_| (_|  __/\\__ \\__ \\_|\n",
    " |____/ \\__,_|\\___\\___\\___||___/___(_)\n",
    "\n",
    "  \n",
    "  \n",
    "  \n",
    "    \n",
    "\n",
    "\n",
    "\n"
   ]
  }
 ],
 "metadata": {
  "kernelspec": {
   "display_name": "Python 3",
   "language": "python",
   "name": "python3"
  },
  "language_info": {
   "codemirror_mode": {
    "name": "ipython",
    "version": 3
   },
   "file_extension": ".py",
   "mimetype": "text/x-python",
   "name": "python",
   "nbconvert_exporter": "python",
   "pygments_lexer": "ipython3",
   "version": "3.6.8"
  },
  "toc": {
   "base_numbering": "1",
   "nav_menu": {},
   "number_sections": false,
   "sideBar": true,
   "skip_h1_title": true,
   "title_cell": "Table of Contents",
   "title_sidebar": "Contents",
   "toc_cell": true,
   "toc_position": {
    "height": "calc(100% - 180px)",
    "left": "10px",
    "top": "150px",
    "width": "259.2px"
   },
   "toc_section_display": true,
   "toc_window_display": false
  },
  "varInspector": {
   "cols": {
    "lenName": 16,
    "lenType": 16,
    "lenVar": 40
   },
   "kernels_config": {
    "python": {
     "delete_cmd_postfix": "",
     "delete_cmd_prefix": "del ",
     "library": "var_list.py",
     "varRefreshCmd": "print(var_dic_list())"
    },
    "r": {
     "delete_cmd_postfix": ") ",
     "delete_cmd_prefix": "rm(",
     "library": "var_list.r",
     "varRefreshCmd": "cat(var_dic_list()) "
    }
   },
   "types_to_exclude": [
    "module",
    "function",
    "builtin_function_or_method",
    "instance",
    "_Feature"
   ],
   "window_display": false
  }
 },
 "nbformat": 4,
 "nbformat_minor": 2
}
