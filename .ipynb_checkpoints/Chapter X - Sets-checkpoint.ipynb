{
 "cells": [
  {
   "cell_type": "markdown",
   "metadata": {},
   "source": [
    "***\n",
    "***\n",
    "***\n",
    "<br><br><br><br><br>\n",
    "<h1>Python for Business Analytics</h1>\n",
    "<em>A Nontechnical Approach for Nontechnical People</em><br><br>\n",
    "<em><strong>Custom Edition for Hult International Business School</strong></em><br>\n",
    "\n",
    "Written by Konrad Ilczuk <br>\n",
    "Hult International Business School <br>\n",
    "***\n",
    "***\n",
    "***\n",
    "\n",
    "# <u>Chapter X: Sets and Set Operations</u>"
   ]
  },
  {
   "cell_type": "markdown",
   "metadata": {},
   "source": [
    "In <strong>Chapter 5: Lists and List Operations</strong>, we introduced the list - a data structure that allows us to store multiple elements of more than one type. This is one of <a href=\"https://docs.python.org/3/tutorial/datastructures.html\">Python's built-in data structures</a> (and it is native to many other programming languages as well). As you may recall, compared to declaring several stand-alone objects, <strong>lists are a way to better organize our information</strong>. As we move forward, we will explore more specialized storage objects that are critical for several analytically-related tasks.\n",
    "<br><br>\n",
    "Amongst these are <a href=\"https://docs.python.org/3/tutorial/datastructures.html#sets\">sets</a> and <a href=\"https://docs.python.org/3/tutorial/datastructures.html#dictionaries\">dictonaries</a>. The former is often used to represent a set of unique elements, and the latter allows us to create an association between two values (i.e. two variables). If these are difficult to conceptualize, have no fear! It is our hope that by the end of this chapter you will be well-acquainted with both structures and develop an intuition for their usage. As with the content in previous chapters, the concepts of this chapter will be reinforced as you move forward throughout this book.\n",
    "<br><br>"
   ]
  },
  {
   "cell_type": "markdown",
   "metadata": {},
   "source": [
    "***\n",
    "\n",
    "<h3>X.1 Declaring Sets with Values</h3>"
   ]
  },
  {
   "cell_type": "markdown",
   "metadata": {},
   "source": [
    "Perhaps the most fundamental way to think about a set is to compare it to an already familiar structure: the <a href=\"https://docs.python.org/3/library/stdtypes.html#lists\">list</a>. As can be recalled from <strong>Chapter 5: Lists and List Operations</strong>, a list is declared with square brackets and its elements are separated by commas, as can be observed in <em>Code XYZ</em>."
   ]
  },
  {
   "cell_type": "code",
   "execution_count": 9,
   "metadata": {
    "deletable": false,
    "editable": false
   },
   "outputs": [
    {
     "name": "stdout",
     "output_type": "stream",
     "text": [
      "['avocados', 'tomatoes', 'pineapples', 'nachos', 'avocados']\n"
     ]
    }
   ],
   "source": [
    "## Code XYZ ##\n",
    "\n",
    "# Declaring a list\n",
    "tasty_lst = [\"avocados\", \"tomatoes\", \"pineapples\", \"nachos\", \"avocados\"]\n",
    "\n",
    "# Printing the list\n",
    "print(tasty_lst)"
   ]
  },
  {
   "cell_type": "markdown",
   "metadata": {},
   "source": [
    "***"
   ]
  },
  {
   "cell_type": "markdown",
   "metadata": {
    "cell_style": "center"
   },
   "source": [
    "Mmmmmm, that is a tasty list! However, it appears that avocados sounded so good that we accidentally put them on <em>tastylst</em> twice. We could simply slice out the second occurrence of avocados, as covered in <strong>Chapter 5: Lists and List Operations</strong>. However, this would not be feasible if our list was much longer and/or if duplicate entries were more numerous. Sets effectively solve this problem. For our purposes:<br><br>\n",
    "\n",
    "\n",
    "<div align=\"center\"><h3>\n",
    "    Sets are a way to better organize our <font color=\"dark orange\">unique</font> information.\n",
    "<a class=\"tocSkip\"></h3></div><br>\n",
    "\n",
    "Sets can be declared as easily as lists, the only difference being that instead of square brackets, we use curly brackets. This is exemplified in <em>Code XYZ</em>."
   ]
  },
  {
   "cell_type": "code",
   "execution_count": 8,
   "metadata": {
    "cell_style": "center",
    "deletable": false,
    "editable": false
   },
   "outputs": [
    {
     "name": "stdout",
     "output_type": "stream",
     "text": [
      "{'tomatoes', 'pineapples', 'nachos', 'avocados'}\n"
     ]
    }
   ],
   "source": [
    "## Code XYZ ##\n",
    "\n",
    "# declaring a set\n",
    "tasty_set = {\"avocados\", \"tomatoes\", \"pineapples\", \"nachos\", \"avocados\"}\n",
    "\n",
    "# printing the set\n",
    "print(tasty_set)"
   ]
  },
  {
   "cell_type": "markdown",
   "metadata": {
    "cell_style": "center"
   },
   "source": [
    "***\n",
    "\n",
    "Upon running the cells above, notice the key difference between <em>tasty_lst</em> and <em>tasty_set</em> - one of the \"avocados\" objects disappeared when <em>tasty_set</em> was run. This is because unlike lists, which will allow for duplicate values, <strong>sets always remain in a state where only <font color =\"dark orange\">unique</font> elements that are stored</strong>, ensuring that no value is ever repeated. This makes the set an excellent structure to store information that we do not want to have duplicates of. \n",
    "\n",
    "<font color=\"purple\">\n",
    "<h4>Bonus: How Python detects duplicates when declaring sets.</h4>\n",
    "I think this would be pretty cool to add, or perhaps to mention a bit in the above paragraph/provide a link to an external source. Also, what do you think of my purple font for adding random feedback/ideas? Pretty awesome right? The color of analytics as well as the Minnesota Vikings! Enjoy the encrypted message below.\n",
    "\n",
    "***\n",
    "\n",
    "<br>\n",
    "\n",
    "\n",
    ".-------.     .-''-.     ____        _______      .-''-.              ,-----.      ___    _ ,---------. .---.  \n",
    "\\  _(`)_ \\  .'_ _   \\  .'  __ `.    /   __  \\   .'_ _   \\           .'  .-,  '.  .'   |  | |\\          \\\\   /  \n",
    "| (_ o._)| / ( ` )   '/   '  \\  \\  | ,_/  \\__) / ( ` )   '         / ,-.|  \\ _ \\ |   .'  | | `--.  ,---'|   |  \n",
    "|  (_,_) /. (_ o _)  ||___|  /  |,-./  )      . (_ o _)  |        ;  \\  '_ /  | :.'  '_  | |    |   \\    \\ /   \n",
    "|   '-.-' |  (_,_)___|   _.-`   |\\  '_ '`)    |  (_,_)___|        |  _`,/ \\ _/  |'   ( \\.-.|    :_ _:     v    \n",
    "|   |     '  \\   .---..'   _    | > (_)  )  __'  \\   .---.        : (  '\\_/ \\   ;' (`. _` /|    (_I_)    _ _   \n",
    "|   |      \\  `-'    /|  _( )_  |(  .  .-'_/  )\\  `-'    /         \\ `\"/  \\  ) / | (_ (_) _)   (_(=)_)  (_I_)  \n",
    "/   )       \\       / \\ (_ o _) / `-'`-'     /  \\       /           '. \\_/``\".'   \\ /  . \\ /    (_I_)  (_(=)_) \n",
    "`---'        `'-..-'   '.(_,_).'    `._____.'    `'-..-'              '-----'      ``-'`-''     '---'   (_I_)  \n",
    "                                                                                                               \n",
    "\n",
    "\n",
    "<br>\n",
    "\n",
    "***\n",
    "    \n",
    "</font>"
   ]
  },
  {
   "cell_type": "markdown",
   "metadata": {},
   "source": [
    "### Transforming a List Into a Set"
   ]
  },
  {
   "cell_type": "markdown",
   "metadata": {},
   "source": [
    "Picture a scenario where you wrote an app that allows people to enter their name to sign up for your birthday party. You share the link in your social media profile, few days later you send it out over the email, and also remind your class mates about it. Some of your friends might accidentally sign up twice. Your app, right before delivering the final names of the participants to your mailbox should transform the list of participants to a set of participants. This can be done by applying the set() function on a list:"
   ]
  },
  {
   "cell_type": "code",
   "execution_count": 2,
   "metadata": {},
   "outputs": [
    {
     "name": "stdout",
     "output_type": "stream",
     "text": [
      "{'Chase', 'Andrew', 'Anders', 'Jane', 'Konrad', 'Bertil'}\n"
     ]
    }
   ],
   "source": [
    "## Code XYZ ##\n",
    "\n",
    "# Transforming a list into a set\n",
    "participants = ['Chase','Konrad','Jane','Anders','Andrew','Bertil','Jane']\n",
    "unique_participants = set(participants)\n",
    "print(unique_participants)"
   ]
  },
  {
   "cell_type": "markdown",
   "metadata": {},
   "source": [
    "This example shows one of the properties of sets that are in common with lists. Sets are convertable as we are able to change the data type from a list into a set. We can do the exact oposite as well, thus reinforcing what we learned about lists being convertable:"
   ]
  },
  {
   "cell_type": "code",
   "execution_count": 3,
   "metadata": {},
   "outputs": [
    {
     "data": {
      "text/plain": [
       "['Chase', 'Andrew', 'Anders', 'Jane', 'Konrad', 'Bertil']"
      ]
     },
     "execution_count": 3,
     "metadata": {},
     "output_type": "execute_result"
    }
   ],
   "source": [
    "## Code XYZ ##\n",
    "\n",
    "# Transforming a set into a list\n",
    "list(unique_participants)"
   ]
  },
  {
   "cell_type": "markdown",
   "metadata": {},
   "source": [
    "### Adding and Removing Elements"
   ]
  },
  {
   "cell_type": "markdown",
   "metadata": {},
   "source": [
    "The simple cases above show how to deal with pre-defined structures, such that we manually write in code. In most scenarios you will probably find yourself adding elements to a set inside of a loop. Python sets have the add() function, which is sets equivalent to append() for lists which we saw in Chapter 5. "
   ]
  },
  {
   "cell_type": "code",
   "execution_count": 4,
   "metadata": {},
   "outputs": [
    {
     "name": "stdout",
     "output_type": "stream",
     "text": [
      "{'Bertil', 'Chase', 'Anders', 'Konrad', 'Jane', 'Andrew', 'Johan'}\n"
     ]
    }
   ],
   "source": [
    "## Code XYZ ##\n",
    "\n",
    "# Manipulating a set - adding elements\n",
    "unique_participants.add('Johan') #is not present in the set\n",
    "unique_participants.add('Jane') # already is in the set\n",
    "print(unique_participants)"
   ]
  },
  {
   "cell_type": "markdown",
   "metadata": {},
   "source": [
    "Python performs a check when adding an element to a set to see if it wouldn't duplicate it. If the element we wish to add to the set is no there yet, it adds it - much like we did previously with lists. Otherwise, the element would not find itself again in the set.\n",
    "\n",
    "Sadly, Jane has just informed us that she is not able to join our party. We need to update the guest list to reflect this. As you correctly guessed, the remove() function will do this for us. Given the number of changes we have done to the guest list, we would also need to see how many people we have now so as to prepare the right quantities of food."
   ]
  },
  {
   "cell_type": "code",
   "execution_count": 5,
   "metadata": {},
   "outputs": [
    {
     "name": "stdout",
     "output_type": "stream",
     "text": [
      "{'Bertil', 'Chase', 'Anders', 'Konrad', 'Andrew', 'Johan'}\n",
      "The final number of participants is: 6\n"
     ]
    }
   ],
   "source": [
    "## Code XYZ ##\n",
    "\n",
    "# Manipulating a set - removing elements\n",
    "unique_participants.remove('Jane')\n",
    "print(unique_participants)\n",
    "print(\"The final number of participants is: \" + str(len(unique_participants)))"
   ]
  },
  {
   "cell_type": "markdown",
   "metadata": {},
   "source": [
    "Try to run the cell above twice. The first time you ran it, it removed Jane from the set. The second time, the set contains no entry for Jane and will throw a key error. For this reason, if we do not wish to be alerted about this state of the set, we can use the discard() function instead. The discard() function will \"safely remove\" an element if it exists in the set or do nothing and allow your code to continue running smoothly."
   ]
  },
  {
   "cell_type": "code",
   "execution_count": 6,
   "metadata": {},
   "outputs": [
    {
     "name": "stdout",
     "output_type": "stream",
     "text": [
      "{'Bertil', 'Chase', 'Anders', 'Konrad', 'Andrew', 'Johan'}\n"
     ]
    }
   ],
   "source": [
    "## Code XYZ ##\n",
    "\n",
    "# Manipulating a set - safe removal\n",
    "unique_participants.discard('Jane')\n",
    "print(unique_participants)"
   ]
  },
  {
   "cell_type": "markdown",
   "metadata": {},
   "source": [
    "Mutability was briefly discussed in chapter 5 in the context of lists. What it means when an object is mutable is that we can change it for example by adding or removing elements. If you would like to guarantee immutability of your set and disallow removal of elements, you can create a frozenset which acts much like the set we discussed above, except for that it lacks the \"add\", \"remove\" and \"discard\" functions."
   ]
  },
  {
   "cell_type": "code",
   "execution_count": 9,
   "metadata": {},
   "outputs": [
    {
     "name": "stdout",
     "output_type": "stream",
     "text": [
      "frozenset({'Chase', 'Anders', 'Jane', 'Konrad', 'Andrew', 'Bertil'})\n"
     ]
    }
   ],
   "source": [
    "## Code XYZ ##\n",
    "\n",
    "# Immutable set\n",
    "\n",
    "immutable_set = frozenset(unique_participants)\n",
    "print(immutable_set)\n",
    "#None of the methods below will work, as the set is now immutable\n",
    "#immutable_set.add('Roman')\n",
    "#immutable_set.remove('Jane')\n",
    "#immutable_set.discard('Jane')"
   ]
  },
  {
   "cell_type": "markdown",
   "metadata": {},
   "source": [
    "### Set Operations"
   ]
  },
  {
   "cell_type": "markdown",
   "metadata": {},
   "source": [
    "For practical reasons we will use the word \"list\" and \"set\" interchangably, however note that a \"list of participants\" is translated to a Python set containing names of participants.\n",
    "\n",
    "To complicate matters further (and to have a great excuse to introduce set operations!) our friend Jacob has taken the initiative to help us out with the list of people who would come to your party. Unfortunately he was not aware of our initiative to do the same, hence double work was made. Once he learned that we were doing that too he suggested to combine your both lists(remember - sets!). With the two sets in place, we would be able to obtain some interesting answers about the data gathered:\n",
    "\n",
    "- Find out who has already been asked be either us or Jacob\n",
    "- Combine both lists, so that we can now work as a team  \n",
    "- Find out who is in our list, but not Jacobs and vice-versa\n",
    "- Who is either in ours or Jacobs list, but not in their intersection"
   ]
  },
  {
   "cell_type": "markdown",
   "metadata": {},
   "source": [
    "Luckily, to answer these questions Python comes with ready implemented functions for set operations. We put in the parantheses their symbolic expressions. \n",
    "\n",
    "- Intersection (A⋂B)\n",
    "\n",
    "- Union (A⋃B)\n",
    "\n",
    "- Difference (A\\B) or (B\\A)\n",
    "\n",
    "- Symetric Difference (A⊖B)"
   ]
  },
  {
   "cell_type": "markdown",
   "metadata": {},
   "source": [
    "Our sets have grown in size, making it impractical for us to simply read the values and figure it out. This presents us with an excellent case to use a programming language to help us find the answers. Jacob was so kind as to have already declared the sets for us: "
   ]
  },
  {
   "cell_type": "code",
   "execution_count": null,
   "metadata": {},
   "outputs": [],
   "source": [
    "## Code XYZ ##\n",
    "\n",
    "# Declaring two sets\n",
    "myset = set(['Chase','Konrad','Jane','Anders','Andrew','Bertil','Jane','David','Dimitri','Arshak','Daniel','Henrik','Zhou','Wang','Jonathan'])\n",
    "jacobs = set(['Cheryl','Lana','Konrad','Jane','Anders','Andrew','Bertil','Jane','Dimitri','Arshak','Zhou','Jonathan'])"
   ]
  },
  {
   "cell_type": "markdown",
   "metadata": {},
   "source": [
    "We will now visualize these sets and perform a number of operations with them."
   ]
  },
  {
   "cell_type": "markdown",
   "metadata": {},
   "source": [
    "#### Intersection A⋂B"
   ]
  },
  {
   "cell_type": "markdown",
   "metadata": {},
   "source": [
    "In the following images, \"A\" is \"myset\"(ours) and \"B\" refers to \"Jacobs\". We marked the common part - the intersection with the symbolic expression \"A⋂B\".\n",
    "\n",
    "The intersection returns the elements that are common for both A and B (A⋂B). Those are friends both you and Jacob have reached out to and asked. We should probably not bother them a third time. "
   ]
  },
  {
   "cell_type": "markdown",
   "metadata": {},
   "source": [
    "![caption](images/venn_diagram.png)"
   ]
  },
  {
   "cell_type": "code",
   "execution_count": null,
   "metadata": {},
   "outputs": [],
   "source": [
    "## Code XYZ ##\n",
    "\n",
    "# Intersection (myset⋂jacobs)\n",
    "myset.intersection(jacobs)"
   ]
  },
  {
   "cell_type": "markdown",
   "metadata": {},
   "source": [
    "#### Union (A⋃B)"
   ]
  },
  {
   "cell_type": "markdown",
   "metadata": {},
   "source": [
    "![caption](images/venn_diagram_union.png)"
   ]
  },
  {
   "cell_type": "markdown",
   "metadata": {},
   "source": [
    "Union is the starting point of your colaboration. You combine your two lists, remove the duplicates and have therefore an updated understanding on who has signed up. In A,A⋂B and B terms that would be A + B - A⋂B. We subtract A⋂B, because it is already included in both A and in B and we do not wish to count it twice. The result presents a final set that we can now use as our new starting point to continue collecting names of people."
   ]
  },
  {
   "cell_type": "code",
   "execution_count": 14,
   "metadata": {},
   "outputs": [
    {
     "data": {
      "text/plain": [
       "{'Anders',\n",
       " 'Andrew',\n",
       " 'Arshak',\n",
       " 'Bertil',\n",
       " 'Chase',\n",
       " 'Cheryl',\n",
       " 'Daniel',\n",
       " 'David',\n",
       " 'Dimitri',\n",
       " 'Henrik',\n",
       " 'Jane',\n",
       " 'Jonathan',\n",
       " 'Konrad',\n",
       " 'Lana',\n",
       " 'Wang',\n",
       " 'Zhou'}"
      ]
     },
     "execution_count": 14,
     "metadata": {},
     "output_type": "execute_result"
    }
   ],
   "source": [
    "## Code XYZ ##\n",
    "\n",
    "# Union\n",
    "myset.union(jacobs)"
   ]
  },
  {
   "cell_type": "markdown",
   "metadata": {},
   "source": [
    "#### Difference (A\\B) or (B\\A)"
   ]
  },
  {
   "cell_type": "markdown",
   "metadata": {},
   "source": [
    "<center>(A\\B)</center> | <center>(B\\A)</center>\n",
    "- | - \n",
    "![caption](images/venn_diagram_relative_difference_ab.png) | ![caption](images/venn_diagram_relative_difference_ba.png)"
   ]
  },
  {
   "cell_type": "markdown",
   "metadata": {},
   "source": [
    "Differences in sets bring up what is unique for them. The difference of A and B would be the elements that are only present in A, but are not present in B. Similiarly, the difference of B and A would be the elements that are only present in B but not in A.\n",
    "\n",
    "Now we found out who we haven't reached out to yet. We haven't asked Lana and Cheryl, but those were luckily already contacted by Jacob."
   ]
  },
  {
   "cell_type": "code",
   "execution_count": 15,
   "metadata": {},
   "outputs": [
    {
     "name": "stdout",
     "output_type": "stream",
     "text": [
      "My set - Jacobs: {'Chase', 'David', 'Wang', 'Henrik', 'Daniel'}\n",
      "Jacobs - my set: {'Lana', 'Cheryl'}\n"
     ]
    }
   ],
   "source": [
    "## Code XYZ ##\n",
    "\n",
    "# Difference of sets\n",
    "print(\"My set - Jacobs: \" + str(myset.difference(jacobs)))\n",
    "print(\"Jacobs - my set: \" + str(jacobs.difference(myset)))"
   ]
  },
  {
   "cell_type": "markdown",
   "metadata": {},
   "source": [
    "#### Symetric Difference (A⊖B)"
   ]
  },
  {
   "cell_type": "markdown",
   "metadata": {},
   "source": [
    "![caption](images/venn_diagram_symetric_difference.png)"
   ]
  },
  {
   "cell_type": "markdown",
   "metadata": {},
   "source": [
    "The symetric difference is a bit trickier to explain. It returns the subset of elements that are in B but are absent from A (the difference) AND (union) of elements in A that are absent from B. This operation is useful when you want to see what the both sets missed. This can be visualized as everything except the intersection A⋂B."
   ]
  },
  {
   "cell_type": "code",
   "execution_count": 16,
   "metadata": {},
   "outputs": [
    {
     "data": {
      "text/plain": [
       "{'Chase', 'Cheryl', 'Daniel', 'David', 'Henrik', 'Lana', 'Wang'}"
      ]
     },
     "execution_count": 16,
     "metadata": {},
     "output_type": "execute_result"
    }
   ],
   "source": [
    "## Code XYZ ##\n",
    "\n",
    "# Symetric difference\n",
    "myset.symmetric_difference(jacobs)"
   ]
  },
  {
   "cell_type": "markdown",
   "metadata": {},
   "source": [
    "#### Comparing Sets"
   ]
  },
  {
   "cell_type": "markdown",
   "metadata": {},
   "source": [
    "Let us verify this ourselves. If we subtract B from A and combine that(union) with A from B, we should get everything that is not the intersection, which is exactly what the Symetric Difference is. Naturally, we can use the \"==\" operator to assess whether those sets are equivalent."
   ]
  },
  {
   "cell_type": "code",
   "execution_count": 18,
   "metadata": {},
   "outputs": [
    {
     "data": {
      "text/plain": [
       "True"
      ]
     },
     "execution_count": 18,
     "metadata": {},
     "output_type": "execute_result"
    }
   ],
   "source": [
    "## Code XYZ ##\n",
    "\n",
    "# Asserting that the two sets are equal\n",
    "myset.difference(jacobs).union(jacobs.difference(myset)) == myset.symmetric_difference(jacobs)"
   ]
  },
  {
   "cell_type": "markdown",
   "metadata": {},
   "source": [
    "One last check we could do is to go back to our visualizations and compare them (in case we have not yet developed a sufficient amoutn of trust in machine-executed code).\n"
   ]
  },
  {
   "cell_type": "markdown",
   "metadata": {},
   "source": [
    "<center>(A\\B)</center> | &nbsp; | <center>(B\\A)</center> |\n",
    "- | - | -\n",
    "![caption](images/venn_diagram_relative_difference_ab.png) | **⋃** | ![caption](images/venn_diagram_relative_difference_ba.png) |\n",
    "\n",
    "\n",
    "![caption](images/venn_diagram_symetric_difference.png)"
   ]
  },
  {
   "cell_type": "markdown",
   "metadata": {},
   "source": [
    "Seems like our solution is correct!"
   ]
  },
  {
   "cell_type": "markdown",
   "metadata": {},
   "source": [
    "# External Reading"
   ]
  },
  {
   "cell_type": "markdown",
   "metadata": {},
   "source": [
    "- https://python-reference.readthedocs.io/en/latest/docs/sets/\n",
    "- https://www.w3schools.com/python/python_sets.asp\n",
    "- https://docs.python.org/3/tutorial/datastructures.html#sets"
   ]
  },
  {
   "cell_type": "markdown",
   "metadata": {},
   "source": [
    "# Exercises"
   ]
  },
  {
   "cell_type": "markdown",
   "metadata": {},
   "source": [
    "We made it through the basic cases of sets, introduced the different set operations with their respective symbolic notations. Now the time has come to practice on these concepts in a scenario with 3 sets."
   ]
  },
  {
   "cell_type": "markdown",
   "metadata": {},
   "source": [
    "![3vd](images/venn_diagram_3.png)"
   ]
  },
  {
   "cell_type": "markdown",
   "metadata": {},
   "source": [
    "You are working as a Data Scientist in a respected and global educational company. You have collected data on three of the best performing students. Right now you are looking into which teachers taught all three students, believing that identifying them would be a great predictor of the success of future students. "
   ]
  },
  {
   "cell_type": "code",
   "execution_count": 3,
   "metadata": {},
   "outputs": [],
   "source": [
    "student1 = {\"Mr Beto\",\"Ms Alice\",\"Mr Han\",\"Ms Aline de Silva\",\"Senhor Bruno Ferreira\",\"Mr Damese\",\"Ms Jabrullah\",\"Mr Elif\",\"Ms Ilaf\"}\n",
    "student2 = {\"Senhor Bruno Ferreira\",\"Mr Damese\",\"Ms Jabrullah\",\"Ms Ilaf\",\"Mr Geralt\",\"Ms Sandeepa\",\"Ms Xin Guo\"}\n",
    "student3 = {\"Mr Han\",\"Mr Damese\",\"Ms Jabrullah\",\"Ms Ilaf\",\"Mr Tomasz\"}"
   ]
  },
  {
   "cell_type": "markdown",
   "metadata": {
    "solution2": "hidden",
    "solution2_first": true
   },
   "source": [
    "First, let's begin by printing out and counting the number of unique teacher names in the sets. Try to write it yourself first, in the cells provided below and only later compare later with our solutions."
   ]
  },
  {
   "cell_type": "code",
   "execution_count": null,
   "metadata": {
    "solution2": "hidden"
   },
   "outputs": [],
   "source": [
    "len(student1.union(student2).union(student3))"
   ]
  },
  {
   "cell_type": "code",
   "execution_count": 6,
   "metadata": {
    "solution2": "hidden"
   },
   "outputs": [
    {
     "data": {
      "text/plain": [
       "13"
      ]
     },
     "execution_count": 6,
     "metadata": {},
     "output_type": "execute_result"
    }
   ],
   "source": [
    "len(student1.union(student2).union(student3))"
   ]
  },
  {
   "cell_type": "code",
   "execution_count": 7,
   "metadata": {},
   "outputs": [],
   "source": [
    "### Type your code here"
   ]
  },
  {
   "cell_type": "markdown",
   "metadata": {
    "solution2": "hidden",
    "solution2_first": true
   },
   "source": [
    "Which are the teachers they all had in commmon ?"
   ]
  },
  {
   "cell_type": "code",
   "execution_count": 4,
   "metadata": {
    "solution2": "hidden"
   },
   "outputs": [
    {
     "data": {
      "text/plain": [
       "{'Mr Damese', 'Ms Ilaf', 'Ms Jabrullah'}"
      ]
     },
     "execution_count": 4,
     "metadata": {},
     "output_type": "execute_result"
    }
   ],
   "source": [
    "student1.intersection(student2).intersection(student3)"
   ]
  },
  {
   "cell_type": "code",
   "execution_count": null,
   "metadata": {},
   "outputs": [],
   "source": [
    "### Type your code here"
   ]
  },
  {
   "cell_type": "markdown",
   "metadata": {
    "solution2": "hidden",
    "solution2_first": true
   },
   "source": [
    "You realized a mistake while collecting your data and it turned out that the student2 set comes actually from a higher-level course that does not exist anymore and the teachers that taught it are long gone from the school. You will need to remove them and only consider those that were in common between the other two students."
   ]
  },
  {
   "cell_type": "code",
   "execution_count": 10,
   "metadata": {
    "solution2": "hidden"
   },
   "outputs": [
    {
     "data": {
      "text/plain": [
       "{'Mr Beto', 'Mr Elif', 'Mr Han', 'Mr Tomasz', 'Ms Alice', 'Ms Aline de Silva'}"
      ]
     },
     "execution_count": 10,
     "metadata": {},
     "output_type": "execute_result"
    }
   ],
   "source": [
    "student1.union(student3).difference(student2)"
   ]
  },
  {
   "cell_type": "code",
   "execution_count": null,
   "metadata": {},
   "outputs": [],
   "source": [
    "### Type your code here"
   ]
  },
  {
   "cell_type": "markdown",
   "metadata": {
    "solution2": "hidden",
    "solution2_first": true
   },
   "source": [
    "Who are the teachers that none of them has in common ? "
   ]
  },
  {
   "cell_type": "code",
   "execution_count": 11,
   "metadata": {
    "scrolled": false,
    "solution2": "hidden"
   },
   "outputs": [
    {
     "data": {
      "text/plain": [
       "{'Mr Beto',\n",
       " 'Mr Damese',\n",
       " 'Mr Elif',\n",
       " 'Mr Geralt',\n",
       " 'Mr Tomasz',\n",
       " 'Ms Alice',\n",
       " 'Ms Aline de Silva',\n",
       " 'Ms Ilaf',\n",
       " 'Ms Jabrullah',\n",
       " 'Ms Sandeepa',\n",
       " 'Ms Xin Guo'}"
      ]
     },
     "execution_count": 11,
     "metadata": {},
     "output_type": "execute_result"
    }
   ],
   "source": [
    "student1.symmetric_difference(student2).symmetric_difference(student3) #this is a trap :-)"
   ]
  },
  {
   "cell_type": "code",
   "execution_count": null,
   "metadata": {
    "solution2": "hidden"
   },
   "outputs": [],
   "source": [
    "student1.union(student2).union(student3).difference(student1.intersection(student2).intersection(student3))"
   ]
  },
  {
   "cell_type": "code",
   "execution_count": 8,
   "metadata": {},
   "outputs": [],
   "source": [
    "### Type your code here"
   ]
  }
 ],
 "metadata": {
  "kernelspec": {
   "display_name": "Python 3",
   "language": "python",
   "name": "python3"
  },
  "language_info": {
   "codemirror_mode": {
    "name": "ipython",
    "version": 3
   },
   "file_extension": ".py",
   "mimetype": "text/x-python",
   "name": "python",
   "nbconvert_exporter": "python",
   "pygments_lexer": "ipython3",
   "version": "3.8.0"
  },
  "toc": {
   "base_numbering": 1,
   "nav_menu": {},
   "number_sections": false,
   "sideBar": true,
   "skip_h1_title": false,
   "title_cell": "Table of Contents",
   "title_sidebar": "Contents",
   "toc_cell": false,
   "toc_position": {},
   "toc_section_display": true,
   "toc_window_display": false
  },
  "varInspector": {
   "cols": {
    "lenName": 16,
    "lenType": 16,
    "lenVar": 40
   },
   "kernels_config": {
    "python": {
     "delete_cmd_postfix": "",
     "delete_cmd_prefix": "del ",
     "library": "var_list.py",
     "varRefreshCmd": "print(var_dic_list())"
    },
    "r": {
     "delete_cmd_postfix": ") ",
     "delete_cmd_prefix": "rm(",
     "library": "var_list.r",
     "varRefreshCmd": "cat(var_dic_list()) "
    }
   },
   "types_to_exclude": [
    "module",
    "function",
    "builtin_function_or_method",
    "instance",
    "_Feature"
   ],
   "window_display": false
  }
 },
 "nbformat": 4,
 "nbformat_minor": 2
}
