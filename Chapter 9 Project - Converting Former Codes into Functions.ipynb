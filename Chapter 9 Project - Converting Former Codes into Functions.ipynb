{
 "cells": [
  {
   "cell_type": "markdown",
   "metadata": {
    "deletable": false,
    "editable": false,
    "run_control": {
     "frozen": true
    }
   },
   "source": [
    "***\n",
    "***\n",
    "***\n",
    "<br><br><br><br><br>\n",
    "<h1>Python for Business Analytics</h1>\n",
    "<em>A Nontechnical Approach for Nontechnical People</em><br><br>\n",
    "<em><strong>Custom Edition for Hult International Business School</strong></em><br>\n",
    "\n",
    "Written by Chase Kusterer - Faculty of Analytics <br>\n",
    "Hult International Business School <br>\n",
    "https://github.com/chase-kusterer <br><br><br><br><br>\n",
    "***\n",
    "***\n",
    "***\n",
    "\n",
    "# <u>Project Chapter 9: Converting Former Codes into Functions</u>"
   ]
  },
  {
   "cell_type": "markdown",
   "metadata": {},
   "source": [
    "In this project, we will enhance the food and beverage list from <strong>Chapter 5 Project - Preparing for a Party</strong> by wrapping it into a function. As we will see, this creates a number of benefits, such as the ability to:\n",
    "* allow users to run the function whenever needed\n",
    "* write default values for whether or not a user is inputting a food or a beverage\n",
    "* explain the function through a docstring\n",
    "* control for exceptions\n",
    "\n",
    "\n",
    "## Part 1: Defining a Simple Function\n",
    "Anticipating that there may be many food and beverage requests for the party, Mona Dhillon is in need of a solution. Not only does she need to allow requesters (i.e. users) to add any item to the food and beverage list, but she also needs to make sure the list remains organized. She has requested your help in designing a function that adds foods to the beginning of the list, and beverages to the end of the list.\n",
    "<br><br>\n",
    "To get started, declare the <em>food_n_beverage</em> list in <em>Project Code 9.1.1</em>.\n",
    "\n",
    "***"
   ]
  },
  {
   "cell_type": "code",
   "execution_count": null,
   "metadata": {
    "deletable": false,
    "editable": false
   },
   "outputs": [],
   "source": [
    "## Project Code 9.1.1\n",
    "\n",
    "# declaring food_n_beverage\n",
    "food_n_beverage = [['kilograms of salad', 37.5],\n",
    "                   ['bags of chips', 50],\n",
    "                   ['jars of salsa', 50],\n",
    "                   ['liters still water', 25],\n",
    "                   ['liters sparkling water', 25],\n",
    "                   ['cans of ground coffee', 2],\n",
    "                   ['bottles red wine', 50],\n",
    "                   ['bottles white wine', 30]]"
   ]
  },
  {
   "cell_type": "markdown",
   "metadata": {
    "deletable": false,
    "editable": false,
    "run_control": {
     "frozen": true
    }
   },
   "source": [
    "***\n",
    "\n",
    "#### P9.1.1) Define a function that takes two mandatory arguments and one optional argument.\n",
    "The mandatory arguments should be named <em>item</em> and <em>amt</em>, and the optional argument named <em>lst</em>. Give the optional argument a default value of an empty list. Fill in the body of the function with <em>pass</em>.<br>"
   ]
  },
  {
   "cell_type": "code",
   "execution_count": null,
   "metadata": {
    "solution2": "hidden",
    "solution2_first": true
   },
   "outputs": [],
   "source": [
    "## Exercise 9.1.1\n",
    "\n",
    "____ list_maker(____, ____, ____)____\n",
    "    \"\"\" This function appends a list with a new item. \"\"\"  \n",
    "    ____\n",
    "    "
   ]
  },
  {
   "cell_type": "code",
   "execution_count": null,
   "metadata": {
    "deletable": false,
    "editable": false,
    "solution2": "hidden"
   },
   "outputs": [],
   "source": [
    "## Sample Solution 9.1.1\n",
    "\n",
    "def list_maker(item, qty, lst=[]):\n",
    "    \"\"\" This function appends a list with a new item. \"\"\"\n",
    "    \n",
    "    pass"
   ]
  },
  {
   "cell_type": "markdown",
   "metadata": {
    "deletable": false,
    "editable": false,
    "run_control": {
     "frozen": true
    }
   },
   "source": [
    "***\n",
    "\n",
    "#### P9.1.2) Fill in the body of the function.\n",
    "Write a code that appends <em>lst</em> with a nested list containing <em>item</em> and <em>qty</em>. Then, return <em>lst</em> from the body of the function."
   ]
  },
  {
   "cell_type": "code",
   "execution_count": null,
   "metadata": {
    "solution2": "hidden",
    "solution2_first": true
   },
   "outputs": [],
   "source": [
    "## Exercise 9.1.2\n",
    "\n",
    "# def list_maker(item, qty, lst=[]):\n",
    "    \"\"\" This function appends a list with a new item. \"\"\"\n",
    "\n",
    "    _________\n",
    "    \n",
    "    return _________"
   ]
  },
  {
   "cell_type": "code",
   "execution_count": null,
   "metadata": {
    "deletable": false,
    "editable": false,
    "solution2": "hidden"
   },
   "outputs": [],
   "source": [
    "## Sample Solution 9.1.2\n",
    "\n",
    "def list_maker(item, qty, lst=[]):\n",
    "    \"\"\" This function appends a list with a new item. \"\"\"\n",
    "    \n",
    "    lst.append([item, qty])\n",
    "    return lst"
   ]
  },
  {
   "cell_type": "markdown",
   "metadata": {
    "deletable": false,
    "editable": false,
    "run_control": {
     "frozen": true
    }
   },
   "source": [
    "***\n",
    "\n",
    "#### P9.1.3) Use the function to add 25 liters of orange juice to the list.\n",
    "Make sure to overwrite the default value of <em>lst</em> with <em>food_n_beverage</em>"
   ]
  },
  {
   "cell_type": "code",
   "execution_count": null,
   "metadata": {
    "solution2": "hidden",
    "solution2_first": true
   },
   "outputs": [],
   "source": [
    "## Exercise 9.1.3\n",
    "\n",
    "____"
   ]
  },
  {
   "cell_type": "code",
   "execution_count": null,
   "metadata": {
    "deletable": false,
    "editable": false,
    "solution2": "hidden"
   },
   "outputs": [],
   "source": [
    "## Sample Solution 9.1.3\n",
    "\n",
    "list_maker(item = 'liters of orange juice',\n",
    "           qty = 25,\n",
    "           lst = food_n_beverage)"
   ]
  },
  {
   "cell_type": "markdown",
   "metadata": {
    "deletable": false,
    "editable": false,
    "run_control": {
     "frozen": true
    }
   },
   "source": [
    "***\n",
    "\n",
    "#### P9.1.4) Use the function to add 25 liters of apple juice to the list."
   ]
  },
  {
   "cell_type": "code",
   "execution_count": null,
   "metadata": {
    "solution2": "hidden",
    "solution2_first": true
   },
   "outputs": [],
   "source": [
    "# Exercise 9.1.4\n",
    "\n",
    "____"
   ]
  },
  {
   "cell_type": "code",
   "execution_count": null,
   "metadata": {
    "deletable": false,
    "editable": false,
    "solution2": "hidden"
   },
   "outputs": [],
   "source": [
    "# Sample Solution 9.1.4\n",
    "\n",
    "list_maker(item = 'liters of apple juice',\n",
    "           qty = 25,\n",
    "           lst = food_n_beverage)"
   ]
  },
  {
   "cell_type": "markdown",
   "metadata": {
    "deletable": false,
    "editable": false,
    "run_control": {
     "frozen": true
    }
   },
   "source": [
    "***\n",
    "\n",
    "## Part 2: Enhancing the Function to Better Fit the Requirements\n",
    "Now that we have produced a basic working function, it is time to build a <strong>minimum viable product (MVP)</strong> by enhancing the <em>list_maker</em> function so that it meets all of Mona's requirements:\n",
    "<u><p>&nbsp;&#10003;&nbsp;</u> add any item to the food and beverage list</p>\n",
    "<u><p>&nbsp;&nbsp;&nbsp;&nbsp;&nbsp;</u> adds foods to the beginning of the list</p>\n",
    "<u><p>&nbsp;&nbsp;&nbsp;&nbsp;&nbsp;</u> adds beverages to the end of the list</p>\n",
    "<br><br>\n",
    "First, rerun the original <em>food_n_beverage</em> object.\n",
    "\n",
    "***"
   ]
  },
  {
   "cell_type": "code",
   "execution_count": null,
   "metadata": {
    "deletable": false,
    "editable": false
   },
   "outputs": [],
   "source": [
    "## Project Code 9.2.1\n",
    "\n",
    "# declaring food_n_beverage\n",
    "food_n_beverage = [['kilograms of salad', 37.5],\n",
    "                   ['bags of chips', 50],\n",
    "                   ['jars of salsa', 50],\n",
    "                   ['liters still water', 25],\n",
    "                   ['liters sparkling water', 25],\n",
    "                   ['cans of ground coffee', 2],\n",
    "                   ['bottles red wine', 50],\n",
    "                   ['bottles white wine', 30]]"
   ]
  },
  {
   "cell_type": "markdown",
   "metadata": {
    "deletable": false,
    "editable": false,
    "run_control": {
     "frozen": true
    }
   },
   "source": [
    "***\n",
    "\n",
    "#### P9.2.1) Modify the body of the function.\n",
    "Add additional functionality so that foods are inserted at the beginning of the <em>food_n_beverage</em> object and beverages are appended at the end. This will require a new function argument to distinguish foods from beverages. Name this argument <em>food</em>. Also, update the docstring to include an explanation of the function's parameters and a usage example. Don't worry about exception handling for this step."
   ]
  },
  {
   "cell_type": "code",
   "execution_count": null,
   "metadata": {
    "solution2": "hidden",
    "solution2_first": true
   },
   "outputs": [],
   "source": [
    "## Exercise 9.2.1\n",
    "\n",
    "def list_maker(item, qty, lst=[]):\n",
    "    \"\"\" This function appends a list with a new item. \"\"\"\n",
    "    \n",
    "    lst.append([item, qty])\n",
    "    return lst"
   ]
  },
  {
   "cell_type": "code",
   "execution_count": null,
   "metadata": {
    "code_folding": [],
    "deletable": false,
    "editable": false,
    "solution2": "hidden"
   },
   "outputs": [],
   "source": [
    "## Sample Solution 9.2.1\n",
    "\n",
    "def list_maker(item, qty, food=True, lst=[]):\n",
    "    \"\"\"\n",
    "    This function appends a list with a new item.\n",
    "    \n",
    "    PARAMETERS\n",
    "    ----------\n",
    "    item : int or float\n",
    "        The number to be raised to the power of two.\n",
    "    \n",
    "    qty: int or float\n",
    "        The quantity of the item you are adding\n",
    "    \n",
    "    food: bool\n",
    "        True for food, False for beverage (default is True)\n",
    "    \n",
    "    lst: list\n",
    "        The list you want to modify (default is [])\n",
    "        \n",
    "    EXAMPLES\n",
    "    --------\n",
    "    Adding a food:\n",
    "    >>> food_n_beverage=[]\n",
    "    >>> list_maker(item='bunches of bananas',\n",
    "    >>>            qty='10',\n",
    "    >>>            food=True,\n",
    "    >>>            lst=food_n_beverage)\n",
    "    [['bunches of bananas', '10']]\n",
    "\n",
    "\n",
    "    Adding a beverage:\n",
    "    \n",
    "    >>> list_maker(item='liters of chocolate milk',\n",
    "                   qty='25',\n",
    "                   food=False,\n",
    "                   lst=food_n_beverage)\n",
    "    [['bunches of bananas', '10'], ['liters of chocolate milk', '25']]       \n",
    "    \"\"\"\n",
    "    \n",
    "    if food == True:\n",
    "        lst.insert(0, [item, qty])\n",
    "        return lst\n",
    "\n",
    "    elif food == False:\n",
    "        lst.append([item, qty])\n",
    "        return lst\n",
    "\n",
    "    else:\n",
    "        print(\"Food must be True or False.\")"
   ]
  },
  {
   "cell_type": "markdown",
   "metadata": {
    "deletable": false,
    "editable": false,
    "run_control": {
     "frozen": true
    }
   },
   "source": [
    "***\n",
    "\n",
    "#### P9.2.2) Call <em>help()</em> on the function."
   ]
  },
  {
   "cell_type": "code",
   "execution_count": null,
   "metadata": {
    "solution2": "hidden",
    "solution2_first": true
   },
   "outputs": [],
   "source": [
    "## Exercise 9.2.2\n",
    "\n",
    "____"
   ]
  },
  {
   "cell_type": "code",
   "execution_count": null,
   "metadata": {
    "deletable": false,
    "editable": false,
    "solution2": "hidden"
   },
   "outputs": [],
   "source": [
    "## Sample Solution 9.2.2\n",
    "\n",
    "help(list_maker)"
   ]
  },
  {
   "cell_type": "markdown",
   "metadata": {
    "deletable": false,
    "editable": false,
    "run_control": {
     "frozen": true
    }
   },
   "source": [
    "***\n",
    "\n",
    "#### P9.2.3) Add 125 bunches of grapes to the list."
   ]
  },
  {
   "cell_type": "code",
   "execution_count": null,
   "metadata": {
    "solution2": "hidden",
    "solution2_first": true
   },
   "outputs": [],
   "source": [
    "## Exercise 9.2.3\n",
    "\n",
    "___"
   ]
  },
  {
   "cell_type": "code",
   "execution_count": null,
   "metadata": {
    "deletable": false,
    "editable": false,
    "solution2": "hidden"
   },
   "outputs": [],
   "source": [
    "## Sample Solution 9.2.3\n",
    "\n",
    "list_maker(item = 'bunches of grapes',\n",
    "           qty = 125,\n",
    "           food = True,\n",
    "           lst = food_n_beverage)"
   ]
  },
  {
   "cell_type": "markdown",
   "metadata": {
    "deletable": false,
    "editable": false,
    "run_control": {
     "frozen": true
    }
   },
   "source": [
    "***\n",
    "\n",
    "#### P9.2.4) Add 50 bunches of bananas to the list."
   ]
  },
  {
   "cell_type": "code",
   "execution_count": null,
   "metadata": {
    "solution2": "hidden",
    "solution2_first": true
   },
   "outputs": [],
   "source": [
    "## Exercise 9.2.4\n",
    "\n",
    "____"
   ]
  },
  {
   "cell_type": "code",
   "execution_count": null,
   "metadata": {
    "deletable": false,
    "editable": false,
    "solution2": "hidden"
   },
   "outputs": [],
   "source": [
    "## Sample Solution 9.2.4\n",
    "\n",
    "list_maker(item = 'bunches of bananas',\n",
    "           qty = 50,\n",
    "           food = True,\n",
    "           lst = food_n_beverage)"
   ]
  },
  {
   "cell_type": "markdown",
   "metadata": {
    "deletable": false,
    "editable": false,
    "run_control": {
     "frozen": true
    }
   },
   "source": [
    "***\n",
    "\n",
    "#### P9.2.5) Add 35 liters of tomato juice to the list."
   ]
  },
  {
   "cell_type": "code",
   "execution_count": null,
   "metadata": {
    "solution2": "hidden",
    "solution2_first": true
   },
   "outputs": [],
   "source": [
    "## Exercise 9.2.5\n",
    "\n",
    "___"
   ]
  },
  {
   "cell_type": "code",
   "execution_count": null,
   "metadata": {
    "deletable": false,
    "editable": false,
    "solution2": "hidden"
   },
   "outputs": [],
   "source": [
    "## Sample Solution 9.2.5\n",
    "\n",
    "list_maker(item = 'liters of tomato juice',\n",
    "           qty = 35,\n",
    "           food = False,\n",
    "           lst = food_n_beverage)"
   ]
  },
  {
   "cell_type": "markdown",
   "metadata": {
    "deletable": false,
    "editable": false,
    "run_control": {
     "frozen": true
    }
   },
   "source": [
    "***\n",
    "\n",
    "## Part 3: Exception Handling\n",
    "Now that the function has met the minimum requirements and works when a user inputs expected data types, we are in a good place to start controlling for exceptions. For practical reasons, we should restrict user input. For example, it is not unreasonable to assume that a user may want to make calculations on <em>qty</em>. Therefore, we need to enforce that this argument can only take on numeric values. Thus, let's assume that after analyzing the expected usage of the <em>list_maker</em> function, data type enforcement should be as follows:<br><br>\n",
    "\n",
    "<table align=\"left\">\n",
    "<col width=\"100\">\n",
    "<col width=\"250\">\n",
    "    <tr>\n",
    "        <th>Argument</th>\n",
    "        <th>Data Type</th>\n",
    "    </tr>\n",
    "    <tr>\n",
    "        <td>item*</td>\n",
    "        <td> string</td>\n",
    "    </tr>\n",
    "    <tr>\n",
    "    <tr>\n",
    "        <td>qty</td>\n",
    "        <td> integer or float</td>\n",
    "    </tr>\n",
    "    <tr>\n",
    "        <td>food</td>\n",
    "        <td> boolean</td>\n",
    "    </tr>\n",
    "    <tr>\n",
    "        <td>lst</td>\n",
    "        <td> list</td>\n",
    "    </tr>\n",
    "</table>"
   ]
  },
  {
   "cell_type": "markdown",
   "metadata": {},
   "source": [
    "***\n",
    "\n",
    "<em>\\*Exception handling for this argument is beyond the coding concepts discussed thus far.</em>\n",
    "<br><br>\n",
    "#### P9.3.1) Modify the body of the function.\n",
    "Add exception handling to the function so that the aforementioned data types are enforced. Don't worry about adding exception handling for <em>item</em>.\n",
    "<br><br>\n",
    "<strong>Note:</strong> Exception handling for <em>food</em> is very tricky as any input that is not <em>False</em> or <em>0</em> will evaluate to True. This challenge may require you to code something other than a <em>try/except</em> clause.  The argument <em>lst</em> is at a similar level of challenge as virtually any input could be turned into a list."
   ]
  },
  {
   "cell_type": "code",
   "execution_count": null,
   "metadata": {
    "solution2": "hidden",
    "solution2_first": true
   },
   "outputs": [],
   "source": [
    "## Exercise 9.3.1\n",
    "\n",
    "def list_maker(item, qty, food=True, lst=[]):\n",
    "____\n"
   ]
  },
  {
   "cell_type": "code",
   "execution_count": null,
   "metadata": {
    "deletable": false,
    "editable": false,
    "solution2": "hidden"
   },
   "outputs": [],
   "source": [
    "## Sample Solution 9.3.1\n",
    "\n",
    "def list_maker(item, qty, food=True, lst=[]):\n",
    "    \"\"\"\n",
    "    This function appends a list with a new item.\n",
    "    \n",
    "    PARAMETERS\n",
    "    ----------\n",
    "    item : int or float\n",
    "        The number to be raised to the power of two.\n",
    "    \n",
    "    qty: int or float\n",
    "        The quantity of the item you are adding\n",
    "    \n",
    "    food: bool\n",
    "        True for food, False for beverage (default is True)\n",
    "    \n",
    "    lst: list\n",
    "        The list you want to modify (default is [])\n",
    "        \n",
    "    EXAMPLES\n",
    "    --------\n",
    "    Adding a food:\n",
    "    >>> food_n_beverage=[]\n",
    "    >>> list_maker(item='bunches of bananas',\n",
    "    >>>            qty='10',\n",
    "    >>>            food=True,\n",
    "    >>>            lst=food_n_beverage)\n",
    "    [['bunches of bananas', '10']]\n",
    "\n",
    "\n",
    "    Adding a beverage:\n",
    "    \n",
    "    >>> list_maker(item='liters of chocolate milk',\n",
    "    >>>            qty='25',\n",
    "    >>>            food=False,\n",
    "    >>>            lst=food_n_beverage)\n",
    "    [['bunches of bananas', '10'], ['liters of chocolate milk', '25']]       \n",
    "    \"\"\"\n",
    "    \n",
    "    ############################################################\n",
    "    ## Exception Handling ##\n",
    "    ############################################################\n",
    "    # qty\n",
    "    \n",
    "    while True:\n",
    "        try:\n",
    "            qty = float(qty)\n",
    "            break\n",
    "        \n",
    "        except ValueError:\n",
    "            try:\n",
    "                qty = int(qty)\n",
    "                break\n",
    "            \n",
    "            except ValueError:\n",
    "                qty = input(\"\"\"\n",
    "INVALID INPUT:\n",
    "Argument < qty > must be numeric (int or float).\n",
    "Please input this argument again.\\n\\n> \"\"\")\n",
    "\n",
    "    # food\n",
    "    while True:\n",
    "        food = str(food)\n",
    "        if food == 'True' or food == 'False':\n",
    "            food = bool(food)\n",
    "            break\n",
    "        \n",
    "        food = input(\"\"\"\n",
    "INVALID INPUT:\n",
    "Argument < food > must be boolean (True/False).\n",
    "Please input this argument again..\\n\\n> \"\"\")\n",
    "            \n",
    "    # lst\n",
    "    while True:\n",
    "        if type(lst) == list:\n",
    "            break\n",
    "\n",
    "        print(\"\"\"\n",
    "INVALID INPUT:\n",
    "Your input for < lst > was a list. Defaulting to an empty list.\\n\"\"\")\n",
    "        \n",
    "        lst = []\n",
    "        \n",
    "    ############################################################\n",
    "\n",
    "    if food == True:\n",
    "        lst.insert(0, [item, qty])\n",
    "        return lst\n",
    "\n",
    "    elif food == False:\n",
    "        lst.append([item, qty])\n",
    "        return lst\n",
    "\n",
    "    else:\n",
    "        print(\"Something went wrong.\")"
   ]
  },
  {
   "cell_type": "markdown",
   "metadata": {
    "deletable": false,
    "editable": false,
    "run_control": {
     "frozen": true
    }
   },
   "source": [
    "***\n",
    "\n",
    "#### P9.3.2) Test your function with various argument values to make sure it is working properly."
   ]
  },
  {
   "cell_type": "code",
   "execution_count": null,
   "metadata": {
    "solution2": "hidden",
    "solution2_first": true
   },
   "outputs": [],
   "source": [
    "## Exercise 9.3.2\n",
    "____\n"
   ]
  },
  {
   "cell_type": "code",
   "execution_count": null,
   "metadata": {
    "deletable": false,
    "editable": false,
    "scrolled": false,
    "solution2": "hidden"
   },
   "outputs": [],
   "source": [
    "## Sample Solution 9.3.2\n",
    "\n",
    "list_maker(item = 'kilograms of ice cream',\n",
    "           qty  = 'TESTING THIS ARGUMENT',\n",
    "           food = True,\n",
    "           lst  = food_n_beverage)\n",
    "\n",
    "\n",
    "list_maker(item = 'dozens of cupcakes',\n",
    "           qty  = 10,\n",
    "           food = 'TESTING THIS ARGUMENT',\n",
    "           lst  = food_n_beverage)\n",
    "\n",
    "\n",
    "list_maker(item = 'milkshakes',\n",
    "           qty  = 300,\n",
    "           food = False,\n",
    "           lst  = 'TESTING THIS ARGUMENT')\n",
    "\n",
    "print(my_lst)"
   ]
  },
  {
   "cell_type": "markdown",
   "metadata": {
    "deletable": false,
    "editable": false,
    "run_control": {
     "frozen": true
    }
   },
   "source": [
    "~~~\n",
    "______                         _     _ \n",
    "| ___ \\                       | |   | |\n",
    "| |_/ / ___   ___  _   _  __ _| |__ | |\n",
    "| ___ \\/ _ \\ / _ \\| | | |/ _` | '_ \\| |\n",
    "| |_/ / (_) | (_) | |_| | (_| | | | |_|\n",
    "\\____/ \\___/ \\___/ \\__, |\\__,_|_| |_(_)\n",
    "                    __/ |              \n",
    "                   |___/               \n",
    "~~~"
   ]
  }
 ],
 "metadata": {
  "kernelspec": {
   "display_name": "Python 3",
   "language": "python",
   "name": "python3"
  },
  "language_info": {
   "codemirror_mode": {
    "name": "ipython",
    "version": 3
   },
   "file_extension": ".py",
   "mimetype": "text/x-python",
   "name": "python",
   "nbconvert_exporter": "python",
   "pygments_lexer": "ipython3",
   "version": "3.6.9"
  },
  "toc": {
   "base_numbering": 1,
   "nav_menu": {},
   "number_sections": false,
   "sideBar": true,
   "skip_h1_title": false,
   "title_cell": "Table of Contents",
   "title_sidebar": "Contents",
   "toc_cell": false,
   "toc_position": {},
   "toc_section_display": true,
   "toc_window_display": false
  },
  "varInspector": {
   "cols": {
    "lenName": 16,
    "lenType": 16,
    "lenVar": 40
   },
   "kernels_config": {
    "python": {
     "delete_cmd_postfix": "",
     "delete_cmd_prefix": "del ",
     "library": "var_list.py",
     "varRefreshCmd": "print(var_dic_list())"
    },
    "r": {
     "delete_cmd_postfix": ") ",
     "delete_cmd_prefix": "rm(",
     "library": "var_list.r",
     "varRefreshCmd": "cat(var_dic_list()) "
    }
   },
   "types_to_exclude": [
    "module",
    "function",
    "builtin_function_or_method",
    "instance",
    "_Feature"
   ],
   "window_display": false
  }
 },
 "nbformat": 4,
 "nbformat_minor": 2
}
