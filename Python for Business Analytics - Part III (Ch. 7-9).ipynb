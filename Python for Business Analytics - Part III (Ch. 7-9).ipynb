{
 "cells": [
  {
   "cell_type": "markdown",
   "metadata": {
    "deletable": false,
    "editable": false,
    "run_control": {
     "frozen": true
    }
   },
   "source": [
    "<hr style=\"height:1px;border:none;color:#333;background-color:#333;\" />\n",
    "<hr style=\"height:1px;border:none;color:#333;background-color:#333;\" />\n",
    "<br><br><br>\n",
    "\n",
    "<h1>Python for Business Analytics</h1>\n",
    "<em>A Nontechnical Approach for Nontechnical People</em><br><br>\n",
    "<em><strong>Custom Edition for Hult International Business School</strong></em><br>\n",
    "Written by Chase Kusterer - Faculty of Analytics <br>\n",
    "Hult International Business School <br>\n",
    "<a href=\"https://github.com/chase-kusterer\">https://github.com/chase-kusterer</a> <br><br><br><br><br>\n",
    "\n",
    "<hr style=\"height:1px;border:none;color:#333;background-color:#333;\" />\n",
    "<hr style=\"height:1px;border:none;color:#333;background-color:#333;\" />\n",
    "\n",
    "<h2>Part III: Intermediate Coding Structures</h2>\n",
    "<br>\n",
    "<hr style=\"height:1px;border:none;color:#333;background-color:#333;\" />\n",
    "<hr style=\"height:1px;border:none;color:#333;background-color:#333;\" />\n",
    "<br>\n",
    "\n",
    "<h1><u>Chapter 7: for Loops and Basic Data Manipulation</u></h1>"
   ]
  },
  {
   "cell_type": "markdown",
   "metadata": {
    "deletable": false,
    "editable": false,
    "run_control": {
     "frozen": true
    }
   },
   "source": [
    "Conditional statements such as those starting with <strong>if</strong> are an excellent starting point for controlling the flow of a code. Such statements have been appropriately termed <a href=\"https://docs.python.org/3/tutorial/controlflow.html\">control flow tools</a>. This chapter will expand on such tools with a syntax known as <strong>for loops</strong>. <strong>Loops</strong> are a powerful coding structure that allow programmers to <strong>iterate</strong>. In other words, loops allow us to run a code over several items stored in an object without the need to implicitly write code for each run. If this isn't making sense just yet, think of loops as a faster/more advanced alternative to copy/pasting. We will solidify our understanding as we move forward through this chapter.\n",
    "\n",
    "<br><hr style=\"height:.9px;border:none;color:#333;background-color:#333;\" /><br>\n",
    "\n",
    "<h2>7.1 Types of Loops</h2>\n",
    "\n",
    "Loops come in two forms: <strong>for loops</strong> and <strong>while loops</strong>. The former is used to iterate over an iterator (i.e. strings, lists, arrays, columns of data, etc.). Without more detailed instruction, <strong>for loops</strong> will run until they have completely iterated over every item in an object. For example, if we have five items in a list, a basic <strong>for loop</strong> will iterate over all five items one at a time. As with the conditional statements covered in <strong>Chapter 6: Conditional Statements and Controlling Input</strong>, loops operate on a boolean pretense (True/False). For example, if you run a <strong>for loop</strong> on a list, the loop will run until it is <em>False</em> that there are still items in the list to iterate over. Just like with conditional statements, if a condition is <em>False</em>, Python will move on to the next line of code formatted at Column 0. An example of a <strong>for loop</strong> is displayed in <em>Code 7.1.1</em>.\n",
    "<br><br>\n",
    "A basic <strong>while loop</strong> can be thought of as an extension of a conditional statement. As long as the given condition is true, a <strong>while loop</strong> will continue to iterate. An example is displayed in <em>Code 7.1.2</em>, and these will be covered in more detail in <strong>Chapter 8: While Loops and Basic Error Handling</strong>.\n",
    "\n",
    "<br>"
   ]
  },
  {
   "cell_type": "code",
   "execution_count": null,
   "metadata": {
    "cell_style": "split",
    "deletable": false,
    "editable": false
   },
   "outputs": [],
   "source": [
    "## Code 7.1.1 ##\n",
    "\n",
    "lst = ['a', 'b', 'c', 'd', 'e']\n",
    "\n",
    "# for loop\n",
    "for element in lst:\n",
    "    print(element)\n"
   ]
  },
  {
   "cell_type": "code",
   "execution_count": null,
   "metadata": {
    "cell_style": "split",
    "deletable": false,
    "editable": false
   },
   "outputs": [],
   "source": [
    "## Code 7.1.2 ##\n",
    "\n",
    "x = 5\n",
    "\n",
    "# while loop\n",
    "while x > 0:\n",
    "    print(x)\n",
    "    x -= 1"
   ]
  },
  {
   "cell_type": "markdown",
   "metadata": {
    "deletable": false,
    "editable": false,
    "run_control": {
     "frozen": true
    }
   },
   "source": [
    "<hr style=\"height:.9px;border:none;color:#333;background-color:#333;\" /><br>\n",
    "\n",
    "<h2>7.2 Working with <em>for</em> Loops</h2>\n",
    "\n",
    "As can be observed, the <strong>for loop</strong> in <em>Code 7.1.1</em> prints each item in <em>lst</em> one at a time. <em>Code 7.2.1</em> runs the same operation using list indexing, as explained in <strong>Chapter 2: Printing, Dynamic Strings, and Escape Sequences</strong>. To exemplify the value of <strong>for loops</strong>, imagine that <em>lst</em> had 5,000 items instead of just five. In such a case, 5,000 lines of code would need to be written where a single <strong>for loop</strong> would suffice. "
   ]
  },
  {
   "cell_type": "markdown",
   "metadata": {
    "cell_style": "split",
    "deletable": false,
    "editable": false,
    "run_control": {
     "frozen": true
    }
   },
   "source": [
    "Essentially, the <strong>for loop</strong> in <em>Code 7.7.1</em> starts by operating on the first item of <em>lst</em>, printing its value. When it has completed this task, it moves on to the second item and performs the same operation. This continues until the contents of the loop have run on all elements in <em>lst</em>. Afterwards, the <strong>for loop</strong> realizes that <em>lst</em> no longer has any items to iterate over and stops running (i.e. it runs until it is <em>False</em> that there are still items in the list to iterate over).\n",
    "<br><br>\n",
    "The anatomy of a <strong>for loop</strong> (<em>Figure 7.1</em>) is very similar to the anatomy of a conditional statement. The first line of a loop starts with a syntax identifying which type of loop is being coded (in this case a <strong>for loop</strong>), and ends with a semicolon ( : ). In between these two pieces of syntax is a phrase that tells Python what object to look into and what to iterate over. In other words:\n",
    "<br><br>\n",
    "\n",
    "~~~\n",
    "THINGS_TO_ITERATE in ITERATOR\n",
    "~~~\n",
    "\n",
    "\n",
    "<h4>Naming an Iteration Object</h4>\n",
    "It makes no difference what you name the <em>THINGS_TO_ITERATE</em> component (also known as an iteration object). This is just an object name of your choosing. In <em>Code 7.2.2</em>, <em>random_name</em> has been used instead of <em>element</em>. More formal coders like to use the letter <em>i</em>. The key is to make sure that you do not use an object name that already exists in your code as this may cause conflict. Once an iteration object has been named, it will exist in your Python environment and will store the value of the last iteration of it's respective loop. In the case of the loop in <em>Code 7.2.2</em>, the last iteration from <em>lst</em> was the letter <em>'e'</em>. This can be observed from printing the contents of <em>random_name</em>, as in <em>Code 7.2.3</em>. Again, <strong>it makes no difference what you name your iteration object</strong>. This being stated, it is in your best interest to name it something that helps you remember what your loop is supposed to do. <em>Code 7.2.4</em> is an open coding block designed for you to be able experience the fact that it does not matter what the iteration object has been named.\n",
    "<br><br>\n",
    "<strong>Note:</strong> Try running <em>Code 7.2.4</em> without filling in the blank spaces (i.e. the underscores). According to Python, this also counts as a valid object name and the code runs without throwing an error.\n",
    "<br><br>\n",
    "\n",
    "<h4>Loop Content</h4>\n",
    "Notice how the body of a loop (i.e. the code run when the loop has items to iterate over) is indented. As mentioned in <strong>Chapter 6: Conditional Statements and Controlling Input</strong>, indenting is very important in Python. Also notice that the iterator variable is referenced in the loop's body. This is accomplishing two tasks, namely defining:\n",
    "\n",
    "* how many iterations to run\n",
    "* what to run in each iteration\n",
    "\n",
    "These do not necessarily need to be the same. This is exemplified in <em>Code 7.2.5</em>, where instead of printing <em>random_name</em>, the loop is printing <em>number</em>. A lot is happening in this code, so let's break it down step-by-step.\n",
    "<br><br><br>"
   ]
  },
  {
   "cell_type": "markdown",
   "metadata": {
    "cell_style": "split",
    "deletable": false,
    "editable": false,
    "run_control": {
     "frozen": true
    }
   },
   "source": [
    "<br>"
   ]
  },
  {
   "cell_type": "code",
   "execution_count": null,
   "metadata": {
    "cell_style": "split",
    "deletable": false,
    "editable": false
   },
   "outputs": [],
   "source": [
    "## Code 7.2.1 ##\n",
    "\n",
    "lst = ['a', 'b', 'c', 'd', 'e']\n",
    "\n",
    "print(lst[0]) # a\n",
    "print(lst[1]) # b\n",
    "print(lst[2]) # c\n",
    "print(lst[3]) # d\n",
    "print(lst[4]) # e"
   ]
  },
  {
   "cell_type": "markdown",
   "metadata": {
    "cell_style": "split",
    "deletable": false,
    "editable": false,
    "run_control": {
     "frozen": true
    }
   },
   "source": [
    "<br>\n",
    "<div style = \"width:image width px; font-size:80%; text-align:center;\"><img src= ./Images/chapter-7-fig_71_anatomy_of_for_loop.png width=\"1000\" height=\"600\" style=\"padding-bottom:0.5em;\"> <em>Figure 7.1: Anatomy of a for Loop</em></div>\n",
    "<br>"
   ]
  },
  {
   "cell_type": "code",
   "execution_count": null,
   "metadata": {
    "cell_style": "split",
    "deletable": false,
    "editable": false
   },
   "outputs": [],
   "source": [
    "## Code 7.2.2 ##\n",
    "\n",
    "# adapted from Code 7.1.1\n",
    "\n",
    "lst = ['a', 'b', 'c', 'd', 'e']\n",
    "\n",
    "# for loop\n",
    "for random_name in lst:\n",
    "    print(random_name)"
   ]
  },
  {
   "cell_type": "markdown",
   "metadata": {
    "cell_style": "split",
    "deletable": false,
    "editable": false,
    "run_control": {
     "frozen": true
    }
   },
   "source": [
    "<br>"
   ]
  },
  {
   "cell_type": "code",
   "execution_count": null,
   "metadata": {
    "cell_style": "split",
    "deletable": false,
    "editable": false
   },
   "outputs": [],
   "source": [
    "## Code 7.2.3 ##\n",
    "\n",
    "# printing random_name\n",
    "print(random_name)"
   ]
  },
  {
   "cell_type": "markdown",
   "metadata": {
    "cell_style": "split",
    "deletable": false,
    "editable": false,
    "run_control": {
     "frozen": true
    }
   },
   "source": [
    "<br>"
   ]
  },
  {
   "cell_type": "code",
   "execution_count": null,
   "metadata": {
    "cell_style": "split",
    "deletable": false,
    "editable": false
   },
   "outputs": [],
   "source": [
    "## Code 7.2.4 ##\n",
    "\n",
    "# open coding block\n",
    "\n",
    "fruits = ['apple', 'banana', 'grape',\n",
    "          'orange', 'pear', 'tomato']\n",
    "\n",
    "# for loop\n",
    "for _____ in fruits:\n",
    "    print(_____)"
   ]
  },
  {
   "cell_type": "markdown",
   "metadata": {
    "cell_style": "split",
    "deletable": false,
    "editable": false,
    "run_control": {
     "frozen": true
    }
   },
   "source": [
    "<br>"
   ]
  },
  {
   "cell_type": "code",
   "execution_count": null,
   "metadata": {
    "cell_style": "split",
    "deletable": false,
    "editable": false
   },
   "outputs": [],
   "source": [
    "## Code 7.2.5 ##\n",
    "\n",
    "# adapted from Code 7.2.2\n",
    "\n",
    "lst = ['a', 'b', 'c', 'd', 'e']\n",
    "number = 5\n",
    "\n",
    "# for loop\n",
    "for random_name in lst:\n",
    "    print(number)\n",
    "    number += number"
   ]
  },
  {
   "cell_type": "markdown",
   "metadata": {
    "cell_style": "center"
   },
   "source": [
    "<table width=\"375\" align=\"left\">\n",
    "<col width=\"40\">\n",
    "<col width=\"350\">\n",
    "    <tr>\n",
    "        <th>Line</th>\n",
    "        <th>Interpretation</th>\n",
    "    </tr>\n",
    "    <tr>\n",
    "        <td>5-6</td>\n",
    "        <td> The objects <em>lst</em> and <em>number</em> are being defined.</td>\n",
    "    </tr>\n",
    "    <tr>\n",
    "    <tr>\n",
    "        <td>9</td>\n",
    "        <td> for loop is being defined. Python is determining how<br> many iterations to run by counting the length of <em>lst</em>.</td>\n",
    "    </tr>\n",
    "    <tr>\n",
    "        <td>10</td>\n",
    "        <td> <em>number</em> is being printed.</td>\n",
    "    </tr>   \n",
    "    <tr>\n",
    "        <td>11</td>\n",
    "        <td> <em>number</em> is being incremented by itself<br> (doubling with each iteration)</td>\n",
    "    </tr>\n",
    "</table>"
   ]
  },
  {
   "cell_type": "markdown",
   "metadata": {
    "deletable": false,
    "editable": false,
    "run_control": {
     "frozen": true
    }
   },
   "source": [
    "<hr style=\"height:.9px;border:none;color:#333;background-color:#333;\" /><br>\n",
    "\n",
    "<h2>7.3 Iterating on Inner Objects</h2>\n",
    "\n",
    "Oftentimes, <strong>for loops</strong> contain conditional statements. It is very likely that we will encounter situations where we would like to replace values in a list that meet a certain condition, while leaving all other list elements alone. For example, this may occur when working with datasets that contain missing values. Missing values are quite intriguing and will be covered in greater detail in a later chapter. However, for this chapter, it is important to realize that they hinder several analytical operations in programming languages such as Python.\n",
    "<br><br>\n",
    "The list in <em>Code 7.3.1</em> represents retail prices at a local clothing store. For this example, the company's database has become corrupted and some of the pricing data has been lost (labeled as <em>'missing'</em> in the dataset). Since <em>inventory</em> is a list of lists, the for loop in <em>Code 7.3.1</em> returns a list with each iteration.\n",
    "\n",
    "<br>"
   ]
  },
  {
   "cell_type": "code",
   "execution_count": null,
   "metadata": {
    "deletable": false,
    "editable": false
   },
   "outputs": [],
   "source": [
    "## Code 7.3.1 ##\n",
    "\n",
    "# creating an inventory list\n",
    "inventory = [['red blouse', 'missing'], ['pink blouse', 95],\n",
    "                     ['orange blouse', 100], ['yellow blouse', 'missing'],\n",
    "                     ['green blouse', 'missing'], ['blue blouse', 90],\n",
    "                     ['navy blouse', 103], ['purple blouse', 129],\n",
    "                     ['black blouse', 95], ['white blouse', 102],\n",
    "                     ['red skirt', 75], ['pink skirt', 75],\n",
    "                     ['orange skirt', 66], ['yellow skirt', 67],\n",
    "                     ['green skirt', 73], ['blue skirt', 'missing'],\n",
    "                     ['navy skirt', 79], ['purple skirt', 74],\n",
    "                     ['black skirt', 'missing'], ['white skirt', 68]]\n",
    "\n",
    "for info in inventory:\n",
    "    print(info)"
   ]
  },
  {
   "cell_type": "markdown",
   "metadata": {
    "deletable": false,
    "editable": false,
    "run_control": {
     "frozen": true
    }
   },
   "source": [
    "<br>"
   ]
  },
  {
   "cell_type": "markdown",
   "metadata": {
    "cell_style": "split",
    "deletable": false,
    "editable": false,
    "run_control": {
     "frozen": true
    }
   },
   "source": [
    "<h4>Looping Deeper</h4>\n",
    "Given that lists are iterable, lists within lists are also iterable. We can iterate over each item in the inner lists by passing two iteration objects instead of one (<em>Code 7.3.2</em>). If we only wanted to print prices, we could modify our loop as follows:\n",
    "<br><br>\n",
    "\n",
    "~~~\n",
    "for i, price in inventory:\n",
    "    print(price)\n",
    "~~~\n",
    "\n",
    "<br>\n",
    "<strong>Note:</strong> In proper terms, the loop in <em>Code 7.3.2</em> is <strong>unpacking</strong> two values from <em>inventory</em> (<em>item</em> and <em>price</em>). Since each of the inner lists have a length of two, Python knows it needs to iterate over each inner list instead of the outer list.\n",
    "\n",
    "<h4>Looping Even Deeper</h4>\n",
    "As you may recall from <em>Section 7.1</em>, loops can also iterate over strings (i.e. each clothing item in our dataset). In the case of the <em>inventory</em> object, this can be accomplished by nesting a loop inside of another loop. Below is a step-by-step explanation of <em>Code 7.3.3</em>:\n",
    "\n",
    "1. The outer loop tells Python to iterate over each inner list in the <em>inventory</em> object.<br><br>\n",
    "2. Although two components are being iterated over in the outer loop (<em>item</em> and <em>price</em>), only <em>item</em> is being used in the inner loop (<em>price</em> is never referenced, and thus its value is discarded with each iteration of the loop)."
   ]
  },
  {
   "cell_type": "markdown",
   "metadata": {
    "cell_style": "split",
    "deletable": false,
    "editable": false,
    "run_control": {
     "frozen": true
    }
   },
   "source": [
    "<br>"
   ]
  },
  {
   "cell_type": "code",
   "execution_count": null,
   "metadata": {
    "cell_style": "split",
    "deletable": false,
    "editable": false
   },
   "outputs": [],
   "source": [
    "## Code 7.3.2 ##\n",
    "\n",
    "# looping over each inner list\n",
    "for item, price in inventory:\n",
    "    print(item + ':', price)"
   ]
  },
  {
   "cell_type": "markdown",
   "metadata": {
    "cell_style": "split",
    "deletable": false,
    "editable": false,
    "run_control": {
     "frozen": true
    }
   },
   "source": [
    "<br>"
   ]
  },
  {
   "cell_type": "code",
   "execution_count": null,
   "metadata": {
    "cell_style": "split",
    "deletable": false,
    "editable": false
   },
   "outputs": [],
   "source": [
    "## Code 7.3.3 ##\n",
    "\n",
    "# outer loop\n",
    "for item, price in inventory:\n",
    "    \n",
    "    # adding an inner loop\n",
    "    for letter in item:\n",
    "        print(letter)"
   ]
  },
  {
   "cell_type": "markdown",
   "metadata": {
    "cell_style": "split",
    "deletable": false,
    "editable": false,
    "run_control": {
     "frozen": true
    }
   },
   "source": [
    "<br>"
   ]
  },
  {
   "cell_type": "code",
   "execution_count": null,
   "metadata": {
    "cell_style": "split",
    "deletable": false,
    "editable": false
   },
   "outputs": [],
   "source": [
    "## Code 7.3.4 ##\n",
    "\n",
    "# creating a string object\n",
    "my_string = 'string'\n",
    "\n",
    "# looping over a string\n",
    "for letter in my_string:\n",
    "    print(letter)"
   ]
  },
  {
   "cell_type": "markdown",
   "metadata": {},
   "source": [
    "3. The inner loop inherits each element of <em>item</em>, one at a time, and iterates over each of its strings, letter by letter (remember, the inner loop only receives one string from <em>item</em> at a time). Once it has finished iterating over each letter in a string from <em>item</em>, the inner loop finishes running.<br><br>\n",
    "4. The outer loop iterates over the next item from <em>inventory</em>, passes <em>item</em> to the inner loop, and the inner loop prints out each individual letter in <em>item</em>. This process continues until the outer loop has nothing left to iterate over.\n",
    "\n",
    "<br>\n",
    "<strong>Note:</strong> For a further example of iterating over strings, see <em>Code 7.3.4</em>.<br><br>\n",
    "\n",
    "<hr style=\"height:.9px;border:none;color:#333;background-color:#333;\" /><br>\n",
    "\n",
    "<h2>7.4 Enhancing <em>for</em> loops with Conditional Statements</h2>\n",
    "\n",
    "The weekend is coming and the shop owner would like to hold a store-wide sale, offering each item at 90% of its original price, rounded to the nearest whole number. The shop owner could calculate the sale price for each individual item line-by-line, but this has several disadvantages, namely:\n",
    "\n",
    "1. The code would be hard to update if the discount level changed (lack of replicability).<br><br>\n",
    "2. If new items were added to the inventory, the shop owner would need to write more lines of code (lack of extensibility).<br><br>\n",
    "3. Compared to coding a loop, individually discounting each item would take longer and be more susceptible to bugs (poor coding hygiene).\n",
    "\n",
    "<br>\n",
    "Let's also imagine that instead of only 20 items, the shop owner had a much larger inventory, making it infeasible to code discounts item-by-item. Given these disadvantages, the shop owner writes the <strong>for loop</strong> in <em>Code 7.4.1</em>. However, due to the missing values in the list, the code throws an error. This is because Python does not know what to do when encountering a string being multiplied by a float. Thus, the list items labeled as <em>'missing'</em> are creating a problem.\n",
    "\n",
    "<br>"
   ]
  },
  {
   "cell_type": "code",
   "execution_count": null,
   "metadata": {
    "deletable": false,
    "editable": false
   },
   "outputs": [],
   "source": [
    "## Code 7.4.1 ##\n",
    "\n",
    "# Note: Code will throw an error.\n",
    "\n",
    "# empty list (to be filled in the loop)\n",
    "weekend_sale_prices = []\n",
    "\n",
    "# loop to create prices for the weekend sale\n",
    "for price in inventory[:]:\n",
    "    sale_price = int(price * 0.90)\n",
    "    weekend_sale_prices.append(sale_price)\n",
    "\n",
    "# printing the prices for the weekend sale\n",
    "print(weekend_sale_prices)"
   ]
  },
  {
   "cell_type": "markdown",
   "metadata": {
    "deletable": false,
    "editable": false,
    "run_control": {
     "frozen": true
    }
   },
   "source": [
    "<br>\n",
    "\n",
    "The shop owner needs to come up with a strategy for imputing the missing prices. Given the owner has domain knowledge of the retail industry, as well as the prices of other items in the shop, she decides that each missing price should have a value of 100. The code snippet below exhibits an <strong>if</strong> statement to solve the challenge of imputing the <em>'missing'</em> prices. While this is a good approach, it suffers from one important drawback: the imputation value for price is being hard coded.\n",
    "<br><br>\n",
    "\n",
    "~~~\n",
    "for price in inventory:\n",
    "    \n",
    "    if price == 'missing':\n",
    "        price = 100\n",
    "\n",
    "    sale_price = round(price * 0.90, 0)\n",
    "    print(sale_price)\n",
    "~~~\n",
    "\n",
    "<br>\n",
    "\n",
    "<h4>Hard Coding v. Soft Coding</h4>\n",
    "<strong>Hard coding</strong> is the process of writing code that contains static syntax (i.e. using <em>hard</em> numbers instead of objects). It may not make a huge difference in the code  snippet above, but it can create several frustrations in larger codes. For example, let's imagine we were using the imputed value of price (<em> price = 100 </em>) in more than one place in our code. If it was later decided that missing prices should be imputed at a value of 200, we would need to be very careful to ensure that we update every <em>price = 100</em> throughout our script. Additionally, this change may take a long time to code, test, and debug.\n",
    "<br><br>\n",
    "Generally, a good practice is to <strong>soft code</strong> whenever possible. <strong>Soft coding</strong> is the process of writing code utilizing objects instead of static syntax. This allows programmers to declare an object in one place and reuse its value(s) throughout their code. If a requirement came in to change an object's value (i.e. the imputation value for price), this change would only need to be made in one place. Below is a modified code snippet that utilizes soft coding.\n",
    "<br><br>\n",
    "\n",
    "~~~\n",
    "imputation_price = 100\n",
    "\n",
    "for price in inventory:\n",
    "    \n",
    "    if price == 'missing':\n",
    "        price = imputation_price\n",
    "\n",
    "    sale_price = round(price * 0.90, 0)\n",
    "    print(sale_price)\n",
    "~~~\n",
    "\n",
    "<br>\n",
    "<em>Code 7.4.2</em> utilizes a conditional statement to check whether a price is missing, and then utilizes a soft-coded value to impute such anomalies. Once missing prices have been imputed, sale prices are calculated by multiplying the original price by <em>0.90</em>. Sale prices are then stored in a new list object (<em>enhanced_inventory</em>). The final <strong>for loop</strong> prints <em>enhanced_inventory</em> item-by-item. As can be observed from the output of the final loop, sale prices have successfully been processed without error.\n",
    "\n",
    "<br>"
   ]
  },
  {
   "cell_type": "code",
   "execution_count": null,
   "metadata": {
    "deletable": false,
    "editable": false
   },
   "outputs": [],
   "source": [
    "## Code 7.4.2 ##\n",
    "\n",
    "# adapted from Code 7.3.1\n",
    "\n",
    "# creating a new inventory list to include sale price \n",
    "enhanced_inventory = []\n",
    "\n",
    "# soft coding imputation value for price\n",
    "imputed_price = 100\n",
    "\n",
    "# adding a conditional to the for loop\n",
    "for item, price in inventory:\n",
    "    \n",
    "    # setting imputation for missing price\n",
    "    if price == 'missing':\n",
    "        price = imputed_price\n",
    "\n",
    "    # setting sale price\n",
    "    sale_price = round(price * 0.90, 0)\n",
    "    \n",
    "    # adding item, price, and sale_price to enhanced_inventory list\n",
    "    enhanced_inventory.extend([[item, price, sale_price]])\n",
    "\n",
    "# printing enhanced inventory\n",
    "for info in enhanced_inventory:\n",
    "    print(info)"
   ]
  },
  {
   "cell_type": "markdown",
   "metadata": {
    "deletable": false,
    "editable": false,
    "run_control": {
     "frozen": true
    }
   },
   "source": [
    "<br><hr style=\"height:.9px;border:none;color:#333;background-color:#333;\" /><br>\n",
    "\n",
    "<h2>7.5 Adding More Depth with Nested Conditionals</h2>\n",
    "\n",
    "As can be imagined, imputing all missing prices with the same value may not be the best approach. In other words, this strategy may be too general, and it may be more appropriate to impute based on more detailed characteristics of the data. If we can find a trend in the given information, we may feel more confident that our imputed prices more accurately reflect the true prices of each item in our inventory. Given that we currently have no way of knowing what the true value of our missing prices should be, we are unable to measure our degree of imputation accuracy. This challenge will be covered in more detail in a later chapter, but for now, we can run some basic statistics in order to better understand our pricing scheme.\n",
    "<br><br>\n",
    "<strong>Take a look at the information (i.e. the data) in <em>Code 7.4.2</em>. Do you notice any trends on which we can use to modify our imputation strategy?</strong> An open coding block is available below in the event that you would like to make any calculations. After your analysis, click <em>Show Solution</em> to see which trend we will be utilizing to enhance our imputation strategy.\n",
    "\n",
    "<br>"
   ]
  },
  {
   "cell_type": "code",
   "execution_count": null,
   "metadata": {
    "solution2": "hidden",
    "solution2_first": true
   },
   "outputs": [],
   "source": [
    "## Code 7.5.1 ##\n",
    "\n",
    "# open coding block\n",
    "\n"
   ]
  },
  {
   "cell_type": "markdown",
   "metadata": {
    "deletable": false,
    "editable": false,
    "run_control": {
     "frozen": true
    },
    "solution2": "hidden"
   },
   "source": [
    "<em><strong>Sample Trend:</strong> It appears that blouses are quite a bit more expensive than skirts.</em>"
   ]
  },
  {
   "cell_type": "markdown",
   "metadata": {
    "deletable": false,
    "editable": false,
    "run_control": {
     "frozen": true
    }
   },
   "source": [
    "<hr style=\"height:.9px;border:none;color:#333;background-color:#333;\" /><br>\n",
    "\n",
    "As the inventory list was small, no explicit calculations were necessary to arrive at the aforementioned trend. Every blouse is more expensive than every skirt with no exceptions. However, it will rarely be this straightforward in real-world data analysis. Thus, it is essential to confirm such a finding numerically.\n",
    "<br>\n",
    "<h4>Calculating (Arithmetic) Means from List Items</h4>\n",
    "Python's <a href=\"https://docs.scipy.org/doc/numpy/user/index.html\">numpy</a> package is packed with useful methods to make calculating <a href=\"https://en.wikipedia.org/wiki/Descriptive_statistics\">descriptive statistics</a> quite simple. In the case of the (arithmetic) mean, <em>numpy</em> contains a method that is appropriately named <strong>mean()</strong>. In order to access it, we first need to import <em>numpy</em>. Conventionally, <em>numpy</em> is imported as <em>np</em>.\n",
    "<br><br>\n",
    "\n",
    "~~~\n",
    "import numpy as np\n",
    "\n",
    "help(np.mean)\n",
    "~~~\n",
    "\n",
    "<br>\n",
    "\n",
    "<em>Code 7.5.2</em> utilizes <em>numpy's</em> <strong>mean()</strong> method, as well as a conditional statement to identify whether or not an item is a skirt or a blouse:\n",
    "\n",
    "<br>"
   ]
  },
  {
   "cell_type": "code",
   "execution_count": null,
   "metadata": {
    "deletable": false,
    "editable": false
   },
   "outputs": [],
   "source": [
    "## Code 7.5.2 ##\n",
    "\n",
    "import numpy as np\n",
    "\n",
    "# creating empty lists for blouses and skirts\n",
    "blouse_prices = []\n",
    "skirt_prices  = []\n",
    "\n",
    "for item, price, sale_price in enhanced_inventory:\n",
    "    if 'blouse' in item:\n",
    "        blouse_prices.append([price])\n",
    "    \n",
    "    elif 'skirt' in item:\n",
    "        skirt_prices.append([price])\n",
    "\n",
    "    else:\n",
    "        print('Unidentified inventory.')\n",
    "\n",
    "# calculating (arithmetic) means\n",
    "blouse_avg = np.mean(blouse_prices)\n",
    "skirt_avg  = np.mean(skirt_prices)\n",
    "\n",
    "print(f\"\"\"\n",
    "Arithmetic Averages:\n",
    "Avg. Blouse Price: {blouse_avg}\n",
    "Avg. Skirt Price:  {skirt_avg}\n",
    "\"\"\")"
   ]
  },
  {
   "cell_type": "markdown",
   "metadata": {
    "deletable": false,
    "editable": false,
    "run_control": {
     "frozen": true
    }
   },
   "source": [
    "<br>\n",
    "\n",
    "The code block above can be broken down as follows:"
   ]
  },
  {
   "cell_type": "markdown",
   "metadata": {
    "deletable": false,
    "editable": false,
    "run_control": {
     "frozen": true
    }
   },
   "source": [
    "<table width=\"375\" align=\"left\">\n",
    "<col width=\"60\">\n",
    "<col width=\"350\">\n",
    "    <tr>\n",
    "        <th>Line</th>\n",
    "        <th>Interpretation</th>\n",
    "    </tr>\n",
    "    <tr>\n",
    "        <td>3</td>\n",
    "        <td> importing numpy as np</td>\n",
    "    </tr>\n",
    "    <tr>\n",
    "        <td>6-7</td>\n",
    "        <td> creating empty lists to separately store blouse and skirt prices</td>\n",
    "    </tr>\n",
    "    <tr>\n",
    "        <td>9-17</td>\n",
    "        <td> for loop to append the <em>blouse_prices</em> and <em>skirt_prices</em> lists</td>\n",
    "    </tr>   \n",
    "    <tr>\n",
    "        <td>20-21</td>\n",
    "        <td> using <em>np.mean</em> to calculate (arithmetic) average prices</td>\n",
    "    </tr>\n",
    "    <tr>\n",
    "        <td>23-27</td>\n",
    "        <td> printing the results</td>\n",
    "    </tr>\n",
    "    \n",
    "</table>"
   ]
  },
  {
   "cell_type": "markdown",
   "metadata": {
    "deletable": false,
    "editable": false,
    "run_control": {
     "frozen": true
    }
   },
   "source": [
    "<em>Code 7.5.2</em> clearly shows a difference between the (arithmetic) average price of blouses and skirts. This indicates that the shop owner's imputation strategy may be improved with the use of such information. Such an enhancement has been performed in <em>Code 7.5.3</em>.\n",
    "<br><br>\n",
    "<strong>Note:</strong> The term <em>mean</em> (i.e. average) is very general and can refer to a number of different statistics, the goal of each being to accurately identify a central point in the data. The term <a href=\"https://docs.scipy.org/doc/numpy/reference/generated/numpy.mean.html\">arithmetic mean</a> specifically refers to the <em>'average'</em> that calculated by taking the sum of each item in an array (i.e. a list, series, or column of data) and dividing it by the number of items in the array. This is likely the <em>'average'</em> you learned in grade school, along with the <em>median</em> and <em>mode</em>. From this point forward, the term <em>mean</em> will refer to the arithmetic mean.\n",
    "\n",
    "<br>"
   ]
  },
  {
   "cell_type": "code",
   "execution_count": null,
   "metadata": {
    "deletable": false,
    "editable": false
   },
   "outputs": [],
   "source": [
    "## Code 7.5.3 ##\n",
    "\n",
    "import numpy as np\n",
    "\n",
    "# creating empty lists for blouses and skirts\n",
    "blouse_prices = []\n",
    "skirt_prices  = []\n",
    "\n",
    "# returning to the original inventory list\n",
    "for item, price in inventory:\n",
    "\n",
    "    if price != 'missing':\n",
    "        if 'blouse' in item:\n",
    "            blouse_prices.append([price])\n",
    "    \n",
    "        elif 'skirt' in item:\n",
    "            skirt_prices.append([price])\n",
    "\n",
    "        else:\n",
    "            print('Unidentified inventory.')\n",
    "\n",
    "\n",
    "# soft coding imputation prices\n",
    "blouse_imputation = round(np.mean(blouse_prices), 2)\n",
    "skirt_imputation  = round(np.mean(skirt_prices), 2)\n",
    "\n",
    "# creating a new inventory list to include sale price \n",
    "enhanced_inventory = []\n",
    "\n",
    "# returning to the original inventory list\n",
    "for item, price in inventory:\n",
    "    \n",
    "    # setting imputation for missing price\n",
    "    if price == 'missing' and 'blouse' in item:\n",
    "        price = blouse_imputation\n",
    "    \n",
    "    elif price == 'missing' and 'skirt' in item:\n",
    "        price = skirt_imputation\n",
    "\n",
    "    # setting sale price\n",
    "    sale_price = round(price * 0.90, 0)\n",
    "    \n",
    "    # adding item, price, and sale_price to enhanced_inventory list\n",
    "    enhanced_inventory.extend([[item, price, sale_price]])\n",
    "\n",
    "# printing enhanced inventory\n",
    "for info in enhanced_inventory:\n",
    "    print(info)"
   ]
  },
  {
   "cell_type": "markdown",
   "metadata": {
    "deletable": false,
    "editable": false,
    "run_control": {
     "frozen": true
    }
   },
   "source": [
    "<br><br>\n",
    "\n",
    "Finally, the shop owner has arrived at appropriate sale prices for her inventory. As a final step, let's utilize our knowledge of f-strings to create a flier to help promote the weekend sale. <em>Code 7.5.4</em> is an open coding block designated for this purpose.\n",
    "\n",
    "<br><br>"
   ]
  },
  {
   "cell_type": "code",
   "execution_count": null,
   "metadata": {
    "solution2": "hidden",
    "solution2_first": true
   },
   "outputs": [],
   "source": [
    "## Code 7.5.4 ##\n",
    "\n",
    "# open coding block\n",
    "\n",
    "\n"
   ]
  },
  {
   "cell_type": "code",
   "execution_count": null,
   "metadata": {
    "deletable": false,
    "editable": false,
    "solution2": "hidden"
   },
   "outputs": [],
   "source": [
    "## Sample Solution 7.5.4 ##\n",
    "\n",
    "import random\n",
    "\n",
    "ad_item_1 = random.choice(enhanced_inventory)\n",
    "ad_item_2 = random.choice(enhanced_inventory)\n",
    "\n",
    "shop_name = input(\"Create a name for the clothing shop.\\n\")\n",
    "sale_name = input(\"Create a name for the sales event.\\n\")\n",
    "\n",
    "print(f\"\"\"\n",
    "{'*' * 40}\n",
    "\n",
    "Once again, {shop_name} is having their famous {sale_name} this weekend!\n",
    "\n",
    "All items have been discounted to 90% of their original price!\n",
    "\n",
    "Our beautiful {ad_item_1[0]}s have been marked down from {ad_item_1[1]} to {ad_item_1[2]}!\n",
    "Our long-lasting {ad_item_2[0]}s have been marked down from {ad_item_2[1]} to {ad_item_2[2]}!\n",
    "\n",
    "Don't miss out! Come see our entire selection of discounted merchandise at\n",
    "{sale_name} this weekend at {shop_name}!\n",
    "\n",
    "{'*' * 40}\n",
    "\"\"\")\n"
   ]
  },
  {
   "cell_type": "markdown",
   "metadata": {
    "deletable": false,
    "editable": false,
    "run_control": {
     "frozen": true
    }
   },
   "source": [
    "<br><hr style=\"height:.9px;border:none;color:#333;background-color:#333;\" /><br>\n",
    "\n",
    "<h2>7.6 Summary</h2>\n",
    "\n",
    "Although <strong>for loops</strong> may seem more confusing than our previous content, they are a very important concept to master. They are an incredibly valuable alternative to copy/pasting and trying to iterate line-by-line. The next chapter will continue the discussion of iteration by diving into <strong>while loops</strong>.\n",
    "<br><br>\n",
    "\n",
    "~~~\n",
    " __    __              _                        _ \n",
    "/ / /\\ \\ \\__ _ _   _  | |_ ___     __ _  ___   / \\\n",
    "\\ \\/  \\/ / _` | | | | | __/ _ \\   / _` |/ _ \\ /  /\n",
    " \\  /\\  / (_| | |_| | | || (_) | | (_| | (_) /\\_/ \n",
    "  \\/  \\/ \\__,_|\\__, |  \\__\\___/   \\__, |\\___/\\/   \n",
    "               |___/              |___/           \n",
    "~~~"
   ]
  },
  {
   "cell_type": "markdown",
   "metadata": {
    "deletable": false,
    "editable": false,
    "run_control": {
     "frozen": true
    }
   },
   "source": [
    "<br>"
   ]
  },
  {
   "cell_type": "markdown",
   "metadata": {
    "deletable": false,
    "editable": false,
    "run_control": {
     "frozen": true
    }
   },
   "source": [
    "<hr style=\"height:.9px;border:none;color:#333;background-color:#333;\" />\n",
    "<hr style=\"height:.9px;border:none;color:#333;background-color:#333;\" />\n",
    "<hr style=\"height:.9px;border:none;color:#333;background-color:#333;\" />\n",
    "<hr style=\"height:.9px;border:none;color:#333;background-color:#333;\" />\n",
    "<br>\n",
    "\n",
    "<h1><u>Chapter 8: while Loops and Making Assumptions</u></h1>"
   ]
  },
  {
   "cell_type": "markdown",
   "metadata": {
    "deletable": false,
    "editable": false,
    "run_control": {
     "frozen": true
    }
   },
   "source": [
    "As mentioned in <strong>Chapter 7: for Loops and Basic Data Manipulation</strong>, a <strong>while loop</strong> can be thought of as an extension of a conditional statement. More specifically, a <strong>while loop</strong> is like a hybrid between a conditional statement and a for loop. They are similar to for loops in the sense that they iterate. As with conditional statements, as long as the condition(s) specified is met, a <strong>while loop</strong> will continue running. This powerful coding structure is incredibly useful, as it enables programmers to accomplish a wide array of tasks. For example, they can be used to:\n",
    "\n",
    "* take a list of all the students in a cohort and break them into teams of four\n",
    "* allow a user to reenter their password if their first attempt was invalid\n",
    "* calculate how many NBA seasons it took for Michael Jordan to score 25,000 points\n",
    "\n",
    "<br>\n",
    "In addition to the fundamentals of <strong>while loops</strong>, this chapter will also cover some syntax that is also useful in other coding structures, namely for loops and user-defined functions (covered in the next chapter). For example, in many situations a programmer needs to <strong>break</strong> out of the body of a loop before an iteration has finished. At other times, it may be necessary to skip over an item in an iterable and <strong>continue</strong> the loop by iterating on the next item. As you may have guessed, the syntaxes that enable such functionality are <a href=\"https://docs.python.org/3/tutorial/controlflow.html#break-and-continue-statements-and-else-clauses-on-loops\">break</a> and <a href=\"https://docs.python.org/3/tutorial/controlflow.html#break-and-continue-statements-and-else-clauses-on-loops\">continue</a>. Both are essential in building a solid foundation in Python.\n",
    "<br><br>\n",
    "<strong>Note:</strong> As mentioned, <strong>while loops</strong> will run until a specified condition is no longer met. If we are not careful, we may get stuck in a loop that does not stop running. Before moving forward, you may want to go back to <strong>Chapter 1: Setting Up for Success</strong> to refresh on what to do in such a situation. As an example, notice the difference between <em>Codes 8.0.1</em> and <em>8.0.2</em>. Without the final line in the body of the <strong>while loop</strong>, the loop's condition is always met and the code runs on into infinity (<em>Code 8.0.2</em>). <strong>Make sure you understand how to interrupt your kernel before running this code!</strong>\n",
    "\n",
    "<br>"
   ]
  },
  {
   "cell_type": "code",
   "execution_count": null,
   "metadata": {
    "cell_style": "split",
    "deletable": false,
    "editable": false
   },
   "outputs": [],
   "source": [
    "## Code 8.0.1 ##\n",
    "\n",
    "# adapted from Code 7.1.2\n",
    "\n",
    "# declaring x\n",
    "x = 5\n",
    "\n",
    "# while loop\n",
    "while x > 0:\n",
    "    print(x)\n",
    "    x -= 1"
   ]
  },
  {
   "cell_type": "code",
   "execution_count": null,
   "metadata": {
    "cell_style": "split",
    "deletable": false,
    "editable": false
   },
   "outputs": [],
   "source": [
    "## Code 8.0.2 ##\n",
    "\n",
    "#!# WARNING! The while loop will run forever.\n",
    "\n",
    "# declaring x\n",
    "x = 5\n",
    "\n",
    "# while loop with final line commented out\n",
    "while x > 0:\n",
    "    print(x)\n",
    "#   x -= 1"
   ]
  },
  {
   "cell_type": "markdown",
   "metadata": {
    "deletable": false,
    "editable": false,
    "run_control": {
     "frozen": true
    }
   },
   "source": [
    "<br><hr style=\"height:.9px;border:none;color:#333;background-color:#333;\" /><br>\n",
    "\n",
    "<h2>8.1 The Fundamentals of <em>while loops</em></h2>\n",
    "\n",
    "As mentioned in the introduction to this chapter, <strong>while loops</strong> can be utilized to accomplish tasks such as taking a list of all the students in a cohort and breaking them into teams of four. To exemplify this, let's assume our cohort had a total of eight students, as in <em>Code 8.1.1</em>. Let's also assume that teams need to be random and that no student is allowed to be on more than one team. In order to accomplish our task, we need to develop a code that:\n",
    "\n",
    "* randomly selects a student and puts them on a team\n",
    "* removes the student from the selection pool so that they do not end up on more than one team (sampling without replacement)\n",
    "* fills each team to exactly four members\n",
    "* keeps iterating until every student has been placed on a team\n",
    "<br><br>\n",
    "\n",
    "We will start by importing the random package so that we can utilize the method <a href=\"https://docs.python.org/3/library/random.html#functions-for-sequences\">choice</a> in our code. This method is designed to randomly choose one element from a population. Given our requirements, a drawback to using this method is that it samples with replacement, meaning there is a chance that a student will be selected more than once."
   ]
  },
  {
   "cell_type": "markdown",
   "metadata": {
    "cell_style": "split",
    "deletable": false,
    "editable": false,
    "run_control": {
     "frozen": true
    }
   },
   "source": [
    "Unfortunately, there is no optional argument in <strong>random.choice</strong> that enables sampling without replacement. However, the problem of selecting a student more than once can be avoided through a clever design of our code. What if, after a student is selected in an iteration of our loop, they were removed from the <em>students</em> list? This way, there would be no chance of the same student being selected in the next iteration of the loop, as the student would no longer be available for selection. This can be achieved by applying the <strong>.remove()</strong> method on <em>students</em>.\n",
    "<br><br>\n",
    "Also note that at first, the condition of the <strong>while loop</strong> may seem unclear. Essentially, this condition is telling Python to keep looping as long as there is something to iterate over in <em>students</em>. In fact, the syntax:\n",
    "<br><br>\n",
    "\n",
    "~~~\n",
    "while students:\n",
    "~~~\n",
    "\n",
    "<br>\n",
    "Could also be written as:\n",
    "<br><br>\n",
    "\n",
    "~~~\n",
    "while len(students)>0:\n",
    "~~~\n",
    "\n",
    "<br>\n",
    "Both syntaxes will achieve the same result, although the first is much more common. Also, note that once the loop has iterated over every item in <em>students</em>, the condition that there is still something left to iterate over evaluates to <em>False</em> and the loop stops running.\n",
    "<br><br>\n",
    "Finally, each time <em>Code 8.1.1</em> is run, different teams are created. This does not violate any of the requirements for our task, but it makes it difficult to replicate our results. If our goal was to avoid this, we could employ the use of <strong>random.seed()</strong>, as explained in <strong>Chapter 4: Numbers, Comparisons, and Randomness</strong>."
   ]
  },
  {
   "cell_type": "markdown",
   "metadata": {
    "cell_style": "split",
    "deletable": false,
    "editable": false,
    "run_control": {
     "frozen": true
    }
   },
   "source": [
    "<br>"
   ]
  },
  {
   "cell_type": "code",
   "execution_count": null,
   "metadata": {
    "cell_style": "split",
    "deletable": false,
    "editable": false
   },
   "outputs": [],
   "source": [
    "## Code 8.1.1 ##\n",
    "\n",
    "# importing random\n",
    "import random\n",
    "\n",
    "# list of people\n",
    "students = ['Neil', 'Alex', 'Andy', 'Ross',\n",
    "            'Miles', 'Jon', 'Jed', 'Dustin']\n",
    "\n",
    "team_1 = []\n",
    "team_2 = []\n",
    "\n",
    "# while loop\n",
    "while students:\n",
    "    person = random.choice(students)\n",
    "\n",
    "    if len(team_1) < 4:\n",
    "        team_1.append(person)\n",
    "    \n",
    "    elif len(team_1) >= 4:\n",
    "        team_2.append(person)\n",
    "    \n",
    "    else:\n",
    "        print(\"Something went wrong.\")\n",
    "        \n",
    "    # removing so students don't get repeated\n",
    "    students.remove(person)\n",
    "\n",
    "# printing teams\n",
    "print(team_1)\n",
    "print(team_2)"
   ]
  },
  {
   "cell_type": "markdown",
   "metadata": {
    "deletable": false,
    "editable": false,
    "run_control": {
     "frozen": true
    }
   },
   "source": [
    "<br><hr style=\"height:.9px;border:none;color:#333;background-color:#333;\" /><br>\n",
    "\n",
    "<h2>8.2 <em>while True</em> and <em>break</em></h2>\n",
    "\n",
    "Sometimes, it makes sense to allow a loop to run on into infinity. This technique becomes very useful in situations such as developing code to allow a user to reenter their password if their first attempt was invalid (i.e. user input does not match the stored password). Using a stand-alone conditional statement such as the one below will only permit a user to make a single input attempt, as after evaluating whether or not <em>pwd_attempt</em> and <em>password</em> match, Python will move on to the next line of code formatted at Column 0.\n",
    "<br><br>\n",
    "\n",
    "~~~\n",
    "if pwd_attempt == password:\n",
    "    [do something]\n",
    "\n",
    "elif pwd_attempt != password:\n",
    "    [do something else]\n",
    "\n",
    "else:\n",
    "    [catch bugs]\n",
    "~~~\n",
    "\n",
    "<br>\n",
    "However, by wrapping a <strong>while True</strong> loop around this code, a user will have an infinite number of tries to correctly input their password. To reiterate, <strong>a while loop will run until a condition is no longer met</strong> (i.e. the condition evaluates to <em>False</em>). Since by default the condition of the loop is set to <em>True</em>, the loop will run indefinitely as there is no syntax to change its evaluation to <em>False</em>. Given that our goal is to stop looping when a user enters the correct password, we need to tell Python to <strong>break</strong> out of the loop when this happens. This can be coded as follows:\n",
    "<br><br>\n",
    "\n",
    "~~~\n",
    "while True:\n",
    "    if pwd_attempt == password:\n",
    "        break\n",
    "\n",
    "    elif pwd_attempt != password:\n",
    "        [do something else]\n",
    "    \n",
    "    else:\n",
    "        [catch bugs]\n",
    "~~~\n",
    "\n",
    "<br>\n",
    "<em>Code 8.2.1</em> exemplifies the use of these structures to create a basic check to see if a user's input matches a stored password.\n",
    "\n",
    "<br>"
   ]
  },
  {
   "cell_type": "code",
   "execution_count": null,
   "metadata": {
    "deletable": false,
    "editable": false
   },
   "outputs": [],
   "source": [
    "## Code 8.2.1 ##\n",
    "\n",
    "# creating a password\n",
    "password = 'please open the door'\n",
    "\n",
    "\n",
    "# while True\n",
    "while True:\n",
    "    pwd_attempt = input(\"Please enter your password.\\n> \")\n",
    "\n",
    "    if pwd_attempt == password:\n",
    "        print('\\nThat is correct. You may enter.\\n')\n",
    "        input('< Press enter to continue. >\\n')\n",
    "        break\n",
    "\n",
    "    elif pwd_attempt != password:\n",
    "        print('\\nThat is not the correct password.\\n')\n",
    "        input('< Press enter to try again. >\\n')\n",
    "    \n",
    "    else:\n",
    "        print(\"Something went wrong.\")"
   ]
  },
  {
   "cell_type": "markdown",
   "metadata": {
    "deletable": false,
    "editable": false,
    "run_control": {
     "frozen": true
    }
   },
   "source": [
    "<br><hr style=\"height:.9px;border:none;color:#333;background-color:#333;\" /><br>\n",
    "\n",
    "<h2>8.3 <em>while loops</em> with specific conditions</h2>\n",
    "\n",
    "Although we have met the requirement of allowing a user to have multiple password entry attempts, allowing unlimited attempts is dangerous as it would be susceptible to malicious attacks on a user's account. Thus, it would be wise to modify our code so that it only allows a user a specific number of tries. In order to achieve this, the condition of the original <strong>while loop</strong>:\n",
    "<br><br>\n",
    "\n",
    "~~~\n",
    "while True:\n",
    "    [do something]\n",
    "~~~\n",
    "\n",
    "<br>\n",
    "can be altered using a comparison operator (covered in <strong>Chapter 4: Numbers, Comparisons, and Randomness</strong>). In other words, the <em>'True'</em> in <strong>while True</strong> can be replaced with something such as <em>'password_attempts > 0'</em>. For example, if a user were to be allowed only three attempts, <em>Code 8.2.1</em> could be modified to include an object with a stored value of three. Then, the loop could diminish this value by one each time a user inputs an incorrect password. This has been done in <em>Code 8.3.1</em>.\n",
    "\n",
    "<br>"
   ]
  },
  {
   "cell_type": "code",
   "execution_count": null,
   "metadata": {
    "deletable": false,
    "editable": false
   },
   "outputs": [],
   "source": [
    "## Code 8.3.1 ##\n",
    "\n",
    "# adapted from Code 8.2.1\n",
    "\n",
    "# creating a password\n",
    "password = 'please open the door'\n",
    "\n",
    "# setting password attempts to three\n",
    "password_attempts = 3\n",
    "\n",
    "# exiting the loop after three attempts\n",
    "while password_attempts > 0:\n",
    "    pwd_attempt = input(\"Please enter your password.\\n> \")\n",
    "\n",
    "    if pwd_attempt == password:\n",
    "        print('\\nThat is correct. You may enter.\\n')\n",
    "        input('< Press enter to continue. >\\n')\n",
    "        break\n",
    "\n",
    "    # diminishing password_attempts\n",
    "    elif pwd_attempt != password:\n",
    "        password_attempts -= 1\n",
    "        \n",
    "        print(f\"\"\"\n",
    "That is not the correct password.\n",
    "You have {password_attempts} attempt(s) remaining.\\n\"\"\")\n",
    "    \n",
    "    else:\n",
    "        print(\"Something went wrong.\")"
   ]
  },
  {
   "cell_type": "markdown",
   "metadata": {
    "deletable": false,
    "editable": false,
    "run_control": {
     "frozen": true
    }
   },
   "source": [
    "<br><br>\n",
    "\n",
    "<h3>Looping over Michael Jordan's NBA Career</h3>\n",
    "\n",
    "To further exemplify <strong>while loops</strong> with specific conditions, let's turn our attention to basketball legend <a href=\"https://www.basketball-reference.com/players/j/jordami01.html\">Michael Jordan</a>. According to <a href=\"https://www.basketball-reference.com/\">basketball-reference.com</a>, Jordan played in over 1,000 NBA games across 15 seasons, and in 11 of those seasons, he led the league in total points scored. He also made 14 All-Star appearances and won the league MVP award 5 times. Additionally, he spent the <em>'93-'94</em> season playing Minor League Baseball for the Birmingham Barons (labeled as <em>'DNP'</em>), and went into retirement for three seasons between 1998 and 2001 (labeled as <em>'Retired'</em>). Each sublist in <em>Code 8.3.2</em> represents total points scored for each season in Jordan's NBA career with the following format:\n",
    "<br><br>\n",
    "\n",
    "~~~\n",
    "[ SEASON, TOTAL POINTS SCORED, LEAGUE SCORING LEADER Y/N ]\n",
    "~~~\n",
    "\n",
    "<br>\n",
    "First, let's load this information into our working environment and utilize it to determine how many seasons it took for Jordan to surpass 25,000 points.\n",
    "\n",
    "<br><br>"
   ]
  },
  {
   "cell_type": "code",
   "execution_count": null,
   "metadata": {
    "deletable": false,
    "editable": false
   },
   "outputs": [],
   "source": [
    "## Code 8.3.2 ##\n",
    "\n",
    "jordan_stats = [[\"'84-'85\", 2313, 'Y'],\n",
    "                [\"'85-'86\", 408,  'N'],\n",
    "                [\"'86-'87\", 3041, 'Y'],\n",
    "                [\"'87-'88\", 2868, 'Y'],\n",
    "                [\"'88-'89\", 2633, 'Y'],\n",
    "                [\"'89-'90\", 2753, 'Y'],\n",
    "                [\"'90-'91\", 2580, 'Y'],\n",
    "                [\"'91-'92\", 2404, 'Y'],\n",
    "                [\"'92-'93\", 2541, 'Y'],\n",
    "                [\"'93-'94\", 'DNP', 'DNP'],\n",
    "                [\"'94-'95\", 457,  'N'],\n",
    "                [\"'95-'96\", 2491, 'Y'],\n",
    "                [\"'96-'97\", 2431, 'Y'],\n",
    "                [\"'97-'98\", 2357, 'Y'],\n",
    "                [\"'98-'99\", 'Retired', 'Retired'],\n",
    "                [\"'99-'00\", 'Retired', 'Retired'],\n",
    "                [\"'00-'01\", 'Retired', 'Retired'],\n",
    "                [\"'01-'02\", 1375, 'N'],\n",
    "                [\"'02-'03\", 1640, 'N']]"
   ]
  },
  {
   "cell_type": "markdown",
   "metadata": {
    "deletable": false,
    "editable": false,
    "run_control": {
     "frozen": true
    }
   },
   "source": [
    "<br><br>\n",
    "\n",
    "The long solution to this task would be to sum points in each season one-by-one until we reached the desired amount:\n",
    "<br><br>\n",
    "\n",
    "~~~\n",
    "jordan_stats[0][1] + jordan_stats[1][1] + jordan_stats[2][1] ...\n",
    "~~~\n",
    "\n",
    "<br>\n",
    "\n",
    "However, this is improper for a number of reasons:\n",
    "\n",
    "1. This is a tedious copy/paste approach. Copy/pasting is inefficient and prone to bugs (a programmer would need to remember to update the code after a new line has been pasted). Forgetting to update just once would lead to a bug that may go unnoticed (the code will likely run without throwing an error).\n",
    "<br>\n",
    "\n",
    "2. What if we wanted to change our code so that it calculated something else, such as how many points Jordan scored in seasons where he also led the league in scoring? This slight alteration to our requirements would require us to significantly rewrite our code.\n",
    "<br>\n",
    "\n",
    "3. Let's say our requirements changed again and we wanted to calculate Michael Jordan's total career points. However, let's also say Jordan wasn't retired. In other words, what if new lists were continually being added to <em>jordan_stats</em>? This would require continual updates to our copy/paste solution.\n",
    "\n",
    "<br>\n",
    "Given the above, it is highly beneficial to use loops. First, this would significantly alleviate concerns of accidental copy/paste bugs. Second, if our requirements changed, we may be able to take advantage of other coding structures, such as a conditional statement in the body of the loop. Finally, if the <em>jordan_stats</em> list were continually growing, our loop could adjust to its new length. In other words, it makes no difference if Jordan keeps playing as the loop could be programmed to continue iterating until it has run out of things to iterate over. Before developing our code, however, let's take a moment to discuss the assumptions involved in our task.\n",
    "<br>\n",
    "\n",
    "<br><hr style=\"height:.9px;border:none;color:#333;background-color:#333;\" /><br>\n",
    "\n",
    "<h2>8.4 Making Assumptions about Data</h2>\n",
    "\n",
    "Before getting started, we should clean up our data as this would simplify the coding for our analysis. In seasons where Jordan did not play in the NBA, total points scored is coded as a string. Given our goal, it seems unfair to consider these seasons in our calculation, and thus they should be removed. In this, we are making an assumption, and <strong>all assumptions should be documented.</strong> Another analyst could approach the same problem and feel it is more appropriate to include seasons where Jordan did not play in the NBA. The rationale for such a decision could be argued from a number of viewpoints, such as:\n",
    "\n",
    "* This calculation should be made as the total number of seasons between Jordan's first and the one in which he surpassed 25,000 points.\n",
    "* Jordan choose not to play basketball in the '93-'94 season even though he was capable of doing so.\n",
    "* Even though Jordan retired, he came back from retirement. Therefore, those seasons should be counted.\n",
    "\n",
    "<br>\n",
    "The value of an analysis stretches far beyond the sciences, and in many cases, it is far more of an art. Given this, each analysis requires substantial thought regarding the problem at hand, and such considerations lead to various assumptions that make each analytical perspective unique. Without documentation, it is incredibly difficult to understand an analyst's thought process. Moreover, it becomes challenging to trust the findings and actionable insights that resulted from such work. Assumptions need to be documented, whether embedded within scripts, in a document or project management tool, or even in a notebook that you keep next to you while you are working. Although this takes time up front, it will save you countless hours in the long run, especially when working with other analysts or reviewing an analysis that you conducted several months ago.\n",
    "<br><br>\n",
    "<em>Code 8.4.1</em> is designed to create a new list of lists that excludes seasons where Jordan did not play in the NBA. The aforementioned assumption has been embedded at the top of the code block as a triple-quoted string.\n",
    "\n",
    "<br>"
   ]
  },
  {
   "cell_type": "code",
   "execution_count": null,
   "metadata": {
    "deletable": false,
    "editable": false
   },
   "outputs": [],
   "source": [
    "## Code 8.4.1 ##\n",
    "\n",
    "\"\"\"\n",
    "Assumptions:\n",
    "    Calculations should only include seasons where Jordan played.\n",
    "\"\"\"\n",
    "\n",
    "# creating an empty list\n",
    "jordan_stats_2 = []\n",
    "\n",
    "\n",
    "# writing a loop on original stats lists\n",
    "for season, points, lead_scorer in jordan_stats:\n",
    "    \n",
    "    # appending new list if points is an integer\n",
    "    if type(points) == int:\n",
    "        jordan_stats_2.append([season, points, lead_scorer])\n",
    "\n",
    "\n",
    "# writing a loop to print new stats lists one-by-one\n",
    "for stats in jordan_stats_2:\n",
    "    print(stats)"
   ]
  },
  {
   "cell_type": "markdown",
   "metadata": {
    "deletable": false,
    "editable": false,
    "run_control": {
     "frozen": true
    }
   },
   "source": [
    "<br>\n",
    "\n",
    "<h4>Developing our Solution</h4>\n",
    "In order to calculate how many seasons it took for Jordan to score more than 25,000 points, we first need to develop a method to iterate over total points in each list of <em>jordan_stats_2</em>. This can be accomplished with the use of a for loop, as covered in <strong>Chapter 7 - for Loops and Basic Data Manipulation</strong>. Our goal is to stop iteration after accumulating a certain number of total points, and for this we have multiple options. More specifically, we may choose to fit out the body of the for loop with either a conditional statement or a <strong>while loop</strong>, as both could solve this task. Since conditional statements were already covered in <strong>Chapter 6 - Conditional Statements and Controlling Input</strong>, we will build a solution using this method first. <em>Code 8.4.2</em> has been left open for this task. Make sure to:\n",
    "\n",
    "* iterate over <em>jordan_stats</em>\n",
    "* stop iteration after accumulating at least 25,000 points\n",
    "* use a conditional statement inside the body of a for loop (don't use a <strong>while loop</strong>)\n",
    "* avoid soft coding wherever feasible\n",
    "<br><br>\n",
    "\n",
    "Below is a skeleton (i.e. an outline) to help get you started:\n",
    "<br><br>\n",
    "\n",
    "~~~\n",
    "for _______ in jordan_stats_2:\n",
    "\n",
    "    if ________:\n",
    "~~~\n",
    "\n",
    "<br><br>\n",
    "After developing a conditional statement solution, compare your results to the sample solution. When you are ready, develop a solution using a <strong>while loop</strong> in <em>Code 8.4.3</em>, which has also been left open. Below is another skeleton to help get you started:\n",
    "<br><br>\n",
    "\n",
    "~~~\n",
    "for _______ in jordan_stats_2:\n",
    "\n",
    "    while ________:\n",
    "~~~\n",
    "\n",
    "<br>"
   ]
  },
  {
   "cell_type": "code",
   "execution_count": null,
   "metadata": {
    "solution2": "hidden",
    "solution2_first": true
   },
   "outputs": [],
   "source": [
    "## Code 8.4.2 ##\n",
    "\n",
    "# open coding block (for loop + conditional statement)\n",
    "\n"
   ]
  },
  {
   "cell_type": "code",
   "execution_count": null,
   "metadata": {
    "deletable": false,
    "editable": false,
    "solution2": "hidden"
   },
   "outputs": [],
   "source": [
    "## Sample Solution 8.4.2 ##\n",
    "\n",
    "\"\"\"\n",
    "Assumptions:\n",
    "    Calculations should only include seasons where Jordan played.\n",
    "\"\"\"\n",
    "\n",
    "# declaring objects\n",
    "total_points  = 0\n",
    "total_seasons = 0\n",
    "point_limit   = 25000 # avoiding soft coding\n",
    "\n",
    "# writing the loop\n",
    "for season, points, lead_scorer in jordan_stats_2:\n",
    "\n",
    "    # writing the conditional\n",
    "    if total_points < point_limit:\n",
    "        total_points  += points\n",
    "        total_seasons += 1\n",
    "    \n",
    "    elif total_points >= point_limit:\n",
    "        break\n",
    "    \n",
    "    else:\n",
    "        print('Something went wrong.')\n",
    "\n",
    "\n",
    "# printing the results\n",
    "print(f\"\"\"\n",
    "{'*' * 40}\n",
    "\n",
    "It took {total_seasons} seasons for Jordan to score\n",
    "more than {point_limit} points (scoring {total_points}).\n",
    "\n",
    "{'*' * 40}\n",
    "\"\"\")"
   ]
  },
  {
   "cell_type": "markdown",
   "metadata": {
    "deletable": false,
    "editable": false,
    "run_control": {
     "frozen": true
    }
   },
   "source": [
    "<br><hr style=\"height:.9px;border:none;color:#333;background-color:#333;\" /><br>"
   ]
  },
  {
   "cell_type": "code",
   "execution_count": null,
   "metadata": {
    "solution2": "hidden",
    "solution2_first": true
   },
   "outputs": [],
   "source": [
    "## Code 8.4.3 ##\n",
    "\n",
    "# open coding block (for loop + while loop)\n"
   ]
  },
  {
   "cell_type": "code",
   "execution_count": null,
   "metadata": {
    "deletable": false,
    "editable": false,
    "solution2": "hidden"
   },
   "outputs": [],
   "source": [
    "## Sample Solution 8.4.3 ##\n",
    "\n",
    "\"\"\"\n",
    "Assumptions:\n",
    "    Calculations should only include seasons where Jordan played.\n",
    "\"\"\"\n",
    "\n",
    "# declaring objects\n",
    "total_points  = 0\n",
    "total_seasons = 0\n",
    "point_limit   = 25000 # avoiding soft coding\n",
    "\n",
    "\n",
    "# writing the outer loop\n",
    "for season, points, lead_scorer in jordan_stats_2:\n",
    "    \n",
    "    # writing the inner loop\n",
    "    while total_points < point_limit:\n",
    "            total_points  += points\n",
    "            total_seasons += 1\n",
    "            break\n",
    "\n",
    "\n",
    "# printing the results\n",
    "print(f\"\"\"\n",
    "{'*' * 40}\n",
    "\n",
    "It took {total_seasons} seasons for Jordan to score\n",
    "more than {point_limit} points (scoring {total_points}).\n",
    "\n",
    "{'*' * 40}\n",
    "\"\"\")"
   ]
  },
  {
   "cell_type": "markdown",
   "metadata": {
    "deletable": false,
    "editable": false,
    "run_control": {
     "frozen": true
    }
   },
   "source": [
    "<br><hr style=\"height:.9px;border:none;color:#333;background-color:#333;\" /><br>\n",
    "\n",
    "<h3>Benefits of using a <em>while</em> loop</h3>\n",
    "\n",
    "The bodies of <em>Codes 8.4.2</em> and <em>8.4.3</em> look very similar. As mentioned earlier in this chapter: <strong>a while loop can be thought of as an extension of a conditional statement.</strong> Also, as expected, both codes lead to the same result. The solution utilizing the <strong>while loop</strong>, however, uses less lines of code. Additionally, this solution appears to be easier to extend if there was a change in our requirements. For example, let's assume that it was decided that points should only be accumulated in seasons where Jordan led the league in scoring. This change is very easy to implement given the <strong>while loop</strong> solution, as only a single line of code needs to be modified:\n",
    "<br><br>\n",
    "\n",
    "~~~\n",
    "while total_points < point_limit and lead_scorer == 'Y':\n",
    "~~~\n",
    "\n",
    "<br>\n",
    "This has been implemented in <em>Code 8.4.4</em>. Notice how the assumptions and print statement have also been updated.\n",
    "\n",
    "<br>"
   ]
  },
  {
   "cell_type": "code",
   "execution_count": null,
   "metadata": {
    "deletable": false,
    "editable": false
   },
   "outputs": [],
   "source": [
    "## Code 8.4.4 ##\n",
    "\n",
    "# adapted from Code 8.4.3\n",
    "\n",
    "\"\"\"\n",
    "Assumptions:\n",
    "    Calculations should only include seasons where Jordan:\n",
    "      - played\n",
    "      - led the league points\n",
    "\"\"\"\n",
    "\n",
    "# declaring objects\n",
    "total_points  = 0\n",
    "total_seasons = 0\n",
    "point_limit   = 25000 # avoiding soft coding\n",
    "\n",
    "\n",
    "# writing the outer loop\n",
    "for season, points, lead_scorer in jordan_stats_2:\n",
    "\n",
    "    # MODIFIED inner loop\n",
    "    while total_points < point_limit and lead_scorer == 'Y':\n",
    "        total_points  += points\n",
    "        total_seasons += 1\n",
    "        break\n",
    "        \n",
    "# MODIFIED the print statement\n",
    "print(f\"\"\"\n",
    "{'*' * 40}\n",
    "\n",
    "In seasons where he led the league in scoring,\n",
    "Jordan surpassed {point_limit} points after {total_seasons}\n",
    "seasons (scoring {total_points}).\n",
    "\n",
    "{'*' * 40}\n",
    "\"\"\")"
   ]
  },
  {
   "cell_type": "markdown",
   "metadata": {
    "deletable": false,
    "editable": false,
    "run_control": {
     "frozen": true
    }
   },
   "source": [
    "<br><br>\n",
    "\n",
    "<h4>Adjusting the Conditional Statement Solution</h4>\n",
    "Adjusting the conditional statement solution is a bit more daunting, as the same modification would result in the <em>else</em> clause running when either of the two conditions is not met. This can be observed in <em>Code 8.4.5</em>.\n",
    "\n",
    "<br><br>"
   ]
  },
  {
   "cell_type": "code",
   "execution_count": null,
   "metadata": {
    "deletable": false,
    "editable": false
   },
   "outputs": [],
   "source": [
    "## Code 8.4.5 ##\n",
    "\n",
    "# adapted from Code 8.4.2\n",
    "\n",
    "# declaring objects\n",
    "total_points  = 0\n",
    "total_seasons = 0\n",
    "point_limit   = 25000 # avoiding soft coding\n",
    "\n",
    "# writing the loop\n",
    "for season, points, lead_scorer in jordan_stats_2:\n",
    "\n",
    "    # MODIFIED conditional\n",
    "    if total_points < point_limit and lead_scorer == 'Y':\n",
    "        total_points  += points\n",
    "        total_seasons += 1\n",
    "        print('All is well!') # added print statement for clarity\n",
    "    \n",
    "    elif total_points >= point_limit:\n",
    "        break\n",
    "    \n",
    "    else:\n",
    "        print('Something went wrong.')"
   ]
  },
  {
   "cell_type": "markdown",
   "metadata": {
    "deletable": false,
    "editable": false,
    "run_control": {
     "frozen": true
    }
   },
   "source": [
    "<br><br>\n",
    "\n",
    "By rewriting our code to include a nested conditional statement, we can attain the functionality we desire. If you need a refresher on nested conditionals, please see <strong>Chapter 6: Conditional Statements and Controlling Input</strong>. <em>Code 8.4.6</em> includes this change and also introduces a new syntax: <strong>continue</strong>. The role of this syntax is to terminate the current iteration of a loop and move on to the next iteration. In other words, it stops what's currently happening and <em>continues</em> by starting the next iteration. Since we expect <em>lead_scorer</em> to be equal to <em> 'N' </em> in some iterations, it is a good practice to write an <em>elif</em> statement to <strong>continue</strong> when this is the case. If we do not do this, the <em>else</em> clause will run, falsely indicating that something went wrong.\n",
    "\n",
    "<br><br>"
   ]
  },
  {
   "cell_type": "code",
   "execution_count": null,
   "metadata": {
    "deletable": false,
    "editable": false
   },
   "outputs": [],
   "source": [
    "## Code 8.4.6 ##\n",
    "\n",
    "# adapted from Code 8.4.5\n",
    "\n",
    "\"\"\"\n",
    "Assumptions:\n",
    "    Calculations should only include seasons where Jordan:\n",
    "      - played\n",
    "      - led the league points\n",
    "\"\"\"\n",
    "\n",
    "# declaring objects\n",
    "total_points  = 0\n",
    "total_seasons = 0\n",
    "point_limit   = 25000 # avoiding soft coding\n",
    "\n",
    "# writing the loop\n",
    "for season, points, lead_scorer in jordan_stats_2:\n",
    "\n",
    "    # writing the conditional\n",
    "    if total_points < point_limit:\n",
    "        \n",
    "        if lead_scorer == 'Y':\n",
    "            total_points  += points\n",
    "            total_seasons += 1\n",
    "    \n",
    "        # applying continue\n",
    "        elif lead_scorer == 'N':\n",
    "            continue\n",
    "        \n",
    "        else:\n",
    "            print('Something went wrong.')\n",
    "    \n",
    "    elif total_points >= point_limit:\n",
    "        break\n",
    "    \n",
    "    else:\n",
    "        print('Something went wrong.')\n",
    "\n",
    "\n",
    "# printing the results\n",
    "print(f\"\"\"\n",
    "{'*' * 40}\n",
    "\n",
    "In seasons where he led the league in scoring,\n",
    "Jordan surpassed {point_limit} points after {total_seasons}\n",
    "seasons (scoring {total_points}).\n",
    "\n",
    "{'*' * 40}\n",
    "\"\"\")"
   ]
  },
  {
   "cell_type": "markdown",
   "metadata": {
    "deletable": false,
    "editable": false,
    "run_control": {
     "frozen": true
    }
   },
   "source": [
    "<br><br>\n",
    "\n",
    "As expected, the results when using a conditional statement are the same as when using a <strong>while</strong> loop. As with before, the <strong>while</strong> loop uses less lines of code. One drawback, however, is that it does not contain an <em>else</em> clause to help catch bugs. This is because <em>else</em> can only be applied to conditional statements. Thus, we need to be diligent in testing our code to ensure it does what it is intended to do. Additionally, if there are potential errors in our code due to things that should have been controlled for, they may go undetected.\n",
    "<br><br>\n",
    "To illustrate, let's assume we wanted to run our code on every player in the history of the NBA. One challenge we may run into is that what we call the NBA today is actually the result of a merger that took place in 1976. From 1967-1976, two nationally-scoped basketball leagues existed in the United States (the National Basketball Association and the <a href=\"https://en.wikipedia.org/wiki/American_Basketball_Association\">American Basketball Association</a>). Thus, each season played within these years has two scoring leaders. If our code was designed to allow only one scoring leader per season, it may throw an error. We may also run into a situation where a player was traded and thus has two records for a given season. This may prove to be a challenge when calculating how many seasons the player took to attain a certain number of points. The good news is that Python contains more advanced coding syntaxes that are incredibly useful in such situations (covered in the next chapter).\n",
    "\n",
    "<br><hr style=\"height:.9px;border:none;color:#333;background-color:#333;\" /><br>\n",
    "\n",
    "<h2>8.4 Summary</h2>"
   ]
  },
  {
   "cell_type": "markdown",
   "metadata": {
    "deletable": false,
    "editable": false,
    "run_control": {
     "frozen": true
    }
   },
   "source": [
    "A <strong>while loop</strong> is a useful coding structure that allows programmers to accomplish several tasks. They can be thought of as a hybrid between a conditional statement and a for loop in the sense that they: 1) iterate, and 2) run until a condition or set of conditions is no longer met. The syntax <strong>break</strong> stops a loop's from iterating further, and the syntax <strong>continue</strong> ends a loop's current iteration and moves on to the next one.\n",
    "\n",
    "<br>\n",
    "\n",
    "~~~\n",
    "             _                  __  __     _                                _ \n",
    "  /\\  /\\__ _| |_ ___      ___  / _|/ _|   | |_ ___      _   _  ___  _   _  / \\\n",
    " / /_/ / _` | __/ __|    / _ \\| |_| |_    | __/ _ \\    | | | |/ _ \\| | | |/  /\n",
    "/ __  / (_| | |_\\__ \\   | (_) |  _|  _|   | || (_) |   | |_| | (_) | |_| /\\_/ \n",
    "\\/ /_/ \\__,_|\\__|___/    \\___/|_| |_|      \\__\\___/     \\__, |\\___/ \\__,_\\/   \n",
    "                                                        |___/                 \n",
    "~~~"
   ]
  },
  {
   "cell_type": "markdown",
   "metadata": {
    "deletable": false,
    "editable": false,
    "run_control": {
     "frozen": true
    }
   },
   "source": [
    "<br>"
   ]
  },
  {
   "cell_type": "markdown",
   "metadata": {
    "deletable": false,
    "editable": false,
    "run_control": {
     "frozen": true
    }
   },
   "source": [
    "<hr style=\"height:.9px;border:none;color:#333;background-color:#333;\" />\n",
    "<hr style=\"height:.9px;border:none;color:#333;background-color:#333;\" />\n",
    "<hr style=\"height:.9px;border:none;color:#333;background-color:#333;\" />\n",
    "<hr style=\"height:.9px;border:none;color:#333;background-color:#333;\" />\n",
    "<br>\n",
    "\n",
    "<h1><u>Chapter 9: User-Defined Functions and Exception Handling</u></h1>"
   ]
  },
  {
   "cell_type": "markdown",
   "metadata": {
    "deletable": false,
    "editable": false,
    "run_control": {
     "frozen": true
    }
   },
   "source": [
    "Python is an extraordinarily popular language for many reasons, one of them being that it has a strong open-source community. In general, <a href=\"https://opensource.com/resources/what-open-source\">open source</a> projects are community-driven, publicly available, and free of charge. More often than not, our analytical endeavors will rely on open source packages such as <a href=\"https://docs.scipy.org/doc/numpy/user/index.html\">numpy</a>, <a href=\"https://pandas.pydata.org/pandas-docs/stable/\">pandas</a>, <a href=\"https://scikit-learn.org/stable/documentation.html\">scikit-learn</a>, <a href=\"https://www.statsmodels.org/stable/index.html\">statsmodels</a>, <a href=\"https://matplotlib.org/3.1.1/contents.html\">matplotlib</a>, <a href=\"https://seaborn.pydata.org/\">seaborn</a>, and many others depending on our task at hand. Each of these packages contains functions that were designed for a specific purpose, and most contain optional or variable arguments to allow a certain level of flexibility and customization in their use.\n",
    "<br><br>\n",
    "Before diving into the aforementioned packages, it is important to have a good understanding of the inner workings of functions. Comprehending how to write, document, test, and exception handle user-defined functions will greatly increase your ability to benefit from functions available in the open source community. This will not only help in utilizing publicly-available resources to their fullest extent, but will also help in identifying when a developer may have cut corners. Every so often, a package is released that contains functions that are unstable or that only work in a limited context. Generally, such packages can be identified by the quality of their documentation. The content of this chapter emcompasses these aspects, as well as best practices when naming functions, variable scope, and common error types.\n",
    "\n",
    "<br><hr style=\"height:.9px;border:none;color:#333;background-color:#333;\" /><br>\n",
    "\n",
    "<h2>9.1 The Function Framework</h2>\n",
    "\n",
    "Functions follow a similar framework to conditional statements and loops in that their first line starts with a designated syntax and ends with a semicolon ( : ). Additionally, anything inside a function's body must be indented. Unlike other coding structures covered thus far, functions need to be defined before they can be run. In other words, you need to give Python the blueprints of your function before you will be able to use it. You can think of this like working with packages in that they must be imported before their methods become available.\n",
    "\n",
    "<h4>Defining a Function</h4>\n",
    "The syntax <strong>def</strong> lets Python know that you are defining a function. After this, the function must be given a unique name, followed by a set of parenthesis <em> (   ) </em> and a semicolon.\n",
    "<br><br>\n",
    "\n",
    "~~~\n",
    "def FUNCTION_NAME(ARGUMENTS):\n",
    "    FUNCTION BODY\n",
    "~~~\n",
    "\n",
    "<br>\n",
    "User-defined functions can have any nonnegative number of arguments (zero or more). However, mandatory arguments must come before optional arguments, and optional arguments must come before variable arguments. If you are a bit rusty on your argument types, return to <strong>Chapter 1: Setting Up for Success</strong> for a refresher."
   ]
  },
  {
   "cell_type": "markdown",
   "metadata": {
    "cell_style": "split",
    "deletable": false,
    "editable": false,
    "run_control": {
     "frozen": true
    }
   },
   "source": [
    "Let's begin by writing a very simple function that has no arguments. This function, which has been made available in <em>Code 9.1.1</em>, is designed to wish a user a happy birthday. Notice that running the definition of the function does not generate any output. Instead, <em>Code 9.1.1</em> simply loads the function so that Python knows what to do every time it is called. When <em>Code 9.1.2</em> is run, Python reads the <em>bday</em> function and outputs the birthday message.\n",
    "<br><br>\n",
    "<strong>It is very important that user-defined functions are given a UNIQUE name.</strong>\n",
    "\n",
    "If not, Python will realize that another function exists with the same name and overwrite it."
   ]
  },
  {
   "cell_type": "markdown",
   "metadata": {
    "cell_style": "split",
    "deletable": false,
    "editable": false,
    "run_control": {
     "frozen": true
    }
   },
   "source": [
    "<br>"
   ]
  },
  {
   "cell_type": "code",
   "execution_count": null,
   "metadata": {
    "cell_style": "split",
    "deletable": false,
    "editable": false
   },
   "outputs": [],
   "source": [
    "## Code 9.1.1 ##\n",
    "\n",
    "# defining a function\n",
    "def bday():  \n",
    "    print('Happy Birthday!')"
   ]
  },
  {
   "cell_type": "markdown",
   "metadata": {
    "cell_style": "split",
    "deletable": false,
    "editable": false,
    "run_control": {
     "frozen": true
    }
   },
   "source": [
    "<br>"
   ]
  },
  {
   "cell_type": "code",
   "execution_count": null,
   "metadata": {
    "cell_style": "split",
    "deletable": false,
    "editable": false
   },
   "outputs": [],
   "source": [
    "## Code 9.1.2 ##\n",
    "\n",
    "# running the function\n",
    "bday()"
   ]
  },
  {
   "cell_type": "markdown",
   "metadata": {
    "deletable": false,
    "editable": false,
    "run_control": {
     "frozen": true
    }
   },
   "source": [
    "This should be avoided unless you have a very good reason for doing so. Other than overwriting a function in your working environment, another massive danger to this practice is that it will also affect anyone that uses your function. This causes a big headache when a user needs both your function and the one you overwrote."
   ]
  },
  {
   "cell_type": "markdown",
   "metadata": {
    "cell_style": "split",
    "deletable": false,
    "editable": false,
    "run_control": {
     "frozen": true
    }
   },
   "source": [
    "To illustrate, let's take Python's built-in function <a href=\"https://docs.python.org/3/library/functions.html#abs\">abs()</a>, which takes a number and returns its absolute value. <em>Code 9.1.3</em> uses this built-in to take the absolute value of negative seven. As expected, the function returns positive seven. However, in <em>Code 9.1.4</em>, <em>abs( )</em> is being overwritten as a user-defined function with the same name. After running <em>Code 9.1.4</em>, try running <em>Code 9.1.3</em> again. As expected, this code block now throws an error.\n",
    "<br><br>\n",
    "\n",
    "<h4>Restarting the Python Kernel</h4>\n",
    "As mentioned earlier, overwriting existing functions should be avoided as much as possible. Sometimes, this may happen by accident. In such situations, you can reset your Python kernel, restoring all built-in functions to their default forms. In Jupyter notebook, this can be accomplished by navigating to <strong>Kernel > Restart</strong>."
   ]
  },
  {
   "cell_type": "code",
   "execution_count": null,
   "metadata": {
    "cell_style": "split",
    "deletable": false,
    "editable": false
   },
   "outputs": [],
   "source": [
    "## Code 9.1.3 ##\n",
    "\n",
    "# built-in abs\n",
    "abs(-7)"
   ]
  },
  {
   "cell_type": "markdown",
   "metadata": {
    "cell_style": "split",
    "deletable": false,
    "editable": false,
    "run_control": {
     "frozen": true
    }
   },
   "source": [
    "<br>"
   ]
  },
  {
   "cell_type": "code",
   "execution_count": null,
   "metadata": {
    "cell_style": "split",
    "deletable": false,
    "editable": false
   },
   "outputs": [],
   "source": [
    "## Code 9.1.4 ##\n",
    "\n",
    "# overwriting abs\n",
    "def abs():\n",
    "    print('Happy Birthday')\n",
    "\n",
    "abs()"
   ]
  },
  {
   "cell_type": "markdown",
   "metadata": {
    "cell_style": "split",
    "deletable": false,
    "editable": false,
    "run_control": {
     "frozen": true
    }
   },
   "source": [
    "<br>"
   ]
  },
  {
   "cell_type": "code",
   "execution_count": null,
   "metadata": {
    "cell_style": "split",
    "deletable": false,
    "editable": false
   },
   "outputs": [],
   "source": [
    "## Code 9.1.5 ##\n",
    "\n",
    "# Code to kill a kernel\n",
    "import os\n",
    "os._exit(00)"
   ]
  },
  {
   "cell_type": "markdown",
   "metadata": {
    "deletable": false,
    "editable": false,
    "run_control": {
     "frozen": true
    }
   },
   "source": [
    "<br>\n",
    "Note that upon restarting, all of your declared objects and user-defined functions will be wiped from your working environment (you can add them back by rerunning their codes). Additionally, you can kill your kernel by running <em>Code 9.1.5</em>. How did I discover this code? At one point in my Python journey, I needed to kill my kernel and stumbled upon this technique in a <a href=\"https://stackoverflow.com/questions/37751120/restart-ipython-kernel-with-a-command-from-a-cell\">StackOverflow thread</a>. As mentioned in Chapter 1:<br><br><br>\n",
    "\n",
    "<div align=\"center\"><strong>\n",
    "    As long as you are not one of the world's most advanced Python coders, someone has already experienced and solved your problem.\n",
    "</strong><a class=\"tocSkip\"></a></div><br>\n",
    "\n",
    "There is no shame in needing to look things up. In fact, many coders virtually live on sites like <a href=\"https://stackoverflow.com/\">StackOverflow</a> in the early days of their coding journeys, and I have yet to meet a programmer that does not at least occasionally need to make queries. The coding community is there to help you, so make sure to take advantage and give back by contributing your knowledge when you get to that point.\n",
    "<br>\n",
    "\n",
    "<br><hr style=\"height:.9px;border:none;color:#333;background-color:#333;\" /><br>\n",
    "\n",
    "<h2>9.2 Arguments and Environments</h2>\n",
    "\n",
    "When we want more out of our function, arguments can be added to user-defined functions by placing variables within the parenthesis right after the function's name. As mentioned, the order in which arguments must be specified is as follows:\n",
    "\n",
    "1. mandatory arguments (no default value)\n",
    "2. optional arguments (contains default value)\n",
    "3. variable  arguments (vary in length)\n",
    "\n",
    "<br>\n",
    "Let's move forward by defining a function that takes one argument. <em>Code 9.2.1</em> is a user-defined function that takes one mandatory argument and squares its value. To keep things simple, it has been named <em>square</em>. Judging by the body of this function, one may expect <em>Code 9.2.1</em> to output the result of three raised to the power of two. However, running this code block produces no output for a very important reason: we haven't told the function to <strong>return</strong> anything.<br><br><br>\n",
    "<div align=\"center\"><strong>\n",
    "    Programs do what they are programmed to do.\n",
    "</strong><a class=\"tocSkip\"></a></div><br>\n",
    "\n",
    "Computers need to be given instructions in order to perform tasks. In the case of <em>Code 9.2.1</em>, the function did exactly what we told it to do, and that is why it didn't produce any output. This can be addressed by modifying the function to include a <strong>return</strong> statement."
   ]
  },
  {
   "cell_type": "markdown",
   "metadata": {
    "cell_style": "split"
   },
   "source": [
    "<h4>The Limited World of a Function</h4>\n",
    "It is important to understand why <strong>return</strong> statements are required to get something back from a function. To get there, think of your working environment as the entire planet on which all of your code lives. We will call this the <strong>global environment</strong>. Also, think of declaring an object as creating an living being on your planet, and this being is free to interact with other objects in the global environment. If another object is declared with the same name, it will cause conflict and the former object will be overwritten.\n",
    "<br><br>\n",
    "Now, think of the body of a function as its own island where its inhabitants have been secluded for so many generations that they are completely oblivious to anything that exists elsewhere. This is good because these objects have no way to adversely affect the global environment (i.e. overwriting objects). We will call this island the function's environment. Oftentimes, we need something from the function's environment to interact with the global environment, and as the master of both environments, we have the ability to make this happen. In other words, at times we need something from the island to <strong>return</strong> to the global environment, and the syntax to accomplish this is, not surprisingly, named <strong>return</strong>.\n",
    "<br><br>\n",
    "A <strong>return</strong> statement has been added to <em>Code 9.2.2</em>, where the <em>square()</em> function is returning the results of a calculation. More commonly, such results are first stored within an object in the body of a function and the object is returned. This is occurring in <em>Code 9.2.3</em>, where the calculation results have been stored in the object <em>val</em>, which is referenced in the <strong>return</strong> statement. Both codes give the same result.\n",
    "<br><br>\n",
    "Note that even though <em>val</em> was returned in <em>Code 9.2.3</em>, it is not actually available as an object in the global environment. This is Python's way of protecting the function's users from accidentally overwriting object names. For example, if the global environment already contained an object named <em>val</em>, Python protects this object from being overwritten. On the same token, any object in the global environment that shares the same name as an object in a function's environment will not be overwritten when the function is called, even if it contains a <strong>return</strong> statement. There is one exception to this rule, which will be covered later in this chapter. The results of <em>Code 9.2.4</em> confirm that <em>val</em> has not been defined globally.\n",
    "<br><br>\n",
    "<h4>Storing Function Output</h4>\n",
    "A common method for storing the returned output of a function is to declare it as an object in the global environment. The type of the declared object depends on what was returned from the function. In <em>Code 9.2.5</em>, since the <em>square()</em> function returned an integer, the object <em>' y '</em> is of this type.\n",
    "<br><br>\n",
    "Also note that once Python executes a <strong>return</strong> statement, it leaves the body of the function, even if another <strong>return</strong> statement is on the next line. However, a <strong>return</strong> statement can reference more than one thing (separated by commas). By default, a function will return a <a href=\"https://docs.python.org/2/tutorial/datastructures.html#tuples-and-sequences\">tuple</a> if more than one object referenced in a <strong>return</strong> statement (<em>Code 9.2.6</em>). <strong>Tuples</strong> are very similar to lists, but are represented with curved brackets and are immutable (they cannot be changed). <strong>Tuples</strong> are very important in functional programming, but are beyond the scope of our current coding needs. For now, it is important to understand that indexing a <strong>tuple</strong> is no different than indexing a list.\n",
    "<br><br>\n",
    "<em>Note:</em> If you would like to return a list instead of a <strong>tuple</strong>, try wrapping square brackets around the objects in your <strong>return</strong> statement:\n",
    "<br><br>\n",
    "\n",
    "~~~\n",
    "return [a, b]\n",
    "~~~"
   ]
  },
  {
   "cell_type": "markdown",
   "metadata": {
    "cell_style": "split",
    "deletable": false,
    "editable": false,
    "run_control": {
     "frozen": true
    }
   },
   "source": [
    "<br>"
   ]
  },
  {
   "cell_type": "code",
   "execution_count": null,
   "metadata": {
    "cell_style": "split",
    "deletable": false,
    "editable": false
   },
   "outputs": [],
   "source": [
    "## Code 9.2.1 ##\n",
    "\n",
    "# defining a function\n",
    "def square(x):\n",
    "    x**2\n",
    "\n",
    "# running the function\n",
    "square(x = 3)"
   ]
  },
  {
   "cell_type": "markdown",
   "metadata": {
    "cell_style": "split",
    "deletable": false,
    "editable": false,
    "run_control": {
     "frozen": true
    }
   },
   "source": [
    "<br>"
   ]
  },
  {
   "cell_type": "code",
   "execution_count": null,
   "metadata": {
    "cell_style": "split",
    "deletable": false,
    "editable": false
   },
   "outputs": [],
   "source": [
    "## Code 9.2.2 ##\n",
    "\n",
    "# adapted from Code 9.2.1\n",
    "\n",
    "# adding return statement\n",
    "def square(x):\n",
    "    return x**2\n",
    "\n",
    "# running the function\n",
    "square(x = 3)"
   ]
  },
  {
   "cell_type": "markdown",
   "metadata": {
    "cell_style": "split",
    "deletable": false,
    "editable": false,
    "run_control": {
     "frozen": true
    }
   },
   "source": [
    "<br>"
   ]
  },
  {
   "cell_type": "code",
   "execution_count": null,
   "metadata": {
    "cell_style": "split",
    "deletable": false,
    "editable": false
   },
   "outputs": [],
   "source": [
    "## Code 9.2.3 ##\n",
    "\n",
    "# adapted from Code 9.2.2\n",
    "\n",
    "# adding return statement\n",
    "def square(x):\n",
    "    val = x**2\n",
    "    return val\n",
    "\n",
    "# running the function\n",
    "square(x = 3)"
   ]
  },
  {
   "cell_type": "markdown",
   "metadata": {
    "cell_style": "split",
    "deletable": false,
    "editable": false,
    "run_control": {
     "frozen": true
    }
   },
   "source": [
    "<br>"
   ]
  },
  {
   "cell_type": "code",
   "execution_count": null,
   "metadata": {
    "cell_style": "split",
    "deletable": false,
    "editable": false
   },
   "outputs": [],
   "source": [
    "## Code 9.2.4 ##\n",
    "\n",
    "print(val)"
   ]
  },
  {
   "cell_type": "markdown",
   "metadata": {
    "cell_style": "split",
    "deletable": false,
    "editable": false,
    "run_control": {
     "frozen": true
    }
   },
   "source": [
    "<br>"
   ]
  },
  {
   "cell_type": "code",
   "execution_count": null,
   "metadata": {
    "cell_style": "split",
    "deletable": false,
    "editable": false
   },
   "outputs": [],
   "source": [
    "## Code 9.2.5 ##\n",
    "\n",
    "# storing output as an object\n",
    "y = square(x = 3)\n",
    "\n",
    "# printing the results\n",
    "print(y)\n",
    "print(type(y))"
   ]
  },
  {
   "cell_type": "markdown",
   "metadata": {
    "cell_style": "split",
    "deletable": false,
    "editable": false,
    "run_control": {
     "frozen": true
    }
   },
   "source": [
    "<br>"
   ]
  },
  {
   "cell_type": "code",
   "execution_count": null,
   "metadata": {
    "cell_style": "split",
    "deletable": false,
    "editable": false
   },
   "outputs": [],
   "source": [
    "## Code 9.2.6 ##\n",
    "\n",
    "# adapted from Code 9.2.3\n",
    "\n",
    "# modifying return statement\n",
    "def square(x):\n",
    "    val = x**2\n",
    "    return val, x\n",
    "\n",
    "# running the function\n",
    "y = square(x = 3)\n",
    "\n",
    "# printing the results\n",
    "print(y)\n",
    "print(type(y))"
   ]
  },
  {
   "cell_type": "markdown",
   "metadata": {},
   "source": [
    "<br><hr style=\"height:.9px;border:none;color:#333;background-color:#333;\" /><br>\n",
    "\n",
    "\n",
    "<h2>9.3 Functions with Multiple Arguments</h2>\n",
    "\n",
    "Notice in that in the codes in <em>Section 9.2</em>, the argument <em>' x '</em> was explicitly declared when the function was run. This is not required, but it is a good practice. This is especially valuable when a function has more than one argument. Without explicit declaration (i.e. <em>' x = 5 '</em> instead of just <em>' 5 '</em>), things can get very confusing. For example, functions such as the following would be far more difficult without explicitly declaring the values for each argument.\n",
    "<br><br>\n",
    "\n",
    "~~~\n",
    "def personal_favorites(food, beverage, book, movie, place, color):\n",
    "        print(f\"\"\"\n",
    "        Your favorite food is {food}.\n",
    "        Your favorite beverage is {beverage}.\n",
    "        Your favorite book is {book}.\n",
    "        Your favorite movie is {movie}.\n",
    "        Your favorite place is {place}.\n",
    "        Your favorite color is {color}.\n",
    "        \"\"\")\n",
    "~~~\n",
    "\n",
    "<br>\n",
    "From this point forward, this text will explicitly declare function arguments.\n",
    "\n",
    "<h4>Setting Default Values with Optional Arguments</h4>\n",
    "A good approach to writing functions is to use as few mandatory arguments as is reasonably feasible. This approach has a number of benefits, such as making a function easier to use and reducing the chance of errors due to an invalid argument input. Oftentimes, however, you will have the need to develop additional features so that your function can be used in a wider array of applications or to allow users with a certain level of customization. Such situations call for the use of <strong>optional arguments</strong>, or arguments that have a set default value. To illustrate, let's modify <em>Code 9.2.3</em> so that it takes any number to any power."
   ]
  },
  {
   "cell_type": "markdown",
   "metadata": {
    "cell_style": "split"
   },
   "source": [
    "This modification can be accomplished by defining a second argument in the first line of the function, which has been done in <em>Code 9.3.1</em>. The second argument, <em>power</em>, has been made optional with a default value of two. When selecting the default value for an optional argument, it is a good practice to consider what users will commonly input if the argument was mandatory. Considering our original function was designed to square a number, defaulting power with a value of two seems appropriate.\n",
    "<br><br>\n",
    "<h4>Overriding Defaults in Optional Arguments</h4>\n",
    "Default values in optional arguments can be overridden by declaring a new <strong>parameter</strong> when the function is called (i.e. when it is run). In Python, <strong>parameter</strong> is another word for the value of an argument. In fact, most of Python's help files have a section labeled <em>Parameters</em> that explains what each argument does and indicates what types of inputs are acceptable.\n",
    "<br><br>\n",
    "In the final line of <em>Code 9.3.2</em>, the default value for <em>power</em> is being overridden. As expected, this outputs a different value than that of <em>Code 9.3.1</em>. Also note that overriding an optional argument does not change its default value. If we called <em>power_up</em> again without specifying a value for <em>power</em>, the default for this argument would be used."
   ]
  },
  {
   "cell_type": "markdown",
   "metadata": {
    "cell_style": "split",
    "deletable": false,
    "editable": false,
    "run_control": {
     "frozen": true
    }
   },
   "source": [
    "<br>"
   ]
  },
  {
   "cell_type": "code",
   "execution_count": null,
   "metadata": {
    "cell_style": "split",
    "deletable": false,
    "editable": false
   },
   "outputs": [],
   "source": [
    "## Code 9.3.1 ##\n",
    "\n",
    "# adapted from Code 9.2.3\n",
    "\n",
    "# adding return statement\n",
    "def power_up(x, power=2):\n",
    "    val = x**power\n",
    "    return val\n",
    "\n",
    "# running the function\n",
    "power_up(x = 3)"
   ]
  },
  {
   "cell_type": "markdown",
   "metadata": {
    "cell_style": "split",
    "deletable": false,
    "editable": false,
    "run_control": {
     "frozen": true
    }
   },
   "source": [
    "<br>"
   ]
  },
  {
   "cell_type": "code",
   "execution_count": null,
   "metadata": {
    "cell_style": "split",
    "deletable": false,
    "editable": false
   },
   "outputs": [],
   "source": [
    "## Code 9.3.2 ##\n",
    "\n",
    "# adapted from Code 9.2.3\n",
    "\n",
    "# adding return statement\n",
    "def power_up(x, power=2):\n",
    "    val = x**power\n",
    "    return val\n",
    "\n",
    "# running the function\n",
    "power_up(x = 3, power = 3)"
   ]
  },
  {
   "cell_type": "markdown",
   "metadata": {
    "deletable": false,
    "editable": false,
    "run_control": {
     "frozen": true
    }
   },
   "source": [
    "<br><hr style=\"height:.9px;border:none;color:#333;background-color:#333;\" /><br>\n",
    "\n",
    "<h2>9.4 Docstrings</h2>\n",
    "\n",
    "Up to this point, we have created a total of three user-defined functions:\n",
    "* <em>bday( )</em> - prints a birthday message\n",
    "* <em>square(x)</em> - raises a number to the power of two\n",
    "* <em>power_up(x, power=2)</em> - raises any number to any power\n",
    "\n",
    "<br>\n",
    "Each of these functions has been given a name that provides suggestion as to what the function does. This is a good start, but a critical element of explanation is missing: the <a href=\"https://www.python.org/dev/peps/pep-0257/#what-is-a-docstring\">docstring</a>. <strong>Docstrings</strong>, also known as documentation strings, do as their name implies: they provide documentation. In other words, their purpose is to help users understand what something does and how it should be used. They are a key component of many coding structures in Python, including functions, classes, modules, and packages, although we will only be discussing them in terms of functions in this chapter. At this point, you should have ample experience working with docstrings, as they are the text that appears when you call <em>help( )</em> on something.\n",
    "<br><br>\n",
    "\n",
    "<h4>Writing a Docstring</h4>\n",
    "Coding a <strong>docstring</strong> for a function is incredibly simple: place a triple-quoted string on the first line of the function's body.\n",
    "<br><br>\n",
    "\n",
    "~~~\n",
    "def FUNCTION_NAME(ARGUMENTS):\n",
    "    \"\"\" DOCSTRING \"\"\"\n",
    "    \n",
    "    FUNCTION BODY\n",
    "~~~\n",
    "\n",
    "<br>\n",
    "As long as the <strong>docstring</strong> is on the first line, it will be referenced every time a user calls <em>help( )</em> on the function. Also, <strong>docstrings</strong> for functions are generally written concisely, consisting of only a single line explaining what the function does. However, there is no reason to restrict yourself from being thorough if you feel it will benefit users. At the time of this writing, the <strong>docstring</strong> for the method <em>pandas.DataFrame</em> is 72 lines long. Not only does the documentation provide details as to what the method does, but also offers a solid explanation of its parameters, outlines similar methods that have been designed to address slightly different needs, and provides usage examples. This <strong>docstring</strong> is shown below."
   ]
  },
  {
   "cell_type": "markdown",
   "metadata": {
    "deletable": false,
    "editable": false,
    "run_control": {
     "frozen": true
    }
   },
   "source": [
    "<hr style=\"height:.9px;border:none;color:gray;background-color:gray;\" />\n",
    "<hr style=\"height:.9px;border:none;color:gray;background-color:gray;\" />\n",
    "\n",
    "    Two-dimensional size-mutable, potentially heterogeneous tabular data\n",
    "    structure with labeled axes (rows and columns). Arithmetic operations\n",
    "    align on both row and column labels. Can be thought of as a dict-like\n",
    "    container for Series objects. The primary pandas data structure.\n",
    "\n",
    "    Parameters\n",
    "    ----------\n",
    "    data : ndarray (structured or homogeneous), Iterable, dict, or DataFrame\n",
    "        Dict can contain Series, arrays, constants, or list-like objects\n",
    "\n",
    "        .. versionchanged :: 0.23.0\n",
    "           If data is a dict, column order follows insertion-order for\n",
    "           Python 3.6 and later.\n",
    "\n",
    "        .. versionchanged :: 0.25.0\n",
    "           If data is a list of dicts, column order follows insertion-order\n",
    "           Python 3.6 and later.\n",
    "\n",
    "    index : Index or array-like\n",
    "        Index to use for resulting frame. Will default to RangeIndex if\n",
    "        no indexing information part of input data and no index provided\n",
    "    columns : Index or array-like\n",
    "        Column labels to use for resulting frame. Will default to\n",
    "        RangeIndex (0, 1, 2, ..., n) if no column labels are provided\n",
    "    dtype : dtype, default None\n",
    "        Data type to force. Only a single dtype is allowed. If None, infer\n",
    "    copy : boolean, default False\n",
    "        Copy data from inputs. Only affects DataFrame / 2d ndarray input\n",
    "\n",
    "    See Also\n",
    "    --------\n",
    "    DataFrame.from_records : Constructor from tuples, also record arrays.\n",
    "    DataFrame.from_dict : From dicts of Series, arrays, or dicts.\n",
    "    DataFrame.from_items : From sequence of (key, value) pairs\n",
    "        read_csv, pandas.read_table, pandas.read_clipboard.\n",
    "\n",
    "    Examples\n",
    "    --------\n",
    "    Constructing DataFrame from a dictionary.\n",
    "\n",
    "    >>> d = {'col1': [1, 2], 'col2': [3, 4]}\n",
    "    >>> df = pd.DataFrame(data=d)\n",
    "    >>> df\n",
    "       col1  col2\n",
    "    0     1     3\n",
    "    1     2     4\n",
    "\n",
    "    Notice that the inferred dtype is int64.\n",
    "\n",
    "    >>> df.dtypes\n",
    "    col1    int64\n",
    "    col2    int64\n",
    "    dtype: object\n",
    "\n",
    "    To enforce a single dtype:\n",
    "\n",
    "    >>> df = pd.DataFrame(data=d, dtype=np.int8)\n",
    "    >>> df.dtypes\n",
    "    col1    int8\n",
    "    col2    int8\n",
    "    dtype: object\n",
    "\n",
    "    Constructing DataFrame from numpy ndarray:\n",
    "\n",
    "    >>> df2 = pd.DataFrame(np.array([[1, 2, 3], [4, 5, 6], [7, 8, 9]]),\n",
    "    ...                    columns=['a', 'b', 'c'])\n",
    "    >>> df2\n",
    "       a  b  c\n",
    "    0  1  2  3\n",
    "    1  4  5  6\n",
    "    2  7  8  9\n",
    "    \n",
    "\n",
    "<hr style=\"height:.9px;border:none;color:gray;background-color:gray;\" />\n",
    "<hr style=\"height:.9px;border:none;color:gray;background-color:gray;\" />"
   ]
  },
  {
   "cell_type": "markdown",
   "metadata": {
    "cell_style": "split",
    "deletable": false,
    "editable": false,
    "run_control": {
     "frozen": true
    }
   },
   "source": [
    "The <em>bday( )</em> function has been modified to include a <strong>docstring</strong> (<em>Code 9.4.1</em>). It may seem trivial to write a <strong>docstring</strong> for such a simple function that has no arguments and offers no customization. However, all coding structures that support <strong>docstrings</strong> should have them, regardless of how simple they may be. They are easy to set up and can immensely speed up a user's learning curve. Additionally, poor quality documentation may indicate that corners have been cut. When reading <em>help( )</em> files, you should always look for:\n",
    "\n",
    "* an explanation as to what the function is supposed to do\n",
    "* a list of parameters and how to apply them\n",
    "* usage examples"
   ]
  },
  {
   "cell_type": "markdown",
   "metadata": {
    "cell_style": "split",
    "deletable": false,
    "editable": false,
    "run_control": {
     "frozen": true
    }
   },
   "source": [
    "<br>"
   ]
  },
  {
   "cell_type": "code",
   "execution_count": null,
   "metadata": {
    "cell_style": "split",
    "deletable": false,
    "editable": false
   },
   "outputs": [],
   "source": [
    "## Code 9.4.1 ##\n",
    "\n",
    "# adapted from Code 9.1.1\n",
    "\n",
    "# defining a function with a docstring\n",
    "def bday():\n",
    "    \"\"\"Function prints 'Happy Birthday!'\"\"\"\n",
    "    print('Happy Birthday!')\n",
    "\n",
    "# calling help() on the function\n",
    "help(bday)"
   ]
  },
  {
   "cell_type": "markdown",
   "metadata": {
    "deletable": false,
    "editable": false,
    "run_control": {
     "frozen": true
    }
   },
   "source": [
    "If these are not available, search the <strong>docstring</strong> for a web link that leads to these things. If no such link exists, it may be best to find an alternative tool. <em>Codes 9.4.2</em> and <em>9.4.3</em> have been left open so that you may create <strong>docstrings</strong> for the <em>square( )</em> and <em>power_up( )</em> functions, respectively. As a good practice, make sure to include an explanation of each function's parameters and a usage example.\n",
    "\n",
    "<br>"
   ]
  },
  {
   "cell_type": "code",
   "execution_count": null,
   "metadata": {
    "solution2": "hidden",
    "solution2_first": true
   },
   "outputs": [],
   "source": [
    "## Code 9.4.2 ##\n",
    "\n",
    "# open coding block\n",
    "\n",
    "# adapted from Code 9.2.3\n",
    "\n",
    "def square(x):\n",
    "    val = x**2\n",
    "    return val\n",
    "    \n",
    "help(square)"
   ]
  },
  {
   "cell_type": "code",
   "execution_count": null,
   "metadata": {
    "deletable": false,
    "editable": false,
    "solution2": "hidden"
   },
   "outputs": [],
   "source": [
    "## Sample Solution 9.4.2 ##\n",
    "\n",
    "# adapted from Code 9.2.3\n",
    "\n",
    "def square(x):\n",
    "    \"\"\"\n",
    "    Takes a number and returns the it raised to the power of two.\n",
    "    \n",
    "    PARAMETERS\n",
    "    ----------\n",
    "    x : int or float\n",
    "        The number to be raised to the power of two.\n",
    "    \n",
    "    \n",
    "    EXAMPLES\n",
    "    --------\n",
    "    >>> two_squared = square(x=2)\n",
    "    >>> print(two_squared) \n",
    "    4\n",
    "    \"\"\"\n",
    "    \n",
    "    val = x**2\n",
    "    return val\n",
    "    \n",
    "help(square)"
   ]
  },
  {
   "cell_type": "markdown",
   "metadata": {
    "deletable": false,
    "editable": false,
    "run_control": {
     "frozen": true
    }
   },
   "source": [
    "<br><hr style=\"height:.9px;border:none;color:#333;background-color:#333;\" /><br>"
   ]
  },
  {
   "cell_type": "code",
   "execution_count": null,
   "metadata": {
    "solution2": "hidden",
    "solution2_first": true
   },
   "outputs": [],
   "source": [
    "## Code 9.4.3 ##\n",
    "\n",
    "# open coding block\n",
    "\n",
    "# adapted from Code 9.3.1\n",
    "\n",
    "def power_up(x, power=2):\n",
    "    val = x**power\n",
    "    return val\n",
    "    \n",
    "help(power_up)"
   ]
  },
  {
   "cell_type": "code",
   "execution_count": null,
   "metadata": {
    "deletable": false,
    "editable": false,
    "solution2": "hidden"
   },
   "outputs": [],
   "source": [
    "## Sample Solution 9.4.3 ##\n",
    "\n",
    "# adapted from Code 9.3.1\n",
    "\n",
    "def power_up(x, power=2):\n",
    "    \"\"\"\n",
    "    Takes a number and returns the it raised to the power of two.\n",
    "    Mathematical representation: x**power\n",
    "    \n",
    "    PARAMETERS\n",
    "    ----------\n",
    "    x : int or float\n",
    "        The number to be raised to a power.\n",
    "    \n",
    "    power : int or float, default 2\n",
    "        The power x will be raised to.\n",
    "    \n",
    "    \n",
    "    EXAMPLES\n",
    "    --------\n",
    "    >>> three_to_three = power_up(x=3, power=3)\n",
    "    >>> print(three_to_three) \n",
    "    27\n",
    "    \"\"\"\n",
    "    \n",
    "    val = x**power\n",
    "    return val\n",
    "    \n",
    "help(power_up)"
   ]
  },
  {
   "cell_type": "markdown",
   "metadata": {
    "deletable": false,
    "editable": false,
    "run_control": {
     "frozen": true
    }
   },
   "source": [
    "<br><hr style=\"height:.9px;border:none;color:#333;background-color:#333;\" /><br>\n",
    "\n",
    "<h2>9.5 Functions with Variable Arguments</h2>\n",
    "Recall from  <strong>Chapter 1: Learn This Before Learning Else</strong> that <em>*args</em> and <em>**kwargs</em> allow for arguments of varying length. In other words, these syntaxes are very useful when there is need to allow flexibility in the amount of inputs a user can specify. A good example of such a need is a shopping list. To keep things simple, let's assume that the requirements for our <em>shopping_list</em> function are to take items as arguments and then print them one-by-one. Also, common knowledge implies that different users will have shopping lists of different lengths. Therefore, it would be very challenging if users were forced to make their list of a certain length. For example, if our function was designed as follows:\n",
    "<br><br>\n",
    "\n",
    "~~~\n",
    "def shopping_list(item_1, item_2, item_3):\n",
    "    print(f\"\"\"\n",
    "Shopping List:\n",
    "    * {item_1}\n",
    "    * {item_2}\n",
    "    * {item_3}\n",
    "    \"\"\")\n",
    "~~~\n",
    "\n",
    "<br>\n",
    "users would be required to have shopping lists that consist of exactly three items. Otherwise, the function will throw an error. A remedy to allow users more flexibility would be to make all of the arguments optional, setting their default values to <em>None</em>. Using this approach, users would be able to input as many items as they like, up to the amount of optional arguments that exist in the function. Additionally, the number of optional arguments could be increased to allow for longer lists. Although this approach solves the need for more flexibility, the function's body becomes unnecessarily long and inefficient:\n",
    "<br><br>\n",
    "\n",
    "~~~\n",
    "def shopping_list(item_1=None, item_2=None, item_3=None):\n",
    "    print(\"Shopping List:\")\n",
    "    \n",
    "    item_list = []\n",
    "    \n",
    "    if item_1 != None:\n",
    "        item_list.append(item_1)\n",
    "    \n",
    "    if item_2 != None:\n",
    "        item_list.append(item_2)\n",
    "        \n",
    "    if item_3 != None:\n",
    "        item_list.append(item_3)\n",
    "    \n",
    "    for item in item_list:\n",
    "        print('\\t*',item)\n",
    "~~~\n",
    "\n",
    "<br>\n",
    "A more pragmatic approach is to use <em>*args</em>, which will allow for flexibility while keeping the function short and simple. Such an approach creates an opportunity to redesign the body of the function so that it contains a single <em>for</em> loop, as exemplified in <em>Code 9.5.1</em>.\n",
    "\n",
    "<br>"
   ]
  },
  {
   "cell_type": "code",
   "execution_count": null,
   "metadata": {
    "deletable": false,
    "editable": false
   },
   "outputs": [],
   "source": [
    "## Code 9.5.1 ##\n",
    "\n",
    "# replicated from Code 1.1.5\n",
    "\n",
    "# defining a function with *args\n",
    "def shopping_list(*args):\n",
    "    print(\"Shopping List:\")\n",
    "    \n",
    "    for item in args:\n",
    "        print(item)\n",
    "\n",
    "# testing the function\n",
    "shopping_list('bananas', 'oranges', \n",
    "              'grapes', 'pears', \n",
    "              'apples')"
   ]
  },
  {
   "cell_type": "markdown",
   "metadata": {
    "deletable": false,
    "editable": false,
    "run_control": {
     "frozen": true
    }
   },
   "source": [
    "<br>\n",
    "\n",
    "The concept of <em>**kwargs</em> is very similar to that of <em>*args</em>, but instead of operating on individual argument inputs, <em>**kwargs</em> operates on key/value pairs. Conceptually, keys can be thought of as groups or categories, and values the members of each group. In an Excel spreadsheet, keys are the names of each column and values the data in each row. In Python, key/value pairs are the essence of a special built-in object known as <a href=\"https://docs.python.org/3/tutorial/datastructures.html#dictionaries\">dictionaries</a>, which will be covered in a later chapter.\n",
    "<br><br>\n",
    "To exemplify, let's use <em>**kwargs</em> to create a function for daily exercise that consists of three parts: warm up, workout, and cool down (the <em>keys</em>).  Each activity done in these parts can be considered a value. For example, if our warm up consisted of stretching, running, push ups, and sit ups, we could use this information to create the following key/value pair:\n",
    "<br><br>\n",
    "\n",
    "~~~\n",
    "warm_up  = ['stretch', 'run', 'push ups', 'sit ups']\n",
    "~~~\n",
    "\n",
    "<br>\n",
    "Indexing key/value pairs is a bit more complicated than indexing lists or tuples, and this will be discussed in a later chapter. For now, let's turn our attention to <em>Code 9.5.2</em> to better understand how <em>**kwargs</em> can be applied.\n",
    "\n",
    "<br>"
   ]
  },
  {
   "cell_type": "code",
   "execution_count": null,
   "metadata": {
    "deletable": false,
    "editable": false
   },
   "outputs": [],
   "source": [
    "## Code 9.5.2 ##\n",
    "\n",
    "# defining a function with **kwargs\n",
    "def daily_workout(**kwargs):\n",
    "    \n",
    "    for key, value in kwargs.items():\n",
    "        print(f'\\n{key.upper()}:')\n",
    "        \n",
    "        for v in value:\n",
    "            print('\\t__',v)\n",
    "\n",
    "\n",
    "# testing the function\n",
    "daily_workout(warm_up  = ['stretch',\n",
    "                         'run for 10 minutes',\n",
    "                         '10 push ups',\n",
    "                         '10 sit ups'],\n",
    "              \n",
    "              workout  = ['3 sets shadow boxing',\n",
    "                          '3 sets weight lifting circuit (arms & back)'\n",
    "                          'cycle for 30 minutes'],\n",
    "              \n",
    "              cooldown = ['run for 10 minutes',\n",
    "                          'stretch'])\n"
   ]
  },
  {
   "cell_type": "markdown",
   "metadata": {
    "deletable": false,
    "editable": false,
    "run_control": {
     "frozen": true
    }
   },
   "source": [
    "<br>\n",
    "\n",
    "Having an understanding of keyword arguments will pay dividends when working with open-source packages. For example, the method <a href=\"https://seaborn.pydata.org/generated/seaborn.heatmap.html\">heatmap</a> from the data visualization package <a href=\"https://seaborn.pydata.org/\">seaborn</a> contains a number of optional arguments, allowing for a high degree of customization. Even so, the final argument in its function definition is <em>**kwargs</em>, as can be seen below:\n",
    "<br><br>\n",
    "\n",
    "~~~\n",
    "heatmap(data, vmin=None, vmax=None, cmap=None, center=None, robust=False, annot=None, fmt='.2g', annot_kws=None, linewidths=0, linecolor='white', cbar=True, cbar_kws=None, cbar_ax=None, square=False, xticklabels='auto', yticklabels='auto', mask=None, ax=None, **kwargs)\n",
    "~~~\n",
    "\n",
    "<br>\n",
    "Through an analysis of the <em>help( )</em> file for <em>seaborn.heatmap( )</em>, the <em>**kwargs</em> parameter is meant to house other keyword arguments that are passed to <a href=\"https://matplotlib.org/3.1.1/api/_as_gen/matplotlib.axes.Axes.pcolormesh.html\">ax.pcolormesh</a>:\n",
    "<br><br>\n",
    "\n",
    "~~~\n",
    "kwargs : other keyword arguments\n",
    "        All other keyword arguments are passed to ``ax.pcolormesh``.\n",
    "~~~\n",
    "\n",
    "<br>\n",
    "This means that you can use arguments from <em>ax.pcolormesh( )</em> to further customize the output of <em>seaborn.heatmap( )</em>. The reason this is possible is because <em>seaborn</em> was built on top of the package <a href=\"https://matplotlib.org/3.1.1/index.html\">matplotlib</a>. Instead of redundantly loading <em>seaborn.heatmap( )</em> with a plethora of arguments that already exist in <em>matplotlib.axes.Axes.pcolormesh( )</em>, the developers made these arguments available as <em>**kwargs</em>. Therefore, they can be accessed indirectly.\n",
    "\n",
    "\n",
    "<br><hr style=\"height:.9px;border:none;color:#333;background-color:#333;\" /><br>\n",
    "\n",
    "<h2>9.6 Variable Scope and Nested Functions</h2>\n",
    "\n",
    "As with conditional statements, functions can be written within functions. Before discussing further, however, it is important to reemphasize that variables in a function's body are in a different environment than variables (i.e. objects) outside of a function's body. This is a concept known as <strong>variable scope</strong>. The default environment outside of a function's body is known as the <strong>global environment</strong>. This is where you will be if you open a blank Jupyter Notebook or a new Python script. All variables created in the <strong>global environment</strong> are globally scoped. This means that these variables are available in every part of your script (including the body of a function)."
   ]
  },
  {
   "cell_type": "markdown",
   "metadata": {
    "cell_style": "split",
    "deletable": false,
    "editable": false,
    "run_control": {
     "frozen": true
    }
   },
   "source": [
    "For example, if we defined the object <em>' y '</em> in the global environment, we could then reference it in the body of a function. This is occurring in <em>Code 9.6.1</em>, which is an adapted version of <em>Code 9.2.3</em>. As can be observed, <em>' y '</em> is being declared in the global environment and then is referenced within the body of a function. Even though this variable has not been explicitly declared within <em>power_function</em>, <em>Code 9.6.1</em> runs without error. Behind the scenes:\n",
    "\n",
    "1. Python realizes that an object has been referenced in the body of a function.\n",
    "2. It starts searching upwards, line by line, within the function's body to see if this object has been declared.\n",
    "3. If it finds the object's declaration within the body, it uses this value.\n",
    "4. If it doesn't find a declaration, continues its search in the global environment.\n",
    "\n",
    "<br>\n",
    "In <em>Code 9.6.2</em>, the object <em>' y '</em> has been declared in both the global environment and the function's environment (also known as the <strong>local environment</strong>). As <em>' y '</em> has been declared locally, Python uses the local declaration of <em>' y '</em> each time <em>power_function</em> is run. However, this does not effect the global declaration of this variable, which retains its originally declared value of two.\n",
    "<br><br>\n",
    "Things get very interesting when working with nested functions, as in such situations there are more than two levels of scope:\n",
    "<br><br>\n",
    "\n",
    "~~~\n",
    "GLOBAL\n",
    "\n",
    "    def outer_function():\n",
    "        LOCAL\n",
    "        \n",
    "        def inner_function:\n",
    "            EVEN MORE LOCAL\n",
    "~~~"
   ]
  },
  {
   "cell_type": "markdown",
   "metadata": {
    "cell_style": "split",
    "deletable": false,
    "editable": false,
    "run_control": {
     "frozen": true
    }
   },
   "source": [
    "<br>"
   ]
  },
  {
   "cell_type": "code",
   "execution_count": null,
   "metadata": {
    "cell_style": "split",
    "deletable": false,
    "editable": false
   },
   "outputs": [],
   "source": [
    "## Code 9.6.1 ##\n",
    "\n",
    "# adapted from Code 9.2.3\n",
    "\n",
    "# declaring an object\n",
    "y = 2\n",
    "\n",
    "# writing a function using the declared object\n",
    "def power_function(x):\n",
    "    val = x**y\n",
    "    return val\n",
    "    \n",
    "power_function(x=2)"
   ]
  },
  {
   "cell_type": "markdown",
   "metadata": {
    "cell_style": "split",
    "deletable": false,
    "editable": false,
    "run_control": {
     "frozen": true
    }
   },
   "source": [
    "<br>"
   ]
  },
  {
   "cell_type": "code",
   "execution_count": null,
   "metadata": {
    "cell_style": "split",
    "deletable": false,
    "editable": false
   },
   "outputs": [],
   "source": [
    "## Code 9.6.2 ##\n",
    "\n",
    "# adapted from Code 9.6.1\n",
    "\n",
    "# declaring an object\n",
    "y = 2\n",
    "\n",
    "# writing a function using the declared object\n",
    "def power_function(x):\n",
    "    y = 3\n",
    "    val = x**y\n",
    "    return val\n",
    "    \n",
    "print(power_function(x=2))\n",
    "print(y)"
   ]
  },
  {
   "cell_type": "markdown",
   "metadata": {
    "deletable": false,
    "editable": false,
    "run_control": {
     "frozen": true
    }
   },
   "source": [
    "<br>\n",
    "This creates a challenge when trying to manage the scope of objects. To help sort out the confusion, let's give a unique name to each level:\n",
    "<br><br>"
   ]
  },
  {
   "cell_type": "markdown",
   "metadata": {},
   "source": [
    "<table align=\"left\">\n",
    "<col width=\"100\">\n",
    "<col width=\"250\">\n",
    "    <tr>\n",
    "        <th>Level of Scope</th>\n",
    "        <th>Interpretation</th>\n",
    "    </tr>\n",
    "    <tr>\n",
    "        <td>global</td>\n",
    "        <td> outer-most environment</td>\n",
    "    </tr>\n",
    "    <tr>\n",
    "    <tr>\n",
    "        <td>non-local</td>\n",
    "        <td> environment of the <strong>outer</strong> function</td>\n",
    "    </tr>\n",
    "    <tr>\n",
    "        <td>local</td>\n",
    "        <td> environment of the <strong>inner</strong> function</td>\n",
    "    </tr>\n",
    "</table>"
   ]
  },
  {
   "cell_type": "markdown",
   "metadata": {},
   "source": [
    "<br>\n",
    "As stated earlier in this chapter, by default, anything that takes place inside of a function has no effect on objects in the global environment. The same is true for functions nested inside of other functions: by default, the environment of the inner function has no effect on the environment of the outer function. It was also mentioned earlier that you can conceptualize the <strong>global environment</strong> as an entire planet and the <strong>non-local environment</strong> as its own secluded island. As such, the <strong>local environment</strong> can be thought of as a cave on the secluded island, where its inhabitants are isolated from the rest of the island's population. If a <strong>return</strong> statement is placed in the <strong>non-local environment</strong>, something returns to the <strong>global environment</strong>. Likewise, if a <strong>return</strong> statement is placed in the <strong>local environment</strong>, something returns to the <strong>non-local environment</strong>. This is exemplified in <em>Code 9.6.3</em>. For the convenience of the reader, each environment has been labeled with comments and outlined with hashtags ( <em>' # '</em> ).\n",
    "\n",
    "<br>"
   ]
  },
  {
   "cell_type": "code",
   "execution_count": null,
   "metadata": {
    "deletable": false,
    "editable": false
   },
   "outputs": [],
   "source": [
    "## Code 9.6.3 ##\n",
    "\n",
    "# global environment\n",
    "\n",
    "##############################################################################\n",
    "def outer_function():\n",
    "    # non-local environment\n",
    "    given_name  = 'Long'\n",
    "    family_name = 'Silver'\n",
    "\n",
    "    ##################################################\n",
    "    def inner_function():\n",
    "        # local environment\n",
    "        middle_name = 'John'\n",
    "        return middle_name\n",
    "    ##################################################\n",
    "    \n",
    "    # non-local environment\n",
    "    middle = inner_function()\n",
    "    full_name = given_name + ' ' + middle + ' ' + family_name\n",
    "    \n",
    "    return full_name\n",
    "\n",
    "##############################################################################\n",
    "\n",
    "# global environment\n",
    "outer_function()"
   ]
  },
  {
   "cell_type": "markdown",
   "metadata": {
    "deletable": false,
    "editable": false,
    "run_control": {
     "frozen": true
    }
   },
   "source": [
    "<br>\n",
    "\n",
    "This code starts by defining an outer function where two objects are declared: <em>given_name</em> and <em>family_name</em>. In the definition of the inner function, one new object is declared (<em>middle_initial</em>) and returned to the <strong>non-local environment</strong> (i.e. the environment of the outer function). Notice how after the inner function is defined, it is called in the outer function. Remember, in order to use a function, it must be called after it has been defined. The results of <em>inner_function</em> are being stored as a new object in <em>outer_function</em>, and this object is being used as an input for the object <em>full_name</em>. Finally, <em>full_name</em> is being returned to the <strong>global environment</strong>. When the function is called on the last line of <em>Code 9.6.3</em>, Python outputs what is stored in <em>full_name</em>, which is a concatenation of <em>given_name</em>, <em>middle_initial</em>, and <em>family_name</em>.\n",
    "\n",
    "<br><hr style=\"height:.9px;border:none;color:#333;background-color:#333;\" /><br>\n",
    "\n",
    "<h2>9.7 <em>global</em> and <em>nonlocal</em> Variable Assignment</h2>\n",
    "\n",
    "As mentioned in <em>Section 9.2</em>, Python has been designed such that objects in inner environments have no effect on objects in outer environments <strong>with one exception:</strong> explicitly stating that an inner object should override variables in outer environments. This can be accomplished with the use of the syntaxes <strong>global</strong> and <strong>nonlocal</strong>.\n",
    "<br><br>\n",
    "Essentially, when these syntaxes are used, they override assigned objects in outer environments. As their names suggest, <strong>global</strong> will override objects in the global environment, and <strong>nonlocal</strong> will override objects in an outer function. If there are multiple levels of function nesting, <strong>nonlocal</strong> will act similar to <em>break</em> in nested loops: it will override objects one level up in the environment hierarchy. <em>Code 9.7.1</em> exemplifies how to declare a variable as <strong>global</strong>. \n",
    "<br><br>\n",
    "<strong>Note:</strong> Declaring variables as <strong>global</strong> or <strong>nonlocal</strong> should be done with extreme caution as it can cause undue side effects. For more information, check out <a href=\"https://stackoverflow.com/questions/19158339/why-are-global-variables-evil\">this thread on StackOverflow</a>.\n",
    "\n",
    "\n",
    "<br>"
   ]
  },
  {
   "cell_type": "code",
   "execution_count": 6,
   "metadata": {
    "deletable": false,
    "editable": false
   },
   "outputs": [
    {
     "name": "stdout",
     "output_type": "stream",
     "text": [
      "Character Name:  Long John Silver\n"
     ]
    }
   ],
   "source": [
    "## Code 9.7.1 ##\n",
    "\n",
    "# adapted from Code 9.6.3\n",
    "\n",
    "# global environment\n",
    "\n",
    "##############################################################################\n",
    "def character():\n",
    "    # non-local environment\n",
    "    \n",
    "    global character_name\n",
    "    character_name   = 'Long John Silver'\n",
    "\n",
    "##############################################################################\n",
    "\n",
    "# global environment\n",
    "\n",
    "# calling character() and printing name\n",
    "character()\n",
    "print(f'Character Name:  {character_name}')"
   ]
  },
  {
   "cell_type": "markdown",
   "metadata": {
    "deletable": false,
    "editable": false,
    "run_control": {
     "frozen": true
    }
   },
   "source": [
    "<br><br>\n",
    "\n",
    "Notice in <em>Code 9.7.1</em> that <em>character_name</em> was not originally defined in the global environment, and the <em>character( )</em> function does not have a <strong>return</strong> statement. Even so, the function returns <em>character_name</em>. Behind the scenes, when <em>character_name</em> is declared <strong>global</strong>, its return statement is implied and it is automatically returned to the <strong>global environment</strong>. Also note that <em>character_name</em> must be declared <strong>global</strong> before it is assigned any value.\n",
    "<br><br>\n",
    "<strong>global</strong> can also be used to override an existing object in the <strong>global environment</strong>. This is exemplified in <em>Code 9.7.2</em>, where <em>character_name</em> is being overridden when the <em>character( )</em> function is being called.\n",
    "\n",
    "<br><br>"
   ]
  },
  {
   "cell_type": "code",
   "execution_count": null,
   "metadata": {
    "deletable": false,
    "editable": false
   },
   "outputs": [],
   "source": [
    "## Code 9.7.2 ##\n",
    "\n",
    "# adapted from Code 9.6.3\n",
    "\n",
    "# global environment\n",
    "character_name = 'Long Silver'\n",
    "\n",
    "##############################################################################\n",
    "def character():\n",
    "    # non-local environment\n",
    "    \n",
    "    global character_name\n",
    "    character_name   = 'Long John Silver'\n",
    "\n",
    "##############################################################################\n",
    "\n",
    "# global environment\n",
    "\n",
    "# printing name before function is called\n",
    "print(f'Character Name BEFORE function: {character_name}')\n",
    "\n",
    "# calling character() and printing name again\n",
    "character()\n",
    "print(f'Character Name AFTER function:  {character_name}')"
   ]
  },
  {
   "cell_type": "markdown",
   "metadata": {
    "deletable": false,
    "editable": false,
    "run_control": {
     "frozen": true
    }
   },
   "source": [
    "<br><br>\n",
    "\n",
    "Declaring an object as <strong>nonlocal</strong> is very similar to declaring it as <strong>global</strong>. As with before, it is unnecessary to write a <strong>return</strong> statement at the end of the inner function. However, in order for a variable to be declared <strong>nonlocal</strong>, it must first be defined in the outer function's environment. Otherwise, the code will throw an error. Also note that declaring an object as <strong>nonlocal</strong> does not affect the <strong>global environment</strong>. <em>Code 9.7.2</em> provides an example as to how to apply a <strong>nonlocal</strong> declaration.\n",
    "\n",
    "<br><br>"
   ]
  },
  {
   "cell_type": "code",
   "execution_count": null,
   "metadata": {
    "deletable": false,
    "editable": false
   },
   "outputs": [],
   "source": [
    "## Code 9.7.2 ##\n",
    "\n",
    "# adapted from Code 9.6.3\n",
    "\n",
    "# global environment\n",
    "\n",
    "##############################################################################\n",
    "def character():\n",
    "    # non-local environment\n",
    "    \n",
    "    # setting defaults as Homer Simpson\n",
    "    given_name  = 'Long John'\n",
    "    family_name = 'Silver'\n",
    "    character   = given_name + ' ' + family_name\n",
    "    \n",
    "    ##################################################\n",
    "    def change_character():\n",
    "        # local environment\n",
    "        \n",
    "        # using nonlocal to override local given_name\n",
    "        nonlocal character\n",
    "        character = 'Captain Flint'\n",
    "    ##################################################        \n",
    "    \n",
    "    # non-local environment\n",
    "    print(f\"\"\"\n",
    "You are currently playing as {given_name} {family_name}.\\n\n",
    "    \"\"\")\n",
    "    \n",
    "    # allowing for character change\n",
    "    change = input(\"Would you like to play as Captain Flint instead? [y]/n\\n\")\n",
    "    change = change.casefold()\n",
    "    \n",
    "    \n",
    "    # conditionally changing character\n",
    "    if 'y' in change:\n",
    "        change_character()\n",
    "\n",
    "    # passing if a user does not want to change characters\n",
    "    elif 'y' not in change:\n",
    "        pass\n",
    "    \n",
    "    else:\n",
    "        print('Something went wrong.')\n",
    "\n",
    "    # outputting final character\n",
    "    return character\n",
    "\n",
    "##############################################################################\n",
    "\n",
    "# global environment\n",
    "player = character()\n",
    "print(f'\\nWelcome to the game {player}!')"
   ]
  },
  {
   "cell_type": "markdown",
   "metadata": {
    "deletable": false,
    "editable": false,
    "run_control": {
     "frozen": true
    }
   },
   "source": [
    "<br>\n",
    "\n",
    "This code block also introduces the syntax <strong>pass</strong>, which Python's way of saying <em>'do nothing and continue'</em>. Generally, <strong>pass</strong> is used as a placeholder when building complex code. For example, when building a code with several nested functions, loops, or conditional statements, a programmer may decide to first build a skeleton (i.e. an outline). With the use of <strong>pass</strong>, the programmer can build various parts of the code and immediately test them. Without <strong>pass</strong>, Python will throw an error each time it sees a conditional statement with no body. The use of <strong>pass</strong> is illustrated in the code below.\n",
    "<br><br>\n",
    "\n",
    "~~~\n",
    "buttons = 50\n",
    "\n",
    "if buttons < 5:\n",
    "    pass\n",
    "   \n",
    "elif buttons <= 25:\n",
    "    pass\n",
    "   \n",
    "elif buttons > 25:\n",
    "    print(\"That's a lot of buttons!\")\n",
    "   \n",
    "else:\n",
    "    print('Something went wrong.')\n",
    "\n",
    "\n",
    "~~~\n",
    "\n",
    "<br><hr style=\"height:.9px;border:none;color:#333;background-color:#333;\" /><br>\n",
    "\n",
    "<h2>9.8 Exception Handling</h2>\n",
    "\n",
    "According to <a href=\"https://docs.python.org/3/tutorial/errors.html\">the Python documentation</a>, errors come in two forms: syntax errors and exceptions. Syntax errors occur when a code violates the grammar of Python (a missing semicolon, improper indentation, etc.), and generally result in the following error message:\n",
    "<br><br>\n",
    "\n",
    "~~~\n",
    "SyntaxError: invalid syntax\n",
    "~~~\n",
    "\n",
    "<br>\n",
    "Exceptions are events that disrupt the flow of a program's execution.  Things such as attempting to divide my zero, calling an object that has not been defined, and trying to divide a string by another string lead to exceptions. When an exception occurs, Python throws an <a href='https://docs.python.org/3/library/exceptions.html#concrete-exceptions'>exception error</a>, which is a message designed to help programmers understand why their code did not run as intended. The table below exhibits some common exception messages you may experience while applying Python to business analytics.\n",
    "\n",
    "<br><table width=\"600\" align=\"left\">\n",
    "<col width=\"125\">\n",
    "<col width=\"475\">\n",
    "    <tr>\n",
    "        <th>Exception Message</th>\n",
    "        <th>Interpretation</th>\n",
    "    </tr>\n",
    "    <tr>\n",
    "        <td> ImportError </td>\n",
    "        <td> raised during <em>import</em> when Python is having trouble loading a module</td>\n",
    "    </tr>\n",
    "    <tr>\n",
    "        <td> ModuleNotFoundError </td>\n",
    "        <td> raised during <em>import</em> when a module cannot be found</td>\n",
    "    </tr>\n",
    "    <tr>\n",
    "        <td> IndexError </td>\n",
    "        <td> raised when an index value is out of range</td>\n",
    "    </tr>   \n",
    "    <tr>\n",
    "        <td> KeyboardInterrupt </td>\n",
    "        <td> raised when you interrupt/restart your Python kernel</td>\n",
    "    </tr>\n",
    "    <tr>\n",
    "        <td> NameError </td>\n",
    "        <td> raised when an object is referenced that cannot be found</td>\n",
    "    </tr>\n",
    "    <tr>\n",
    "        <td> TypeError </td>\n",
    "        <td> raised when an operation fails due to an inappropriate object type</td>\n",
    "    </tr>\n",
    "    <tr>\n",
    "        <td> ValueError </td>\n",
    "        <td> raised when an object is of an appropriate type, but is of an inappropriate value</td>\n",
    "    </tr>\n",
    "    <tr>\n",
    "        <td> ZeroDivisionError </td>\n",
    "        <td> raised when an operation attempts to divide by zero</td>\n",
    "    </tr>\n",
    "    <tr>\n",
    "        <td> FileNotFoundError </td>\n",
    "        <td> raised when Python cannot find a file that has been referenced</td>\n",
    "    </tr>\n",
    "</table>"
   ]
  },
  {
   "cell_type": "markdown",
   "metadata": {
    "deletable": false,
    "editable": false,
    "run_control": {
     "frozen": true
    }
   },
   "source": [
    "<br>"
   ]
  },
  {
   "cell_type": "code",
   "execution_count": null,
   "metadata": {
    "deletable": false,
    "editable": false
   },
   "outputs": [],
   "source": [
    "## Code 9.8.1 ##\n",
    "\n",
    "# replicated from Code 3.2.5\n",
    "\n",
    "number = input(\"\"\"\n",
    "What is your favorite number between 1 and 10?\n",
    "Please input numbers (no text).\\t\"\"\")\n",
    "\n",
    "print(f\"\\nYou've input {number}.\")\n",
    "\n",
    "# Converting number to type int\n",
    "number = int(number)\n",
    "\n",
    "double = number * 2\n",
    "\n",
    "print(f\"\"\"\n",
    "If you double that number, it becomes {double}.\n",
    "\"\"\")"
   ]
  },
  {
   "cell_type": "markdown",
   "metadata": {
    "deletable": false,
    "editable": false,
    "run_control": {
     "frozen": true
    }
   },
   "source": [
    "<br><br>\n",
    "\n",
    "As an example, let's turn our attention to <em>Code 9.8.1</em>, which is a replication of <em>Code 3.2.5</em>. As you may recall, if a user inputs anything other than an integer, this code will throw an exception. For example, if a user were to input a string or float, Python would throw the following:\n",
    "<br><br>\n",
    "\n",
    "~~~\n",
    "ValueError: invalid literal for int() with base 10: 'VALUE'\n",
    "~~~\n",
    "\n",
    "<br>\n",
    "This is due to the type conversion in <em>Line 12</em>, as Python does not know what to do when encountering a non-integer value. However, <strong>try</strong>/<strong>except</strong> can be utilized to prevent this code from terminating in such a situation. In its base form, the <strong>except</strong> clause will run regardless which type of exception occurs. If applied to the body of a <em>while True</em> loop, <strong>try</strong>/<strong>except</strong> can be used with <em>break</em> and <em>continue</em> to keep looping until a user gives an appropriate input. This has been developed in <em>Code 9.8.2</em>. \n",
    "\n",
    "<br><br>"
   ]
  },
  {
   "cell_type": "code",
   "execution_count": null,
   "metadata": {
    "deletable": false,
    "editable": false
   },
   "outputs": [],
   "source": [
    "## Code 9.8.2 ##\n",
    "\n",
    "# adapted from Code 3.2.5\n",
    "\n",
    "while True:\n",
    "    number = input(\"\"\"\n",
    "What is your favorite number between 1 and 10?\n",
    "Please input numbers (no text).\\t\"\"\")\n",
    "\n",
    "    print(f\"\\nYou've input {number}.\")\n",
    "\n",
    "    # Converting number to type int\n",
    "    try:\n",
    "        number = int(number)\n",
    "        break\n",
    "\n",
    "    except:\n",
    "        print(\"That wasn't a proper input.\")\n",
    "        continue\n",
    "\n",
    "double = number * 2\n",
    "\n",
    "print(f\"\"\"\n",
    "If you double that number, it becomes {double}.\n",
    "\"\"\")\n"
   ]
  },
  {
   "cell_type": "markdown",
   "metadata": {
    "deletable": false,
    "editable": false,
    "run_control": {
     "frozen": true
    }
   },
   "source": [
    "<br><br>\n",
    "\n",
    "<h3>Customizing <em>try</em>/<em>except</em> based on Exception Types</h3>\n",
    "Generally, it is a good practice to write an exception clause for each error that a user may reasonably encounter. Such a practice allows for different exceptions to lead to different actions. For example, the user-defined function in <em>Code 9.8.3</em> is likely to encounter either a <em>TypeError</em> (user did not overwrite the default value for the argument <em>apples</em>), or a <em>ValueError</em> (user did not input an integer value for <em>apples</em>). As such, two <strong>except</strong> clauses have been coded, each leading to a different action in order to remedy its respective error. Once the function receives an appropriate value for <em>apples</em>, the <strong>try</strong> clause runs successfully and breaks out of the <em>while True</em> loop.\n",
    "\n",
    "<br><br>"
   ]
  },
  {
   "cell_type": "code",
   "execution_count": null,
   "metadata": {
    "deletable": false,
    "editable": false
   },
   "outputs": [],
   "source": [
    "## Code 9.8.3 ##\n",
    "\n",
    "# declaring an object\n",
    "apple_inventory = 0\n",
    "\n",
    "# writing a function\n",
    "def apple_orchard(apples=None, inventory=apple_inventory):\n",
    "    \"\"\"This function adds apples to your inventory.\"\"\"\n",
    "    \n",
    "    # handling exceptions\n",
    "    while True:\n",
    "        try:\n",
    "            apples = int(apples)\n",
    "            break\n",
    "       \n",
    "        except TypeError:\n",
    "            apples = input(\"How many apples have you picked?\\n\")\n",
    "        \n",
    "        except ValueError:\n",
    "            print(\"That's not a valid number of apples. Please try again\")\n",
    "            apples = input('>')\n",
    "\n",
    "    print(f\"Adding {int(apples)} apples to your inventory!\")\n",
    "    inventory += apples\n",
    "    return inventory\n",
    "\n",
    "# running the function\n",
    "apple_inventory = apple_orchard()"
   ]
  },
  {
   "cell_type": "markdown",
   "metadata": {
    "deletable": false,
    "editable": false,
    "run_control": {
     "frozen": true
    }
   },
   "source": [
    "<br><br>\n",
    "\n",
    "Let's apply <strong>try</strong>/<strong>except</strong> to <em>Code 8.4.3</em>, which has been replicated in <em>Code 9.8.4</em>. As you may recall, this code was designed to calculate how many seasons it took for Michael Jordan to score 25,000 points. Our original approach threw exceptions when encountering the strings in the points per season data (index 1 in each sublist). Thus, one of our first steps was to clean the data so that points per season only contained integers. This was a good approach, but it is limited. To illustrate, let's assume an overnight change was made to our data source and all data within had been converted to strings. In such a case, the data cleaning process conducted in <strong>Chapter 8: while Loops and Making Assumptions</strong> would result in all data being removed due to its type. A more sound approach would be to <strong>try</strong> to convert each string into an integer and tally successful attempts accordingly. This would also allow for the possibility of calculating how many seasons were skipped due to Jordan not playing. <em>Code 9.8.4</em> has been left open for you to:\n",
    "\n",
    "* convert the values for points per season into an integer\n",
    "* handle exceptions when a value is inappropriate for the aforementioned type conversion\n",
    "* add new functionality such that the code outputs the number of seasons where Jordan did not play leading up to surpassing the point limit\n",
    "\n",
    "<br><br>"
   ]
  },
  {
   "cell_type": "code",
   "execution_count": null,
   "metadata": {
    "solution2": "hidden",
    "solution2_first": true
   },
   "outputs": [],
   "source": [
    "## Code 9.8.4 ##\n",
    "\n",
    "# open coding block\n",
    "\n",
    "# replicated from Code 8.3.2\n",
    "jordan_stats = [[\"'84-'85\", '2313', 'Y'],\n",
    "                [\"'85-'86\", '408',  'N'],\n",
    "                [\"'86-'87\", '3041', 'Y'],\n",
    "                [\"'87-'88\", '2868', 'Y'],\n",
    "                [\"'88-'89\", '2633', 'Y'],\n",
    "                [\"'89-'90\", '2753', 'Y'],\n",
    "                [\"'90-'91\", '2580', 'Y'],\n",
    "                [\"'91-'92\", '2404', 'Y'],\n",
    "                [\"'92-'93\", '2541', 'Y'],\n",
    "                [\"'93-'94\", 'DNP', 'DNP'],\n",
    "                [\"'94-'95\", '457',  'N'],\n",
    "                [\"'95-'96\", '2491', 'Y'],\n",
    "                [\"'96-'97\", '2431', 'Y'],\n",
    "                [\"'97-'98\", '2357', 'Y'],\n",
    "                [\"'98-'99\", 'Retired', 'Retired'],\n",
    "                [\"'99-'00\", 'Retired', 'Retired'],\n",
    "                [\"'00-'01\", 'Retired', 'Retired'],\n",
    "                [\"'01-'02\", '1375', 'N'],\n",
    "                [\"'02-'03\", '1640', 'N']]\n",
    "\n",
    "\n",
    "# adapted from Code 8.4.3\n",
    "\"\"\"\n",
    "Assumptions:\n",
    "    Calculations should only include seasons where Jordan played.\n",
    "\"\"\"\n",
    "\n",
    "# declaring objects\n",
    "total_points  = 0\n",
    "total_seasons = 0\n",
    "point_limit   = 25000\n",
    "\n",
    "\n",
    "# writing the outer loop\n",
    "for season, points, lead_scorer in jordan_stats_2:\n",
    "    \n",
    "    # writing the inner loop\n",
    "    while total_points < point_limit:\n",
    "            total_points  += points\n",
    "            total_seasons += 1\n",
    "            break\n",
    "\n",
    "\n",
    "# printing the results\n",
    "print(f\"\"\"\n",
    "{'*' * 40}\n",
    "\n",
    "It took {total_seasons} seasons for Jordan to score\n",
    "more than {point_limit} points (scoring {total_points}).\n",
    "\n",
    "{'*' * 40}\n",
    "\"\"\")"
   ]
  },
  {
   "cell_type": "code",
   "execution_count": null,
   "metadata": {
    "deletable": false,
    "editable": false,
    "solution2": "hidden"
   },
   "outputs": [],
   "source": [
    "## Sample Solution 9.8.4 ##\n",
    "\n",
    "# replicated from Code 8.3.2\n",
    "jordan_stats = [[\"'84-'85\", '2313', 'Y'],\n",
    "                [\"'85-'86\", '408',  'N'],\n",
    "                [\"'86-'87\", '3041', 'Y'],\n",
    "                [\"'87-'88\", '2868', 'Y'],\n",
    "                [\"'88-'89\", '2633', 'Y'],\n",
    "                [\"'89-'90\", '2753', 'Y'],\n",
    "                [\"'90-'91\", '2580', 'Y'],\n",
    "                [\"'91-'92\", '2404', 'Y'],\n",
    "                [\"'92-'93\", '2541', 'Y'],\n",
    "                [\"'93-'94\", 'DNP', 'DNP'],\n",
    "                [\"'94-'95\", '457',  'N'],\n",
    "                [\"'95-'96\", '2491', 'Y'],\n",
    "                [\"'96-'97\", '2431', 'Y'],\n",
    "                [\"'97-'98\", '2357', 'Y'],\n",
    "                [\"'98-'99\", 'Retired', 'Retired'],\n",
    "                [\"'99-'00\", 'Retired', 'Retired'],\n",
    "                [\"'00-'01\", 'Retired', 'Retired'],\n",
    "                [\"'01-'02\", '1375', 'N'],\n",
    "                [\"'02-'03\", '1640', 'N']]\n",
    "\n",
    "\n",
    "# adapted from Code 8.4.3\n",
    "\"\"\"\n",
    "Assumptions:\n",
    "    Calculations should only include seasons where Jordan played.\n",
    "\"\"\"\n",
    "\n",
    "# declaring objects\n",
    "total_points  = 0\n",
    "total_seasons = 0\n",
    "point_limit   = 25000\n",
    "skipped_seasons = 0\n",
    "\n",
    "\n",
    "# writing loops\n",
    "for season, points, lead_scorer in jordan_stats:\n",
    "\n",
    "    while total_points < point_limit:\n",
    "        \n",
    "        try:\n",
    "            points = int(points)\n",
    "            total_points  += points\n",
    "            total_seasons += 1\n",
    "            break\n",
    "   \n",
    "        # for strings that cannot be converted to integers\n",
    "        except ValueError:\n",
    "            skipped_seasons += 1\n",
    "            break            \n",
    "\n",
    "        \n",
    "# printing the results\n",
    "print(f\"\"\"\n",
    "{'*' * 40}\n",
    "\n",
    "In seasons where he led the league in scoring,\n",
    "Jordan surpassed {point_limit} points after {total_seasons}\n",
    "seasons (scoring {total_points}).\n",
    "      \n",
    "This calculation excludes {skipped_seasons} season(s) where\n",
    "Jordan did not play.\n",
    "\n",
    "{'*' * 40}\n",
    "\"\"\")"
   ]
  },
  {
   "cell_type": "markdown",
   "metadata": {
    "deletable": false,
    "editable": false,
    "run_control": {
     "frozen": true
    }
   },
   "source": [
    "<br><hr style=\"height:.9px;border:none;color:#333;background-color:#333;\" /><br>\n",
    "\n",
    "<h2>9.9 Summary</h2>\n",
    "\n",
    "User-defined functions are a powerful tool that allow programmers to blueprint code so that it can be used over and over again. Defining a function is similar to writing a conditional statement or a loop in that the first line starts with a designated syntax and ends with a semicolon. Also, the body of a function is indented. Arguments can be specified when defining a function, and can be mandatory (no default value), optional (contains default value), or variable (varies in length). All functions should contain docstrings, regardless of how simple they may be. Docstrings should explain what a function is intended to do, list and explain parameters, and give usage examples.\n",
    "<br><br>\n",
    "A variable's scope can have unexpected consequences on other objects. Nested functions require one to pay particular attention to the scope of each variable, which can be managed with the use of <strong>return</strong> statements and scoping syntax such as <strong>global</strong> and <strong>nonlocal</strong>. Scoping syntax should be used with extreme caution as it may adversely affect a user's code. Also, function names should be unique as to not unintentionally overwrite an existing function.\n",
    "<br><br>\n",
    "Finally, comprehending how to write, document, test, and exception handle user-defined functions will greatly increase your ability to benefit from functions available in the open source community. When researching packages available in the open-source community, the quality of a package's documentation can indicate whether or not the package is stable and/or will work as intended. When encountering a package that is not documented well, it may be wise to search for an alternative tool.\n",
    "<br><br>\n",
    "\n",
    "~~~\n",
    "\n",
    "   ,ggggggg,                                                                            \n",
    " ,dP\"\"\"\"\"\"Y8b                                ,dPYb, ,dPYb,                         I8   \n",
    " d8'    a  Y8                                IP'`Yb IP'`Yb                         I8   \n",
    " 88     \"Y8P'                                I8  8I I8  8I                      88888888\n",
    " `8baaaa                                     I8  8' I8  8'                         I8   \n",
    ",d8P\"\"\"\"        ,gg,   ,gg  ,gggg,   ,ggg,   I8 dP  I8 dP   ,ggg,    ,ggg,,ggg,    I8   \n",
    "d8\"            d8\"\"8b,dP\"  dP\"  \"Yb i8\" \"8i  I8dP   I8dP   i8\" \"8i  ,8\" \"8P\" \"8,   I8   \n",
    "Y8,           dP   ,88\"   i8'       I8, ,8I  I8P    I8P    I8, ,8I  I8   8I   8I  ,I8,  \n",
    "`Yba,,_____,,dP  ,dP\"Y8, ,d8,_    _ `YbadP' ,d8b,_ ,d8b,_  `YbadP' ,dP   8I   Yb,,d88b, \n",
    "  `\"Y88888888\"  dP\"   \"Y8P\"\"Y8888PP888P\"Y8888P'\"Y888P'\"Y88888P\"Y8888P'   8I   `Y88P\"\"Y8 \n",
    "                                                                                        \n",
    "\n",
    "~~~"
   ]
  },
  {
   "cell_type": "markdown",
   "metadata": {
    "deletable": false,
    "editable": false,
    "run_control": {
     "frozen": true
    }
   },
   "source": [
    "<br>"
   ]
  }
 ],
 "metadata": {
  "kernelspec": {
   "display_name": "Python 3",
   "language": "python",
   "name": "python3"
  },
  "language_info": {
   "codemirror_mode": {
    "name": "ipython",
    "version": 3
   },
   "file_extension": ".py",
   "mimetype": "text/x-python",
   "name": "python",
   "nbconvert_exporter": "python",
   "pygments_lexer": "ipython3",
   "version": "3.7.6"
  },
  "toc": {
   "base_numbering": 1,
   "nav_menu": {},
   "number_sections": false,
   "sideBar": true,
   "skip_h1_title": false,
   "title_cell": "Table of Contents",
   "title_sidebar": "Contents",
   "toc_cell": false,
   "toc_position": {
    "height": "calc(100% - 180px)",
    "left": "10px",
    "top": "150px",
    "width": "307.175px"
   },
   "toc_section_display": true,
   "toc_window_display": true
  },
  "varInspector": {
   "cols": {
    "lenName": 16,
    "lenType": 16,
    "lenVar": 40
   },
   "kernels_config": {
    "python": {
     "delete_cmd_postfix": "",
     "delete_cmd_prefix": "del ",
     "library": "var_list.py",
     "varRefreshCmd": "print(var_dic_list())"
    },
    "r": {
     "delete_cmd_postfix": ") ",
     "delete_cmd_prefix": "rm(",
     "library": "var_list.r",
     "varRefreshCmd": "cat(var_dic_list()) "
    }
   },
   "types_to_exclude": [
    "module",
    "function",
    "builtin_function_or_method",
    "instance",
    "_Feature"
   ],
   "window_display": false
  }
 },
 "nbformat": 4,
 "nbformat_minor": 2
}
