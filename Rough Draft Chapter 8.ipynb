{
 "cells": [
  {
   "cell_type": "markdown",
   "metadata": {},
   "source": [
    "***\n",
    "***\n",
    "***\n",
    "<br><br><br><br><br>\n",
    "<h1>Python for Business Analytics</h1>\n",
    "<em>A Nontechnical Approach for Nontechnical People</em><br><br>\n",
    "<em><strong>Custom Edition for Hult International Business School</strong></em><br>\n",
    "\n",
    "Written by Chase Kusterer - Faculty of Analytics <br>\n",
    "Hult International Business School <br>\n",
    "https://github.com/chase-kusterer <br><br><br><br><br>\n",
    "***\n",
    "***\n",
    "***\n",
    "\n",
    "# <u>Chapter 8: while Loops and Basic Error Handling</u>"
   ]
  },
  {
   "cell_type": "markdown",
   "metadata": {},
   "source": [
    "As mentioned in <a href=\"https://github.com/chase-kusterer/Python-for-Business-Analytics\">Chapter 7: for Loops and Basic Data Manipulation</a>, a <strong>while loop</strong> can be thought of as an extension of a conditional statement. More specifically, a <strong>while loop</strong> is like a hybrid between a conditional statement and a for loop. They are similar to for loops in the sense that they iterate. As with conditional statements, as long as the condition(s) specified is met, a <strong>while loop</strong> will continue running. This powerful coding structure is incredibly useful, as it enables programmers to accomplish a wide array of tasks. For example, they can be used to:\n",
    "* take a list of all the students in a cohort and break them into teams of four\n",
    "* allow a user to reenter their password if their first attempt was invalid\n",
    "* calculate how many NBA seasons it took for Michael Jordan to score 20,000 points\n",
    "\n",
    "<br>\n",
    "In addition to the fundamentals of <strong>while loops</strong>, this chapter will also cover some syntax that is also useful in other coding structures, namely for loops and user-defined functions (covered in the next chapter). For example, in many situations a programmer needs to <strong>break</strong> out of the body of a loop before an iteration has finished. At other times, it may be necessary to skip over an item in an iterable and <strong>continue</strong> the loop by iterating on the next item. As you may have guessed, the syntaxes that enable such functionality are <a href=\"https://docs.python.org/3/tutorial/controlflow.html#break-and-continue-statements-and-else-clauses-on-loops\">break</a> and <a href=\"https://docs.python.org/3/tutorial/controlflow.html#break-and-continue-statements-and-else-clauses-on-loops\">continue</a>. Both are essential in building a solid foundation in Python.\n",
    "<br><br>\n",
    "<strong>Note:</strong> As mentioned, <strong>while loops</strong> will run until a specified condition is no longer met. If we are not careful, we may get stuck in a loop that does not stop running. Before moving forward, you may want to go back to <a href=\"https://github.com/chase-kusterer/Python-for-Business-Analytics\">Chapter 1: Setting Up for Success</a> to refresh on what to do in such a situation. As an example, notice the difference between <em>Codes 8.0.1</em> and <em>8.0.2</em>. Without the final line in the body of the <strong>while loop</strong>, the loop's condition is always met and the code runs on into infinity (<em>Code 8.0.2</em>). <strong>Make sure you understand how to interrupt your kernel before running this code!</strong>\n",
    "\n",
    "***"
   ]
  },
  {
   "cell_type": "code",
   "execution_count": null,
   "metadata": {
    "cell_style": "split",
    "deletable": false,
    "editable": false
   },
   "outputs": [],
   "source": [
    "## Code 8.0.1 ##\n",
    "\n",
    "# adapted from Code 7.1.2\n",
    "\n",
    "# declaring x\n",
    "x = 5\n",
    "\n",
    "# while loop\n",
    "while x > 0:\n",
    "    print(x)\n",
    "    x -= 1"
   ]
  },
  {
   "cell_type": "code",
   "execution_count": null,
   "metadata": {
    "cell_style": "split",
    "deletable": false,
    "editable": false
   },
   "outputs": [],
   "source": [
    "## Code 8.0.2 ##\n",
    "\n",
    "#!# WARNING! The while loop will run forever.\n",
    "\n",
    "# declaring x\n",
    "x = 5\n",
    "\n",
    "# while loop with final line commented out\n",
    "while x > 0:\n",
    "    print(x)\n",
    "#   x -= 1"
   ]
  },
  {
   "cell_type": "markdown",
   "metadata": {},
   "source": [
    "***\n",
    "\n",
    "## 8.1 The Fundamentals of <em>while loops</em>\n",
    "As mentioned in the introduction to this chapter, <strong>while loops</strong> can be utilized to accomplish tasks such as taking a list of all the students in a cohort and break them into teams of four. To exemplify this, let's assume our cohort had a total of eight students, as in <em>Code 8.1.1</em>. Let's also assume that teams need to be random and that no student should be on more than one team. As such, we will start by importing the random package so that we can utilize the method [choice](https://docs.python.org/3/library/random.html#functions-for-sequences) in our code. This method randomly chooses one element from a population with replacement. Using this method, there is a chance that a student will be selected more than once, thus violating one of our requirements."
   ]
  },
  {
   "cell_type": "markdown",
   "metadata": {
    "cell_style": "split"
   },
   "source": [
    "Unfortunately, there is no optional argument in <strong>random.choice</strong> that enables sampling without replacement. However, the problem of selecting a student more than once can be avoided through a clever design of our code. What if, after a student is selected in an iteration of our loop, they were removed from the <em>students</em> list? This way, there would no chance of the same student being selected in the next iteration of the loop, as the student would no longer be available for selection. This can be achieved through the use of the <strong>.remove()</strong> method.\n",
    "<br><br>\n",
    "At first, the <strong>while loop</strong> might seem intimidating as its condition is unclear. However, this condition is extremely common. Essentially, as long as there is still something in <em>students</em> to iterate over, the loop will continue to run. In fact, the first line of the loop:\n",
    "<br><br>\n",
    "\n",
    "~~~\n",
    "while students:\n",
    "~~~\n",
    "\n",
    "<br>\n",
    "Could also be written as:\n",
    "<br><br>\n",
    "\n",
    "~~~\n",
    "while len(students) > 0:\n",
    "~~~\n",
    "\n",
    "<br>\n",
    "Both syntaxes will achieve the same result. Also, note that once the loop has iterated over every item in <em>students</em>, the condition that there is still something left to iterate over in <em>students</em> evaluates to <em>False</em> and the loop stops running. Also note that each run of <em>Code 8.1.1</em> results in different teams. This can be avoided with the use of <strong>random.seed()</strong>, as explained in <a href=\"https://github.com/chase-kusterer/Python-for-Business-Analytics\">Chapter 4: Numbers, Comparisons, and Randomness</a>."
   ]
  },
  {
   "cell_type": "markdown",
   "metadata": {
    "cell_style": "split",
    "deletable": false,
    "editable": false,
    "run_control": {
     "frozen": true
    }
   },
   "source": [
    " "
   ]
  },
  {
   "cell_type": "code",
   "execution_count": null,
   "metadata": {
    "cell_style": "split",
    "deletable": false,
    "editable": false
   },
   "outputs": [],
   "source": [
    "## Code 8.1.1 ##\n",
    "\n",
    "# importing random\n",
    "import random\n",
    "\n",
    "# list of people\n",
    "students = ['Neil', 'Alex', 'Andy', 'Ross',\n",
    "            'Miles', 'Jon', 'Jed', 'Dustin']\n",
    "\n",
    "team_1 = []\n",
    "team_2 = []\n",
    "\n",
    "# while loop\n",
    "while students:\n",
    "    person = random.choice(students)\n",
    "\n",
    "    if len(team_1) < 4:\n",
    "        team_1.append(person)\n",
    "    \n",
    "    elif len(team_1) >= 4:\n",
    "        team_2.append(person)\n",
    "    \n",
    "    else:\n",
    "        print(\"Something went wrong.\")\n",
    "        \n",
    "    # removing so students don't get repeated\n",
    "    students.remove(person)\n",
    "\n",
    "# printing teams\n",
    "print(team_1)\n",
    "print(team_2)"
   ]
  },
  {
   "cell_type": "markdown",
   "metadata": {},
   "source": [
    "***\n",
    "\n",
    "## 8.2 <em>while True</em> and <em>break</em>\n",
    "Sometimes, it makes sense to allow a loop to run on into infinity. This technique becomes very useful in situations such as developing code to allow a user to reenter their password if their first attempt was invalid (i.e. user input does not match the stored password). Using a stand-alone conditional statement such as the one below will only permit a user to make a single input attempt, as after evaluating whether or not <em>pwd_attempt</em> and <em>password</em> match, Python will move on to the next line of code formatted at Column 0.\n",
    "<br><br>\n",
    "\n",
    "~~~\n",
    "if pwd_attempt == password:\n",
    "    [do something]\n",
    "\n",
    "elif pwd_attempt != password:\n",
    "    [do something else]\n",
    "\n",
    "else:\n",
    "    [catch bugs]\n",
    "~~~\n",
    "\n",
    "<br>\n",
    "However, by wrapping a <strong>while True</strong> loop around this code, a user will have an infinite number of tries to correctly input their password. To reiterate, <strong>a while loop will run until a condition is no longer met</strong> (i.e. the condition evaluates to <em>False</em>). Since the condition of the loop is set to <em>True</em>, the loop will run indefinitely as there is no syntax to change its evaluation to <em>False</em>. Given that our goal is to stop looping when a user enters the correct password, we need to tell Python to <strong>break</strong> out of the loop when this happens. This can be coded as follows:\n",
    "<br><br>\n",
    "\n",
    "~~~\n",
    "while True:\n",
    "    if pwd_attempt == password:\n",
    "        break\n",
    "\n",
    "    elif pwd_attempt != password:\n",
    "        [do something else]\n",
    "    \n",
    "    else:\n",
    "        [catch bugs]\n",
    "~~~\n",
    "\n",
    "<br>\n",
    "<em>Code 8.2.1</em> exemplifies the use of these structures to create a basic check to see if a user's input matches a stored password.\n",
    "\n",
    "***"
   ]
  },
  {
   "cell_type": "code",
   "execution_count": null,
   "metadata": {
    "cell_style": "center",
    "deletable": false,
    "editable": false
   },
   "outputs": [],
   "source": [
    "## Code 8.2.1 ##\n",
    "\n",
    "# creating a password\n",
    "password = 'please open the door'\n",
    "\n",
    "\n",
    "# while True\n",
    "while True:\n",
    "    pwd_attempt = input(\"Please enter your password.\\n> \")\n",
    "\n",
    "    if pwd_attempt == password:\n",
    "        print('\\nThat is correct. You may enter.\\n')\n",
    "        input('< Press enter to continue. >\\n')\n",
    "        break\n",
    "\n",
    "    elif pwd_attempt != password:\n",
    "        print('\\nThat is not the correct password.\\n')\n",
    "        input('< Press enter to try again. >\\n')\n",
    "    \n",
    "    else:\n",
    "        print(\"Something went wrong.\")"
   ]
  },
  {
   "cell_type": "markdown",
   "metadata": {},
   "source": [
    "***\n",
    "\n",
    "## 8.3 <em>while loops</em> with specific conditions \n",
    "Although we have met the requirement of allowing a user to have multiple password entry attempts, allowing unlimited attempts is dangerous as it would be susceptible to malicious attacks on a user's account. Thus, it would be wise to modify our code so that it only allows a limited number of attempts. In order to achieve this, the condition of the original <strong>while loop</strong>:\n",
    "<br><br>\n",
    "\n",
    "~~~\n",
    "while True:\n",
    "    [do something]\n",
    "~~~\n",
    "\n",
    "<br>\n",
    "can be altered using a comparison operator (covered in <a href=\"https://github.com/chase-kusterer/Python-for-Business-Analytics\">Chapter 4: Numbers, Comparisons, and Randomness</a>). In other words, the <em>'True'</em> in <strong>while True</strong> can be replaced with something such as <em>'password_attempts > 0'</em>. For example, if a user were to be allowed only three attempts, <em>Code 8.2.1</em> could be modified to include an object with a stored value of three. Then, the loop could diminish this value by one each time a user inputs an incorrect password. This has been done in <em>Code 8.2.2</em>.\n",
    "\n",
    "***"
   ]
  },
  {
   "cell_type": "code",
   "execution_count": null,
   "metadata": {
    "deletable": false,
    "editable": false
   },
   "outputs": [],
   "source": [
    "## Code 8.2.2 ##\n",
    "\n",
    "# adapted from Code 8.2.1\n",
    "\n",
    "# creating a password\n",
    "password = 'please open the door'\n",
    "\n",
    "# setting password attempts to three\n",
    "password_attempts = 3\n",
    "\n",
    "# exiting the loop after three attempts\n",
    "while password_attempts > 0:\n",
    "    pwd_attempt = input(\"Please enter your password.\\n> \")\n",
    "\n",
    "    if pwd_attempt == password:\n",
    "        print('\\nThat is correct. You may enter.\\n')\n",
    "        input('< Press enter to continue. >\\n')\n",
    "        break\n",
    "\n",
    "    # diminishing password_attempts\n",
    "    elif pwd_attempt != password:\n",
    "        password_attempts -= 1\n",
    "        \n",
    "        print(f\"\"\"\n",
    "That is not the correct password.\n",
    "You have {password_attempts} attempt(s) remaining.\\n\"\"\")\n",
    "    \n",
    "    else:\n",
    "        print(\"Something went wrong.\")"
   ]
  },
  {
   "cell_type": "markdown",
   "metadata": {},
   "source": [
    "***\n",
    "\n",
    "To further exemplify <strong>while loops</strong> with specific conditions, let's turn our attention to basketball legend <a href=\"https://www.basketball-reference.com/players/j/jordami01.html\">Michael Jordan</a>. According to <a href=\"https://www.basketball-reference.com/\">basketball-reference.com</a>, Jordan played in over 1,000 games across 15 seasons, and in 11 of those seasons, he led the league in total points scored. He also made 14 All-Star appearances and won the league MVP award 5 times. Each sublist in <em>Code 8.2.3</em> represents total points scored for each season in Jordan's NBA career with the following format:\n",
    "<br><br>\n",
    "\n",
    "~~~\n",
    "[ SEASON, TOTAL POINTS SCORED, LEAGUE SCORING LEADER Y/N ]\n",
    "~~~\n",
    "\n",
    "<br>\n",
    "First, let's utilize this information to determine how many seasons it took for Jordan to surpass 20,000 points.\n",
    "\n",
    "***"
   ]
  },
  {
   "cell_type": "code",
   "execution_count": 22,
   "metadata": {
    "deletable": false,
    "editable": false
   },
   "outputs": [],
   "source": [
    "## Code 8.2.3 ##\n",
    "\n",
    "jordan_stats = [[\"'84-'85\", 2313, 'Y'],\n",
    "                [\"'85-'86\", 408,  'N'],\n",
    "                [\"'86-'87\", 3041, 'Y'],\n",
    "                [\"'87-'88\", 2868, 'Y'],\n",
    "                [\"'88-'89\", 2633, 'Y'],\n",
    "                [\"'89-'90\", 2753, 'Y'],\n",
    "                [\"'90-'91\", 2580, 'Y'],\n",
    "                [\"'91-'92\", 2404, 'Y'],\n",
    "                [\"'92-'93\", 2541, 'Y'],\n",
    "                [\"'93-'94\", 'DNP', 'DNP'],\n",
    "                [\"'94-'95\", 457,  'N'],\n",
    "                [\"'95-'96\", 2491, 'Y'],\n",
    "                [\"'96-'97\", 2431, 'Y'],\n",
    "                [\"'97-'98\", 2357, 'Y'],\n",
    "                [\"'98-'99\", 'Retired', 'Retired'],\n",
    "                [\"'99-'00\", 'Retired', 'Retired'],\n",
    "                [\"'00-'01\", 'Retired', 'Retired'],\n",
    "                [\"'01-'02\", 1375, 'N'],\n",
    "                [\"'02-'03\", 1640, 'N']]"
   ]
  },
  {
   "cell_type": "markdown",
   "metadata": {},
   "source": [
    "***\n",
    "\n",
    "The long solution to this task would be to sum points in each season one-by-one:\n",
    "<br><br>\n",
    "~~~\n",
    "jordan_stats[0][1] + jordan_stats[1][1] + jordan_stats[2][1] ...\n",
    "~~~\n",
    "<br>\n",
    "\n",
    "However, this is improper for a number of reasons:\n",
    "1. This is a tedious copy/paste approach. Copy/pasting is inefficient and prone to bugs (a programmer would need to remember to update the code after a new line has been pasted). Forgetting to update just once would lead to a bug that may go unnoticed (the code will likely run without throwing an error).\n",
    "<br>\n",
    "\n",
    "2. What if we wanted to change our code so that it calculated something else, such as how many points Jordan scored in seasons where he also led the league in scoring? This slight alteration to our requirements would require us to significantly rewrite our code.\n",
    "<br>\n",
    "\n",
    "3. Let's say our requirements changed again and we wanted to calculate Michael Jordan's total career points. However, let's also say Jordan wasn't retired. In other words, what if new lists were continually being added to <em>jordan_stats</em>? This would require continual updates to our copy/paste solution.\n",
    "\n",
    "<br>\n",
    "Given the above, it is highly beneficial to use a loop. First, a loop would significantly alleviate concerns of accidental copy/paste bugs. Second, if our requirements changed, we may be able to take advantage of other coding structures, such as a conditional statement in the body of the loop. Finally, as long as the <em>jordan_stats</em> list is continually updated, our loop could adjust to its new length. In other words, it makes no difference if new seasons are added as the loop could continue iterating until it has run out of things to iterate over.\n",
    "\n",
    "***"
   ]
  },
  {
   "cell_type": "code",
   "execution_count": 21,
   "metadata": {
    "deletable": false,
    "editable": false
   },
   "outputs": [
    {
     "name": "stdout",
     "output_type": "stream",
     "text": [
      "[\"'86-'87\", 3041, 'Y']\n",
      "[\"'87-'88\", 2868, 'Y']\n",
      "[\"'88-'89\", 2633, 'Y']\n",
      "[\"'89-'90\", 2753, 'Y']\n",
      "[\"'90-'91\", 2580, 'Y']\n",
      "[\"'91-'92\", 2404, 'Y']\n",
      "[\"'92-'93\", 2541, 'Y']\n",
      "[\"'95-'96\", 2491, 'Y']\n",
      "[\"'96-'97\", 2431, 'Y']\n",
      "[\"'97-'98\", 2357, 'Y']\n"
     ]
    }
   ],
   "source": [
    "## Bonus Code ##\n",
    "\n",
    "lead_stats = []\n",
    "\n",
    "for i, stats in enumerate(jordan_stats):\n",
    "    if jordan_stats[i][2]=='Y':\n",
    "        lead_stats.append(stats)\n",
    "\n",
    "for stats in lead_stats:\n",
    "    print(stats)"
   ]
  },
  {
   "cell_type": "code",
   "execution_count": null,
   "metadata": {},
   "outputs": [],
   "source": []
  },
  {
   "cell_type": "code",
   "execution_count": null,
   "metadata": {},
   "outputs": [],
   "source": []
  },
  {
   "cell_type": "code",
   "execution_count": null,
   "metadata": {},
   "outputs": [],
   "source": []
  },
  {
   "cell_type": "code",
   "execution_count": null,
   "metadata": {},
   "outputs": [],
   "source": [
    "\n",
    "jordan_stats = [[\"'84-'85\", 28.2, 2313, 'N'],\n",
    "                [\"'85-'86\", 22.7, 408, 'N'],\n",
    "                [\"'86-'87\", 37.1, 3041, 'Y'],\n",
    "                [\"'87-'88\", 35.0, 2868, 'Y'],\n",
    "                [\"'88-'89\", 32.5, 2633, 'Y'],\n",
    "                [\"'89-'90\", 33.6, 2753, 'Y'],\n",
    "                [\"'90-'91\", 31.5, 2580, 'Y'],\n",
    "                [\"'91-'92\", 30.1, 2404, 'Y'],\n",
    "                [\"'92-'93\", 32.6, 2541, 'Y'],\n",
    "                [\"'93-'94\", 'DNP', 'DNP', 'DNP'],\n",
    "                [\"'94-'95\", 26.9, 457, 'N'],\n",
    "                [\"'95-'96\", 30.4, 2491, 'Y'],\n",
    "                [\"'96-'97\", 29.6, 2431, 'Y'],\n",
    "                [\"'97-'98\", 28.7, 2357, 'Y'],\n",
    "                [\"'98-'99\", 'Retired', 'Retired', 'Retired'],\n",
    "                [\"'99-'00\", 'Retired', 'Retired', 'Retired'],\n",
    "                [\"'00-'01\", 'Retired', 'Retired', 'Retired'],\n",
    "                [\"'01-'02\", 22.9, 1375, 'N'],\n",
    "                [\"'02-'03\", 20.0, 1640, 'N']]"
   ]
  },
  {
   "cell_type": "markdown",
   "metadata": {},
   "source": []
  }
 ],
 "metadata": {
  "kernelspec": {
   "display_name": "Python 3",
   "language": "python",
   "name": "python3"
  },
  "language_info": {
   "codemirror_mode": {
    "name": "ipython",
    "version": 3
   },
   "file_extension": ".py",
   "mimetype": "text/x-python",
   "name": "python",
   "nbconvert_exporter": "python",
   "pygments_lexer": "ipython3",
   "version": "3.7.3"
  },
  "toc": {
   "base_numbering": 1,
   "nav_menu": {},
   "number_sections": false,
   "sideBar": true,
   "skip_h1_title": false,
   "title_cell": "Table of Contents",
   "title_sidebar": "Contents",
   "toc_cell": false,
   "toc_position": {},
   "toc_section_display": true,
   "toc_window_display": false
  },
  "varInspector": {
   "cols": {
    "lenName": 16,
    "lenType": 16,
    "lenVar": 40
   },
   "kernels_config": {
    "python": {
     "delete_cmd_postfix": "",
     "delete_cmd_prefix": "del ",
     "library": "var_list.py",
     "varRefreshCmd": "print(var_dic_list())"
    },
    "r": {
     "delete_cmd_postfix": ") ",
     "delete_cmd_prefix": "rm(",
     "library": "var_list.r",
     "varRefreshCmd": "cat(var_dic_list()) "
    }
   },
   "types_to_exclude": [
    "module",
    "function",
    "builtin_function_or_method",
    "instance",
    "_Feature"
   ],
   "window_display": false
  }
 },
 "nbformat": 4,
 "nbformat_minor": 2
}
