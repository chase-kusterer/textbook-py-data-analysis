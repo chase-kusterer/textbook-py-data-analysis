{
 "cells": [
  {
   "cell_type": "markdown",
   "metadata": {},
   "source": [
    "***\n",
    "***\n",
    "***\n",
    "<br><br><br><br><br>\n",
    "<h1>Python for Business Analytics</h1>\n",
    "<em>A Nontechnical Approach for Nontechnical People</em><br><br>\n",
    "<em><strong>Custom Edition for Hult International Business School</strong></em><br>\n",
    "\n",
    "Written by Chase Kusterer - Faculty of Analytics <br>\n",
    "Hult International Business School <br>\n",
    "https://github.com/chase-kusterer <br><br><br><br><br>\n",
    "***\n",
    "***\n",
    "***\n",
    "\n",
    "# <u>Chapter 9: User-Defined Functions and Exception Handling</u>"
   ]
  },
  {
   "cell_type": "markdown",
   "metadata": {},
   "source": [
    "Python is an extraordinarily popular language for many reasons, one of them being that it has a strong open-source community. In general, <a href=\"https://opensource.com/resources/what-open-source\">open source</a> projects are community-driven, publicly available, and free of charge. More often than not, our analytical endeavors will rely on open source packages such as <a href=\"https://docs.scipy.org/doc/numpy/user/index.html\">numpy</a>, <a href=\"https://pandas.pydata.org/pandas-docs/stable/\">pandas</a>, <a href=\"https://scikit-learn.org/stable/documentation.html\">scikit-learn</a>, <a href=\"https://www.statsmodels.org/stable/index.html\">statsmodels</a>, <a href=\"https://matplotlib.org/3.1.1/contents.html\">matplotlib</a>, <a href=\"https://seaborn.pydata.org/\">seaborn</a>, and many others depending on our task at hand. Each of these packages contains functions that were designed for a specific purpose, and most contain optional or variable arguments to allow a certain level of flexibility and customization in their use.\n",
    "<br><br>\n",
    "Before diving into the aforementioned packages, it is important to understand the inner workings of functions. This will not only help in utilizing publicly-available resources to their fullest extent, but will also help in identifying when a developer may have cut corners. Every so often, a package is released that is difficult to learn due to poor documentation, which is an indication that the package's functions may be unstable or only work in a very limited context. Understanding how to write, document, test, and exception handle user-defined functions will greatly increase your ability to benefit from functions available in the open source community.\n",
    "\n",
    "## 9.1 The Function Framework\n",
    "Functions follow a similar framework to conditional statements and loops in that their first line starts with a designated syntax and ends with a semicolon (<em> : </em>). Additionally, anything inside a function's body must be indented. Unlike other coding structures covered thus far, functions need to be defined before they can be used. In other words, you need to load a function before you are able to use it. You can think of this like working with packages in that they must be imported before their methods become available.\n",
    "\n",
    "#### Defining a Function\n",
    "The syntax <strong>def</strong> lets Python know that you are defining a function. After this, the function must be given a unique name, followed by a set of parenthesis <em> (   ) </em> and a semicolon.\n",
    "<br><br>\n",
    "\n",
    "~~~\n",
    "def FUNCTION_NAME(ARGUMENTS):\n",
    "    FUNCTION BODY\n",
    "~~~\n",
    "\n",
    "<br>\n",
    "User-defined functions can have any nonnegative number of arguments (zero or more). However, mandatory arguments must come before optional arguments, and optional arguments must come before variable arguments. If you are a bit rusty on your argument types, return to <a href=\"https://github.com/chase-kusterer/Python-for-Business-Analytics\">Chapter 1: Setting Up for Success</a> for a refresher."
   ]
  },
  {
   "cell_type": "markdown",
   "metadata": {
    "cell_style": "split"
   },
   "source": [
    "Let's begin by writing a very simple function that has no arguments. In fact, let's make a function that wishes users a happy birthday! This has been done in <em>Code 9.1.1</em>. Notice that running this code does not generate any output. This is because we have only told Python to define our function. If we would also like Python to use it, we need to tell it to do so. This can be accomplished by simply running the function and specifying any mandatory arguments as in <em>Code 9.1.2</em>."
   ]
  },
  {
   "cell_type": "markdown",
   "metadata": {
    "cell_style": "split",
    "deletable": false,
    "editable": false,
    "run_control": {
     "frozen": true
    }
   },
   "source": [
    " "
   ]
  },
  {
   "cell_type": "code",
   "execution_count": null,
   "metadata": {
    "cell_style": "split",
    "deletable": false,
    "editable": false
   },
   "outputs": [],
   "source": [
    "## Code 9.1.1 ##\n",
    "\n",
    "# defining a function\n",
    "def bday():  \n",
    "    print('Happy Birthday!')"
   ]
  },
  {
   "cell_type": "markdown",
   "metadata": {
    "cell_style": "split",
    "deletable": false,
    "editable": false,
    "run_control": {
     "frozen": true
    }
   },
   "source": [
    " "
   ]
  },
  {
   "cell_type": "code",
   "execution_count": null,
   "metadata": {
    "cell_style": "split",
    "deletable": false,
    "editable": false
   },
   "outputs": [],
   "source": [
    "## Code 9.1.2 ##\n",
    "\n",
    "# running the function\n",
    "bday()"
   ]
  },
  {
   "cell_type": "markdown",
   "metadata": {},
   "source": [
    "<strong>It is very important that user-defined functions are given a UNIQUE name.</strong> If not, Python will realize that another function exists with the same name and overwrite it. This should be avoided unless you have a very good reason for doing so. Other than overwriting a function in your working environment, another massive danger to this practice is that it will also affect anyone that uses your function. This causes a big headache when a user needs both your function and the one you overwrote."
   ]
  },
  {
   "cell_type": "markdown",
   "metadata": {
    "cell_style": "split"
   },
   "source": [
    "To illustrate, let's take Python's built-in function <a href=\"https://docs.python.org/3/library/functions.html#abs\">abs()</a>, which takes a number and returns its absolute value. <em>Code 9.1.3</em> uses this built-in to take the absolute value of negative seven. As expected, the function returns the absolute value of this number. However, in <em>Code 9.1.4</em>, <em>abs( )</em> is being overwritten as a user-defined function with the same name. After running this cell, try running <em>Code 9.1.3</em> again. As expected, this code block now throws an error.\n",
    "<br><br>\n",
    "\n",
    "#### Restarting the Python Kernel\n",
    "As mentioned earlier, overwriting existing functions should be avoided as much as possible. Sometimes, this may happen by accident. In such situations, you can reset your Python kernel, restoring all built-in functions to their default forms. In Jupyter notebook, this can be accomplished by navigating to <strong>Kernel > Restart</strong>."
   ]
  },
  {
   "cell_type": "markdown",
   "metadata": {
    "cell_style": "split",
    "deletable": false,
    "editable": false,
    "run_control": {
     "frozen": true
    }
   },
   "source": [
    " "
   ]
  },
  {
   "cell_type": "code",
   "execution_count": null,
   "metadata": {
    "cell_style": "split",
    "deletable": false,
    "editable": false
   },
   "outputs": [],
   "source": [
    "## Code 9.1.3 ##\n",
    "\n",
    "# built-in abs\n",
    "abs(-7)"
   ]
  },
  {
   "cell_type": "markdown",
   "metadata": {
    "cell_style": "split",
    "deletable": false,
    "editable": false,
    "run_control": {
     "frozen": true
    }
   },
   "source": [
    " "
   ]
  },
  {
   "cell_type": "code",
   "execution_count": null,
   "metadata": {
    "cell_style": "split",
    "deletable": false,
    "editable": false
   },
   "outputs": [],
   "source": [
    "## Code 9.1.4 ##\n",
    "\n",
    "# overwriting abs\n",
    "def abs():\n",
    "    print('Happy Birthday')\n",
    "\n",
    "abs()"
   ]
  },
  {
   "cell_type": "markdown",
   "metadata": {
    "cell_style": "split",
    "deletable": false,
    "editable": false,
    "run_control": {
     "frozen": true
    }
   },
   "source": [
    " "
   ]
  },
  {
   "cell_type": "code",
   "execution_count": null,
   "metadata": {
    "cell_style": "split",
    "deletable": false,
    "editable": false
   },
   "outputs": [],
   "source": [
    "## Code 9.1.5 ##\n",
    "\n",
    "# Code to kill a kernel\n",
    "import os\n",
    "os._exit(00)"
   ]
  },
  {
   "cell_type": "markdown",
   "metadata": {},
   "source": [
    "***\n",
    "\n",
    "Note that upon restarting, all of your declared objects and user-defined functions will be wiped from your working environment (you can add them back by rerunning their codes). Additionally, you can kill your kernel by running <em>Code 9.1.5</em>. How did I learn about this code? At one point in my Python journey, I needed to kill my kernel and stumbled upon this technique in a <a href=\"https://stackoverflow.com/questions/37751120/restart-ipython-kernel-with-a-command-from-a-cell\">StackOverflow thread</a>. As mentioned in Chapter 1:<br><br>\n",
    "\n",
    "<div align=\"center\"><strong>\n",
    "    As long as you are not one of the world's most advanced Python coders, someone has already experienced and solved your problem.\n",
    "</strong><a class=\"tocSkip\"></div>\n",
    "\n",
    "There is no shame in needing to look things up. In fact, many coders virtually live on sites like <a href=\"https://stackoverflow.com/\">StackOverflow</a> in the early days of their coding journeys, and I have yet to meet a programmer that does not at least occasionally need to make queries. The coding community is here to help you, so make sure to take advantage and give back by contributing your knowledge when you get to that point.\n",
    "<br>\n",
    "\n",
    "***\n",
    "\n",
    "## 9.2 Arguments and Environments\n",
    "When we want more out of our function, arguments can be added to user-defined functions by placing variables within the parenthesis right after the function's name. As mentioned, the order in which arguments must be specified is as follows:\n",
    "1. mandatory arguments (no default value)\n",
    "2. optional arguments (contains default value)\n",
    "3. variable  arguments (vary in length)\n",
    "\n",
    "<br>\n",
    "Let's move forward by defining a function that takes one argument. <em>Code 9.2.1</em> is a user-defined function that takes one mandatory argument and squares its value. To keep things simple, it has been named <em>square</em>. Judging by the body of this function, one may expect <em>Code 9.2.1</em> to output the result of three raised to the power of two. However, running this code block produces no output for a very important reason: we haven't told the function to <strong>return</strong> anything.<br><br>\n",
    "<div align=\"center\"><strong>\n",
    "    Programs do what they are programmed to do.\n",
    "</strong><a class=\"tocSkip\"></div>\n",
    "\n",
    "Computers need to be given instructions in order to perform tasks. In the case of <em>Code 9.2.1</em>, the function did exactly what we told it to do, and that is why it didn't produce any output. This can be addressed by modifying the function to include a <strong>return</strong> statement."
   ]
  },
  {
   "cell_type": "markdown",
   "metadata": {
    "cell_style": "split"
   },
   "source": [
    "#### The Limited World of a Function\n",
    "It is important to understand why <strong>return</strong> statements are required to get something back from a function. To get there, think of your working environment as the entire planet on which all of your code lives. We will call this the <strong>global environment</strong>. Also, think of declaring an object as creating an living being on your planet, and this being is free to interact with other objects in the global environment. If another object is declared with the same name, it will cause conflict and the former object will be overwritten.\n",
    "<br><br>\n",
    "Now, think of the body of a function as its own island where its inhabitants have been secluded for so many generations that they are completely oblivious to anything that exists elsewhere. This is good because these objects have no way to adversely affect the global environment (i.e. overwriting objects). We will call this island the function's environment. Oftentimes, we need something from the function's environment to interact with the global environment, and as the master of both environments, we have the ability to make this happen. In other words, at times we need to something from the island to <strong>return</strong> to the global environment. The syntax to accomplish this is, not surprisingly, named <strong>return</strong>.\n",
    "<br><br>\n",
    "A <strong>return</strong> statement has been added to <em>Code 9.2.2</em>, where the <em>square()</em> function is returning the results of a calculation. More commonly, such results are first stored within an object in the body of a function and the object is returned. This is occurring in <em>Code 9.2.3</em>, where the calculation results have been stored in the object <em>val</em>, which is referenced in the <strong>return</strong> statement. Both codes give the same result.\n",
    "<br><br>\n",
    "Note that even though <em>val</em> was returned in <em>Code 9.2.3</em>, it is not actually available in the global environment. This is Python's way of protecting the function's users from accidentally overwriting object names. For example, if the global environment already contained an object named <em>val</em>, it would be overwritten, which may adversely effect the user. On the same token, any object in the global environment that shares the same name as an object in a function's environment will not be overwritten if the function is called, even contains a <strong>return</strong> statement. There is one exception to this rule, which will be covered later in this chapter. The results of <em>Code 9.2.4</em> confirm that <em>val</em> has not been defined globally.\n",
    "<br><br>\n",
    "#### Storing Function Output\n",
    "A common method for storing the returned output of a function is to declare it as an object. The type of the declared object depends on what was returned from the function. In <em>Code 9.2.5</em>, since the <em>square()</em> function returned an integer, the object <em>' y '</em> is of this type.\n",
    "<br><br>\n",
    "Also note that once Python executes a <strong>return</strong> statement, it leaves the body of the function, even if another <strong>return</strong> statement is on the next line. However, a <strong>return</strong> statement can reference more than one thing (separated by commas). By default, if more than one thing is returned from a function, as in <em>Code 9.2.6</em>, the stored object will be a <a href=\"https://docs.python.org/2/tutorial/datastructures.html#tuples-and-sequences\">tuple</a>. <strong>Tuples</strong> are very similar to lists, but are represented with curved brackets and are immutable (they cannot be changed). <strong>Tuples</strong> are very important in functional programming, but are beyond the scope of our current coding abilities. For now, it is important to understand that indexing a <strong>tuple</strong> is no different than indexing a list.\n",
    "<br><br>\n",
    "<em>Note:</em> If you would like to return a list instead of a <strong>tuple</strong>, try wrapping square brackets around the objects in your <strong>return</strong> statement:\n",
    "<br><br>\n",
    "~~~\n",
    "return [a, b]\n",
    "~~~\n",
    "\n",
    "\n",
    "\n",
    "\n",
    "\n"
   ]
  },
  {
   "cell_type": "markdown",
   "metadata": {
    "cell_style": "split",
    "deletable": false,
    "editable": false,
    "run_control": {
     "frozen": true
    }
   },
   "source": [
    " "
   ]
  },
  {
   "cell_type": "code",
   "execution_count": null,
   "metadata": {
    "cell_style": "split",
    "deletable": false,
    "editable": false
   },
   "outputs": [],
   "source": [
    "## Code 9.2.1 ##\n",
    "\n",
    "# defining a function\n",
    "def square(x):\n",
    "    x**2\n",
    "\n",
    "# running the function\n",
    "square(x = 3)"
   ]
  },
  {
   "cell_type": "markdown",
   "metadata": {
    "cell_style": "split",
    "deletable": false,
    "editable": false,
    "run_control": {
     "frozen": true
    }
   },
   "source": [
    " "
   ]
  },
  {
   "cell_type": "code",
   "execution_count": null,
   "metadata": {
    "cell_style": "split",
    "deletable": false,
    "editable": false
   },
   "outputs": [],
   "source": [
    "## Code 9.2.2 ##\n",
    "\n",
    "# adapted from Code 9.2.1\n",
    "\n",
    "# adding return statement\n",
    "def square(x):\n",
    "    return x**2\n",
    "\n",
    "# running the function\n",
    "square(x = 3)"
   ]
  },
  {
   "cell_type": "markdown",
   "metadata": {
    "cell_style": "split",
    "deletable": false,
    "editable": false,
    "run_control": {
     "frozen": true
    }
   },
   "source": [
    " "
   ]
  },
  {
   "cell_type": "code",
   "execution_count": null,
   "metadata": {
    "cell_style": "split",
    "deletable": false,
    "editable": false
   },
   "outputs": [],
   "source": [
    "## Code 9.2.3 ##\n",
    "\n",
    "# adapted from Code 9.2.2\n",
    "\n",
    "# adding return statement\n",
    "def square(x):\n",
    "    val = x**2\n",
    "    return val\n",
    "\n",
    "# running the function\n",
    "square(x = 3)"
   ]
  },
  {
   "cell_type": "markdown",
   "metadata": {
    "cell_style": "split",
    "deletable": false,
    "editable": false,
    "run_control": {
     "frozen": true
    }
   },
   "source": [
    " "
   ]
  },
  {
   "cell_type": "code",
   "execution_count": null,
   "metadata": {
    "cell_style": "split",
    "deletable": false,
    "editable": false
   },
   "outputs": [],
   "source": [
    "## Code 9.2.4 ##\n",
    "\n",
    "print(val)"
   ]
  },
  {
   "cell_type": "markdown",
   "metadata": {
    "cell_style": "split",
    "deletable": false,
    "editable": false,
    "run_control": {
     "frozen": true
    }
   },
   "source": [
    " "
   ]
  },
  {
   "cell_type": "code",
   "execution_count": null,
   "metadata": {
    "cell_style": "split",
    "deletable": false,
    "editable": false
   },
   "outputs": [],
   "source": [
    "## Code 9.2.5 ##\n",
    "\n",
    "# storing output as an object\n",
    "y = square(x = 3)\n",
    "\n",
    "# printing the results\n",
    "print(y)\n",
    "print(type(y))"
   ]
  },
  {
   "cell_type": "markdown",
   "metadata": {
    "cell_style": "split",
    "deletable": false,
    "editable": false,
    "run_control": {
     "frozen": true
    }
   },
   "source": [
    " "
   ]
  },
  {
   "cell_type": "code",
   "execution_count": null,
   "metadata": {
    "cell_style": "split",
    "deletable": false,
    "editable": false
   },
   "outputs": [],
   "source": [
    "## Code 9.2.6 ##\n",
    "\n",
    "# adapted from Code 9.2.3\n",
    "\n",
    "# modifying return statement\n",
    "def square(x):\n",
    "    val = x**2\n",
    "    return val, x\n",
    "\n",
    "# running the function\n",
    "y = square(x = 3)\n",
    "\n",
    "# printing the results\n",
    "print(y)\n",
    "print(type(y))"
   ]
  },
  {
   "cell_type": "markdown",
   "metadata": {},
   "source": [
    "***\n",
    "\n",
    "\n",
    "## 9.3 Functions with Multiple Arguments\n",
    "Notice in that in the codes in <em>Section 9.2</em>, the argument <em>' x '</em> was explicitly declared when the function was run. This is not required, but it is a good practice. This is especially valuable when a function has more than one argument. Without explicit definition (i.e. <em>' x = 5 '</em> instead of just <em>' 5 '</em>), things can get very confusing. For example, functions such as the following would be far more difficult without explicitly declaring the values for each argument.\n",
    "<br><br>\n",
    "\n",
    "~~~\n",
    "def personal_favorites(food, beverage, book, movie, place, color):\n",
    "        print(f\"\"\"\n",
    "        Your favorite food is {food}.\n",
    "        Your favorite beverage is {beverage}.\n",
    "        Your favorite book is {book}.\n",
    "        Your favorite movie is {movie}.\n",
    "        Your favorite place is {place}.\n",
    "        Your favorite color is {color}.\n",
    "        \"\"\")\n",
    "~~~\n",
    "\n",
    "<br>\n",
    "From this point forward, this text will explicitly declare function arguments.\n",
    "\n",
    "#### Setting Default Values with Optional Arguments\n",
    "A good approach to writing functions is to use as few mandatory arguments as is reasonably feasible. This approach has a number of benefits such as making a function easier to use and reducing the chance of errors due to an invalid argument input. Oftentimes, however, you will have the need to develop additional features so that your function can be used in a wider array of applications, or to allow users with a certain level of customization. Such situations call for the use of <strong>optional arguments</strong>, or arguments that have a set default value. To illustrate, let's modify <em>Code 9.2.3</em> so that it takes any number to any power."
   ]
  },
  {
   "cell_type": "markdown",
   "metadata": {
    "cell_style": "split"
   },
   "source": [
    "This modification can be accomplished by defining a second argument in the first line of the function, which has been done in <em>Code 9.3.1</em>. The second argument, <em>power</em>, has been made optional with a default value of two. When selecting the default value for an optional argument, it is a good practice to consider what users will commonly input if the argument was mandatory. Considering our original function was designed to square a number, defaulting power with a value of two seems appropriate.\n",
    "<br><br>\n",
    "#### Overriding Defaults in Optional Arguments\n",
    "Default values in optional arguments can be overridden by declaring a new <strong>parameter</strong> when the function is called (i.e. when it is run). In Python, <strong>parameter</strong> is another word for the value of an argument. In fact, most of Python's help files have a section labeled <em>Parameters</em> that explains what each argument does and indicates what types of inputs are acceptable.\n",
    "<br><br>\n",
    "In the final line of <em>Code 9.3.2</em>, the default value for <em>power</em> is being overridden. As expected, this outputs a different result than that of <em>Code 9.3.1</em>. Please also note that overriding an optional argument does not change its default value. If we called <em>power_up</em> again without specifying a value for <em>power</em>, the default value would be used."
   ]
  },
  {
   "cell_type": "markdown",
   "metadata": {
    "cell_style": "split",
    "deletable": false,
    "editable": false,
    "run_control": {
     "frozen": true
    }
   },
   "source": [
    " "
   ]
  },
  {
   "cell_type": "code",
   "execution_count": null,
   "metadata": {
    "cell_style": "split",
    "deletable": false,
    "editable": false
   },
   "outputs": [],
   "source": [
    "## Code 9.3.1 ##\n",
    "\n",
    "# adapted from Code 9.2.3\n",
    "\n",
    "# adding return statement\n",
    "def power_up(x, power=2):\n",
    "    val = x**power\n",
    "    return val\n",
    "\n",
    "# running the function\n",
    "power_up(x = 3)"
   ]
  },
  {
   "cell_type": "markdown",
   "metadata": {
    "cell_style": "split",
    "deletable": false,
    "editable": false,
    "run_control": {
     "frozen": true
    }
   },
   "source": [
    " "
   ]
  },
  {
   "cell_type": "code",
   "execution_count": null,
   "metadata": {
    "cell_style": "split",
    "deletable": false,
    "editable": false,
    "scrolled": true
   },
   "outputs": [],
   "source": [
    "## Code 9.3.2 ##\n",
    "\n",
    "# adapted from Code 9.2.3\n",
    "\n",
    "# adding return statement\n",
    "def power_up(x, power=2):\n",
    "    val = x**power\n",
    "    return val\n",
    "\n",
    "# running the function\n",
    "power_up(x = 3, power = 3)"
   ]
  },
  {
   "cell_type": "markdown",
   "metadata": {},
   "source": [
    "***\n",
    "\n",
    "## 9.4 Docstrings\n",
    "Up to this point, we have created a total of three user-defined functions:\n",
    "* <em>bday( )</em> - prints a birthday message\n",
    "* <em>square(x)</em> - raises a number to the power of two\n",
    "* <em>power_up(x, power=2)</em> - raises any number to any power\n",
    "\n",
    "<br>\n",
    "Each of these functions has been given a name that provides suggestion as to what the function does. This is a good start, but a critical element of explanation is missing: the <a href=\"https://www.python.org/dev/peps/pep-0257/#what-is-a-docstring\">docstring</a>. <strong>Docstrings</strong>, also known as documentation strings, do as their name implies: they provide documentation. In other words, their purpose is to help users understand what something does and how it should be used. They are a key component of many coding structures in Python, including functions, classes, modules, and packages, although we will only be discussing them in terms of functions in this chapter. At this point, you should have ample experience working with docstrings, as they are the text that appears when you call <em>help( )</em> on something.\n",
    "<br><br>\n",
    "\n",
    "#### Writing a Docstring\n",
    "Coding a <strong>docstring</strong> for a function is incredibly simple: place a triple-quoted string on the first line of the function's body:\n",
    "<br><br>\n",
    "\n",
    "~~~\n",
    "def my_function():\n",
    "    \"\"\" DOCSTRING \"\"\"\n",
    "    \n",
    "    FUNCTION BODY\n",
    "~~~\n",
    "\n",
    "<br>\n",
    "As long as the <strong>docstring</strong> is on the first line, it will be referenced every time a user calls <em>help( )</em> on the function. Also, <strong>docstrings</strong> for functions are generally written concisely, consisting of only a single line explaining what the function does. However, there is no reason to restrict yourself from being thorough if you feel it will benefit users. At the time of this writing, the <strong>docstring</strong> for the method <em>pandas.DataFrame</em> is 72 lines long. Not only does it provide details as to what the method does, but also offers a solid explanation of its parameters, outlines similar methods that have been designed to address slightly different needs, and provides usage examples."
   ]
  },
  {
   "cell_type": "markdown",
   "metadata": {
    "cell_style": "center"
   },
   "source": [
    "<em>Code 9.4.1</em> offers \n",
    "\n",
    "~~~\n",
    "def bday():\n",
    "    \"\"\" This function prints 'Happy Birthday!\"\"\"\n",
    "    print('Happy Birthday!')\n",
    "~~~\n",
    "\n",
    "<br>\n",
    "At the time of this writing, the <strong>docstring</strong> for the method <em>pandas.DataFrame</em> is 72 characters long. Not only does it provide details as to what the method does, but also offers a solid explanation of its parameters, outlines similar methods that have been designed to address slightly different needs, and provides usage examples. This <strong>docstring</strong> is shown below."
   ]
  },
  {
   "cell_type": "markdown",
   "metadata": {},
   "source": [
    "***\n",
    "***\n",
    "\n",
    "    Two-dimensional size-mutable, potentially heterogeneous tabular data\n",
    "    structure with labeled axes (rows and columns). Arithmetic operations\n",
    "    align on both row and column labels. Can be thought of as a dict-like\n",
    "    container for Series objects. The primary pandas data structure.\n",
    "\n",
    "    Parameters\n",
    "    ----------\n",
    "    data : ndarray (structured or homogeneous), Iterable, dict, or DataFrame\n",
    "        Dict can contain Series, arrays, constants, or list-like objects\n",
    "\n",
    "        .. versionchanged :: 0.23.0\n",
    "           If data is a dict, column order follows insertion-order for\n",
    "           Python 3.6 and later.\n",
    "\n",
    "        .. versionchanged :: 0.25.0\n",
    "           If data is a list of dicts, column order follows insertion-order\n",
    "           Python 3.6 and later.\n",
    "\n",
    "    index : Index or array-like\n",
    "        Index to use for resulting frame. Will default to RangeIndex if\n",
    "        no indexing information part of input data and no index provided\n",
    "    columns : Index or array-like\n",
    "        Column labels to use for resulting frame. Will default to\n",
    "        RangeIndex (0, 1, 2, ..., n) if no column labels are provided\n",
    "    dtype : dtype, default None\n",
    "        Data type to force. Only a single dtype is allowed. If None, infer\n",
    "    copy : boolean, default False\n",
    "        Copy data from inputs. Only affects DataFrame / 2d ndarray input\n",
    "\n",
    "    See Also\n",
    "    --------\n",
    "    DataFrame.from_records : Constructor from tuples, also record arrays.\n",
    "    DataFrame.from_dict : From dicts of Series, arrays, or dicts.\n",
    "    DataFrame.from_items : From sequence of (key, value) pairs\n",
    "        read_csv, pandas.read_table, pandas.read_clipboard.\n",
    "\n",
    "    Examples\n",
    "    --------\n",
    "    Constructing DataFrame from a dictionary.\n",
    "\n",
    "    >>> d = {'col1': [1, 2], 'col2': [3, 4]}\n",
    "    >>> df = pd.DataFrame(data=d)\n",
    "    >>> df\n",
    "       col1  col2\n",
    "    0     1     3\n",
    "    1     2     4\n",
    "\n",
    "    Notice that the inferred dtype is int64.\n",
    "\n",
    "    >>> df.dtypes\n",
    "    col1    int64\n",
    "    col2    int64\n",
    "    dtype: object\n",
    "\n",
    "    To enforce a single dtype:\n",
    "\n",
    "    >>> df = pd.DataFrame(data=d, dtype=np.int8)\n",
    "    >>> df.dtypes\n",
    "    col1    int8\n",
    "    col2    int8\n",
    "    dtype: object\n",
    "\n",
    "    Constructing DataFrame from numpy ndarray:\n",
    "\n",
    "    >>> df2 = pd.DataFrame(np.array([[1, 2, 3], [4, 5, 6], [7, 8, 9]]),\n",
    "    ...                    columns=['a', 'b', 'c'])\n",
    "    >>> df2\n",
    "       a  b  c\n",
    "    0  1  2  3\n",
    "    1  4  5  6\n",
    "    2  7  8  9\n",
    "    \n",
    "***\n",
    "***"
   ]
  },
  {
   "cell_type": "markdown",
   "metadata": {
    "cell_style": "split"
   },
   "source": [
    "The <em>bday( )</em> function has been modified to include a <strong>docstring</strong> (<em>Code 9.4.1</em>). It may seem trivial to write a <strong>docstring</strong> for such a simple function that has no arguments and offers no customization. However, all coding structures that support <strong>docstrings</strong> should have them, regardless of how simple they may be. They are easy to set up and can immensely speed up a user's learning curve. Additionally, poor quality documentation may indicate that corners have been cut. When reading <em>help( )</em> files, you should always look for:\n",
    "* an explanation as to what the function is supposed to do\n",
    "* a list of parameters and how to apply them\n",
    "* usage examples"
   ]
  },
  {
   "cell_type": "markdown",
   "metadata": {
    "cell_style": "split"
   },
   "source": [
    " "
   ]
  },
  {
   "cell_type": "code",
   "execution_count": null,
   "metadata": {
    "cell_style": "split",
    "deletable": false,
    "editable": false
   },
   "outputs": [],
   "source": [
    "## Code 9.4.1 ##\n",
    "\n",
    "# adapted from Code 9.1.1\n",
    "\n",
    "# defining a function with a docstring\n",
    "def bday():\n",
    "    \"\"\"Function prints 'Happy Birthday!'\"\"\"\n",
    "    print('Happy Birthday!')\n",
    "\n",
    "# calling help() on the function\n",
    "help(bday)"
   ]
  },
  {
   "cell_type": "markdown",
   "metadata": {},
   "source": [
    "If these are not available, search the <strong>docstring</strong> for a web link that leads to these things. If no such link exists, it may be best to find an alternative tool. <em>Codes 9.4.2</em> and <em>9.4.3</em> have been left open so that you may create <strong>docstrings</strong> for the <em>square( )</em> and <em>power_up( )</em> functions, respectively. As a good practice, make sure to include an explanation of each function's parameters and a usage example.\n",
    "\n",
    "***"
   ]
  },
  {
   "cell_type": "code",
   "execution_count": null,
   "metadata": {
    "code_folding": [],
    "solution2": "hidden",
    "solution2_first": true
   },
   "outputs": [],
   "source": [
    "## Code 9.4.2 ##\n",
    "\n",
    "# open coding block\n",
    "\n",
    "# adapted from Code 9.2.3\n",
    "\n",
    "def square(x):\n",
    "    val = x**2\n",
    "    return val\n",
    "    \n",
    "help(square)"
   ]
  },
  {
   "cell_type": "code",
   "execution_count": null,
   "metadata": {
    "deletable": false,
    "editable": false,
    "solution2": "hidden"
   },
   "outputs": [],
   "source": [
    "## Sample Solution 9.4.2 ##\n",
    "\n",
    "# adapted from Code 9.2.3\n",
    "\n",
    "def square(x):\n",
    "    \"\"\"\n",
    "    Takes a number and returns the it raised to the power of two.\n",
    "    \n",
    "    PARAMETERS\n",
    "    ----------\n",
    "    x : int or float\n",
    "        The number to be raised to the power of two.\n",
    "    \n",
    "    \n",
    "    EXAMPLES\n",
    "    --------\n",
    "    >>> two_squared = square(x=2)\n",
    "    >>> print(two_squared) \n",
    "    4\n",
    "    \"\"\"\n",
    "    \n",
    "    val = x**2\n",
    "    return val\n",
    "    \n",
    "help(square)"
   ]
  },
  {
   "cell_type": "markdown",
   "metadata": {},
   "source": [
    "***"
   ]
  },
  {
   "cell_type": "code",
   "execution_count": null,
   "metadata": {
    "solution2": "hidden",
    "solution2_first": true
   },
   "outputs": [],
   "source": [
    "## Code 9.4.3 ##\n",
    "\n",
    "# open coding block\n",
    "\n",
    "# adapted from Code 9.3.1\n",
    "\n",
    "def power_up(x, power=2):\n",
    "    val = x**power\n",
    "    return val\n",
    "    \n",
    "help(power_up)"
   ]
  },
  {
   "cell_type": "code",
   "execution_count": null,
   "metadata": {
    "deletable": false,
    "editable": false,
    "solution2": "hidden"
   },
   "outputs": [],
   "source": [
    "## Sample Solution 9.4.3 ##\n",
    "\n",
    "# adapted from Code 9.3.1\n",
    "\n",
    "def power_up(x, power=2):\n",
    "    \"\"\"\n",
    "    Takes a number and returns the it raised to the power of two.\n",
    "    Mathematical representation: x**power\n",
    "    \n",
    "    PARAMETERS\n",
    "    ----------\n",
    "    x : int or float\n",
    "        The number to be raised to a power.\n",
    "    \n",
    "    power : int or float, default 2\n",
    "        The power x will be raised to.\n",
    "    \n",
    "    \n",
    "    EXAMPLES\n",
    "    --------\n",
    "    >>> three_to_three = power_up(x=3, power=3)\n",
    "    >>> print(three_to_three) \n",
    "    27\n",
    "    \"\"\"\n",
    "    \n",
    "    val = x**power\n",
    "    return val\n",
    "    \n",
    "help(power_up)"
   ]
  },
  {
   "cell_type": "markdown",
   "metadata": {},
   "source": [
    "***\n",
    "\n",
    "## 9.5 Functions with Variable Arguments\n",
    "Recall from  <a href=\"https://github.com/chase-kusterer/Python-for-Business-Analytics\">Chapter 1: Learn This Before Learning Else</a> that <em>*args</em> and <em>**kwargs</em> allow for arguments of varying length. In other words, these syntaxes are very useful when there is need to allow flexibility in the amount of inputs a user can specify. A good example of such a need is a shopping list. To keep things simple, let's assume that the requirements for our <em>shopping_list</em> function are to take items as arguments and then print them one-by-one. Also, common knowledge implies that different users will have shopping lists of different lengths. Therefore, it would be very challenging if users were forced to make their list of a certain length. For example, if our function was designed as follows:\n",
    "<br><br>\n",
    "\n",
    "~~~\n",
    "def shopping_list(item_1, item_2, item_3):\n",
    "    print(f\"\"\"\n",
    "Shopping List:\n",
    "    * {item_1}\n",
    "    * {item_2}\n",
    "    * {item_3}\n",
    "    \"\"\")\n",
    "~~~\n",
    "\n",
    "<br>\n",
    "users would be required to have shopping lists that consist of exactly three items. Otherwise, the function will throw an error. A remedy to allow users more flexibility would be to make all of the arguments optional, setting their default values to <em>None</em>. Using this approach, users would be able to input as many items as they like, up to the amount of optional arguments that exist in the function. Additionally, the number of optional arguments could be increased to allow for longer lists. Although this approach solves the need for more flexibility, the function's body is unnecessarily long and inefficient:\n",
    "<br><br>\n",
    "\n",
    "~~~\n",
    "def shopping_list(item_1=None, item_2=None, item_3=None):\n",
    "    print(\"Shopping List:\")\n",
    "    \n",
    "    item_list = []\n",
    "    \n",
    "    if item_1 != None:\n",
    "        item_list.append(item_1)\n",
    "    \n",
    "    if item_2 != None:\n",
    "        item_list.append(item_2)\n",
    "        \n",
    "    if item_3 != None:\n",
    "        item_list.append(item_3)\n",
    "    \n",
    "    for item in item_list:\n",
    "        print('\\t*',item)\n",
    "~~~\n",
    "\n",
    "<br>\n",
    "A more pragmatic approach is to use <em>*args</em>, which will allow for flexibility while keeping the function short and simple. Such an approach creates an opportunity to redesign the body of the function so that it contains a single for loop, as exemplified in <em>Code 9.5.1</em>.\n",
    "\n",
    "***"
   ]
  },
  {
   "cell_type": "code",
   "execution_count": null,
   "metadata": {
    "cell_style": "center",
    "deletable": false,
    "editable": false
   },
   "outputs": [],
   "source": [
    "## Code 9.5.1 ##\n",
    "\n",
    "# replicated from Code 1.1.5\n",
    "\n",
    "# defining a function with *args\n",
    "def shopping_list(*args):\n",
    "    print(\"Shopping List:\")\n",
    "    \n",
    "    for item in args:\n",
    "        print(item)\n",
    "\n",
    "# testing the function\n",
    "shopping_list('bananas', 'oranges', \n",
    "              'grapes', 'pears', \n",
    "              'apples')"
   ]
  },
  {
   "cell_type": "markdown",
   "metadata": {},
   "source": [
    "***\n",
    "\n",
    "The concept of <em>**kwargs</em> is very similar to that of <em>*args</em>, but instead of operating on individual argument inputs, <em>**kwargs</em> operates on key/value pairs. Conceptually, keys can be thought of as groups or categories, and values the members of each group. In an Excel spreadsheet, keys are the names of each column and values the data in each row. In Python, key/value pairs are the essence of a special built-in data type known as <a href=\"https://docs.python.org/3/tutorial/datastructures.html#dictionaries\">dictionaries</a>, which will be covered in a later chapter.\n",
    "<br><br>\n",
    "To exemplify, let's use <em>**kwargs</em> to create a function for daily exercise, consisting of three parts: warm up, workout, and cool down (the <em>keys</em>).  Each activity done in these parts can be considered a value. For example, if our warm up consisted of stretching, running, push ups, and sit ups, we could use this information to create the following key/value pair:\n",
    "<br><br>\n",
    "\n",
    "~~~\n",
    "warm_up  = ['stretch', 'run', 'push ups', 'sit ups']\n",
    "~~~\n",
    "\n",
    "<br>\n",
    "Indexing key/value pairs is a bit more complicated than indexing lists or tuples, and this will be discussed in a later chapter. For now, let's turn our attention to <em>Code 9.5.2</em> to better understand how <em>**kwargs</em> can be applied.\n",
    "\n",
    "***"
   ]
  },
  {
   "cell_type": "code",
   "execution_count": null,
   "metadata": {
    "cell_style": "center",
    "deletable": false,
    "editable": false
   },
   "outputs": [],
   "source": [
    "## Code 9.5.2 ##\n",
    "\n",
    "# defining a function with **kwargs\n",
    "def daily_workout(**kwargs):\n",
    "    \n",
    "    for key, value in kwargs.items():\n",
    "        print(f'\\n{key.upper()}:')\n",
    "        \n",
    "        for v in value:\n",
    "            print('\\t__',v)\n",
    "\n",
    "\n",
    "# testing the function\n",
    "daily_workout(warm_up  = ['stretch',\n",
    "                         'run for 10 minutes',\n",
    "                         '10 push ups',\n",
    "                         '10 sit ups'],\n",
    "              \n",
    "              workout  = ['3 sets shadow boxing',\n",
    "                          '3 sets weight lifting circuit (arms & back)'\n",
    "                          'cycle for 30 minutes'],\n",
    "              \n",
    "              cooldown = ['run for 10 minutes',\n",
    "                          'stretch'])\n"
   ]
  },
  {
   "cell_type": "markdown",
   "metadata": {},
   "source": [
    "***\n",
    "\n",
    "Having a fundamental understanding of <em>**kwargs</em> will pay off dividends when working with open-source packages. For example, the method <a href=\"https://seaborn.pydata.org/generated/seaborn.heatmap.html\">heatmap</a> from the data visualization package <a href=\"https://seaborn.pydata.org/\">seaborn</a> contains a number of optional arguments allowing for customization. Even so, the final argument in its function definition is <em>**kwargs</em>, as can be seen below:\n",
    "<br><br>\n",
    "\n",
    "~~~\n",
    "heatmap(data, vmin=None, vmax=None, cmap=None, center=None, robust=False, annot=None, fmt='.2g', annot_kws=None, linewidths=0, linecolor='white', cbar=True, cbar_kws=None, cbar_ax=None, square=False, xticklabels='auto', yticklabels='auto', mask=None, ax=None, **kwargs)\n",
    "~~~\n",
    "\n",
    "<br>\n",
    "Through an analysis of the <em>help( )</em> file for <em>seaborn.heatmap</em>, the <em>**kwargs</em> parameter is meant to house other keyword arguments that are passed to <a href=\"https://matplotlib.org/3.1.1/api/_as_gen/matplotlib.axes.Axes.pcolormesh.html\">ax.pcolormesh</a>:\n",
    "<br><br>\n",
    "\n",
    "~~~\n",
    "kwargs : other keyword arguments\n",
    "        All other keyword arguments are passed to ``ax.pcolormesh``.\n",
    "~~~\n",
    "\n",
    "<br>\n",
    "This means that you can use arguments from <em>ax.pcolormesh</em> to further customize the output of <em>seaborn.heatmap</em>. The reason this is possible is because <em>seaborn</em> was built on top of the package <a href=\"https://matplotlib.org/3.1.1/index.html\">matplotlib</a>. Instead of redundantly loading <em>seaborn.heatmap</em> with a plethora of arguments that already exist in <em>matplotlib.axes.Axes.pcolormesh</em>, the developers made these arguments available as <em>**kwargs</em>. Therefore, they can be accessed indirectly.\n",
    "\n",
    "***\n",
    "\n",
    "## 9.6 Variable Scope and Nested Functions\n",
    "As with conditional statements, it is possible to write functions within functions. Before discussing further, however, it is important to reemphasize that variables in a function's body are in a different environment than variables (i.e. objects) outside of a function's body. This is a concept known as <strong>variable scope</strong>. When you create and open a new Jupyter Notebook or a new Python script, you are in the <strong>global environment</strong>, and all variable created here are globally scoped. This means that these variables are available in every part of your script (including the body of a function)."
   ]
  },
  {
   "cell_type": "markdown",
   "metadata": {
    "cell_style": "split"
   },
   "source": [
    "For example, if we defined the object <em>' y '</em> in the global environment, we could then reference it in the body of a function. This is occurring in <em>Code 9.6.1</em>, which is an adapted version of <em>Code 9.2.3</em>. As can be observed, <em>' y '</em> is being declared in the global environment and then is referenced within the body of a function. Even though this variable has not been explicitly declared within <em>power_function</em>, <em>Code 9.6.1</em> runs without error. This is what's happening behind the scenes:\n",
    "1. Python realizes that an object has been referenced in the body of a function.\n",
    "2. It starts searching upwards, line by line, within the function's body to see if this object has been declared.\n",
    "3. If it finds the object's declaration within the body, it uses this value.\n",
    "4. If it doesn't find a declaration, continues its search in the global environment.\n",
    "\n",
    "<br>\n",
    "In <em>Code 9.6.2</em>, the object <em>' y '</em> has been declared in both the global environment and the function's environment (also known as the <strong>local environment</strong>). As <em>' y '</em> has been declared locally, Python uses the local declaration of <em>' y '</em> each time <em>power_function</em> is run. However, this does not effect the global declaration of this variable, which retains its originally declared value of two.\n",
    "<br><br>\n",
    "Things get very interesting when working with nested functions, as in such situations there are more than two levels of scope:\n",
    "<br><br>\n",
    "\n",
    "~~~\n",
    "GLOBAL ENVIRONMENT\n",
    "\n",
    "    def outer_function():\n",
    "        LOCAL ENVIRONMENT\n",
    "        \n",
    "        def inner_function:\n",
    "            EVEN MORE LOCAL ENVIRONMENT\n",
    "~~~"
   ]
  },
  {
   "cell_type": "markdown",
   "metadata": {
    "cell_style": "split",
    "deletable": false,
    "editable": false,
    "run_control": {
     "frozen": true
    }
   },
   "source": [
    " "
   ]
  },
  {
   "cell_type": "code",
   "execution_count": null,
   "metadata": {
    "cell_style": "split",
    "deletable": false,
    "editable": false
   },
   "outputs": [],
   "source": [
    "## Code 9.6.1 ##\n",
    "\n",
    "# adapted from Code 9.2.3\n",
    "\n",
    "# declaring an object\n",
    "y = 2\n",
    "\n",
    "# writing a function using the declared object\n",
    "def power_function(x):\n",
    "    val = x**y\n",
    "    return val\n",
    "    \n",
    "power_function(x=2)"
   ]
  },
  {
   "cell_type": "markdown",
   "metadata": {
    "cell_style": "split",
    "deletable": false,
    "editable": false,
    "run_control": {
     "frozen": true
    }
   },
   "source": [
    "***"
   ]
  },
  {
   "cell_type": "code",
   "execution_count": null,
   "metadata": {
    "cell_style": "split",
    "deletable": false,
    "editable": false
   },
   "outputs": [],
   "source": [
    "## Code 9.6.2 ##\n",
    "\n",
    "# adapted from Code 9.6.1\n",
    "\n",
    "# declaring an object\n",
    "y = 2\n",
    "\n",
    "# writing a function using the declared object\n",
    "def power_function(x):\n",
    "    y = 3\n",
    "    val = x**y\n",
    "    return val\n",
    "    \n",
    "print(power_function(x=2))\n",
    "print(y)"
   ]
  },
  {
   "cell_type": "markdown",
   "metadata": {},
   "source": [
    "This creates a challenge when trying to manage the scope of objects. Nested functions create multiple levels of local environments, and to help sort out the confusion, let's give a unique name to each level:\n",
    "<br><br>"
   ]
  },
  {
   "cell_type": "markdown",
   "metadata": {},
   "source": [
    "<table align=\"left\">\n",
    "<col width=\"100\">\n",
    "<col width=\"250\">\n",
    "    <tr>\n",
    "        <th>Level of Scope</th>\n",
    "        <th>Interpretation</th>\n",
    "    </tr>\n",
    "    <tr>\n",
    "        <td>global</td>\n",
    "        <td> outer-most environment</td>\n",
    "    </tr>\n",
    "    <tr>\n",
    "    <tr>\n",
    "        <td>non-local</td>\n",
    "        <td> environment of the <strong>outer</strong> function</td>\n",
    "    </tr>\n",
    "    <tr>\n",
    "        <td>local</td>\n",
    "        <td> environment of the <strong>inner</strong> function</td>\n",
    "    </tr>\n",
    "</table>"
   ]
  },
  {
   "cell_type": "markdown",
   "metadata": {},
   "source": [
    "<br>\n",
    "As stated earlier in this chapter, by default, anything that takes place inside of a function has no effect on objects in the global environment. The same is true for functions nested inside of other functions: by default, the environment of the inner function has no effect on the environment of the outer function. It was also mentioned earlier that you can conceptualize the <strong>global environment</strong> as the entire planet and the <strong>non-local environment</strong> as its own secluded island. As such, the <strong>local environment</strong> can be thought of as a cave on the secluded island, where its inhabitants are isolated from the rest of the island's population. If a <strong>return</strong> statement is placed in the <strong>non-local environment</strong>, something returns to the <strong>global environment</strong>. Likewise, if a <strong>return</strong> statement is placed in the <strong>local environment</strong>, something returns to the <strong>non-local environment</strong>. This is exemplified in <em>Code 9.6.3</em>. For the convenience of the reader, each environment has been labeled with comments and outlined with hashtags ( <em>' # '</em> ).\n",
    "\n",
    "***"
   ]
  },
  {
   "cell_type": "code",
   "execution_count": null,
   "metadata": {
    "deletable": false,
    "editable": false
   },
   "outputs": [],
   "source": [
    "## Code 9.6.3 ##\n",
    "\n",
    "# global environment\n",
    "\n",
    "##############################################################################\n",
    "def outer_function():\n",
    "    # non-local environment\n",
    "    given_name  = 'Long'\n",
    "    family_name = 'Silver'\n",
    "\n",
    "    ##################################################\n",
    "    def inner_function():\n",
    "        # local environment\n",
    "        middle_name = 'John'\n",
    "        return middle_name\n",
    "    ##################################################\n",
    "    \n",
    "    # non-local environment\n",
    "    middle = inner_function()\n",
    "    full_name = given_name + ' ' + middle + ' ' + family_name\n",
    "    \n",
    "    return full_name\n",
    "\n",
    "##############################################################################\n",
    "\n",
    "# global environment\n",
    "outer_function()"
   ]
  },
  {
   "cell_type": "markdown",
   "metadata": {},
   "source": [
    "***\n",
    "\n",
    "This code starts by defining an outer function where two objects are declared: <em>given_name</em> and <em>family_name</em>. In the definition of the inner function, one new object is declared (<em>middle_initial</em>) and returned to the <strong>non-local environment</strong> (i.e. the environment of the outer function). Notice how after the inner function is defined, it is called in the outer function. Remember, in order to use a function, it must be called after it has been defined. The results of <em>inner_function</em> are being stored as a new object in <em>outer_function</em>, and this object is being used as an input for the object <em>full_name</em>. Finally, <em>full_name</em> is being returned to the <strong>global environment</strong>. When the function is called on the last line of <em>Code 9.6.3</em>, Python outputs what is stored in <em>full_name</em>, which is a concatenation of <em>given_name</em>, <em>middle_initial</em>, and <em>family_name</em>.\n",
    "\n",
    "***\n",
    "\n",
    "## 9.7 <em>global</em> and <em>nonlocal</em> Variable Assignment\n",
    "As mentioned in <em>Section 9.2</em>, Python has been designed such that objects in inner environments have no effect on objects in outer environments, <strong>with one exception:</strong> explicitly stating that an inner object should override variables in outer environments. This can be accomplished with the use of the syntaxes <strong>global</strong> and <strong>nonlocal</strong>.\n",
    "<br><br>\n",
    "Essentially, when these syntaxes are used, they override assigned objects in outer environments. As their names suggest, <strong>global</strong> will override objects in the global environment, and <strong>nonlocal</strong> will override objects in an outer function. If there are multiple levels of function nesting, <strong>nonlocal</strong> will act similar to <em>break</em> in nested loops: it will override objects one level up in the environment hierarchy. <em>Code 9.7.1</em> exemplifies how to declare a variable as <strong>global</strong>. \n",
    "<br><br>\n",
    "<strong>Note:</strong> Declaring variables as <strong>global</strong> or <strong>nonlocal</strong> should be done with extreme caution as it can cause undue side effects. For more information, check out <a href=\"https://stackoverflow.com/questions/19158339/why-are-global-variables-evil\">this thread on StackOverflow</a>.\n",
    "<br><br>\n",
    "\n",
    "***"
   ]
  },
  {
   "cell_type": "code",
   "execution_count": null,
   "metadata": {
    "deletable": false,
    "editable": false
   },
   "outputs": [],
   "source": [
    "## Code 9.7.1 ##\n",
    "\n",
    "# adapted from Code 9.6.3\n",
    "\n",
    "# global environment\n",
    "\n",
    "##############################################################################\n",
    "def character():\n",
    "    # non-local environment\n",
    "    \n",
    "    global character_name\n",
    "    character_name   = 'Long John Silver'\n",
    "\n",
    "##############################################################################\n",
    "\n",
    "# global environment\n",
    "\n",
    "# calling character() and printing name\n",
    "character()\n",
    "print(f'Character Name:  {character_name}')"
   ]
  },
  {
   "cell_type": "markdown",
   "metadata": {},
   "source": [
    "***\n",
    "\n",
    "Notice in <em>Code 9.7.1</em> that <em>character_name</em> was not originally defined in the global environment, and the <em>character()</em> function does not have a <strong>return</strong> statement. Even so, the function returns <em>character_name</em>. Behind the scenes, when <em>character_name</em> is declared <strong>global</strong>, its return statement is implied and it is automatically returned to the <strong>global environment</strong>. Also note that <em>character_name</em> must be declared <strong>global</strong> before it is assigned any value.\n",
    "<br><br>\n",
    "<strong>global</strong> can also be used to override an existing object in the <strong>global environment</strong>. This is exemplified in <em>Code 9.7.2</em>, where <em>character_name</em> is being overridden when the <em>character</em> function is being called.\n",
    "\n",
    "***"
   ]
  },
  {
   "cell_type": "code",
   "execution_count": null,
   "metadata": {
    "deletable": false,
    "editable": false
   },
   "outputs": [],
   "source": [
    "## Code 9.7.2 ##\n",
    "\n",
    "# adapted from Code 9.6.3\n",
    "\n",
    "# global environment\n",
    "character_name = 'Long Silver'\n",
    "\n",
    "##############################################################################\n",
    "def character():\n",
    "    # non-local environment\n",
    "    \n",
    "    global character_name\n",
    "    character_name   = 'Long John Silver'\n",
    "\n",
    "##############################################################################\n",
    "\n",
    "# global environment\n",
    "\n",
    "# printing name before function is called\n",
    "print(f'Character Name BEFORE function: {character_name}')\n",
    "\n",
    "# calling character() and printing name again\n",
    "character()\n",
    "print(f'Character Name AFTER function:  {character_name}')"
   ]
  },
  {
   "cell_type": "markdown",
   "metadata": {},
   "source": [
    "***\n",
    "\n",
    "Declaring an object as <strong>nonlocal</strong> is very similar to declaring it as <strong>global</strong>. As with before, it is unnecessary to write a <strong>return</strong> statement at the end of the inner function. However, in order for a variable to be declared <strong>nonlocal</strong>, it must first be defined in the outer function's environment. Otherwise, the code will throw an error. Also note that declaring an object as <strong>nonlocal</strong> does not affect the <strong>global environment</strong>. <em>Code 9.7.2</em> provides an example as to how to apply a <strong>nonlocal</strong> declaration.\n",
    "\n",
    "***"
   ]
  },
  {
   "cell_type": "code",
   "execution_count": null,
   "metadata": {
    "deletable": false,
    "editable": false
   },
   "outputs": [],
   "source": [
    "## Code 9.7.2 ##\n",
    "\n",
    "# adapted from Code 9.6.3\n",
    "\n",
    "# global environment\n",
    "\n",
    "##############################################################################\n",
    "def character():\n",
    "    # non-local environment\n",
    "    \n",
    "    # setting defaults as Homer Simpson\n",
    "    given_name  = 'Long John'\n",
    "    family_name = 'Silver'\n",
    "    character   = given_name + ' ' + family_name\n",
    "    \n",
    "    ##################################################\n",
    "    def change_character():\n",
    "        # local environment\n",
    "        \n",
    "        # using nonlocal to override local given_name\n",
    "        nonlocal character\n",
    "        character = 'Captain Flint'\n",
    "    ##################################################        \n",
    "    \n",
    "    # non-local environment\n",
    "    print(f\"\"\"\n",
    "You are currently playing as {given_name} {family_name}.\\n\n",
    "    \"\"\")\n",
    "    \n",
    "    # allowing for character change\n",
    "    change = input(\"Would you like to play as Captain Flint instead? [y]/n\\n\")\n",
    "    change = change.casefold()\n",
    "    \n",
    "    \n",
    "    # conditionally changing character\n",
    "    if 'y' in change:\n",
    "        change_character()\n",
    "\n",
    "    # passing if a user does not want to change characters\n",
    "    elif 'y' not in change:\n",
    "        pass\n",
    "    \n",
    "    else:\n",
    "        print('Something went wrong.')\n",
    "\n",
    "    # outputting final character\n",
    "    return character\n",
    "\n",
    "##############################################################################\n",
    "\n",
    "# global environment\n",
    "player = character()\n",
    "print(f'\\nWelcome to the game {player}!')"
   ]
  },
  {
   "cell_type": "markdown",
   "metadata": {},
   "source": [
    "***\n",
    "\n",
    "This code block also introduces the syntax <strong>pass</strong>, which Python's way of saying <em>'do nothing and continue'</em>. Generally, <strong>pass</strong> is used as a placeholder when building complex code. For example, when building a code with several nested functions, loops, or conditional statements, a programmer may decide to first build a skeleton (i.e. an outline). With the use of <strong>pass</strong>, the programmer can build various parts of the code and immediately test them. Without <strong>pass</strong>, Python will throw an error each time it sees a conditional statement with no body. This is illustrated in the code below.\n",
    "<br><br>\n",
    "~~~\n",
    "buttons = 50\n",
    "\n",
    "if buttons < 5:\n",
    "    pass\n",
    "   \n",
    "elif buttons <= 25:\n",
    "    pass\n",
    "   \n",
    "elif buttons > 25:\n",
    "    print(\"That's a lot of buttons!\")\n",
    "   \n",
    "else:\n",
    "    print('Something went wrong.')\n",
    "\n",
    "\n",
    "~~~\n",
    "<br> \n",
    "\n",
    "***\n",
    "\n",
    "## 9.8 Exception Handling\n",
    "The final section of this chapter shall discuss <strong>exception handling</strong>. According to <a href=\"https://docs.python.org/3/tutorial/errors.html\">the Python documentation</a>, errors come in two forms: syntax errors and exceptions. Syntax errors occur when a code violates the grammar of Python (a missing semicolon, improper indentation, etc.), and result in the following error message:\n",
    "<br><br>\n",
    "\n",
    "~~~\n",
    "SyntaxError: invalid syntax\n",
    "~~~\n",
    "\n",
    "<br>\n",
    "Exceptions are events that disrupt the flow of a program's execution.  Things such as attempting to divide my zero, calling an object that has not been defined, and trying to divide a string by another string lead to exceptions. When an exception occurs, Python throws an <a href='https://docs.python.org/3/library/exceptions.html#concrete-exceptions'>exception error</a>, which is a message designed to help programmers understand what caused the error. The table below exhibits some common exception messages you may experience while applying Python to business analytics.\n",
    "<br><br><br><table width=\"600\" align=\"left\">\n",
    "<col width=\"125\">\n",
    "<col width=\"475\">\n",
    "    <tr>\n",
    "        <th>Exception Message</th>\n",
    "        <th>Interpretation</th>\n",
    "    </tr>\n",
    "    <tr>\n",
    "        <td> ImportError </td>\n",
    "        <td> raised during <em>import</em> Python is having trouble loading a module</td>\n",
    "    </tr>\n",
    "    <tr>\n",
    "        <td> ModuleNotFoundError </td>\n",
    "        <td> raised during <em>import</em> when a module cannot be found</td>\n",
    "    </tr>\n",
    "    <tr>\n",
    "        <td> IndexError </td>\n",
    "        <td> raised when an index value is out of range</td>\n",
    "    </tr>   \n",
    "    <tr>\n",
    "        <td> KeyboardInterrupt </td>\n",
    "        <td> raised when you interrupt/restart your Python kernel</td>\n",
    "    </tr>\n",
    "    <tr>\n",
    "        <td> NameError </td>\n",
    "        <td> raised when an object is referenced that cannot be found</td>\n",
    "    </tr>\n",
    "    <tr>\n",
    "        <td> TypeError </td>\n",
    "        <td> raised when an operation fails due to an inappropriate object type</td>\n",
    "    </tr>\n",
    "    <tr>\n",
    "        <td> ValueError </td>\n",
    "        <td> raised when an object is of an appropriate type, but is of an inappropriate value</td>\n",
    "    </tr>\n",
    "    <tr>\n",
    "        <td> ZeroDivisionError </td>\n",
    "        <td> raised when an operation attempts to divide by zero</td>\n",
    "    </tr>\n",
    "    <tr>\n",
    "        <td> FileNotFoundError </td>\n",
    "        <td> raised when Python cannot find a file that has been referenced</td>\n",
    "    </tr>\n",
    "</table>\n"
   ]
  },
  {
   "cell_type": "markdown",
   "metadata": {},
   "source": [
    "<br>\n",
    "Oftentimes, once an exception is thrown, Python will terminate whatever operations it is running as it does not know how to move forward. This also gives programmers an opportunity to fix their code. However, our learnings in <a href=\"https://github.com/chase-kusterer/Python-for-Business-Analytics\">Chapter 3: User Input and Variable Types</a> have taught us that errors can also be caused by user input. To help manage this, Python includes two useful syntaxes: <strong>try</strong> and <strong>except</strong>. As their names suggest, <strong>try</strong> permits a program to <em>try</em> to do something, and <strong>except</strong> is what to do in the event that the program throws an <em>exception</em> after trying. Essentially, the <strong>try</strong>/<strong>except</strong> structure is like a conditional statement designed to help manage errors."
   ]
  },
  {
   "cell_type": "markdown",
   "metadata": {
    "cell_style": "split"
   },
   "source": [
    "As an example, let's turn our attention to <em>Code 9.8.1</em>, which is a replication of <em>Code 3.2.5</em>. As you may recall, if a user inputs anything other than an integer, this code will throw an exception. For example, if a user were to input a string or float, Python would throw the following:\n",
    "<br><br>\n",
    "\n",
    "~~~\n",
    "ValueError: invalid literal for int() with base 10: 'VALUE'\n",
    "~~~\n",
    "\n",
    "<br>\n",
    "This is due to the type conversion in <em>Line 12</em>, as Python does not know what to do when encountering a non-integer value. This would cause <em>Code 9.8.1</em> to terminate. However, this can be prevented with the use of <strong>try</strong>/<strong>except</strong>.\n",
    "<br><br>\n",
    "In its base form, the <strong>except</strong> clause will run regardless which type of exception occurs. If applied to the body of a <em>while True</em> loop, <strong>try</strong>/<strong>except</strong> can be used with <em>break</em> and <em>continue</em> to keep looping until a user gives an appropriate input. This has been developed in <em>Code 9.8.1</em>. "
   ]
  },
  {
   "cell_type": "markdown",
   "metadata": {
    "cell_style": "split",
    "deletable": false,
    "editable": false,
    "run_control": {
     "frozen": true
    }
   },
   "source": [
    " "
   ]
  },
  {
   "cell_type": "code",
   "execution_count": null,
   "metadata": {
    "cell_style": "split",
    "deletable": false,
    "editable": false
   },
   "outputs": [],
   "source": [
    "## Code 9.8.1 ##\n",
    "\n",
    "# replicated from Code 3.2.5\n",
    "\n",
    "number = input(\"\"\"\n",
    "What is your favorite number between 1 and 10?\n",
    "Please input numbers (no text).\\t\"\"\")\n",
    "\n",
    "print(f\"\\nYou've input {number}.\")\n",
    "\n",
    "# Converting number to type int\n",
    "number = int(number)\n",
    "\n",
    "double = number * 2\n",
    "\n",
    "print(f\"\"\"\n",
    "If you double that number, it becomes {double}.\n",
    "\"\"\")"
   ]
  },
  {
   "cell_type": "markdown",
   "metadata": {
    "cell_style": "split",
    "deletable": false,
    "editable": false,
    "run_control": {
     "frozen": true
    }
   },
   "source": [
    "***"
   ]
  },
  {
   "cell_type": "markdown",
   "metadata": {},
   "source": [
    "***"
   ]
  },
  {
   "cell_type": "code",
   "execution_count": null,
   "metadata": {
    "cell_style": "center",
    "deletable": false,
    "editable": false
   },
   "outputs": [],
   "source": [
    "## Code 9.8.2 ##\n",
    "\n",
    "# adapted from Code 3.2.5\n",
    "\n",
    "while True:\n",
    "    number = input(\"\"\"\n",
    "What is your favorite number between 1 and 10?\n",
    "Please input numbers (no text).\\t\"\"\")\n",
    "\n",
    "    print(f\"\\nYou've input {number}.\")\n",
    "\n",
    "    # Converting number to type int\n",
    "    try:\n",
    "        number = int(number)\n",
    "        break\n",
    "\n",
    "    except:\n",
    "        print(\"That wasn't a proper input.\")\n",
    "        continue\n",
    "\n",
    "double = number * 2\n",
    "\n",
    "print(f\"\"\"\n",
    "If you double that number, it becomes {double}.\n",
    "\"\"\")\n"
   ]
  },
  {
   "cell_type": "markdown",
   "metadata": {},
   "source": [
    "***\n",
    "\n",
    "<br>\n",
    "\n",
    "#### Customizing <em>try</em>/<em>except</em> based on Exception Types\n",
    "Generally, it is a good practice to write an exception clause for each error that a user may reasonably encounter. Such a practice allows for different exceptions to lead to different actions. For example, the user-defined function in <em>Code 9.8.3</em> is likely to encounter either a <em>TypeError</em> (user did not overwrite the default value for the argument <em>apples</em>), or a <em>ValueError</em> (user did not input an integer value for <em>apples</em>). As such, two <strong>except</strong> clauses have been coded, each leading to a different action in order to remedy its respective error. Once the function receives an appropriate value for <em>apples</em>, the <strong>try</strong> clause runs successfully and breaks out of the <em>while True</em> loop.\n",
    "\n",
    "***"
   ]
  },
  {
   "cell_type": "code",
   "execution_count": 53,
   "metadata": {
    "deletable": false,
    "editable": false
   },
   "outputs": [
    {
     "name": "stdout",
     "output_type": "stream",
     "text": [
      "How many apples have you picked?\n",
      "34\n",
      "Adding 34 apples to your inventory!\n"
     ]
    }
   ],
   "source": [
    "## Code 9.8.3 ##\n",
    "\n",
    "# declaring an object\n",
    "apple_inventory = 0\n",
    "\n",
    "# writing a function\n",
    "def apple_orchard(apples=None, inventory=apple_inventory):\n",
    "    \"\"\"This function adds apples to your inventory.\"\"\"\n",
    "    \n",
    "    # handling exceptions\n",
    "    while True:\n",
    "        try:\n",
    "            apples = int(apples)\n",
    "            break\n",
    "\n",
    "                  \n",
    "        except TypeError:\n",
    "            apples = input(\"How many apples have you picked?\\n\")\n",
    "        \n",
    "        except ValueError:\n",
    "            print(\"That's not a valid number of apples. Please try again\")\n",
    "            apples = input('>')\n",
    "\n",
    "    print(f\"Adding {int(apples)} apples to your inventory!\")\n",
    "    inventory += apples\n",
    "    return inventory\n",
    "\n",
    "# running the function\n",
    "apple_inventory = apple_orchard()"
   ]
  },
  {
   "cell_type": "markdown",
   "metadata": {},
   "source": [
    "***\n",
    "\n",
    "Let's apply <strong>try</strong>/<strong>except</strong> to <em>Code 8.4.3</em>, which has been replicated in <em>Code 9.8.4</em>. As you may recall, this code was designed to calculate how many seasons it took for Michael Jordan to score 25,000 points. Our original approach threw exceptions when encountering the strings in the points per season data (index 1 in each sublist). Thus, one of our first steps was to clean the data so that points per season only contained integers. This was a good approach, but it is limited. To illustrate, let's assume an overnight change was made to our data source and all data within had been converted to strings. In such a case, the data cleaning process conducted in <a href=\"https://github.com/chase-kusterer/Python-for-Business-Analytics\">Chapter 8: while Loops and Making Assumptions</a> would result in no data. A more sounds approach would be to <strong>try</strong> to convert each string into an integer and tally successful attempts accordingly. This would also allow for the possibility of calculating how many seasons were skipped due to Jordan not playing. <em>Code 9.8.4</em> has been left open for you to:\n",
    "* convert the values for points per season into an integer\n",
    "* handle exceptions when a value is inappropriate for the aforementioned type conversion\n",
    "* add new functionality such that the code outputs the number of seasons where Jordan did not play leading up to surpassing the point limit\n",
    "\n",
    "***"
   ]
  },
  {
   "cell_type": "code",
   "execution_count": null,
   "metadata": {
    "solution2": "hidden",
    "solution2_first": true
   },
   "outputs": [],
   "source": [
    "## Code 9.8.4 ##\n",
    "\n",
    "# open coding block\n",
    "\n",
    "# replicated from Code 8.3.2\n",
    "jordan_stats = [[\"'84-'85\", '2313', 'Y'],\n",
    "                [\"'85-'86\", '408',  'N'],\n",
    "                [\"'86-'87\", '3041', 'Y'],\n",
    "                [\"'87-'88\", '2868', 'Y'],\n",
    "                [\"'88-'89\", '2633', 'Y'],\n",
    "                [\"'89-'90\", '2753', 'Y'],\n",
    "                [\"'90-'91\", '2580', 'Y'],\n",
    "                [\"'91-'92\", '2404', 'Y'],\n",
    "                [\"'92-'93\", '2541', 'Y'],\n",
    "                [\"'93-'94\", 'DNP', 'DNP'],\n",
    "                [\"'94-'95\", '457',  'N'],\n",
    "                [\"'95-'96\", '2491', 'Y'],\n",
    "                [\"'96-'97\", '2431', 'Y'],\n",
    "                [\"'97-'98\", '2357', 'Y'],\n",
    "                [\"'98-'99\", 'Retired', 'Retired'],\n",
    "                [\"'99-'00\", 'Retired', 'Retired'],\n",
    "                [\"'00-'01\", 'Retired', 'Retired'],\n",
    "                [\"'01-'02\", '1375', 'N'],\n",
    "                [\"'02-'03\", '1640', 'N']]\n",
    "\n",
    "\n",
    "# adapted from Code 8.4.3\n",
    "\"\"\"\n",
    "Assumptions:\n",
    "    Calculations should only include seasons where Jordan played.\n",
    "\"\"\"\n",
    "\n",
    "# declaring objects\n",
    "total_points  = 0\n",
    "total_seasons = 0\n",
    "point_limit   = 25000\n",
    "\n",
    "\n",
    "# writing the outer loop\n",
    "for season, points, lead_scorer in jordan_stats_2:\n",
    "    \n",
    "    # writing the inner loop\n",
    "    while total_points < point_limit:\n",
    "            total_points  += points\n",
    "            total_seasons += 1\n",
    "            break\n",
    "\n",
    "\n",
    "# printing the results\n",
    "print(f\"\"\"\n",
    "{'*' * 40}\n",
    "\n",
    "It took {total_seasons} seasons for Jordan to score\n",
    "more than {point_limit} points (scoring {total_points}).\n",
    "\n",
    "{'*' * 40}\n",
    "\"\"\")"
   ]
  },
  {
   "cell_type": "code",
   "execution_count": 81,
   "metadata": {
    "deletable": false,
    "editable": false,
    "solution2": "hidden"
   },
   "outputs": [
    {
     "name": "stdout",
     "output_type": "stream",
     "text": [
      "\n",
      "****************************************\n",
      "\n",
      "In seasons where he led the league in scoring,\n",
      "Jordan surpassed 30000000 points after 15\n",
      "seasons (scoring 32292).\n",
      "      \n",
      "This calculation excludes 4 season(s) where\n",
      "Jordan did not play.\n",
      "\n",
      "****************************************\n",
      "\n"
     ]
    }
   ],
   "source": [
    "## Sample Solution 9.8.4 ##\n",
    "\n",
    "# replicated from Code 8.3.2\n",
    "jordan_stats = [[\"'84-'85\", '2313', 'Y'],\n",
    "                [\"'85-'86\", '408',  'N'],\n",
    "                [\"'86-'87\", '3041', 'Y'],\n",
    "                [\"'87-'88\", '2868', 'Y'],\n",
    "                [\"'88-'89\", '2633', 'Y'],\n",
    "                [\"'89-'90\", '2753', 'Y'],\n",
    "                [\"'90-'91\", '2580', 'Y'],\n",
    "                [\"'91-'92\", '2404', 'Y'],\n",
    "                [\"'92-'93\", '2541', 'Y'],\n",
    "                [\"'93-'94\", 'DNP', 'DNP'],\n",
    "                [\"'94-'95\", '457',  'N'],\n",
    "                [\"'95-'96\", '2491', 'Y'],\n",
    "                [\"'96-'97\", '2431', 'Y'],\n",
    "                [\"'97-'98\", '2357', 'Y'],\n",
    "                [\"'98-'99\", 'Retired', 'Retired'],\n",
    "                [\"'99-'00\", 'Retired', 'Retired'],\n",
    "                [\"'00-'01\", 'Retired', 'Retired'],\n",
    "                [\"'01-'02\", '1375', 'N'],\n",
    "                [\"'02-'03\", '1640', 'N']]\n",
    "\n",
    "\n",
    "# adapted from Code 8.4.3\n",
    "\"\"\"\n",
    "Assumptions:\n",
    "    Calculations should only include seasons where Jordan played.\n",
    "\"\"\"\n",
    "\n",
    "# declaring objects\n",
    "total_points  = 0\n",
    "total_seasons = 0\n",
    "point_limit   = 25000\n",
    "skipped_seasons = 0\n",
    "\n",
    "\n",
    "# writing loops\n",
    "for season, points, lead_scorer in jordan_stats:\n",
    "\n",
    "    while total_points < point_limit:\n",
    "        \n",
    "        try:\n",
    "            points = int(points)\n",
    "            total_points  += points\n",
    "            total_seasons += 1\n",
    "            break\n",
    "   \n",
    "        # for strings that cannot be converted to integers\n",
    "        except ValueError:\n",
    "            skipped_seasons += 1\n",
    "            break            \n",
    "\n",
    "        \n",
    "# printing the results\n",
    "print(f\"\"\"\n",
    "{'*' * 40}\n",
    "\n",
    "In seasons where he led the league in scoring,\n",
    "Jordan surpassed {point_limit} points after {total_seasons}\n",
    "seasons (scoring {total_points}).\n",
    "      \n",
    "This calculation excludes {skipped_seasons} season(s) where\n",
    "Jordan did not play.\n",
    "\n",
    "{'*' * 40}\n",
    "\"\"\")"
   ]
  },
  {
   "cell_type": "markdown",
   "metadata": {},
   "source": [
    "***\n",
    "\n",
    "## 9.9 Summary\n",
    "\n",
    "The utilization of <em>while True</em>, <strong>try</strong>/<strong>except</strong>, and informative input prompts can have a strong positive impact on user satisfaction when applying your code.\n",
    "\n",
    "\n",
    "~~~\n",
    "\n",
    "   ,ggggggg,                                                                            \n",
    " ,dP\"\"\"\"\"\"Y8b                                ,dPYb, ,dPYb,                         I8   \n",
    " d8'    a  Y8                                IP'`Yb IP'`Yb                         I8   \n",
    " 88     \"Y8P'                                I8  8I I8  8I                      88888888\n",
    " `8baaaa                                     I8  8' I8  8'                         I8   \n",
    ",d8P\"\"\"\"        ,gg,   ,gg  ,gggg,   ,ggg,   I8 dP  I8 dP   ,ggg,    ,ggg,,ggg,    I8   \n",
    "d8\"            d8\"\"8b,dP\"  dP\"  \"Yb i8\" \"8i  I8dP   I8dP   i8\" \"8i  ,8\" \"8P\" \"8,   I8   \n",
    "Y8,           dP   ,88\"   i8'       I8, ,8I  I8P    I8P    I8, ,8I  I8   8I   8I  ,I8,  \n",
    "`Yba,,_____,,dP  ,dP\"Y8, ,d8,_    _ `YbadP' ,d8b,_ ,d8b,_  `YbadP' ,dP   8I   Yb,,d88b, \n",
    "  `\"Y88888888\"  dP\"   \"Y8P\"\"Y8888PP888P\"Y8888P'\"Y888P'\"Y88888P\"Y8888P'   8I   `Y88P\"\"Y8 \n",
    "                                                                                        \n",
    "\n",
    "~~~\n"
   ]
  },
  {
   "cell_type": "markdown",
   "metadata": {},
   "source": [
    "## Notes\n",
    "_ x _ pass<br>\n",
    "_ x _ global<br>\n",
    "_ x _ nonlocal<br>\n",
    "_ x _ exception handling\n",
    "\n",
    "The utilization of <em>while True</em>, <strong>try</strong>/<strong>except</strong>, and informative input prompts can have a strong positive impact on user satisfaction when applying your code.\n"
   ]
  },
  {
   "cell_type": "code",
   "execution_count": null,
   "metadata": {},
   "outputs": [],
   "source": []
  },
  {
   "cell_type": "code",
   "execution_count": null,
   "metadata": {},
   "outputs": [],
   "source": []
  },
  {
   "cell_type": "code",
   "execution_count": null,
   "metadata": {},
   "outputs": [],
   "source": [
    "outer_function()"
   ]
  }
 ],
 "metadata": {
  "kernelspec": {
   "display_name": "Python 3",
   "language": "python",
   "name": "python3"
  },
  "language_info": {
   "codemirror_mode": {
    "name": "ipython",
    "version": 3
   },
   "file_extension": ".py",
   "mimetype": "text/x-python",
   "name": "python",
   "nbconvert_exporter": "python",
   "pygments_lexer": "ipython3",
   "version": "3.6.9"
  },
  "toc": {
   "base_numbering": 1,
   "nav_menu": {},
   "number_sections": false,
   "sideBar": true,
   "skip_h1_title": false,
   "title_cell": "Table of Contents",
   "title_sidebar": "Contents",
   "toc_cell": false,
   "toc_position": {},
   "toc_section_display": true,
   "toc_window_display": false
  },
  "varInspector": {
   "cols": {
    "lenName": 16,
    "lenType": 16,
    "lenVar": 40
   },
   "kernels_config": {
    "python": {
     "delete_cmd_postfix": "",
     "delete_cmd_prefix": "del ",
     "library": "var_list.py",
     "varRefreshCmd": "print(var_dic_list())"
    },
    "r": {
     "delete_cmd_postfix": ") ",
     "delete_cmd_prefix": "rm(",
     "library": "var_list.r",
     "varRefreshCmd": "cat(var_dic_list()) "
    }
   },
   "oldHeight": 122.22178,
   "position": {
    "height": "375.729px",
    "left": "1033.98px",
    "right": "20px",
    "top": "100.983px",
    "width": "541.285px"
   },
   "types_to_exclude": [
    "module",
    "function",
    "builtin_function_or_method",
    "instance",
    "_Feature"
   ],
   "varInspector_section_display": "block",
   "window_display": false
  }
 },
 "nbformat": 4,
 "nbformat_minor": 2
}
