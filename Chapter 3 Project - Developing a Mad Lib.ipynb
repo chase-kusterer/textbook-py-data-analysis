{
 "cells": [
  {
   "cell_type": "markdown",
   "metadata": {
    "deletable": false,
    "editable": false,
    "run_control": {
     "frozen": true
    }
   },
   "source": [
    "***\n",
    "***\n",
    "***\n",
    "<br><br><br><br><br>\n",
    "<h1>Python for Business Analytics</h1>\n",
    "<em>A Nontechnical Approach for Nontechnical People</em><br><br>\n",
    "<em><strong>Custom Edition for Hult International Business School</strong></em><br>\n",
    "\n",
    "Written by Chase Kusterer - Faculty of Analytics <br>\n",
    "Hult International Business School <br>\n",
    "https://github.com/chase-kusterer <br><br><br><br><br>\n",
    "***\n",
    "***\n",
    "***\n",
    "\n",
    "# <u>Project Chapter 3: Developing a Mad Lib</u>"
   ]
  },
  {
   "cell_type": "markdown",
   "metadata": {
    "deletable": false,
    "editable": false,
    "run_control": {
     "frozen": true
    }
   },
   "source": [
    "Welcome to your first project in <em>Python for Business Analytics</em>! In this project, we are going to dive into one of my favorite childhood games: mad libs. If you are unsure what a mad lib is, [Wikipedia](https://en.wikipedia.org/wiki/Mad_Libs) defines them as \"phrasal template word game where one player prompts others for a list of words to substitute for blanks in a story.\" This is an excellent project for our current level of coding. In [Chapter 2 - Printing, Dynamic Strings, and Escape Sequences](https://github.com/chase-kusterer/Python-for-Business-Analytics/), we discovered how to build dynamic templates using f-strings. We also learned how to format dynamic templates using triple-quotes, making our user interface all the more pleasant. In [Chapter 3 - User Input and Variable Types](https://github.com/chase-kusterer/Python-for-Business-Analytics/), we not only learned how to prompt a user for input, but also how to convert object types so that they can be utilized in calculations and in formatting. This small handful of tools will provide invaluable in this project, as will your own personal creativity.<br><br>\n",
    "<strong>Purpose</strong><br>\n",
    "This project is designed to help develop skills in printing, prompting users for input, and various formatting operations.<br><br>\n",
    "\n",
    "<strong>Primary Topics Covered</strong>\n",
    "* printing (standard and formatted strings)\n",
    "* commenting (# and triple-quotes)\n",
    "* user input"
   ]
  },
  {
   "cell_type": "markdown",
   "metadata": {
    "deletable": false,
    "editable": false,
    "run_control": {
     "frozen": true
    }
   },
   "source": [
    "***\n",
    "\n",
    "## P3.1 How Mad Libs Work\n",
    "Imagine you're on a road trip with one of your friends. You're driving, your friend is in the passenger seat, and you're looking for a way to pass the time. All of a sudden, your friend yells:\n",
    "<br><br>\n",
    "\n",
    "<div align=\"center\">\n",
    "<em>Give me a noun!</em>\n",
    "<a class=\"tocSkip\"></div>\n",
    " \n",
    "<br>\n",
    "Slightly confused, you say the first noun (a person, place, thing, or idea) that comes to your mind. Then, your friend writes this down, and yells:\n",
    "<br>\n",
    "\n",
    "<div align=\"center\">\n",
    "<em>Now give me an adjective!</em>\n",
    "<a class=\"tocSkip\"></div>\n",
    " \n",
    "<br>\n",
    "After a second, you remember that an adjective is a word used to describe a noun. Still confused, you say the first adjective that comes to your mind. This processes of continues for a short time, and then your friend says:\n",
    "<br><br>\n",
    "\n",
    "<div align=\"center\">\n",
    "<em>Are you ready to hear your story?</em>\n",
    "<a class=\"tocSkip\"></div>\n",
    "\n",
    "<br>\n",
    "Of course, you are intrigued and say that you are ready. Your friend then reads a seemingly normal story that's been made far more entertaining given the words you have selected. This process is known as a mad lib, and you have made it far enough in your Python journey to be ready to code one.\n",
    "<br><br>\n",
    "\n",
    "***\n",
    "## P3.2 The Starter Story\n",
    "The story we will be working with is a short piece of fiction that I wrote specifically for your enjoyment. Nothing about this story is historically accurate, and it's going to be a whole lot of fun turning it into a mad lib!\n"
   ]
  },
  {
   "cell_type": "markdown",
   "metadata": {
    "deletable": false,
    "editable": false,
    "run_control": {
     "frozen": true
    }
   },
   "source": [
    "<div align=\"center\">\n",
    "<div style=\"width:80%;min-width:50px\">\n",
    "<strong>The world has seen countless inventions, but none quite like the corn dog. This nifty invention was first prototyped in 1968 by the infamous German physicist Michael Mustache. When it first hit the shelves of the super market, people were flying through the doors to purchase them. In fact, super market managers had to hire security guards just to settle the crowds. Even though there was a limit of five boxes per customer, one person tried to purchase 500 every day of the week!</strong>\n",
    "<a class=\"tocSkip\"></div></div>"
   ]
  },
  {
   "cell_type": "markdown",
   "metadata": {
    "deletable": false,
    "editable": false,
    "run_control": {
     "frozen": true
    }
   },
   "source": [
    "***\n",
    "## P3.3 Designing our Program\n",
    "Our first task is identify words we would like to remove from our story. These will become dynamic spaces in an f-string (i.e <em>{DYNAMIC_SPACE}</em> ). We will then ask users to fill these spaces by prompting them to do so. Finally, we will output the new story for their entertainment. We should also consider other details of our program, such as whether or not we should allow users to save their results or to play again. While this is important, such coding is currently beyond our abilities and will be covered in later chapters. If you're feeling ambitious, feel free to do some research, implement this functionality, and make your program all the more awesome!<br><br>\n",
    "As it stands, we have the following requirements:\n",
    "* develop a dynamic template based on a text-based story\n",
    "* prompt users to input various words of their choice based on parts of speech\n",
    "* reference the words from user input in the dynamic template\n",
    "* print the new story based on the template and utilizing the words from user input\n",
    "\n",
    "<br>\n",
    "<strong>Note:</strong> If you've forgotten your parts of speech, <a href=\"http://www.madlibs.com/MadLibs-Teachers-Guide-nocrops.pdf\"> madlibs.com</a> has a great .pdf resource on their website."
   ]
  },
  {
   "cell_type": "markdown",
   "metadata": {
    "deletable": false,
    "editable": false,
    "run_control": {
     "frozen": true
    }
   },
   "source": [
    "***\n",
    "## P3.4 Dynamic Templating\n",
    "Our first step in developing a dynamic template for our mad lib is to decide which words or phrases should be made dynamic. We can choose to create as many or as few dynamic spaces as we like, and it is generally best to focus on nouns, verbs, adjectives, adverbs, numbers, and names. Once we've identified a word, we need to create an object to be used in its dynamic space. Let's take the first sentences as an example:<br><br>\n",
    "\n",
    "~~~\n",
    "The world has seen countless inventions, but none quite like the corn dog.\n",
    "~~~\n",
    "\n",
    "<br>\n",
    "This sentence contains several candidates for dynamic spaces, <em>corn dog</em> being my personal favorite. As mentioned, we first need to create an object that we can place inside a dynamic space. As a best practice, our program's object names should be intuitive, and in this case, scalable. Thus, I have named this object <em>singular_thing_1</em>. This name is intuitive (it hints as to what should go in this space) and it is scalable (if we need another singular thing for a different dynamic space in our mad lib, we can call it <em>singular_thing_2</em>). Also, in this step we will keep it simple and store the string <em>corn dog</em> in this object instead of prompting a user for input. The benefit of such a step is that we can more easily see if our program is working as expected.<br><br>\n",
    "\n",
    "~~~\n",
    "singular_thing_1 = 'corn dog'\n",
    "\n",
    "print(f\"\"\"The world has seen countless inventions, but none quite like the {singular_thing_1}.\"\"\")\n",
    "~~~"
   ]
  },
  {
   "cell_type": "code",
   "execution_count": 1,
   "metadata": {
    "cell_style": "center",
    "deletable": false,
    "editable": false
   },
   "outputs": [
    {
     "name": "stdout",
     "output_type": "stream",
     "text": [
      "The world has seen countless inventions, but none quite like the corn dog.\n"
     ]
    }
   ],
   "source": [
    "## Project Code 3.4.1 ##\n",
    "singular_thing_1 = 'corn dog'\n",
    "\n",
    "print(f\"\"\"The world has seen countless inventions, but none quite like the {singular_thing_1}.\"\"\")"
   ]
  },
  {
   "cell_type": "markdown",
   "metadata": {
    "deletable": false,
    "editable": false,
    "run_control": {
     "frozen": true
    }
   },
   "source": [
    "***\n",
    "## P3.5 Prompting Users\n",
    "The output of <em>Project Code 1.1</em> looks identical to the sentence we are trying to mimic, implying that we are ready to use this space to prompt a user for input. If this is successful, we have prototyped a method that can be applied across our mad lib. As mentioned in [Chapter 3: User Input and Variable Types](https://github.com/chase-kusterer/Python-for-Business-Analytics/), our prompt message should be intuitive so that the user knows what they should do. This is often easier said that done, and we need to consider our target audience:<br><br>\n",
    "\n",
    "~~~\n",
    "# Prompt message for an adult\n",
    "input('Singular, man-made object:\\t')\n",
    "\n",
    "# Prompt message for a 5-year old\n",
    "input('Give me a thing, like basketball, roller skate, car...:\\t')\n",
    "\n",
    "# Complete the sentence prompt message:\n",
    "input(\"\"\"\n",
    "Complete the sentence:\n",
    "The world has seen countless inventions, but none quite like the...\n",
    "\"\"\")\n",
    "~~~\n",
    "\n",
    "<br>\n",
    "All three prompt messages have merits. However, the third message may be too informative for a mad lib, as not knowing how your word will be used in context is part of the fun. Also, since the target audience of this book is older than five, we shall consider using something similar to the first prompt. This prompt can be altered and enhanced in many ways. For example, if we add directions at the beginning of our mad lib, we would be able to simplify our prompt messages and directly ask for each part of speech.<br><br>\n",
    "\n",
    "~~~\n",
    "# Another prompt message for an adult\n",
    "print(f\"\"\"\n",
    "{'-' * 40}\n",
    "\n",
    "DIRECTIONS:\n",
    "In this game, we are going to create a story based on words you select.\n",
    "Each blank contains a part of speech, and your job is to input the first\n",
    "word that comes to your mind. After you have filled in all of the blanks,\n",
    "your story will appear.\n",
    "\n",
    "{'-' * 40}\\n\"\"\")\n",
    "\n",
    "singular_thing_1 = input('SINGULAR, MAN-MADE OBJECT:\\t')\n",
    "\n",
    "print(f\"\"\"\n",
    "The world has seen countless inventions, but none quite like the {singular_thing_1}.\n",
    "\"\"\")\n",
    "~~~\n",
    "\n",
    "<br>\n",
    "The above code can be run in <em>Project Code 1.2</em>. After determining that its the results are satisfactory, we are ready to extend our prototype to the entire story.\n",
    "\n",
    "***"
   ]
  },
  {
   "cell_type": "code",
   "execution_count": 10,
   "metadata": {
    "collapsed": true,
    "deletable": false,
    "editable": false
   },
   "outputs": [
    {
     "name": "stdout",
     "output_type": "stream",
     "text": [
      "\n",
      "----------------------------------------\n",
      "\n",
      "DIRECTIONS:\n",
      "In this game, we are going to create a story based on words you select.\n",
      "Each blank contains a part of speech, and your job is to input the first\n",
      "word that comes to your mind. After you have filled in all of the blanks,\n",
      "your story will appear.\n",
      "\n",
      "----------------------------------------\n",
      "\n",
      "SINGULAR, MAN-MADE OBJECT:\tcorn dog\n",
      "\n",
      "The world has seen countless inventions, but none quite like the corn dog.\n",
      "\n"
     ]
    }
   ],
   "source": [
    "## Project Code 3.5.1 ##\n",
    "\n",
    "# Another prompt message for an adult\n",
    "print(f\"\"\"\n",
    "{'-' * 40}\n",
    "\n",
    "DIRECTIONS:\n",
    "In this game, we are going to create a story based on words you select.\n",
    "Each blank contains a part of speech, and your job is to input the first\n",
    "word that comes to your mind. After you have filled in all of the blanks,\n",
    "your story will appear.\n",
    "\n",
    "{'-' * 40}\\n\"\"\")\n",
    "\n",
    "singular_thing_1 = input('SINGULAR, MAN-MADE OBJECT:\\t')\n",
    "\n",
    "print(f\"\"\"\n",
    "The world has seen countless inventions, but none quite like the {singular_thing_1}.\n",
    "\"\"\")"
   ]
  },
  {
   "cell_type": "markdown",
   "metadata": {
    "deletable": false,
    "editable": false,
    "run_control": {
     "frozen": true
    }
   },
   "source": [
    "***\n",
    "\n",
    "#### Use the open coding block below to develop your dynamic template.\n",
    "<strong>Note:</strong> Click <em>Show Solution</em> to see a sample solution\n",
    "to this project."
   ]
  },
  {
   "cell_type": "code",
   "execution_count": null,
   "metadata": {
    "solution2": "hidden",
    "solution2_first": true
   },
   "outputs": [],
   "source": [
    "## Project Code 3.5.2 ##\n",
    "\n",
    "# Open coding block\n",
    "\n",
    "\n",
    "\n",
    "\n",
    "\n",
    "\n"
   ]
  },
  {
   "cell_type": "code",
   "execution_count": 17,
   "metadata": {
    "collapsed": true,
    "deletable": false,
    "editable": false,
    "solution2": "hidden"
   },
   "outputs": [
    {
     "name": "stdout",
     "output_type": "stream",
     "text": [
      "\n",
      "----------------------------------------\n",
      "\n",
      "DIRECTIONS:\n",
      "In this game, we are going to create a story based on words you select.\n",
      "Each blank contains a part of speech, and your job is to input the first\n",
      "word that comes to your mind. After you have filled in all of the blanks,\n",
      "your story will appear.\n",
      "\n",
      "There are a total of 12 blanks.\n",
      "\n",
      "----------------------------------------\n",
      "\n",
      "SINGULAR, MAN-MADE OBJECT:\n",
      "brownie\n",
      "ADJECTIVE:\n",
      "handsome\n",
      "YEAR:\n",
      "1984\n",
      "NATIONALITY:\n",
      "AMerican\n",
      "PROFESSION:\n",
      "doctor\n",
      "PERSON'S NAME:\n",
      "Donald Brown\n",
      "PLACE WHERE YOU CAN BUY THINGS:\n",
      "electronics store\n",
      "VERB IN PROGRESSIVE TENSE (ENDING IN -ING):\n",
      "parking\n",
      "VERB IN INFINITIVE TENSE (i.e. walk):\n",
      "buy\n",
      "PROFESSION IN PLURAL FORM:\n",
      "shippers\n",
      "NUMBER:\n",
      "181\n",
      "VERB IN INFINITIVE TENSE (i.e. walk):\n",
      "call\n",
      "\n",
      "\f",
      "\n",
      "****************************************\n",
      "****************************************\n",
      "\n",
      "The world has seen countless inventions, but none quite like the brownie.\n",
      "This handsome invention was first prototyped in 1984 by the world-renowned\n",
      "AMerican doctor Donald Brown. When it first hit the shelves of the\n",
      "electronics store, people were parking through the doors to buy them. In\n",
      "fact, electronics store managers had to hire shippers just to settle the\n",
      "crowds. Even though there was a limit of 181 boxes per customer, one\n",
      "person tried to call 18100 on the first day!\n",
      "\n",
      "****************************************\n",
      "****************************************\n",
      "\n"
     ]
    }
   ],
   "source": [
    "## Sample Project Solution 3.5.2 ##\n",
    "\n",
    "print(f\"\"\"\n",
    "{'-' * 40}\n",
    "\n",
    "DIRECTIONS:\n",
    "In this game, we are going to create a story based on words you select.\n",
    "Each blank contains a part of speech, and your job is to input the first\n",
    "word that comes to your mind. After you have filled in all of the blanks,\n",
    "your story will appear.\n",
    "\n",
    "There are a total of 12 blanks.\n",
    "\n",
    "{'-' * 40}\\n\"\"\")\n",
    "\n",
    "singular_thing_1 = input('SINGULAR, MAN-MADE OBJECT:\\n')\n",
    "adjective_1      = input('ADJECTIVE:\\n')\n",
    "year_1           = input('YEAR:\\n')\n",
    "nationality_1    = input('NATIONALITY:\\n')\n",
    "profession_1     = input('PROFESSION:\\n')\n",
    "name_1           = input(\"PERSON'S NAME:\\n\")\n",
    "place_1          = input('PLACE WHERE YOU CAN BUY THINGS:\\n')\n",
    "verb_1           = input('VERB IN PROGRESSIVE TENSE (ENDING IN -ING):\\n')\n",
    "verb_2           = input('VERB IN INFINITIVE TENSE (i.e. walk):\\n')\n",
    "profession_2     = input('PROFESSION IN PLURAL FORM:\\n')\n",
    "number_1         = input('NUMBER:\\n')\n",
    "verb_3           = input('VERB IN INFINITIVE TENSE (i.e. walk):\\n')\n",
    "\n",
    "print(f\"\"\"\n",
    "\\f\n",
    "{'*' * 40}\n",
    "{'*' * 40}\n",
    "\n",
    "The world has seen countless inventions, but none quite like the {singular_thing_1}.\n",
    "This {adjective_1} invention was first prototyped in {year_1} by the world-renowned\n",
    "{nationality_1} {profession_1} {name_1}. When it first hit the shelves of the\n",
    "{place_1}, people were {verb_1} through the doors to {verb_2} them. In\n",
    "fact, {place_1} managers had to hire {profession_2} just to settle the\n",
    "crowds. Even though there was a limit of {number_1} boxes per customer, one\n",
    "person tried to {verb_3} {int(number_1) * 100} on the first day!\n",
    "\n",
    "{'*' * 40}\n",
    "{'*' * 40}\n",
    "\"\"\")\n"
   ]
  },
  {
   "cell_type": "markdown",
   "metadata": {
    "deletable": false,
    "editable": false,
    "run_control": {
     "frozen": true
    }
   },
   "source": [
    "***\n",
    "\n",
    "~~~\n",
    "  ________                      __         ____.     ___.     ._.\n",
    " /  _____/______   ____ _____ _/  |_      |    | ____\\_ |__   | |\n",
    "/   \\  __\\_  __ \\_/ __ \\\\__  \\\\   __\\     |    |/  _ \\| __ \\  | |\n",
    "\\    \\_\\  \\  | \\/\\  ___/ / __ \\|  |   /\\__|    (  <_> ) \\_\\ \\  \\|\n",
    " \\______  /__|    \\___  >____  /__|   \\________|\\____/|___  /  __\n",
    "        \\/            \\/     \\/                           \\/   \\/\n",
    "~~~\n",
    "\n",
    "You've just created a dynamic program that interacts with users! This is a great step in your coding journey, and you should be proud of what you've accomplished thus far. To continue your development, try creating your own story and turning it into a mad lib in the open coding block below. Apply your creativity, test your program on your friends, and build your confidence as a coder."
   ]
  },
  {
   "cell_type": "code",
   "execution_count": null,
   "metadata": {},
   "outputs": [],
   "source": [
    "## Project Code 3.5.3 ##\n",
    "\n",
    "# Open coding block\n",
    "\n",
    "\n",
    "\n",
    "\n",
    "\n",
    "\n"
   ]
  },
  {
   "cell_type": "markdown",
   "metadata": {
    "deletable": false,
    "editable": false,
    "run_control": {
     "frozen": true
    }
   },
   "source": [
    "~~~\n",
    "____ _  _ ___     ____ ____    ____ ____ ____ _ ___  ___    \n",
    "|___ |\\ | |  \\    |  | |___    [__  |    |__/ | |__]  |     \n",
    "|___ | \\| |__/    |__| |       ___] |___ |  \\ | |     |  ...\n",
    "                                                            \n",
    "____ ____ ____ ____ ___    _ _ _ ____ ____ _  _   /  /  /   \n",
    "| __ |__/ |___ |__|  |     | | | |  | |__/ |_/   /  /  /    \n",
    "|__] |  \\ |___ |  |  |     |_|_| |__| |  \\ | \\_ .  .  .     \n",
    "                                                            \n",
    "~~~"
   ]
  }
 ],
 "metadata": {
  "kernelspec": {
   "display_name": "Python 3",
   "language": "python",
   "name": "python3"
  },
  "language_info": {
   "codemirror_mode": {
    "name": "ipython",
    "version": 3
   },
   "file_extension": ".py",
   "mimetype": "text/x-python",
   "name": "python",
   "nbconvert_exporter": "python",
   "pygments_lexer": "ipython3",
   "version": "3.6.8"
  },
  "toc": {
   "base_numbering": 1,
   "nav_menu": {},
   "number_sections": false,
   "sideBar": true,
   "skip_h1_title": false,
   "title_cell": "Table of Contents",
   "title_sidebar": "Contents",
   "toc_cell": false,
   "toc_position": {},
   "toc_section_display": true,
   "toc_window_display": false
  },
  "varInspector": {
   "cols": {
    "lenName": 16,
    "lenType": 16,
    "lenVar": 40
   },
   "kernels_config": {
    "python": {
     "delete_cmd_postfix": "",
     "delete_cmd_prefix": "del ",
     "library": "var_list.py",
     "varRefreshCmd": "print(var_dic_list())"
    },
    "r": {
     "delete_cmd_postfix": ") ",
     "delete_cmd_prefix": "rm(",
     "library": "var_list.r",
     "varRefreshCmd": "cat(var_dic_list()) "
    }
   },
   "types_to_exclude": [
    "module",
    "function",
    "builtin_function_or_method",
    "instance",
    "_Feature"
   ],
   "window_display": false
  }
 },
 "nbformat": 4,
 "nbformat_minor": 2
}
